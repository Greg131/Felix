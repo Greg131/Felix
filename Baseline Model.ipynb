{
 "cells": [
  {
   "cell_type": "markdown",
   "metadata": {},
   "source": [
    "# Firts attempts & Base Model"
   ]
  },
  {
   "cell_type": "code",
   "execution_count": 1,
   "metadata": {
    "collapsed": true
   },
   "outputs": [],
   "source": [
    "from pathlib import Path\n",
    "import pandas as pd\n",
    "import numpy as np\n",
    "from datetime import datetime\n",
    "import time\n",
    "import matplotlib.pyplot as plt\n",
    "%matplotlib inline\n",
    "#%pylab inline\n",
    "import itertools\n",
    "import pickle\n",
    "from sklearn.model_selection import train_test_split\n",
    "from sklearn.preprocessing import StandardScaler\n",
    "from sklearn.linear_model import LogisticRegression\n",
    "from sklearn.model_selection import cross_val_score, GridSearchCV\n",
    "from sklearn.decomposition import PCA\n",
    "from sklearn.ensemble import RandomForestClassifier\n",
    "from sklearn.metrics import confusion_matrix, f1_score, precision_score, recall_score\n",
    "from sklearn.preprocessing import LabelEncoder\n",
    "from sklearn.preprocessing import LabelBinarizer\n",
    "from sklearn.preprocessing import OneHotEncoder\n",
    "from sklearn.svm import SVC\n",
    "from sklearn.model_selection import StratifiedKFold\n",
    "from sklearn.feature_selection import RFECV, RFE"
   ]
  },
  {
   "cell_type": "code",
   "execution_count": 2,
   "metadata": {
    "collapsed": true
   },
   "outputs": [],
   "source": [
    "path_project = Path.home() / Path('Google Drive/Felix')\n",
    "path_data = path_project / Path(\"data\")\n",
    "path_dump = path_project / Path(\"dump\")"
   ]
  },
  {
   "cell_type": "code",
   "execution_count": 3,
   "metadata": {
    "collapsed": true
   },
   "outputs": [],
   "source": [
    "# loading cdv data\n",
    "file = path_data / Path(\"felix.csv\")\n",
    "with Path.open(file, 'rb') as fp:\n",
    "    cdv = pd.read_csv(fp,  encoding='cp1252',low_memory=False)"
   ]
  },
  {
   "cell_type": "code",
   "execution_count": 4,
   "metadata": {
    "collapsed": true
   },
   "outputs": [],
   "source": [
    "# loadind cdv data without format\n",
    "file = path_data / Path(\"felix_ssfmt.csv\")\n",
    "with Path.open(file, 'rb') as fp:\n",
    "    cdv_ssfmt = pd.read_csv(fp,  encoding='cp1252',low_memory=False)"
   ]
  },
  {
   "cell_type": "markdown",
   "metadata": {},
   "source": [
    "## 1) Feature engineering"
   ]
  },
  {
   "cell_type": "code",
   "execution_count": 5,
   "metadata": {
    "collapsed": true
   },
   "outputs": [],
   "source": [
    "filename = path_dump / Path(\"dict_var_groups.sav\")\n",
    "with open(filename, 'rb') as fp:\n",
    "     dict_var_groups = pickle.load(fp)\n",
    "\n",
    "scope_2015_var = dict_var_groups['scope_2015_var']\n",
    "scope_2016_var = dict_var_groups['scope_2016_var']\n",
    "scope_2017_var = dict_var_groups['scope_2017_var']\n",
    "scope_2018_var = dict_var_groups['scope_2018_var']\n",
    "scope_2015_2018_var = dict_var_groups['scope_2015_2018_var']\n",
    "scope_2016_2018_var = dict_var_groups['scope_2016_2018_var']\n",
    "scope_2017_2018_var = dict_var_groups['scope_2017_2018_var']\n",
    "pred_var = dict_var_groups['pred_var']\n",
    "com_var = dict_var_groups['com_var']\n",
    "tech_var = dict_var_groups['tech_var']\n",
    "text_var = dict_var_groups['text_var']\n",
    "bizz_var = dict_var_groups['bizz_var']\n",
    "cat_var = dict_var_groups['cat_var']\n",
    "cat_max9_var = dict_var_groups['cat_max9_var']\n",
    "cat_min10_var = dict_var_groups['cat_min10_var']\n",
    "quant_var = dict_var_groups['quant_var']"
   ]
  },
  {
   "cell_type": "code",
   "execution_count": 6,
   "metadata": {},
   "outputs": [
    {
     "name": "stdout",
     "output_type": "stream",
     "text": [
      "out of the 354 variable :\n",
      "268 variables como, to all years \n"
     ]
    }
   ],
   "source": [
    "print(f\"out of the {cdv.shape[1]} variable :\")\n",
    "print(f\"{len(scope_2015_2018_var)} variables como, to all years \")"
   ]
  },
  {
   "cell_type": "code",
   "execution_count": 7,
   "metadata": {},
   "outputs": [
    {
     "name": "stdout",
     "output_type": "stream",
     "text": [
      "Out of the 268 variables comon to all years \n",
      "22 are excluded \n",
      "246 are kept \n"
     ]
    }
   ],
   "source": [
    "exclusion = com_var | tech_var | bizz_var | text_var \n",
    "print(f\"Out of the {len(scope_2015_2018_var)} variables comon to all years \")\n",
    "print(f\"{len(scope_2015_2018_var & exclusion)} are excluded \")\n",
    "scope_2015_2018_var_kept = scope_2015_2018_var - exclusion\n",
    "print(f\"{len(scope_2015_2018_var_kept)} are kept \")"
   ]
  },
  {
   "cell_type": "code",
   "execution_count": 8,
   "metadata": {},
   "outputs": [
    {
     "name": "stdout",
     "output_type": "stream",
     "text": [
      "out of the 246 common variable :\n",
      "171 variables are categorial \n",
      "75 variables are quantitative \n"
     ]
    }
   ],
   "source": [
    "print(f\"out of the {len(scope_2015_2018_var_kept)} common variable :\")\n",
    "print(f\"{len(cat_var & scope_2015_2018_var_kept)} variables are categorial \")\n",
    "print(f\"{len(quant_var & scope_2015_2018_var_kept)} variables are quantitative \")"
   ]
  },
  {
   "cell_type": "code",
   "execution_count": 9,
   "metadata": {},
   "outputs": [
    {
     "name": "stdout",
     "output_type": "stream",
     "text": [
      "out of the 171 variable categorial:\n",
      "156 variables have maximum 9 modalities  \n",
      "15 variables have more and are excluded\n"
     ]
    }
   ],
   "source": [
    "print(f\"out of the {len(cat_var & scope_2015_2018_var_kept)} variable categorial:\")\n",
    "print(f\"{len(cat_max9_var & scope_2015_2018_var_kept)} variables have maximum 9 modalities  \")\n",
    "print(f\"{len(cat_min10_var & scope_2015_2018_var_kept)} variables have more and are excluded\")\n",
    "cat_var_kept = cat_max9_var & scope_2015_2018_var_kept"
   ]
  },
  {
   "cell_type": "code",
   "execution_count": 10,
   "metadata": {},
   "outputs": [
    {
     "name": "stdout",
     "output_type": "stream",
     "text": [
      "out of the 75 quantitatices variables:\n",
      "60 have less than 200 missing values and are kept\n"
     ]
    }
   ],
   "source": [
    "scope_quant_var = (quant_var & scope_2015_2018_var_kept) \n",
    "quant_null = np.sum(cdv_ssfmt.loc[:,scope_quant_var].isnull())\n",
    "quant_var_kept = set(quant_null[quant_null < 200].index)\n",
    "print(f\"out of the {len(scope_quant_var)} quantitatices variables:\")\n",
    "print(f\"{len(quant_var_kept)} have less than 200 missing values and are kept\")"
   ]
  },
  {
   "cell_type": "code",
   "execution_count": 11,
   "metadata": {
    "collapsed": true
   },
   "outputs": [],
   "source": [
    "scope = cat_var_kept | quant_var_kept\n",
    "df = cdv_ssfmt.loc[:,scope]\n",
    "df.loc[:,cat_var_kept - {\"HEUREUX\"}] = cdv.loc[:,cat_var_kept - {\"HEUREUX\"}]"
   ]
  },
  {
   "cell_type": "code",
   "execution_count": 12,
   "metadata": {},
   "outputs": [
    {
     "name": "stdout",
     "output_type": "stream",
     "text": [
      "Number of variable kept 216\n"
     ]
    }
   ],
   "source": [
    "print(f\"Number of variable kept {df.shape[1]}\")"
   ]
  },
  {
   "cell_type": "markdown",
   "metadata": {},
   "source": [
    "### Encoding 'HEUREUX'"
   ]
  },
  {
   "cell_type": "code",
   "execution_count": 13,
   "metadata": {
    "collapsed": true
   },
   "outputs": [],
   "source": [
    "# reducing problem to a 2 class classification problem\n",
    "df[\"HEUREUX_CLF\"] = 0\n",
    "df.loc[df[\"HEUREUX\"]==4, \"HEUREUX_CLF\"] = 1\n",
    "df.loc[df[\"HEUREUX\"]==3, \"HEUREUX_CLF\"] = 1\n",
    "df.loc[df[\"HEUREUX\"]==5, \"HEUREUX_CLF\"] = None"
   ]
  },
  {
   "cell_type": "code",
   "execution_count": 14,
   "metadata": {
    "collapsed": true
   },
   "outputs": [],
   "source": [
    "# Modelisation as a regression problem\n",
    "df[\"HEUREUX_REG\"] = df[\"HEUREUX\"]\n",
    "df.loc[df[\"HEUREUX\"]==5, \"HEUREUX_REG\"] = None"
   ]
  },
  {
   "cell_type": "markdown",
   "metadata": {},
   "source": [
    "### Encoding categorial variables"
   ]
  },
  {
   "cell_type": "code",
   "execution_count": 15,
   "metadata": {},
   "outputs": [
    {
     "name": "stdout",
     "output_type": "stream",
     "text": [
      "218 columns\n",
      "out of which 155 are corresponding to categorial features\n"
     ]
    }
   ],
   "source": [
    "p = df.shape[1]\n",
    "print(f\"{p} columns\")\n",
    "print(f\"out of which {len(cat_var_kept)-1} are corresponding to categorial features\")"
   ]
  },
  {
   "cell_type": "code",
   "execution_count": 16,
   "metadata": {
    "collapsed": true
   },
   "outputs": [],
   "source": [
    "df = pd.get_dummies(df, \n",
    "                    columns=cat_var_kept - {\"HEUREUX\"},\n",
    "                    dummy_na = True,\n",
    "                    drop_first=1)"
   ]
  },
  {
   "cell_type": "code",
   "execution_count": 17,
   "metadata": {},
   "outputs": [
    {
     "name": "stdout",
     "output_type": "stream",
     "text": [
      "635 columns after encoding\n",
      "155 variables where re-encoded in 572\n"
     ]
    }
   ],
   "source": [
    "q = df.shape[1]\n",
    "print(f\"{q} columns after encoding\")\n",
    "print(f\"{len(cat_var_kept)-1} variables where re-encoded in {len(cat_var_kept)-1+q-p}\")"
   ]
  },
  {
   "cell_type": "code",
   "execution_count": 18,
   "metadata": {
    "collapsed": true
   },
   "outputs": [],
   "source": [
    "def get_related_features(variable):\n",
    "    '''return all columns in global variable df\n",
    "    starting by variable'''\n",
    "    if isinstance(variable, str):\n",
    "        scope = {variable}\n",
    "    else:\n",
    "        scope = set(variable)\n",
    "    features = set()\n",
    "    for element in scope:\n",
    "        features = features  | {c for c in df.columns if len(c) > len(element) \n",
    "                               and c[0:len(element)] == element \n",
    "                               and c[len(element)]=='_'}\n",
    "    return features"
   ]
  },
  {
   "cell_type": "markdown",
   "metadata": {},
   "source": [
    "## 2) Dataset construction and visualisation"
   ]
  },
  {
   "cell_type": "code",
   "execution_count": 19,
   "metadata": {},
   "outputs": [
    {
     "name": "stdout",
     "output_type": "stream",
     "text": [
      "Number exemple: 10596\n",
      "- training set: 8476\n",
      "- test set: 2120\n",
      "Number of features: p=632\n",
      "Number of class: 2\n",
      "class 0 : 34.9%\n",
      "class 1 : 65.1%\n"
     ]
    }
   ],
   "source": [
    "# subseting dataframe\n",
    "features = df.columns.drop(['HEUREUX',\"HEUREUX_CLF\", \"HEUREUX_REG\"])\n",
    "pred = \"HEUREUX_CLF\"\n",
    "\n",
    "# treating remaining missing values\n",
    "df_tmp = df.loc[:,set(features) | {pred} ].dropna()\n",
    "\n",
    "X = df_tmp.loc[:,features]\n",
    "y = df_tmp[pred]\n",
    "\n",
    "X_train, X_test, y_train, y_test = train_test_split(X, y, \n",
    "                                                    test_size=0.2, \n",
    "                                                    random_state=42)\n",
    "\n",
    "scaler = StandardScaler().fit(X_train)\n",
    "X_train = scaler.transform(X_train)\n",
    "X_test = scaler.transform(X_test)\n",
    "\n",
    "print(f\"Number exemple: {y.shape[0]}\\n- training set: \\\n",
    "{y_train.shape[0]}\\n- test set: {y_test.shape[0]}\")\n",
    "print(f\"Number of features: p={X_train.shape[1]}\")\n",
    "print(f\"Number of class: {len(np.unique(y))}\")\n",
    "for c in np.unique(y):\n",
    "    print(f\"class {c:0.0f} : {100*np.sum(y==c)/len(y):0.1f}%\")"
   ]
  },
  {
   "cell_type": "code",
   "execution_count": 20,
   "metadata": {},
   "outputs": [
    {
     "data": {
      "image/png": "[encoded data removed]",
      "text/plain": [
       "<matplotlib.figure.Figure at 0x1a0b88a860>"
      ]
     },
     "metadata": {},
     "output_type": "display_data"
    }
   ],
   "source": [
    "# Reduction dim PCA\n",
    "pca = PCA(n_components=2)\n",
    "pca.fit(X_train)\n",
    "X_r = pca.transform(X_train)\n",
    "happy = (y_train==1)\n",
    "unhappy = (y_train==0)\n",
    "plt.scatter(X_r[happy,0], X_r[happy,1], \n",
    "            s=80, c='blue',marker=\">\", label=\"happy\")\n",
    "plt.scatter(X_r[unhappy,0], X_r[unhappy,1], \n",
    "            s=80, c='red',marker='+', label=\"unhappy\")\n",
    "plt.ylabel(f'Projection VP2 \\\n",
    "{pca.explained_variance_ratio_[1]*100:0.1f}% de variance')\n",
    "plt.xlabel(f'Projection VP1 \\\n",
    "{pca.explained_variance_ratio_[0]*100:0.1f}% de variance')\n",
    "plt.title(\"Projection 2D par PCA\") \n",
    "plt.legend(bbox_to_anchor=(0.4, 0.25))\n",
    "plt.show()"
   ]
  },
  {
   "cell_type": "markdown",
   "metadata": {},
   "source": [
    "## 3)  Baseline model "
   ]
  },
  {
   "cell_type": "markdown",
   "metadata": {},
   "source": [
    "**Logistic regression** with **4 features** to predict a **2 class** variable"
   ]
  },
  {
   "cell_type": "markdown",
   "metadata": {},
   "source": [
    "### a) Training set and test set preparation"
   ]
  },
  {
   "cell_type": "code",
   "execution_count": 21,
   "metadata": {},
   "outputs": [
    {
     "name": "stdout",
     "output_type": "stream",
     "text": [
      "Number exemple: 10915\n",
      "- training set: 8732\n",
      "- test set: 2183\n",
      "Number of features: p=4\n",
      "Number of class: 2\n",
      "class 0 : 34.9%\n",
      "class 1 : 65.1%\n"
     ]
    }
   ],
   "source": [
    "# subseting dataframe\n",
    "features = {'ETATSAN','NOT_AMIS','DEPLOG','NOT_FAMI'}\n",
    "pred = \"HEUREUX_CLF\"\n",
    "\n",
    "# treating remaining missing values\n",
    "df_tmp = df.loc[:,set(features) | {pred} ].dropna()\n",
    "\n",
    "X = df_tmp.loc[:,features]\n",
    "y = df_tmp[pred]\n",
    "\n",
    "\n",
    "X_train, X_test, y_train, y_test = train_test_split(X, y, \n",
    "                                                    test_size=0.2, \n",
    "                                                    random_state=42)\n",
    "\n",
    "print(f\"Number exemple: {y.shape[0]}\\n- training set: \\\n",
    "{y_train.shape[0]}\\n- test set: {y_test.shape[0]}\")\n",
    "print(f\"Number of features: p={X_train.shape[1]}\")\n",
    "print(f\"Number of class: {len(np.unique(y))}\")\n",
    "for c in np.unique(y):\n",
    "    print(f\"class {c:0.0f} : {100*np.sum(y==c)/len(y):0.1f}%\")"
   ]
  },
  {
   "cell_type": "markdown",
   "metadata": {},
   "source": [
    "### b) Hyperparameters tuning"
   ]
  },
  {
   "cell_type": "code",
   "execution_count": 22,
   "metadata": {},
   "outputs": [
    {
     "data": {
      "image/png": "[encoded data removed]",
      "text/plain": [
       "<matplotlib.figure.Figure at 0x1059e7cf8>"
      ]
     },
     "metadata": {},
     "output_type": "display_data"
    },
    {
     "name": "stdout",
     "output_type": "stream",
     "text": [
      "Détermination des paramètres optimaux en 35.4 s\n",
      "Pénalisation l1, valeur optimale : C = 0.20\n"
     ]
    }
   ],
   "source": [
    "nb_value = 50 # Nombre de valeurs testées pour l'hyperparamètre\n",
    "mean_score_l1 = np.zeros(nb_value)\n",
    "C_log = np.logspace(-2,2,nb_value)\n",
    "cv = 6 # V-fold, nombre de fold\n",
    "\n",
    "mean_score_l1 = np.empty(nb_value)\n",
    "std_scores_l1 = np.empty(nb_value)\n",
    "\n",
    "np.random.seed(seed=42) \n",
    "\n",
    "startTime = time.time()\n",
    "\n",
    "for i, C in enumerate(C_log):\n",
    "    clf = LogisticRegression(C=C, penalty='l1', \n",
    "                             tol=0.01, random_state=42, \n",
    "                             class_weight='balanced')\n",
    "    mean_score_l1[i] = 100*np.mean(1-cross_val_score(clf, \n",
    "                                                     X_train, \n",
    "                                                     y_train,\n",
    "                                                     cv=cv, \n",
    "                                                     scoring='accuracy'))\n",
    "    std_scores_l1[i] = 100*np.std(1-cross_val_score(clf, \n",
    "                                                    X_train, \n",
    "                                                    y_train, \n",
    "                                                    cv=cv, \n",
    "                                                    scoring='accuracy'))    \n",
    "\n",
    "\n",
    "    \n",
    "plt.figure()\n",
    "plt.semilogx(C_log,mean_score_l1[:],'r',linewidth=2,label='moyenne (l1)')\n",
    "plt.semilogx(C_log,mean_score_l1[:]-0.5*std_scores_l1[:],\n",
    "             'r--', label=u'+/-0.5 écart type')\n",
    "plt.semilogx(C_log,mean_score_l1[:]+0.5*std_scores_l1[:],'r--')\n",
    "\n",
    "\n",
    "plt.xlabel(\"Valeur de pénalisation C = 1/lambda\")\n",
    "plt.ylabel(u\"Erreur de validation croisée (%)\\n(Taux moyen d'erreur de classification)\")\n",
    "plt.title(u\"Choix de l'hyperparamètre C\\npar validation croisée \\\n",
    "(V-fold avec V = %s)\" % (cv)) \n",
    "plt.legend(bbox_to_anchor=(1, 1))\n",
    "plt.grid()\n",
    "plt.show()\n",
    "print(\"Détermination des paramètres optimaux en %0.1f s\" % (time.time() - startTime))\n",
    "print(\"Pénalisation l1, valeur optimale : C = %0.2f\" % (C_log[np.argmin(mean_score_l1)]))"
   ]
  },
  {
   "cell_type": "markdown",
   "metadata": {},
   "source": [
    "### c) Model training and evaluation"
   ]
  },
  {
   "cell_type": "code",
   "execution_count": 23,
   "metadata": {},
   "outputs": [
    {
     "name": "stdout",
     "output_type": "stream",
     "text": [
      "Model score\n",
      "- Accuracy : 67.1 %\n",
      "- Precision : 76.2 % (Happy # positive class)\n",
      "- Recall : 71.9 %\n",
      "- F1 score : 74.0 %\n"
     ]
    }
   ],
   "source": [
    "# Learning on full training set with optimals hyperparameters \n",
    "# and score evaluation on test set\n",
    "clf = LogisticRegression(C=C_log[np.argmin(mean_score_l1)], \n",
    "                         penalty='l1', \n",
    "                         tol=0.01, \n",
    "                         random_state=42, \n",
    "                         class_weight='balanced')\n",
    "clf.fit(X_train, y_train)\n",
    "y_test_pred = clf.predict(X_test)\n",
    "accuracy = clf.score(X_test, y_test)\n",
    "print(f\"Model score\\n- Accuracy : {accuracy*100:0.1f} %\")\n",
    "f1 = f1_score(y_test, y_test_pred)\n",
    "p = precision_score(y_test, y_test_pred)\n",
    "r = recall_score(y_test, y_test_pred)\n",
    "print(f\"- Precision : {p*100:0.1f} % (Happy # positive class)\")\n",
    "print(f\"- Recall : {r*100:0.1f} %\")\n",
    "print(f\"- F1 score : {f1*100:0.1f} %\")"
   ]
  },
  {
   "cell_type": "markdown",
   "metadata": {},
   "source": [
    "## 4) Model selection (2 class)"
   ]
  },
  {
   "cell_type": "markdown",
   "metadata": {},
   "source": [
    "### a) Finding optimal set of features by recursive elimination using \"Lasso\" (RFECV)"
   ]
  },
  {
   "cell_type": "code",
   "execution_count": 24,
   "metadata": {},
   "outputs": [
    {
     "name": "stdout",
     "output_type": "stream",
     "text": [
      "11131 exemples before droping na\n",
      "Number exemple: 10596\n",
      "- training set: 8476\n",
      "- test set: 2120\n",
      "Number of features: p=632\n",
      "Number of class: 2\n",
      "class 0 : 34.9%\n",
      "class 1 : 65.1%\n"
     ]
    }
   ],
   "source": [
    "# subseting dataframe\n",
    "features = df.columns.drop(['HEUREUX',\"HEUREUX_CLF\", \"HEUREUX_REG\"])\n",
    "pred = \"HEUREUX_CLF\"\n",
    "\n",
    "# treating remaining missing values\n",
    "print(f\"{df.shape[0]} exemples before droping na\")\n",
    "df_tmp = df.loc[:,set(features) | {pred} ].dropna()\n",
    "\n",
    "X = df_tmp.loc[:,features]\n",
    "y = df_tmp[pred]\n",
    "\n",
    "X_train, X_test, y_train, y_test = train_test_split(X, y, \n",
    "                                                    test_size=0.2, \n",
    "                                                    random_state=42\n",
    "                                                   )\n",
    "\n",
    "scaler = StandardScaler().fit(X_train)\n",
    "X_train = scaler.transform(X_train)\n",
    "X_test = scaler.transform(X_test)\n",
    "\n",
    "print(f\"Number exemple: {y.shape[0]}\\n- training set: \\\n",
    "{y_train.shape[0]}\\n- test set: {y_test.shape[0]}\")\n",
    "print(f\"Number of features: p={X_train.shape[1]}\")\n",
    "print(f\"Number of class: {len(np.unique(y))}\")\n",
    "for c in np.unique(y):\n",
    "    print(f\"class {c:0.0f} : {100*np.sum(y==c)/len(y):0.1f}%\")"
   ]
  },
  {
   "cell_type": "code",
   "execution_count": 25,
   "metadata": {},
   "outputs": [
    {
     "name": "stdout",
     "output_type": "stream",
     "text": [
      "Optimal number of features : 105\n"
     ]
    },
    {
     "data": {
      "image/png": "[encoded data removed]",
      "text/plain": [
       "<matplotlib.figure.Figure at 0x105bea978>"
      ]
     },
     "metadata": {},
     "output_type": "display_data"
    },
    {
     "name": "stdout",
     "output_type": "stream",
     "text": [
      "Détermination des features optimales en 450.0 s\n"
     ]
    }
   ],
   "source": [
    "startTime = time.time()\n",
    "\n",
    "scoring='accuracy' \n",
    "step = 0.05\n",
    "\n",
    "clf = LogisticRegression(C=1, \n",
    "                         penalty='l1', \n",
    "                         class_weight='balanced',\n",
    "                         random_state=42)\n",
    "\n",
    "rfecv = RFECV(estimator=clf, step=step, cv=StratifiedKFold(2),\n",
    "              scoring=scoring)\n",
    "\n",
    "rfecv.fit(X_train, y_train)\n",
    "\n",
    "print(\"Optimal number of features : %d\" % rfecv.n_features_)\n",
    "\n",
    "# Plot number of features VS. cross-validation scores\n",
    "plt.figure()\n",
    "plt.xlabel(f\"Number of recurcive steps of {100*step:0.0f}% through {X_train.shape[1]} variables\")\n",
    "plt.ylabel(f\"Cross validation score \\n({scoring})\")\n",
    "plt.plot(range(1, len(rfecv.grid_scores_) + 1), rfecv.grid_scores_)\n",
    "plt.show()\n",
    "print(f\"Détermination des features optimales en %0.1f s\" % (time.time() - startTime))"
   ]
  },
  {
   "cell_type": "markdown",
   "metadata": {},
   "source": [
    "### b) Using selected features to fit various models"
   ]
  },
  {
   "cell_type": "code",
   "execution_count": 26,
   "metadata": {},
   "outputs": [
    {
     "name": "stdout",
     "output_type": "stream",
     "text": [
      "Number of features: p=105\n"
     ]
    }
   ],
   "source": [
    "lasso_mask = rfecv.support_.copy()\n",
    "X_train = X_train[:,lasso_mask]\n",
    "X_test = X_test[:,lasso_mask]\n",
    "print(f\"Number of features: p={X_train.shape[1]}\")"
   ]
  },
  {
   "cell_type": "markdown",
   "metadata": {},
   "source": [
    "**Logistic regresion using L1 and L2**"
   ]
  },
  {
   "cell_type": "code",
   "execution_count": 27,
   "metadata": {},
   "outputs": [
    {
     "data": {
      "image/png": "[encoded data removed]",
      "text/plain": [
       "<matplotlib.figure.Figure at 0x1a0adc3a20>"
      ]
     },
     "metadata": {},
     "output_type": "display_data"
    },
    {
     "name": "stdout",
     "output_type": "stream",
     "text": [
      "Détermination des paramètres optimaux en 127.4 s\n",
      "Pénalisation l1, valeur optimale : C = 0.43\n",
      "Pénalisation l2, valeur optimale : C = 0.05\n"
     ]
    }
   ],
   "source": [
    "nb_value = 20 # Nombre de valeurs testées pour l'hyperparamètre\n",
    "mean_score_l1 = np.zeros(nb_value)\n",
    "mean_score_l2 = np.zeros(nb_value)\n",
    "C_log = np.logspace(-2.5,2,nb_value)\n",
    "cv = 6 # V-fold, nombre de fold\n",
    "\n",
    "mean_score_l1 = np.empty(nb_value)\n",
    "std_scores_l1 = np.empty(nb_value)\n",
    "\n",
    "mean_score_l2 = np.empty(nb_value)\n",
    "std_scores_l2 = np.empty(nb_value)\n",
    "\n",
    "np.random.seed(seed=42) \n",
    "\n",
    "startTime = time.time()\n",
    "\n",
    "for i, C in enumerate(C_log):\n",
    "    clf = LogisticRegression(C=C, penalty='l1', \n",
    "                             tol=0.01, random_state=42, \n",
    "                             class_weight='balanced')\n",
    "    mean_score_l1[i] = 100*np.mean(1-cross_val_score(clf, \n",
    "                                                     X_train, \n",
    "                                                     y_train,\n",
    "                                                     cv=cv, \n",
    "                                                     scoring='accuracy'))\n",
    "    std_scores_l1[i] = 100*np.std(1-cross_val_score(clf, \n",
    "                                                    X_train, \n",
    "                                                    y_train, \n",
    "                                                    cv=cv, \n",
    "                                                    scoring='accuracy'))    \n",
    "\n",
    "\n",
    "for i, C in enumerate(C_log):\n",
    "    clf = LogisticRegression(C=C, penalty='l2', tol=0.01, random_state=42, class_weight='balanced')\n",
    "    mean_score_l2[i] = 100*np.mean(1-cross_val_score(clf, \n",
    "                                                     X_train, \n",
    "                                                     y_train, \n",
    "                                                     cv=cv, \n",
    "                                                     scoring='accuracy'))\n",
    "    std_scores_l2[i] = 100*np.std(1-cross_val_score(clf, \n",
    "                                                    X_train, \n",
    "                                                    y_train, \n",
    "                                                    cv=cv, \n",
    "                                                    scoring='accuracy'))    \n",
    "    \n",
    "plt.figure()\n",
    "plt.semilogx(C_log,mean_score_l1[:],'r',linewidth=2,label='moyenne (l1)')\n",
    "plt.semilogx(C_log,mean_score_l1[:]-0.5*std_scores_l1[:],\n",
    "             'r--', label=u'+/-0.5 écart type')\n",
    "plt.semilogx(C_log,mean_score_l1[:]+0.5*std_scores_l1[:],'r--')\n",
    "\n",
    "plt.semilogx(C_log,mean_score_l2[:],'g',linewidth=2,label='moyenne (l2)')\n",
    "plt.semilogx(C_log,mean_score_l2[:]-0.5*std_scores_l2[:], 'g--', label=u'+/-0.5 écart type')\n",
    "plt.semilogx(C_log,mean_score_l2[:]+0.5*std_scores_l2[:],'g--')\n",
    "\n",
    "plt.xlabel(\"Valeur de pénalisation C = 1/lambda\")\n",
    "plt.ylabel(u\"Erreur de validation croisée (%)\\n(Taux moyen d'erreur de classification)\")\n",
    "plt.title(u\"Choix de l'hyperparamètre C\\npar validation croisée \\\n",
    "(V-fold avec V = %s)\" % (cv)) \n",
    "plt.legend(bbox_to_anchor=(1, 1))\n",
    "plt.grid()\n",
    "plt.show()\n",
    "print(\"Détermination des paramètres optimaux en %0.1f s\" % (time.time() - startTime))\n",
    "print(\"Pénalisation l1, valeur optimale : C = %0.2f\" % (C_log[np.argmin(mean_score_l1)]))\n",
    "print(\"Pénalisation l2, valeur optimale : C = %0.2f\" % (C_log[np.argmin(mean_score_l2)]))"
   ]
  },
  {
   "cell_type": "code",
   "execution_count": 28,
   "metadata": {},
   "outputs": [
    {
     "name": "stdout",
     "output_type": "stream",
     "text": [
      "Model score\n",
      "- Accuracy : 72.3 %\n",
      "- Precision : 80.9 % (Happy # positive class)\n",
      "- Recall : 74.9 %\n",
      "- F1 score : 77.8 %\n"
     ]
    }
   ],
   "source": [
    "# Learning on full training set with optimals hyperparameters \n",
    "# and score evaluation on test set\n",
    "clf = LogisticRegression(C=C_log[np.argmin(mean_score_l1)], \n",
    "                         penalty='l1', \n",
    "                         random_state=42, \n",
    "                         class_weight='balanced')\n",
    "clf.fit(X_train, y_train)\n",
    "y_test_pred = clf.predict(X_test)\n",
    "accuracy = clf.score(X_test, y_test)\n",
    "print(f\"Model score\\n- Accuracy : {accuracy*100:0.1f} %\")\n",
    "f1 = f1_score(y_test, y_test_pred)\n",
    "p = precision_score(y_test, y_test_pred)\n",
    "r = recall_score(y_test, y_test_pred)\n",
    "print(f\"- Precision : {p*100:0.1f} % (Happy # positive class)\")\n",
    "print(f\"- Recall : {r*100:0.1f} %\")\n",
    "print(f\"- F1 score : {f1*100:0.1f} %\")"
   ]
  },
  {
   "cell_type": "code",
   "execution_count": 29,
   "metadata": {},
   "outputs": [
    {
     "name": "stdout",
     "output_type": "stream",
     "text": [
      "Model score\n",
      "- Accuracy : 72.3 %\n",
      "- Precision : 81.0 % (Happy # positive class)\n",
      "- Recall : 74.8 %\n",
      "- F1 score : 77.8 %\n"
     ]
    }
   ],
   "source": [
    "# Learning on full training set with optimals hyperparameters \n",
    "# and score evaluation on test set\n",
    "clf = LogisticRegression(C=C_log[np.argmin(mean_score_l2)], \n",
    "                         penalty='l2', \n",
    "                         random_state=42, \n",
    "                         class_weight='balanced')\n",
    "clf.fit(X_train, y_train)\n",
    "y_test_pred = clf.predict(X_test)\n",
    "accuracy = clf.score(X_test, y_test)\n",
    "print(f\"Model score\\n- Accuracy : {accuracy*100:0.1f} %\")\n",
    "f1 = f1_score(y_test, y_test_pred)\n",
    "p = precision_score(y_test, y_test_pred)\n",
    "r = recall_score(y_test, y_test_pred)\n",
    "print(f\"- Precision : {p*100:0.1f} % (Happy # positive class)\")\n",
    "print(f\"- Recall : {r*100:0.1f} %\")\n",
    "print(f\"- F1 score : {f1*100:0.1f} %\")"
   ]
  },
  {
   "cell_type": "markdown",
   "metadata": {},
   "source": [
    "**Random Forest**"
   ]
  },
  {
   "cell_type": "code",
   "execution_count": 30,
   "metadata": {},
   "outputs": [
    {
     "name": "stdout",
     "output_type": "stream",
     "text": [
      "Determination of optimal hyperparameters in 82.0 s\n",
      "Optimal values are {'max_depth': 32, 'n_estimators': 128} \n",
      "Accuracy Score of cross valdation 74.01%\n",
      "Random Forest, p=105\n",
      "Model score\n",
      "- Accuracy : 73.6 %\n",
      "- Precision : 74.6 % (Happy # positive class)\n",
      "- Recall : 90.0 %\n",
      "- F1 score : 81.6 %\n"
     ]
    }
   ],
   "source": [
    "startTime = time.time()\n",
    "n_estimators_range = [16,32,64,128]\n",
    "max_depth_range = [2,4,8,16,32,64,128,256] \n",
    "param_grid = dict(n_estimators=n_estimators_range, max_depth = max_depth_range)\n",
    "\n",
    "params = {'max_features' :'sqrt', 'random_state' : 32,\n",
    "          'min_samples_split' : 2, 'class_weight' : 'balanced'}\n",
    "clf = RandomForestClassifier(**params)\n",
    "\n",
    "grid = GridSearchCV(clf, scoring='accuracy', param_grid=param_grid)\n",
    "grid.fit(X_train, y_train)\n",
    "print(f\"Determination of optimal hyperparameters in {time.time() - startTime:0.1f} s\")\n",
    "print(f\"Optimal values are {grid.best_params_} \\n\\\n",
    "Accuracy Score of cross valdation {100*grid.best_score_:0.2f}%\")\n",
    "\n",
    "# Learning on full training set with optimals hyperparameters and score on test set\n",
    "params = {'max_features' :'sqrt', 'random_state' : 32, \n",
    "          'min_samples_split' : 2, 'class_weight' : 'balanced',\n",
    "          'n_estimators' : grid.best_params_['n_estimators'],\n",
    "          'max_depth' : grid.best_params_['max_depth']}\n",
    "clf = RandomForestClassifier(**params).fit(X_train, y_train)\n",
    "clf.fit(X_train, y_train)\n",
    "y_test_pred = clf.predict(X_test)\n",
    "\n",
    "print(f\"Random Forest, p={X_train.shape[1]}\")\n",
    "accuracy = clf.score(X_test, y_test)\n",
    "f1 = f1_score(y_test, y_test_pred)\n",
    "p = precision_score(y_test, y_test_pred)\n",
    "r = recall_score(y_test, y_test_pred)\n",
    "print(f\"Model score\\n- Accuracy : {accuracy*100:0.1f} %\")\n",
    "print(f\"- Precision : {p*100:0.1f} % (Happy # positive class)\")\n",
    "print(f\"- Recall : {r*100:0.1f} %\")\n",
    "print(f\"- F1 score : {f1*100:0.1f} %\")"
   ]
  },
  {
   "cell_type": "markdown",
   "metadata": {},
   "source": [
    "### b) Finding optimal set of features of given size by recursive elimination using \"Lasso\" (RFE)"
   ]
  },
  {
   "cell_type": "code",
   "execution_count": 31,
   "metadata": {},
   "outputs": [
    {
     "name": "stdout",
     "output_type": "stream",
     "text": [
      "11131 exemples before droping na\n",
      "Number exemple: 10596\n",
      "- training set: 8476\n",
      "- test set: 2120\n",
      "Number of features: p=632\n",
      "Number of class: 2\n",
      "class 0 : 34.9%\n",
      "class 1 : 65.1%\n"
     ]
    }
   ],
   "source": [
    "# subseting dataframe\n",
    "features = df.columns.drop(['HEUREUX',\"HEUREUX_CLF\", \"HEUREUX_REG\"])\n",
    "pred = \"HEUREUX_CLF\"\n",
    "\n",
    "# treating remaining missing values\n",
    "print(f\"{df.shape[0]} exemples before droping na\")\n",
    "df_tmp = df.loc[:,set(features) | {pred} ].dropna()\n",
    "\n",
    "X = df_tmp.loc[:,features]\n",
    "y = df_tmp[pred]\n",
    "\n",
    "X_train, X_test, y_train, y_test = train_test_split(X, y, \n",
    "                                                    test_size=0.2, \n",
    "                                                    random_state=42\n",
    "                                                   )\n",
    "\n",
    "scaler = StandardScaler().fit(X_train)\n",
    "X_train = scaler.transform(X_train)\n",
    "X_test = scaler.transform(X_test)\n",
    "\n",
    "print(f\"Number exemple: {y.shape[0]}\\n- training set: \\\n",
    "{y_train.shape[0]}\\n- test set: {y_test.shape[0]}\")\n",
    "print(f\"Number of features: p={X_train.shape[1]}\")\n",
    "print(f\"Number of class: {len(np.unique(y))}\")\n",
    "for c in np.unique(y):\n",
    "    print(f\"class {c:0.0f} : {100*np.sum(y==c)/len(y):0.1f}%\")"
   ]
  },
  {
   "cell_type": "code",
   "execution_count": 32,
   "metadata": {},
   "outputs": [
    {
     "name": "stdout",
     "output_type": "stream",
     "text": [
      "Optimal support of size 20 found in 244.9 s\n"
     ]
    }
   ],
   "source": [
    "startTime = time.time()\n",
    "n_features_to_select = 20\n",
    "step = 0.05\n",
    "clf = LogisticRegression(C=1, \n",
    "                         penalty='l1', \n",
    "                         class_weight='balanced',\n",
    "                         random_state=42)\n",
    "selector = RFE(estimator=clf, n_features_to_select=n_features_to_select, step=step)\n",
    "selector.fit(X_train, y_train)\n",
    "print(f\"Optimal support of size {n_features_to_select} found in {time.time() - startTime:0.1f} s\")"
   ]
  },
  {
   "cell_type": "code",
   "execution_count": 33,
   "metadata": {},
   "outputs": [
    {
     "name": "stdout",
     "output_type": "stream",
     "text": [
      "Number of features: p=20\n"
     ]
    }
   ],
   "source": [
    "small_mask = selector.support_.copy()\n",
    "X_train = X_train[:,small_mask]\n",
    "X_test = X_test[:,small_mask]\n",
    "print(f\"Number of features: p={X_train.shape[1]}\")"
   ]
  },
  {
   "cell_type": "code",
   "execution_count": 34,
   "metadata": {},
   "outputs": [
    {
     "name": "stdout",
     "output_type": "stream",
     "text": [
      "Selected 20 features:\n",
      "\n",
      "ACM10, NOT_FAMI, revtot7, ACM5, NIVFRAN, ACM4, ACM9, ACM6, NOT_AMIS, NIVPERS4, JUSTICE, ACM8, ETATSAN, PCSENQ10_Ouvrier, SOUFFDOS_Oui, SOUFFDEP_Oui, SEXE_7_nan, SEXE_3_nan, RE_VOIT_Oui, RE_ALIM_Oui\n"
     ]
    }
   ],
   "source": [
    "print(f\"Selected {X_train.shape[1]} features:\\n\")\n",
    "print(\", \".join(X.columns[small_mask]))"
   ]
  },
  {
   "cell_type": "markdown",
   "metadata": {},
   "source": [
    "### c) Using selected features to fit various models"
   ]
  },
  {
   "cell_type": "markdown",
   "metadata": {},
   "source": [
    "**Logistic regresion using L1 and L2**"
   ]
  },
  {
   "cell_type": "code",
   "execution_count": 35,
   "metadata": {},
   "outputs": [
    {
     "data": {
      "image/png": "[encoded data removed]",
      "text/plain": [
       "<matplotlib.figure.Figure at 0x1a0ad7b128>"
      ]
     },
     "metadata": {},
     "output_type": "display_data"
    },
    {
     "name": "stdout",
     "output_type": "stream",
     "text": [
      "Détermination des paramètres optimaux en 19.8 s\n",
      "Pénalisation l1, valeur optimale : C = 0.05\n",
      "Pénalisation l2, valeur optimale : C = 0.01\n"
     ]
    }
   ],
   "source": [
    "nb_value = 20 # Nombre de valeurs testées pour l'hyperparamètre\n",
    "mean_score_l1 = np.zeros(nb_value)\n",
    "mean_score_l2 = np.zeros(nb_value)\n",
    "C_log = np.logspace(-2.5,2,nb_value)\n",
    "cv = 6 # V-fold, nombre de fold\n",
    "\n",
    "mean_score_l1 = np.empty(nb_value)\n",
    "std_scores_l1 = np.empty(nb_value)\n",
    "\n",
    "mean_score_l2 = np.empty(nb_value)\n",
    "std_scores_l2 = np.empty(nb_value)\n",
    "\n",
    "np.random.seed(seed=42) \n",
    "\n",
    "startTime = time.time()\n",
    "\n",
    "for i, C in enumerate(C_log):\n",
    "    clf = LogisticRegression(C=C, penalty='l1', \n",
    "                             tol=0.01, random_state=42, \n",
    "                             class_weight='balanced')\n",
    "    mean_score_l1[i] = 100*np.mean(1-cross_val_score(clf, \n",
    "                                                     X_train, \n",
    "                                                     y_train,\n",
    "                                                     cv=cv, \n",
    "                                                     scoring='accuracy'))\n",
    "    std_scores_l1[i] = 100*np.std(1-cross_val_score(clf, \n",
    "                                                    X_train, \n",
    "                                                    y_train, \n",
    "                                                    cv=cv, \n",
    "                                                    scoring='accuracy'))    \n",
    "\n",
    "\n",
    "for i, C in enumerate(C_log):\n",
    "    clf = LogisticRegression(C=C, penalty='l2', tol=0.01, random_state=42, class_weight='balanced')\n",
    "    mean_score_l2[i] = 100*np.mean(1-cross_val_score(clf, \n",
    "                                                     X_train, \n",
    "                                                     y_train, \n",
    "                                                     cv=cv, \n",
    "                                                     scoring='accuracy'))\n",
    "    std_scores_l2[i] = 100*np.std(1-cross_val_score(clf, \n",
    "                                                    X_train, \n",
    "                                                    y_train, \n",
    "                                                    cv=cv, \n",
    "                                                    scoring='accuracy'))    \n",
    "    \n",
    "plt.figure()\n",
    "plt.semilogx(C_log,mean_score_l1[:],'r',linewidth=2,label='moyenne (l1)')\n",
    "plt.semilogx(C_log,mean_score_l1[:]-0.5*std_scores_l1[:],\n",
    "             'r--', label=u'+/-0.5 écart type')\n",
    "plt.semilogx(C_log,mean_score_l1[:]+0.5*std_scores_l1[:],'r--')\n",
    "\n",
    "plt.semilogx(C_log,mean_score_l2[:],'g',linewidth=2,label='moyenne (l2)')\n",
    "plt.semilogx(C_log,mean_score_l2[:]-0.5*std_scores_l2[:], 'g--', label=u'+/-0.5 écart type')\n",
    "plt.semilogx(C_log,mean_score_l2[:]+0.5*std_scores_l2[:],'g--')\n",
    "\n",
    "plt.xlabel(\"Valeur de pénalisation C = 1/lambda\")\n",
    "plt.ylabel(u\"Erreur de validation croisée (%)\\n(Taux moyen d'erreur de classification)\")\n",
    "plt.title(u\"Choix de l'hyperparamètre C\\npar validation croisée \\\n",
    "(V-fold avec V = %s)\" % (cv)) \n",
    "plt.legend(bbox_to_anchor=(1, 1))\n",
    "plt.grid()\n",
    "plt.show()\n",
    "print(\"Détermination des paramètres optimaux en %0.1f s\" % (time.time() - startTime))\n",
    "print(\"Pénalisation l1, valeur optimale : C = %0.2f\" % (C_log[np.argmin(mean_score_l1)]))\n",
    "print(\"Pénalisation l2, valeur optimale : C = %0.2f\" % (C_log[np.argmin(mean_score_l2)]))"
   ]
  },
  {
   "cell_type": "code",
   "execution_count": 36,
   "metadata": {},
   "outputs": [
    {
     "name": "stdout",
     "output_type": "stream",
     "text": [
      "Model score\n",
      "- Accuracy : 71.3 %\n",
      "- Precision : 80.0 % (Happy # positive class)\n",
      "- Recall : 74.3 %\n",
      "- F1 score : 77.0 %\n"
     ]
    }
   ],
   "source": [
    "# Learning on full training set with optimals hyperparameters \n",
    "# and score evaluation on test set\n",
    "clf = LogisticRegression(C=C_log[np.argmin(mean_score_l1)], \n",
    "                         penalty='l1', \n",
    "                         random_state=42, \n",
    "                         class_weight='balanced')\n",
    "clf.fit(X_train, y_train)\n",
    "y_test_pred = clf.predict(X_test)\n",
    "accuracy = clf.score(X_test, y_test)\n",
    "print(f\"Model score\\n- Accuracy : {accuracy*100:0.1f} %\")\n",
    "f1 = f1_score(y_test, y_test_pred)\n",
    "p = precision_score(y_test, y_test_pred)\n",
    "r = recall_score(y_test, y_test_pred)\n",
    "print(f\"- Precision : {p*100:0.1f} % (Happy # positive class)\")\n",
    "print(f\"- Recall : {r*100:0.1f} %\")\n",
    "print(f\"- F1 score : {f1*100:0.1f} %\")"
   ]
  },
  {
   "cell_type": "code",
   "execution_count": 37,
   "metadata": {},
   "outputs": [
    {
     "name": "stdout",
     "output_type": "stream",
     "text": [
      "Model score\n",
      "- Accuracy : 71.0 %\n",
      "- Precision : 79.8 % (Happy # positive class)\n",
      "- Recall : 74.1 %\n",
      "- F1 score : 76.8 %\n"
     ]
    }
   ],
   "source": [
    "# Learning on full training set with optimals hyperparameters \n",
    "# and score evaluation on test set\n",
    "clf = LogisticRegression(C=C_log[np.argmin(mean_score_l2)], \n",
    "                         penalty='l2', \n",
    "                         random_state=42, \n",
    "                         class_weight='balanced')\n",
    "clf.fit(X_train, y_train)\n",
    "y_test_pred = clf.predict(X_test)\n",
    "accuracy = clf.score(X_test, y_test)\n",
    "print(f\"Model score\\n- Accuracy : {accuracy*100:0.1f} %\")\n",
    "f1 = f1_score(y_test, y_test_pred)\n",
    "p = precision_score(y_test, y_test_pred)\n",
    "r = recall_score(y_test, y_test_pred)\n",
    "print(f\"- Precision : {p*100:0.1f} % (Happy # positive class)\")\n",
    "print(f\"- Recall : {r*100:0.1f} %\")\n",
    "print(f\"- F1 score : {f1*100:0.1f} %\")"
   ]
  },
  {
   "cell_type": "code",
   "execution_count": 38,
   "metadata": {},
   "outputs": [
    {
     "name": "stdout",
     "output_type": "stream",
     "text": [
      "[ 0.35171888  0.30931414  0.29477885  0.25894022  0.22423326  0.22344883\n",
      "  0.20415446  0.1790233   0.15174193  0.14939971  0.14612609  0.13104151\n",
      "  0.09437999  0.09235074  0.08216039  0.07529342  0.06142445  0.05786706\n",
      "  0.04255657  0.02644788]\n",
      "[15  0  5  3  6  1  8 19 18  2 14 13 11  4  9 12 10 17 16  7]\n"
     ]
    },
    {
     "ename": "ValueError",
     "evalue": "shape mismatch: objects cannot be broadcast to a single shape",
     "output_type": "error",
     "traceback": [
      "\u001b[0;31m---------------------------------------------------------------------------\u001b[0m",
      "\u001b[0;31mValueError\u001b[0m                                Traceback (most recent call last)",
      "\u001b[0;32m<ipython-input-38-36117352a892>\u001b[0m in \u001b[0;36m<module>\u001b[0;34m()\u001b[0m\n\u001b[1;32m     32\u001b[0m \u001b[0;34m\u001b[0m\u001b[0m\n\u001b[1;32m     33\u001b[0m \u001b[0mplt\u001b[0m\u001b[0;34m.\u001b[0m\u001b[0msubplot\u001b[0m\u001b[0;34m(\u001b[0m\u001b[0;36m1\u001b[0m\u001b[0;34m,\u001b[0m \u001b[0;36m2\u001b[0m\u001b[0;34m,\u001b[0m \u001b[0;36m1\u001b[0m\u001b[0;34m)\u001b[0m\u001b[0;34m\u001b[0m\u001b[0m\n\u001b[0;32m---> 34\u001b[0;31m \u001b[0mp1\u001b[0m \u001b[0;34m=\u001b[0m \u001b[0mplt\u001b[0m\u001b[0;34m.\u001b[0m\u001b[0mbar\u001b[0m\u001b[0;34m(\u001b[0m\u001b[0mind\u001b[0m\u001b[0;34m,\u001b[0m \u001b[0mcoef_sorted_l2\u001b[0m\u001b[0;34m[\u001b[0m\u001b[0;36m0\u001b[0m\u001b[0;34m:\u001b[0m\u001b[0mnf\u001b[0m\u001b[0;34m]\u001b[0m\u001b[0;34m,\u001b[0m \u001b[0;36m1\u001b[0m\u001b[0;34m,\u001b[0m \u001b[0mcolor\u001b[0m\u001b[0;34m=\u001b[0m\u001b[0;34m'b'\u001b[0m\u001b[0;34m,\u001b[0m\u001b[0malpha\u001b[0m\u001b[0;34m=\u001b[0m\u001b[0;36m0.5\u001b[0m\u001b[0;34m)\u001b[0m\u001b[0;34m\u001b[0m\u001b[0m\n\u001b[0m\u001b[1;32m     35\u001b[0m \u001b[0mplt\u001b[0m\u001b[0;34m.\u001b[0m\u001b[0mylabel\u001b[0m\u001b[0;34m(\u001b[0m\u001b[0;34m'Feature importance'\u001b[0m\u001b[0;34m)\u001b[0m\u001b[0;34m\u001b[0m\u001b[0m\n\u001b[1;32m     36\u001b[0m \u001b[0mplt\u001b[0m\u001b[0;34m.\u001b[0m\u001b[0mtitle\u001b[0m\u001b[0;34m(\u001b[0m\u001b[0;34mu'Top %i features\\nLogistic regression pénalisation l2 C = 0.4'\u001b[0m \u001b[0;34m%\u001b[0m \u001b[0mnf\u001b[0m\u001b[0;34m)\u001b[0m\u001b[0;34m\u001b[0m\u001b[0m\n",
      "\u001b[0;32m//anaconda/envs/py36/lib/python3.6/site-packages/matplotlib/pyplot.py\u001b[0m in \u001b[0;36mbar\u001b[0;34m(*args, **kwargs)\u001b[0m\n\u001b[1;32m   2625\u001b[0m                       mplDeprecation)\n\u001b[1;32m   2626\u001b[0m     \u001b[0;32mtry\u001b[0m\u001b[0;34m:\u001b[0m\u001b[0;34m\u001b[0m\u001b[0m\n\u001b[0;32m-> 2627\u001b[0;31m         \u001b[0mret\u001b[0m \u001b[0;34m=\u001b[0m \u001b[0max\u001b[0m\u001b[0;34m.\u001b[0m\u001b[0mbar\u001b[0m\u001b[0;34m(\u001b[0m\u001b[0;34m*\u001b[0m\u001b[0margs\u001b[0m\u001b[0;34m,\u001b[0m \u001b[0;34m**\u001b[0m\u001b[0mkwargs\u001b[0m\u001b[0;34m)\u001b[0m\u001b[0;34m\u001b[0m\u001b[0m\n\u001b[0m\u001b[1;32m   2628\u001b[0m     \u001b[0;32mfinally\u001b[0m\u001b[0;34m:\u001b[0m\u001b[0;34m\u001b[0m\u001b[0m\n\u001b[1;32m   2629\u001b[0m         \u001b[0max\u001b[0m\u001b[0;34m.\u001b[0m\u001b[0m_hold\u001b[0m \u001b[0;34m=\u001b[0m \u001b[0mwashold\u001b[0m\u001b[0;34m\u001b[0m\u001b[0m\n",
      "\u001b[0;32m//anaconda/envs/py36/lib/python3.6/site-packages/matplotlib/__init__.py\u001b[0m in \u001b[0;36minner\u001b[0;34m(ax, *args, **kwargs)\u001b[0m\n\u001b[1;32m   1708\u001b[0m                     warnings.warn(msg % (label_namer, func.__name__),\n\u001b[1;32m   1709\u001b[0m                                   RuntimeWarning, stacklevel=2)\n\u001b[0;32m-> 1710\u001b[0;31m             \u001b[0;32mreturn\u001b[0m \u001b[0mfunc\u001b[0m\u001b[0;34m(\u001b[0m\u001b[0max\u001b[0m\u001b[0;34m,\u001b[0m \u001b[0;34m*\u001b[0m\u001b[0margs\u001b[0m\u001b[0;34m,\u001b[0m \u001b[0;34m**\u001b[0m\u001b[0mkwargs\u001b[0m\u001b[0;34m)\u001b[0m\u001b[0;34m\u001b[0m\u001b[0m\n\u001b[0m\u001b[1;32m   1711\u001b[0m         \u001b[0mpre_doc\u001b[0m \u001b[0;34m=\u001b[0m \u001b[0minner\u001b[0m\u001b[0;34m.\u001b[0m\u001b[0m__doc__\u001b[0m\u001b[0;34m\u001b[0m\u001b[0m\n\u001b[1;32m   1712\u001b[0m         \u001b[0;32mif\u001b[0m \u001b[0mpre_doc\u001b[0m \u001b[0;32mis\u001b[0m \u001b[0;32mNone\u001b[0m\u001b[0;34m:\u001b[0m\u001b[0;34m\u001b[0m\u001b[0m\n",
      "\u001b[0;32m//anaconda/envs/py36/lib/python3.6/site-packages/matplotlib/axes/_axes.py\u001b[0m in \u001b[0;36mbar\u001b[0;34m(self, *args, **kwargs)\u001b[0m\n\u001b[1;32m   2079\u001b[0m         x, height, width, y, linewidth = np.broadcast_arrays(\n\u001b[1;32m   2080\u001b[0m             \u001b[0;31m# Make args iterable too.\u001b[0m\u001b[0;34m\u001b[0m\u001b[0;34m\u001b[0m\u001b[0m\n\u001b[0;32m-> 2081\u001b[0;31m             np.atleast_1d(x), height, width, y, linewidth)\n\u001b[0m\u001b[1;32m   2082\u001b[0m \u001b[0;34m\u001b[0m\u001b[0m\n\u001b[1;32m   2083\u001b[0m         \u001b[0;32mif\u001b[0m \u001b[0morientation\u001b[0m \u001b[0;34m==\u001b[0m \u001b[0;34m'vertical'\u001b[0m\u001b[0;34m:\u001b[0m\u001b[0;34m\u001b[0m\u001b[0m\n",
      "\u001b[0;32m//anaconda/envs/py36/lib/python3.6/site-packages/numpy/lib/stride_tricks.py\u001b[0m in \u001b[0;36mbroadcast_arrays\u001b[0;34m(*args, **kwargs)\u001b[0m\n\u001b[1;32m    247\u001b[0m     \u001b[0margs\u001b[0m \u001b[0;34m=\u001b[0m \u001b[0;34m[\u001b[0m\u001b[0mnp\u001b[0m\u001b[0;34m.\u001b[0m\u001b[0marray\u001b[0m\u001b[0;34m(\u001b[0m\u001b[0m_m\u001b[0m\u001b[0;34m,\u001b[0m \u001b[0mcopy\u001b[0m\u001b[0;34m=\u001b[0m\u001b[0;32mFalse\u001b[0m\u001b[0;34m,\u001b[0m \u001b[0msubok\u001b[0m\u001b[0;34m=\u001b[0m\u001b[0msubok\u001b[0m\u001b[0;34m)\u001b[0m \u001b[0;32mfor\u001b[0m \u001b[0m_m\u001b[0m \u001b[0;32min\u001b[0m \u001b[0margs\u001b[0m\u001b[0;34m]\u001b[0m\u001b[0;34m\u001b[0m\u001b[0m\n\u001b[1;32m    248\u001b[0m \u001b[0;34m\u001b[0m\u001b[0m\n\u001b[0;32m--> 249\u001b[0;31m     \u001b[0mshape\u001b[0m \u001b[0;34m=\u001b[0m \u001b[0m_broadcast_shape\u001b[0m\u001b[0;34m(\u001b[0m\u001b[0;34m*\u001b[0m\u001b[0margs\u001b[0m\u001b[0;34m)\u001b[0m\u001b[0;34m\u001b[0m\u001b[0m\n\u001b[0m\u001b[1;32m    250\u001b[0m \u001b[0;34m\u001b[0m\u001b[0m\n\u001b[1;32m    251\u001b[0m     \u001b[0;32mif\u001b[0m \u001b[0mall\u001b[0m\u001b[0;34m(\u001b[0m\u001b[0marray\u001b[0m\u001b[0;34m.\u001b[0m\u001b[0mshape\u001b[0m \u001b[0;34m==\u001b[0m \u001b[0mshape\u001b[0m \u001b[0;32mfor\u001b[0m \u001b[0marray\u001b[0m \u001b[0;32min\u001b[0m \u001b[0margs\u001b[0m\u001b[0;34m)\u001b[0m\u001b[0;34m:\u001b[0m\u001b[0;34m\u001b[0m\u001b[0m\n",
      "\u001b[0;32m//anaconda/envs/py36/lib/python3.6/site-packages/numpy/lib/stride_tricks.py\u001b[0m in \u001b[0;36m_broadcast_shape\u001b[0;34m(*args)\u001b[0m\n\u001b[1;32m    182\u001b[0m     \u001b[0;31m# use the old-iterator because np.nditer does not handle size 0 arrays\u001b[0m\u001b[0;34m\u001b[0m\u001b[0;34m\u001b[0m\u001b[0m\n\u001b[1;32m    183\u001b[0m     \u001b[0;31m# consistently\u001b[0m\u001b[0;34m\u001b[0m\u001b[0;34m\u001b[0m\u001b[0m\n\u001b[0;32m--> 184\u001b[0;31m     \u001b[0mb\u001b[0m \u001b[0;34m=\u001b[0m \u001b[0mnp\u001b[0m\u001b[0;34m.\u001b[0m\u001b[0mbroadcast\u001b[0m\u001b[0;34m(\u001b[0m\u001b[0;34m*\u001b[0m\u001b[0margs\u001b[0m\u001b[0;34m[\u001b[0m\u001b[0;34m:\u001b[0m\u001b[0;36m32\u001b[0m\u001b[0;34m]\u001b[0m\u001b[0;34m)\u001b[0m\u001b[0;34m\u001b[0m\u001b[0m\n\u001b[0m\u001b[1;32m    185\u001b[0m     \u001b[0;31m# unfortunately, it cannot handle 32 or more arguments directly\u001b[0m\u001b[0;34m\u001b[0m\u001b[0;34m\u001b[0m\u001b[0m\n\u001b[1;32m    186\u001b[0m     \u001b[0;32mfor\u001b[0m \u001b[0mpos\u001b[0m \u001b[0;32min\u001b[0m \u001b[0mrange\u001b[0m\u001b[0;34m(\u001b[0m\u001b[0;36m32\u001b[0m\u001b[0;34m,\u001b[0m \u001b[0mlen\u001b[0m\u001b[0;34m(\u001b[0m\u001b[0margs\u001b[0m\u001b[0;34m)\u001b[0m\u001b[0;34m,\u001b[0m \u001b[0;36m31\u001b[0m\u001b[0;34m)\u001b[0m\u001b[0;34m:\u001b[0m\u001b[0;34m\u001b[0m\u001b[0m\n",
      "\u001b[0;31mValueError\u001b[0m: shape mismatch: objects cannot be broadcast to a single shape"
     ]
    },
    {
     "data": {
      "image/png": "[encoded data removed]",
      "text/plain": [
       "<matplotlib.figure.Figure at 0x1a0ab95550>"
      ]
     },
     "metadata": {},
     "output_type": "display_data"
    }
   ],
   "source": [
    "# Use regression coefficients to rank features\n",
    "clf = LogisticRegression(C=C_log[np.argmin(mean_score_l2)], \n",
    "                         penalty='l2', \n",
    "                         random_state=42, \n",
    "                         class_weight='balanced')\n",
    "\n",
    "\n",
    "clf.fit(X_train,y_train)\n",
    "coef_l2 = abs(clf.coef_)\n",
    "coef_sorted_l2 = -np.sort(-coef_l2).reshape(-1)\n",
    "print(coef_sorted_l2)\n",
    "features_sorded_l2 = np.argsort(-coef_l2).reshape(-1)\n",
    "print(features_sorded_l2)\n",
    "features_name = np.array(features)\n",
    "features_name_sorted_l2 = features_name[features_sorded_l2]\n",
    "    \n",
    "clf = LogisticRegression(C=C_log[np.argmin(mean_score_l1)], \n",
    "                         penalty='l2', \n",
    "                         random_state=42, \n",
    "                         class_weight='balanced')\n",
    "    \n",
    "clf.fit(X_train,y_train)\n",
    "coef_l1 = abs(clf.coef_)\n",
    "coef_sorted_l1 = -np.sort(-coef_l1).reshape(-1)\n",
    "features_sorded_l1 = np.argsort(-coef_l1).reshape(-1)\n",
    "features_name_sorted_l1 = features_name[features_sorded_l1]\n",
    "\n",
    "nf = len(features)\n",
    "\n",
    "fig, axes = plt.subplots(nrows=1, ncols=2, figsize=(10, 4))\n",
    "ind = np.arange(nf)    # the x locations for the groups\n",
    "\n",
    "plt.subplot(1, 2, 1)\n",
    "p1 = plt.bar(ind, coef_sorted_l2[0:nf], 1, color='b',alpha=0.5)\n",
    "plt.ylabel('Feature importance')\n",
    "plt.title(u'Top %i features\\nLogistic regression pénalisation l2 C = 0.4' % nf)\n",
    "plt.xticks(ind + 0.35/2.0, features_name_sorted_l2[0:nf], rotation = 90)\n",
    "\n",
    "plt.subplot(1, 2, 2)\n",
    "p1 = plt.bar(ind, coef_sorted_l1[0:nf], 1, color='b',alpha=0.5)\n",
    "plt.ylabel('Feature importance')\n",
    "plt.title(u'Top %i features\\nLogistic regression pénalisation l1 C = 7.2' % nf)\n",
    "plt.xticks(ind + 0.35/2.0, features_name_sorted_l1[0:nf], rotation = 90)\n",
    "\n",
    "plt.show()"
   ]
  },
  {
   "cell_type": "markdown",
   "metadata": {},
   "source": [
    "**Random Forest**"
   ]
  },
  {
   "cell_type": "code",
   "execution_count": 39,
   "metadata": {},
   "outputs": [
    {
     "name": "stdout",
     "output_type": "stream",
     "text": [
      "Determination of optimal hyperparameters in 119.9 s\n",
      "Optimal values are {'max_depth': 8, 'n_estimators': 64} \n",
      "Accuracy Score of cross valdation 72.04%\n",
      "Random Forest, p=20\n",
      "Model score\n",
      "- Accuracy : 71.2 %\n",
      "- Precision : 79.1 % (Happy # positive class)\n",
      "- Recall : 75.6 %\n",
      "- F1 score : 77.3 %\n"
     ]
    }
   ],
   "source": [
    "startTime = time.time()\n",
    "n_estimators_range = [32,64,128,256,512]\n",
    "max_depth_range = [4,8,16,32,64] \n",
    "param_grid = dict(n_estimators=n_estimators_range, max_depth = max_depth_range)\n",
    "\n",
    "params = {'max_features' :'sqrt', 'random_state' : 32,\n",
    "          'min_samples_split' : 2, 'class_weight' : 'balanced'}\n",
    "clf = RandomForestClassifier(**params)\n",
    "\n",
    "grid = GridSearchCV(clf, scoring='accuracy', param_grid=param_grid)\n",
    "grid.fit(X_train, y_train)\n",
    "print(f\"Determination of optimal hyperparameters in {time.time() - startTime:0.1f} s\")\n",
    "print(f\"Optimal values are {grid.best_params_} \\n\\\n",
    "Accuracy Score of cross valdation {100*grid.best_score_:0.2f}%\")\n",
    "\n",
    "# Learning on full training set with optimals hyperparameters and score on test set\n",
    "params = {'max_features' :'sqrt', 'random_state' : 32, \n",
    "          'min_samples_split' : 2, 'class_weight' : 'balanced',\n",
    "          'n_estimators' : grid.best_params_['n_estimators'],\n",
    "          'max_depth' : grid.best_params_['max_depth']}\n",
    "clf = RandomForestClassifier(**params).fit(X_train, y_train)\n",
    "clf.fit(X_train, y_train)\n",
    "y_test_pred = clf.predict(X_test)\n",
    "\n",
    "print(f\"Random Forest, p={X_train.shape[1]}\")\n",
    "accuracy = clf.score(X_test, y_test)\n",
    "f1 = f1_score(y_test, y_test_pred)\n",
    "p = precision_score(y_test, y_test_pred)\n",
    "r = recall_score(y_test, y_test_pred)\n",
    "print(f\"Model score\\n- Accuracy : {accuracy*100:0.1f} %\")\n",
    "print(f\"- Precision : {p*100:0.1f} % (Happy # positive class)\")\n",
    "print(f\"- Recall : {r*100:0.1f} %\")\n",
    "print(f\"- F1 score : {f1*100:0.1f} %\")"
   ]
  },
  {
   "cell_type": "markdown",
   "metadata": {},
   "source": [
    "## 5) Multi class regression"
   ]
  },
  {
   "cell_type": "markdown",
   "metadata": {},
   "source": [
    "### a) Training and test set preparation"
   ]
  },
  {
   "cell_type": "code",
   "execution_count": 40,
   "metadata": {},
   "outputs": [
    {
     "name": "stdout",
     "output_type": "stream",
     "text": [
      "Number exemple: 10596\n",
      "- training set: 8476\n",
      "- test set: 2120\n",
      "Number of features: p=632\n",
      "Number of class: 4\n",
      "class 1 : 1.8%\n",
      "class 2 : 33.1%\n",
      "class 3 : 49.1%\n",
      "class 4 : 15.9%\n"
     ]
    }
   ],
   "source": [
    "features = df.columns.drop(['HEUREUX',\"HEUREUX_CLF\", \"HEUREUX_REG\"])\n",
    "pred = \"HEUREUX\"\n",
    "\n",
    "# treating remaining missing values\n",
    "df_tmp = df.loc[:,set(features) | {pred} ]\n",
    "df_tmp.loc[df_tmp[\"HEUREUX\"]==5,\"HEUREUX\"]=None\n",
    "df_tmp = df_tmp.dropna()\n",
    "\n",
    "X = df_tmp.loc[:,features]\n",
    "y = df_tmp[pred]\n",
    "\n",
    "X_train, X_test, y_train, y_test = train_test_split(X, y, \n",
    "                                                    test_size=0.2, \n",
    "                                                    random_state=42)\n",
    "\n",
    "scaler = StandardScaler().fit(X_train)\n",
    "X_train = scaler.transform(X_train)\n",
    "X_test = scaler.transform(X_test)\n",
    "\n",
    "print(f\"Number exemple: {y.shape[0]}\\n- training set: \\\n",
    "{y_train.shape[0]}\\n- test set: {y_test.shape[0]}\")\n",
    "print(f\"Number of features: p={X_train.shape[1]}\")\n",
    "print(f\"Number of class: {len(np.unique(y))}\")\n",
    "for c in np.unique(y):\n",
    "    print(f\"class {c:0.0f} : {100*np.sum(y==c)/len(y):0.1f}%\")"
   ]
  },
  {
   "cell_type": "markdown",
   "metadata": {},
   "source": [
    "### b) Feature selection"
   ]
  },
  {
   "cell_type": "code",
   "execution_count": 41,
   "metadata": {},
   "outputs": [
    {
     "name": "stderr",
     "output_type": "stream",
     "text": [
      "//anaconda/envs/py36/lib/python3.6/site-packages/sklearn/metrics/classification.py:1135: UndefinedMetricWarning: F-score is ill-defined and being set to 0.0 in labels with no predicted samples.\n",
      "  'precision', 'predicted', average, warn_for)\n",
      "//anaconda/envs/py36/lib/python3.6/site-packages/sklearn/metrics/classification.py:1135: UndefinedMetricWarning: F-score is ill-defined and being set to 0.0 in labels with no predicted samples.\n",
      "  'precision', 'predicted', average, warn_for)\n"
     ]
    },
    {
     "name": "stdout",
     "output_type": "stream",
     "text": [
      "Optimal number of features : 260\n"
     ]
    },
    {
     "data": {
      "image/png": "[encoded data removed]",
      "text/plain": [
       "<matplotlib.figure.Figure at 0x1a094c2438>"
      ]
     },
     "metadata": {},
     "output_type": "display_data"
    },
    {
     "name": "stdout",
     "output_type": "stream",
     "text": [
      "Détermination des features optimales en 5111.2 s\n"
     ]
    }
   ],
   "source": [
    "startTime = time.time()\n",
    "\n",
    "scoring='f1_macro' \n",
    "step = 0.05\n",
    "\n",
    "clf = LogisticRegression(C=1, \n",
    "                         penalty='l1', \n",
    "                         class_weight='balanced',\n",
    "                         random_state=42)\n",
    "\n",
    "rfecv = RFECV(estimator=clf, step=step, cv=StratifiedKFold(2),\n",
    "              scoring=scoring)\n",
    "\n",
    "rfecv.fit(X_train, y_train)\n",
    "\n",
    "print(\"Optimal number of features : %d\" % rfecv.n_features_)\n",
    "\n",
    "# Plot number of features VS. cross-validation scores\n",
    "plt.figure()\n",
    "plt.xlabel(f\"Number of recurcive steps of {100*step:0.0f}% through {X_train.shape[1]} variables\")\n",
    "plt.ylabel(f\"Cross validation score \\n({scoring})\")\n",
    "plt.plot(range(1, len(rfecv.grid_scores_) + 1), rfecv.grid_scores_)\n",
    "plt.show()\n",
    "print(f\"Détermination des features optimales en %0.1f s\" % (time.time() - startTime))"
   ]
  },
  {
   "cell_type": "code",
   "execution_count": null,
   "metadata": {},
   "outputs": [
    {
     "name": "stdout",
     "output_type": "stream",
     "text": [
      "Number of features: p=260\n"
     ]
    }
   ],
   "source": [
    "nclf_mask = rfecv.support_.copy()\n",
    "X_train = X_train[:,nclf_mask]\n",
    "X_test = X_test[:,nclf_mask]\n",
    "print(f\"Number of features: p={X_train.shape[1]}\")"
   ]
  },
  {
   "cell_type": "code",
   "execution_count": null,
   "metadata": {},
   "outputs": [],
   "source": [
    "nb_value = 10 # Nombre de valeurs testées pour l'hyperparamètre\n",
    "mean_score_l1 = np.zeros(nb_value)\n",
    "mean_score_l2 = np.zeros(nb_value)\n",
    "C_log = np.logspace(-2,2,nb_value)\n",
    "cv = 3 # V-fold, nombre de fold\n",
    "\n",
    "mean_score_l1 = np.empty(nb_value)\n",
    "std_scores_l1 = np.empty(nb_value)\n",
    "\n",
    "mean_score_l2 = np.empty(nb_value)\n",
    "std_scores_l2 = np.empty(nb_value)\n",
    "\n",
    "np.random.seed(seed=42) \n",
    "\n",
    "startTime = time.time()\n",
    "\n",
    "for i, C in enumerate(C_log):\n",
    "    clf = LogisticRegression(C=C, penalty='l1', tol=0.01, random_state=42, class_weight='balanced')\n",
    "    mean_score_l1[i] = 100*np.mean(1-cross_val_score(clf, \n",
    "                                                     X_train, \n",
    "                                                     y_train, \n",
    "                                                     cv=cv, \n",
    "                                                     scoring='f1_macro'))\n",
    "    std_scores_l1[i] = 100*np.std(1-cross_val_score(clf, \n",
    "                                                    X_train, \n",
    "                                                    y_train, \n",
    "                                                    cv=cv, \n",
    "                                                    scoring='f1_macro'))    \n",
    "\n",
    "\n",
    "for i, C in enumerate(C_log):\n",
    "    clf = LogisticRegression(C=C, penalty='l2', tol=0.01, random_state=42, class_weight='balanced')\n",
    "    mean_score_l2[i] = 100*np.mean(1-cross_val_score(clf, \n",
    "                                                     X_train, \n",
    "                                                     y_train, \n",
    "                                                     cv=cv, \n",
    "                                                     scoring='f1_macro'))\n",
    "    std_scores_l2[i] = 100*np.std(1-cross_val_score(clf, \n",
    "                                                    X_train, \n",
    "                                                    y_train, \n",
    "                                                    cv=cv, \n",
    "                                                    scoring='f1_macro'))    \n",
    "    \n",
    "plt.figure()\n",
    "plt.semilogx(C_log,mean_score_l1[:],'r',linewidth=2,label='moyenne (l1)')\n",
    "plt.semilogx(C_log,mean_score_l1[:]-0.5*std_scores_l1[:],\n",
    "             'r--', label=u'+/-0.5 écart type')\n",
    "plt.semilogx(C_log,mean_score_l1[:]+0.5*std_scores_l1[:],'r--')\n",
    "\n",
    "plt.semilogx(C_log,mean_score_l2[:],'g',linewidth=2,label='moyenne (l2)')\n",
    "plt.semilogx(C_log,mean_score_l2[:]-0.5*std_scores_l2[:], 'g--',\n",
    "             label=u'+/-0.5 écart type')\n",
    "plt.semilogx(C_log,mean_score_l2[:]+0.5*std_scores_l2[:],'g--')\n",
    "\n",
    "plt.xlabel(\"Valeur de pénalisation C = 1/lambda\")\n",
    "plt.ylabel(\"F1 macro de validation croisée (%)\")\n",
    "plt.title(u\"Choix de l'hyperparamètre C\\npar validation croisée \\\n",
    "(V-fold avec V = %s)\" % (cv)) \n",
    "plt.legend(bbox_to_anchor=(1, 1))\n",
    "plt.grid()\n",
    "plt.show()\n",
    "print(f\"Détermination des paramètres optimaux en \\\n",
    "{time.time() - startTime:0.1f} s\")\n",
    "print(f\"Pénalisation l1, valeur optimale : \\\n",
    "C = {C_log[np.argmax(mean_score_l1)]:0.4f}\")\n",
    "print(f\"Pénalisation l2, valeur optimale : \\\n",
    "C = {C_log[np.argmax(mean_score_l2)]:0.4f}\")"
   ]
  },
  {
   "cell_type": "code",
   "execution_count": null,
   "metadata": {
    "collapsed": true
   },
   "outputs": [],
   "source": []
  },
  {
   "cell_type": "code",
   "execution_count": null,
   "metadata": {
    "collapsed": true
   },
   "outputs": [],
   "source": [
    "# Learning on full training set with optimals hyperparameters and score on test set\n",
    "clf = LogisticRegression(C=C_log[np.argmax(mean_score_l2)], \n",
    "                         penalty='l2', \n",
    "                         tol=0.01, \n",
    "                         random_state=42, \n",
    "                         class_weight='balanced')\n",
    "clf.fit(X_train, y_train)\n",
    "y_test_pred = clf.predict(X_test)\n",
    "\n",
    "\n",
    "# Modelisation as a 5 multi class classification problem\n",
    "\n",
    "class_names = [\"Jamais\",\n",
    "               \"Occasionnellement\",\n",
    "               \"Assez souvent\",\n",
    "               \"Très souvent\" ]\n"
   ]
  },
  {
   "cell_type": "code",
   "execution_count": null,
   "metadata": {},
   "outputs": [],
   "source": [
    "def plot_confusion_matrix(cm, classes,\n",
    "                          normalize=False,\n",
    "                          title='Confusion matrix',\n",
    "                          cmap=plt.cm.Blues):\n",
    "    \"\"\"\n",
    "    This function prints and plots the confusion matrix.\n",
    "    Normalization can be applied by setting `normalize=True`.\n",
    "    \"\"\"\n",
    "    if normalize:\n",
    "        cm = cm.astype('float') / cm.sum(axis=1)[:, np.newaxis]\n",
    "        print(\"Normalized confusion matrix\")\n",
    "    else:\n",
    "        print('Confusion matrix, without normalization')\n",
    "\n",
    "    print(cm)\n",
    "\n",
    "    plt.imshow(cm, interpolation='nearest', cmap=cmap)\n",
    "    plt.title(title)\n",
    "    plt.colorbar()\n",
    "    tick_marks = np.arange(len(classes))\n",
    "    plt.xticks(tick_marks, classes, rotation=45)\n",
    "    plt.yticks(tick_marks, classes)\n",
    "\n",
    "    fmt = '.2f' if normalize else 'd'\n",
    "    thresh = cm.max() / 2.\n",
    "    for i, j in itertools.product(range(cm.shape[0]), range(cm.shape[1])):\n",
    "        plt.text(j, i, format(cm[i, j], fmt),\n",
    "                 horizontalalignment=\"center\",\n",
    "                 color=\"white\" if cm[i, j] > thresh else \"black\")\n",
    "\n",
    "    plt.tight_layout()\n",
    "    plt.ylabel('True label')\n",
    "    plt.xlabel('Predicted label')\n",
    "\n",
    "# Compute confusion matrix\n",
    "cnf_matrix = confusion_matrix(y_test, y_test_pred)\n",
    "np.set_printoptions(precision=2)\n",
    "\n",
    "# Plot non-normalized confusion matrix\n",
    "plt.figure()\n",
    "plot_confusion_matrix(cnf_matrix, classes=class_names,\n",
    "                      title='Confusion matrix, without normalization')\n",
    "\n",
    "# Plot normalized confusion matrix\n",
    "plt.figure()\n",
    "plot_confusion_matrix(cnf_matrix, classes=class_names, normalize=True,\n",
    "                      title='Normalized confusion matrix')\n",
    "\n",
    "plt.show()"
   ]
  },
  {
   "cell_type": "code",
   "execution_count": null,
   "metadata": {},
   "outputs": [],
   "source": [
    "acurracy = clf.score(X_test, y_test)\n",
    "print(f\"Score :{acurracy*100:0.4f} %\")"
   ]
  },
  {
   "cell_type": "code",
   "execution_count": null,
   "metadata": {
    "collapsed": true
   },
   "outputs": [],
   "source": [
    "f1_score(y_test, y_test_pred, labels = [1,2,3,4], average=None)"
   ]
  },
  {
   "cell_type": "code",
   "execution_count": null,
   "metadata": {},
   "outputs": [],
   "source": [
    "f1_macro = f1_score(y_test, y_test_pred, average='macro')\n",
    "f1_weighted = f1_score(y_test, y_test_pred, average='weighted')\n",
    "print(f\"Score :\\nf1 macro : {f1_macro*100:0.4f} %\\n\\\n",
    "f1 weighted : {f1_weighted*100:0.4f} %\\nacurracy : {acurracy*100:0.4f} %\")"
   ]
  },
  {
   "cell_type": "code",
   "execution_count": null,
   "metadata": {},
   "outputs": [],
   "source": []
  },
  {
   "cell_type": "code",
   "execution_count": null,
   "metadata": {},
   "outputs": [],
   "source": []
  },
  {
   "cell_type": "code",
   "execution_count": null,
   "metadata": {},
   "outputs": [],
   "source": []
  },
  {
   "cell_type": "code",
   "execution_count": null,
   "metadata": {
    "collapsed": true
   },
   "outputs": [],
   "source": []
  },
  {
   "cell_type": "code",
   "execution_count": null,
   "metadata": {
    "collapsed": true
   },
   "outputs": [],
   "source": []
  },
  {
   "cell_type": "code",
   "execution_count": null,
   "metadata": {},
   "outputs": [],
   "source": []
  },
  {
   "cell_type": "code",
   "execution_count": null,
   "metadata": {
    "collapsed": true
   },
   "outputs": [],
   "source": []
  }
 ],
 "metadata": {
  "kernelspec": {
   "display_name": "Python 3",
   "language": "python",
   "name": "python3"
  },
  "language_info": {
   "codemirror_mode": {
    "name": "ipython",
    "version": 3
   },
   "file_extension": ".py",
   "mimetype": "text/x-python",
   "name": "python",
   "nbconvert_exporter": "python",
   "pygments_lexer": "ipython3",
   "version": "3.6.3"
  }
 },
 "nbformat": 4,
 "nbformat_minor": 2
}
