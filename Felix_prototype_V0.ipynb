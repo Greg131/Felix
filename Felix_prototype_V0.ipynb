{
 "cells": [
  {
   "cell_type": "markdown",
   "metadata": {},
   "source": [
    "# Felix prototype\n",
    "**Version 0**   \n",
    "**Date 21/10/2018**  \n",
    "  \n",
    "Model used : **Random Forest** Classifier on features selected through **lasso**  \n",
    "Clustering method used : **Hierarchical clustering** using **ward metric** based on 6 **NOT variable** "
   ]
  },
  {
   "cell_type": "code",
   "execution_count": 1,
   "metadata": {
    "collapsed": true
   },
   "outputs": [],
   "source": [
    "from pathlib import Path\n",
    "import pandas as pd\n",
    "import numpy as np\n",
    "from datetime import datetime\n",
    "import time\n",
    "import matplotlib.pyplot as plt\n",
    "%matplotlib inline\n",
    "import itertools\n",
    "import pickle\n",
    "from sklearn.model_selection import train_test_split\n",
    "from sklearn.preprocessing import StandardScaler\n",
    "from sklearn.model_selection import cross_val_score, GridSearchCV\n",
    "from sklearn.ensemble import RandomForestClassifier\n",
    "from sklearn.metrics import confusion_matrix, f1_score, precision_score, recall_score\n",
    "from sklearn.model_selection import StratifiedKFold\n",
    "from sklearn.utils import resample"
   ]
  },
  {
   "cell_type": "code",
   "execution_count": 2,
   "metadata": {
    "collapsed": true
   },
   "outputs": [],
   "source": [
    "path_project = Path.home() / Path('Google Drive/Felix')\n",
    "path_data = path_project / Path(\"data\")\n",
    "path_dump = path_project / Path(\"dump\")"
   ]
  },
  {
   "cell_type": "code",
   "execution_count": 3,
   "metadata": {
    "collapsed": true
   },
   "outputs": [],
   "source": [
    "# loading data\n",
    "file = path_data / Path(\"dataset.csv\")\n",
    "with Path.open(file, 'rb') as fp:\n",
    "    dataset = pd.read_csv(fp,  encoding='utf-8',low_memory=False, index_col = 0)"
   ]
  },
  {
   "cell_type": "markdown",
   "metadata": {},
   "source": [
    "### Features scope and selection strategy  \n",
    "Features are selected using lasso on the full scope of feature.\n",
    "The 50 more important features (logistic regression coef ranking) are kept regardless of their activability"
   ]
  },
  {
   "cell_type": "code",
   "execution_count": 4,
   "metadata": {
    "collapsed": true
   },
   "outputs": [],
   "source": [
    "# load feature sets\n",
    "filename = path_dump / Path(\"dict_features_sets.sav\")\n",
    "with open(filename, 'rb') as fp:\n",
    "     dict_features_sets = pickle.load(fp)\n",
    "\n",
    "usual_common_features = dict_features_sets['usual_common_features']\n",
    "cdv_actionable_individual_1_features = dict_features_sets['cdv_actionable_individual_1_features']\n",
    "cdv_actionable_individual_2_features = dict_features_sets['cdv_actionable_individual_2_features']\n",
    "RFE_LogisticRegression_50_features = dict_features_sets['RFE_LogisticRegression_50_features']"
   ]
  },
  {
   "cell_type": "code",
   "execution_count": 5,
   "metadata": {},
   "outputs": [
    {
     "name": "stdout",
     "output_type": "stream",
     "text": [
      "The 50 most important features obtained using lasso:\n",
      "['CONFENTR', 'TRAVFEM_Elles devraient travailler quand elles le désirent', 'SOUFFNER_Oui', 'PROGRAD_nan', 'CLASSESO_La classe populaire', 'RE_VAC_nan', 'RE_ALIM_nan', 'PREOTENS_Oui', 'NOT_AMIS', 'SOUFFDEP_Oui', 'VACANCES_Oui', 'ETATSAN', 'UDA10_DOM', 'NB03_2_Oui, enfant de moins de 3 ans', 'NOT_LIBR', 'NOT_PROF', 'CLASSESO_Les défavorisés', 'CHOIXNUC_Sans avis', 'INQAGRE3_Non inquiet', 'revtot7', 'CADVIE', 'INQCHOMA', 'NBENF6', 'RE_MEDI_Oui', 'CLASSESO_La classe moyenne supérieure', 'CDV5', 'RE_LOG_Oui', 'RE_EQUI_[Nsp]', 'INQALIM', 'ASSO10_2_Non adhérent', 'RE_ALIM_Oui', 'INQMALAD', 'INQCHOM3_Non inquiet', 'NIVPERSO', 'SOUFFINS_Oui', 'PCSENQ10_Ouvrier', 'CHERCHEM_Oui', 'NBCHOM', 'RE_VOIT_Oui', 'OPIRSA_[Nsp]', 'BANQEPA_Oui', 'HANDICAP_Oui', 'OPIIMMIG_[Nsp]', 'zau2010_nan', 'LIEN_2_Conjoint ou compagnon', 'SITUEMP3_Inactif', 'NOT_FAMI', 'SECURITE', 'STATMAT4_En ménage, marié', 'SITUFAM_Couple sans enfants']\n"
     ]
    }
   ],
   "source": [
    "print(\"The 50 most important features obtained using lasso:\")\n",
    "print(list(RFE_LogisticRegression_50_features))"
   ]
  },
  {
   "cell_type": "markdown",
   "metadata": {},
   "source": [
    "### Clustering method - feature used \n",
    "Hierarchical clustering is used using 6 common \"NOT_\" variable"
   ]
  },
  {
   "cell_type": "code",
   "execution_count": 6,
   "metadata": {
    "collapsed": true
   },
   "outputs": [],
   "source": [
    "# loading clustering\n",
    "file = path_data / Path(\"clustTest3.csv\")\n",
    "with Path.open(file, 'rb') as fp:\n",
    "    clustTest1 = pd.read_csv(fp,  encoding='utf-8',low_memory=False, sep=\";\", index_col = 0)"
   ]
  },
  {
   "cell_type": "markdown",
   "metadata": {},
   "source": [
    "### Training set and test set preparation"
   ]
  },
  {
   "cell_type": "code",
   "execution_count": 7,
   "metadata": {},
   "outputs": [
    {
     "name": "stdout",
     "output_type": "stream",
     "text": [
      "Number exemple: 10788\n",
      "- training set: 1600\n",
      "- test set: 400\n",
      "Number of features: p=50\n",
      "Number of class: 2\n",
      "class 0 : 35.0%\n",
      "class 1 : 65.0%\n"
     ]
    }
   ],
   "source": [
    "df = dataset.loc[:,:]\n",
    "# reducing problem to a 2 class classification problem\n",
    "df[\"HEUREUX_CLF\"] = 0\n",
    "df.loc[df[\"HEUREUX\"]==4, \"HEUREUX_CLF\"] = 1\n",
    "df.loc[df[\"HEUREUX\"]==3, \"HEUREUX_CLF\"] = 1\n",
    "df.loc[df[\"HEUREUX\"]==5, \"HEUREUX_CLF\"] = None\n",
    "\n",
    "scope = ( RFE_LogisticRegression_50_features  )  & set(dataset.columns)\n",
    "n_max = 2000\n",
    "\n",
    "df = df.loc[:,scope | {\"HEUREUX_CLF\"} ].dropna()\n",
    "features = df.loc[:,scope ].columns\n",
    "\n",
    "X = df.loc[:,scope]\n",
    "y = df[\"HEUREUX_CLF\"]\n",
    "\n",
    "\n",
    "Xs, ys = resample(X, y, random_state=42)\n",
    "\n",
    "Xs = Xs.iloc[0:n_max,:]\n",
    "ys = ys.iloc[0:n_max]\n",
    "\n",
    "X_train, X_test, y_train, y_test = train_test_split(Xs, ys, \n",
    "                                                    test_size=0.2, \n",
    "                                                    random_state=42\n",
    "                                                   )\n",
    "\n",
    "scaler = StandardScaler().fit(X_train)\n",
    "X_train = scaler.transform(X_train)\n",
    "X_test = scaler.transform(X_test)\n",
    "\n",
    "print(f\"Number exemple: {y.shape[0]}\\n- training set: \\\n",
    "{y_train.shape[0]}\\n- test set: {y_test.shape[0]}\")\n",
    "print(f\"Number of features: p={X_train.shape[1]}\")\n",
    "print(f\"Number of class: {len(np.unique(y))}\")\n",
    "for c in np.unique(y):\n",
    "    print(f\"class {c:0.0f} : {100*np.sum(y==c)/len(y):0.1f}%\")"
   ]
  },
  {
   "cell_type": "markdown",
   "metadata": {},
   "source": [
    "### Learning and model performance evaluation on full dataset (before clustering)\n"
   ]
  },
  {
   "cell_type": "code",
   "execution_count": 8,
   "metadata": {},
   "outputs": [
    {
     "name": "stdout",
     "output_type": "stream",
     "text": [
      "Determination of optimal hyperparameters in 48.0 s\n",
      "Optimal values are {'max_depth': 32, 'n_estimators': 256} \n",
      "Accuracy Score of cross valdation 76.12%\n",
      "Random Forest, p=50\n",
      "Model score\n",
      "- Accuracy : 73.2 %\n",
      "- Precision : 73.7 % (Happy # positive class)\n",
      "- Recall : 89.7 %\n",
      "- F1 score : 80.9 %\n"
     ]
    }
   ],
   "source": [
    "startTime = time.time()\n",
    "n_estimators_range = [32,64,128,256,512]\n",
    "max_depth_range = [4,8,16,32,64] \n",
    "param_grid = dict(n_estimators=n_estimators_range, max_depth = max_depth_range)\n",
    "\n",
    "params = {'max_features' :'sqrt', 'random_state' : 32,\n",
    "          'min_samples_split' : 2, 'class_weight' : 'balanced'}\n",
    "clf = RandomForestClassifier(**params)\n",
    "\n",
    "grid = GridSearchCV(clf, scoring='accuracy', param_grid=param_grid)\n",
    "grid.fit(X_train, y_train)\n",
    "print(f\"Determination of optimal hyperparameters in {time.time() - startTime:0.1f} s\")\n",
    "print(f\"Optimal values are {grid.best_params_} \\n\\\n",
    "Accuracy Score of cross valdation {100*grid.best_score_:0.2f}%\")\n",
    "\n",
    "# Learning on full training set with optimals hyperparameters and score on test set\n",
    "params = {'max_features' :'sqrt', 'random_state' : 32, \n",
    "          'min_samples_split' : 2, 'class_weight' : 'balanced',\n",
    "          'n_estimators' : grid.best_params_['n_estimators'],\n",
    "          'max_depth' : grid.best_params_['max_depth']}\n",
    "clf = RandomForestClassifier(**params).fit(X_train, y_train)\n",
    "clf.fit(X_train, y_train)\n",
    "y_test_pred = clf.predict(X_test)\n",
    "\n",
    "print(f\"Random Forest, p={X_train.shape[1]}\")\n",
    "accuracy = clf.score(X_test, y_test)\n",
    "f1 = f1_score(y_test, y_test_pred)\n",
    "p = precision_score(y_test, y_test_pred)\n",
    "r = recall_score(y_test, y_test_pred)\n",
    "print(f\"Model score\\n- Accuracy : {accuracy*100:0.1f} %\")\n",
    "print(f\"- Precision : {p*100:0.1f} % (Happy # positive class)\")\n",
    "print(f\"- Recall : {r*100:0.1f} %\")\n",
    "print(f\"- F1 score : {f1*100:0.1f} %\")\n",
    "res_full  = {\n",
    "    'f1_score' : f1,\n",
    "    'accuracy' : accuracy,\n",
    "    'precision' : p,\n",
    "    'recall' : r\n",
    "}"
   ]
  },
  {
   "cell_type": "code",
   "execution_count": 9,
   "metadata": {},
   "outputs": [
    {
     "name": "stdout",
     "output_type": "stream",
     "text": [
      "Feature ranking:\n",
      "1. feature 19 -revtot7- (0.057628)\n",
      "\tActionable at individual level (2)\n",
      "2. feature 15 -NOT_PROF- (0.045291)\n",
      "\tActionable at individual level (1)\n",
      "3. feature 9 -NOT_AMIS- (0.044856)\n",
      "\tActionable at individual level (1)\n",
      "4. feature 33 -NIVPERSO- (0.037919)\n",
      "\tActionable at individual level (2)\n",
      "5. feature 14 -NOT_LIBR- (0.037460)\n",
      "\tActionable at individual level (1)\n",
      "6. feature 25 -CDV5- (0.035741)\n",
      "\tActionable at individual level (2)\n",
      "7. feature 22 -NBENF6- (0.035219)\n",
      "\tActionable at individual level (2)\n",
      "8. feature 10 -SOUFFDEP_Oui- (0.035098)\n",
      "\tActionable at individual level (2)\n",
      "9. feature 20 -CADVIE- (0.034076)\n",
      "\tActionable at individual level (1)\n",
      "10. feature 49 -ETATSAN- (0.033789)\n",
      "\tActionable at individual level (1)\n",
      "11. feature 28 -INQALIM- (0.033493)\n",
      "\tActionable at individual level (1)\n",
      "12. feature 46 -NOT_FAMI- (0.033475)\n",
      "\tActionable at individual level (1)\n",
      "13. feature 0 -CONFENTR- (0.031363)\n",
      "\tActionable at individual level (1)\n",
      "14. feature 47 -SECURITE- (0.030271)\n",
      "\tActionable at individual level (2)\n",
      "15. feature 21 -INQCHOMA- (0.030152)\n",
      "\tActionable at individual level (1)\n"
     ]
    },
    {
     "data": {
      "image/png": "[encoded data removed]",
      "text/plain": [
       "<matplotlib.figure.Figure at 0x1a0dc430b8>"
      ]
     },
     "metadata": {},
     "output_type": "display_data"
    }
   ],
   "source": [
    "importances = clf.feature_importances_\n",
    "std = np.std([tree.feature_importances_ for tree in clf.estimators_],\n",
    "             axis=0)\n",
    "indices = np.argsort(importances)[::-1]\n",
    "features_name = np.array(features)\n",
    "#features_name_sorted_rf = features_name[indices]\n",
    "# Print the feature ranking\n",
    "print(\"Feature ranking:\")\n",
    "\n",
    "max_features = 15\n",
    "\n",
    "for f in range(min(X.shape[1],max_features)):\n",
    "    print(\"%d. feature %d -%s- (%f)\" % (f + 1, indices[f],features_name[indices[f]], importances[indices[f]]))\n",
    "    if features_name[indices[f]] in cdv_actionable_individual_1_features:\n",
    "        print(\"\\tActionable at individual level (1)\")\n",
    "    elif features_name[indices[f]] in cdv_actionable_individual_2_features:\n",
    "        print(\"\\tActionable at individual level (2)\")\n",
    "\n",
    "# Plot the feature importances of the forest\n",
    "plt.figure()\n",
    "plt.title(\"Feature importances\")\n",
    "plt.bar(range(X.shape[1]), importances[indices],\n",
    "       color=\"r\", yerr=std[indices], align=\"center\")\n",
    "plt.xticks(range(X.shape[1]), indices)\n",
    "plt.xlim([-1, X.shape[1]])\n",
    "plt.show()"
   ]
  },
  {
   "cell_type": "markdown",
   "metadata": {},
   "source": [
    "### Learning and model performance evaluation on each clusters"
   ]
  },
  {
   "cell_type": "code",
   "execution_count": 10,
   "metadata": {
    "collapsed": true
   },
   "outputs": [],
   "source": [
    "n_estimators_range = [16,32,64,128]\n",
    "max_depth_range = [2,4,8,16,32,64] \n",
    "param_grid = dict(n_estimators=n_estimators_range, max_depth = max_depth_range)\n",
    "params = {'max_features' :'sqrt', \n",
    "          'random_state' : 32, \n",
    "          'min_samples_split' : 2, \n",
    "          'class_weight' : 'balanced'\n",
    "         }\n",
    "scope = ( RFE_LogisticRegression_50_features )  & set(dataset.columns)\n",
    "features = df.loc[:,scope].columns"
   ]
  },
  {
   "cell_type": "code",
   "execution_count": 11,
   "metadata": {},
   "outputs": [
    {
     "name": "stdout",
     "output_type": "stream",
     "text": [
      "--------------------------------------------\n",
      "\n",
      "Analysis cluster method clust3\n",
      "liste of clusters : [2 4 6 1 3 5]\n",
      "cluster 2 : 3053 elements\n",
      "Number exemple: 2000\n",
      "        - training set: 1600\n",
      "        - test set: 400\n",
      "Number of features: p=50\n",
      "Number of class: 2\n",
      "class 0 : 35.0%\n",
      "class 1 : 65.0%\n",
      "Optimal values are {'max_depth': 16, 'n_estimators': 128} \n",
      "cross validation score 80.75%\n",
      "\n",
      "cluster 4 : 2359 elements\n",
      "Number exemple: 2000\n",
      "        - training set: 1600\n",
      "        - test set: 400\n",
      "Number of features: p=50\n",
      "Number of class: 2\n",
      "class 0 : 35.0%\n",
      "class 1 : 65.0%\n",
      "Optimal values are {'max_depth': 16, 'n_estimators': 128} \n",
      "cross validation score 84.06%\n",
      "\n",
      "cluster 6 : 2313 elements\n",
      "Number exemple: 2000\n",
      "        - training set: 1600\n",
      "        - test set: 400\n",
      "Number of features: p=50\n",
      "Number of class: 2\n",
      "class 0 : 35.0%\n",
      "class 1 : 65.0%\n",
      "Optimal values are {'max_depth': 32, 'n_estimators': 32} \n",
      "cross validation score 82.75%\n",
      "\n",
      "cluster 1 : 528 elements\n",
      "Number exemple: 505\n",
      "        - training set: 404\n",
      "        - test set: 101\n",
      "Number of features: p=50\n",
      "Number of class: 2\n",
      "class 0 : 35.0%\n",
      "class 1 : 65.0%\n",
      "Optimal values are {'max_depth': 16, 'n_estimators': 64} \n",
      "cross validation score 82.67%\n",
      "\n",
      "cluster 3 : 1384 elements\n",
      "Number exemple: 1367\n",
      "        - training set: 1093\n",
      "        - test set: 274\n",
      "Number of features: p=50\n",
      "Number of class: 2\n",
      "class 0 : 35.0%\n",
      "class 1 : 65.0%\n",
      "Optimal values are {'max_depth': 16, 'n_estimators': 128} \n",
      "cross validation score 86.18%\n",
      "\n",
      "cluster 5 : 1494 elements\n",
      "Number exemple: 1472\n",
      "        - training set: 1177\n",
      "        - test set: 295\n",
      "Number of features: p=50\n",
      "Number of class: 2\n",
      "class 0 : 35.0%\n",
      "class 1 : 65.0%\n",
      "Optimal values are {'max_depth': 16, 'n_estimators': 32} \n",
      "cross validation score 83.86%\n",
      "\n"
     ]
    }
   ],
   "source": [
    "score_clustering_methods = []\n",
    "clustering_methods = clustTest1.columns[2:3]\n",
    "\n",
    "for method in clustering_methods:\n",
    "    print(\"--------------------------------------------\")\n",
    "    print(f\"\\nAnalysis cluster method {method}\")\n",
    "    cluster_list = clustTest1[method].unique()\n",
    "    print(f\"liste of clusters : {cluster_list}\")\n",
    "    score_cluster = []\n",
    "    for cluster in cluster_list:\n",
    "        index_scope = clustTest1.loc[clustTest1[method]==cluster,:].index\n",
    "        print(f\"cluster {cluster} : {len(index_scope)} elements\")\n",
    "        \n",
    "        Xc = X.loc[index_scope.intersection(X.index),:]\n",
    "        yc = y[index_scope.intersection(X.index)]\n",
    "        \n",
    "        Xs, ys = resample(Xc, yc, random_state=42)\n",
    "        \n",
    "        Xs = Xs.iloc[0:n_max,:]\n",
    "        ys = ys.iloc[0:n_max]\n",
    "        \n",
    "        X_train, X_test, y_train, y_test = train_test_split(Xs, ys,\n",
    "                                                            test_size=0.2, \n",
    "                                                            random_state=42)\n",
    "\n",
    "        scaler = StandardScaler().fit(X_train)\n",
    "        X_train = scaler.transform(X_train)\n",
    "        X_test = scaler.transform(X_test)\n",
    "                \n",
    "        print(f\"Number exemple: {ys.shape[0]}\\n\\\n",
    "        - training set: {y_train.shape[0]}\\n\\\n",
    "        - test set: {y_test.shape[0]}\")\n",
    "        print(f\"Number of features: p={X_train.shape[1]}\")\n",
    "        print(f\"Number of class: {len(np.unique(y))}\")\n",
    "        for c in np.unique(y):\n",
    "            print(f\"class {c:0.0f} : {100*np.sum(y==c)/len(y):0.1f}%\")\n",
    "            \n",
    "            \n",
    "        startTime = time.time()\n",
    "        clf = RandomForestClassifier(**params)\n",
    "        grid = GridSearchCV(clf, \n",
    "                            scoring='accuracy', \n",
    "                            param_grid=param_grid)\n",
    "\n",
    "        grid.fit(X_train, y_train)\n",
    "        print(f\"Optimal values are {grid.best_params_} \\n\\\n",
    "cross validation score {100*grid.best_score_:0.2f}%\")\n",
    "        print()\n",
    "\n",
    "        # Learning on full training set with optimals hyperparameters and score on test set\n",
    "        params_opt = {'max_features' :'sqrt', 'random_state' : 32, \n",
    "                      'min_samples_split' : 2, 'class_weight' : 'balanced',\n",
    "                      'n_estimators' : grid.best_params_['n_estimators'],\n",
    "                      'max_depth' : grid.best_params_['max_depth']}\n",
    "        clf = RandomForestClassifier(**params_opt).fit(X_train, y_train)\n",
    "\n",
    "            \n",
    "        y_test_pred = clf.predict(X_test)\n",
    "        accuracy = clf.score(X_test, y_test)\n",
    "        f1 = f1_score(y_test, y_test_pred)\n",
    "        p = precision_score(y_test, y_test_pred)\n",
    "        r = recall_score(y_test, y_test_pred)            \n",
    "\n",
    "        res  = {'f1_score' : f1,\n",
    "                'accuracy' : accuracy,\n",
    "                'precision' : p,\n",
    "                'recall' : r}\n",
    "            \n",
    "        cl = {'cluster' : cluster,\n",
    "              'size' : len(index_scope),\n",
    "              'model' : 'RandomForestClassifier',\n",
    "              'params' : params_opt,\n",
    "              'metrics' : res\n",
    "             }\n",
    "         \n",
    "        score_cluster.append(cl)\n",
    "        \n",
    "    d = {'clustering_method' : method,\n",
    "         'cluster_scores' : score_cluster\n",
    "        }\n",
    "    score_clustering_methods.append(d) "
   ]
  },
  {
   "cell_type": "markdown",
   "metadata": {},
   "source": [
    "### Performance gain obtained using clustering"
   ]
  },
  {
   "cell_type": "code",
   "execution_count": 12,
   "metadata": {
    "scrolled": true
   },
   "outputs": [
    {
     "name": "stdout",
     "output_type": "stream",
     "text": [
      "method clust3:\n",
      "cluster 2 (3053), f1 macro 88.8%\n",
      "cluster 4 (2359), f1 macro 92.9%\n",
      "cluster 6 (2313), f1 macro 93.0%\n",
      "cluster 1 (528), f1 macro 89.1%\n",
      "cluster 3 (1384), f1 macro 92.3%\n",
      "cluster 5 (1494), f1 macro 87.7%\n",
      "average f1 on clusters 90.8% gain 9.9\n",
      "\n"
     ]
    }
   ],
   "source": [
    "# F1 score\n",
    "for score_method in score_clustering_methods:\n",
    "    print(f\"method {score_method['clustering_method']}:\")\n",
    "    average_score = 0\n",
    "    total_size = 0\n",
    "    for i, score_cluster in enumerate(score_method['cluster_scores']):\n",
    "        print(f\"cluster {score_cluster['cluster']} ({score_cluster['size']}), f1 macro {100*score_cluster['metrics']['f1_score']:0.1f}%\")  \n",
    "        average_score += score_cluster['metrics']['f1_score']*score_cluster['size']\n",
    "        total_size += score_cluster['size']\n",
    "        \n",
    "    average_score = average_score / total_size\n",
    "    print(f\"average f1 on clusters {100*average_score:0.1f}% gain {100*(average_score-res_full['f1_score']):0.1f}\\n\")  "
   ]
  },
  {
   "cell_type": "code",
   "execution_count": 13,
   "metadata": {},
   "outputs": [
    {
     "name": "stdout",
     "output_type": "stream",
     "text": [
      "method clust3:\n",
      "cluster 2 (3053) , accuracy 84.2%\n",
      "cluster 4 (2359) , accuracy 89.5%\n",
      "cluster 6 (2313) , accuracy 89.8%\n",
      "cluster 1 (528) , accuracy 90.1%\n",
      "cluster 3 (1384) , accuracy 88.7%\n",
      "cluster 5 (1494) , accuracy 85.4%\n",
      "average accuracy on clusters 87.5% gain 14.2\n",
      "\n"
     ]
    }
   ],
   "source": [
    "# accuracy\n",
    "for score_method in score_clustering_methods:\n",
    "    print(f\"method {score_method['clustering_method']}:\")\n",
    "    average_score = 0\n",
    "    total_size = 0\n",
    "    for i, score_cluster in enumerate(score_method['cluster_scores']):\n",
    "        print(f\"cluster {score_cluster['cluster']} ({score_cluster['size']}) , accuracy {100*score_cluster['metrics']['accuracy']:0.1f}%\")  \n",
    "        average_score = average_score + score_cluster['metrics']['accuracy']*score_cluster['size']\n",
    "        total_size += score_cluster['size']\n",
    "    average_score = average_score / total_size\n",
    "    print(f\"average accuracy on clusters {100*average_score:0.1f}% gain {100*(average_score-res_full['accuracy']):0.1f}\\n\")  "
   ]
  },
  {
   "cell_type": "markdown",
   "metadata": {
    "collapsed": true
   },
   "source": [
    "### Feature importance of the models & actionable variables"
   ]
  },
  {
   "cell_type": "code",
   "execution_count": null,
   "metadata": {
    "collapsed": true
   },
   "outputs": [],
   "source": []
  },
  {
   "cell_type": "code",
   "execution_count": null,
   "metadata": {
    "collapsed": true
   },
   "outputs": [],
   "source": []
  },
  {
   "cell_type": "code",
   "execution_count": null,
   "metadata": {
    "collapsed": true
   },
   "outputs": [],
   "source": []
  }
 ],
 "metadata": {
  "kernelspec": {
   "display_name": "Python 3",
   "language": "python",
   "name": "python3"
  },
  "language_info": {
   "codemirror_mode": {
    "name": "ipython",
    "version": 3
   },
   "file_extension": ".py",
   "mimetype": "text/x-python",
   "name": "python",
   "nbconvert_exporter": "python",
   "pygments_lexer": "ipython3",
   "version": "3.6.3"
  }
 },
 "nbformat": 4,
 "nbformat_minor": 2
}
