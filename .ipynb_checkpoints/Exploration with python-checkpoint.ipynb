{
 "cells": [
  {
   "cell_type": "markdown",
   "metadata": {},
   "source": [
    "# CDV study - data analysis"
   ]
  },
  {
   "cell_type": "code",
   "execution_count": 1,
   "metadata": {
    "collapsed": true
   },
   "outputs": [],
   "source": [
    "from pathlib import Path\n",
    "import pandas as pd\n",
    "import numpy as np\n",
    "import matplotlib.pyplot as plt\n",
    "%matplotlib inline\n",
    "#%pylab inline"
   ]
  },
  {
   "cell_type": "code",
   "execution_count": 2,
   "metadata": {
    "collapsed": true
   },
   "outputs": [],
   "source": [
    "path_project = Path.home() / Path('Google Drive/Felix')\n",
    "path_data = path_project / Path(\"data\")"
   ]
  },
  {
   "cell_type": "code",
   "execution_count": 3,
   "metadata": {
    "collapsed": true
   },
   "outputs": [],
   "source": [
    "# loading cdv data\n",
    "file = path_data / Path(\"felix.csv\")\n",
    "with Path.open(file, 'rb') as fp:\n",
    "    cdv = pd.read_csv(fp,  encoding='cp1252',low_memory=False)"
   ]
  },
  {
   "cell_type": "code",
   "execution_count": 4,
   "metadata": {},
   "outputs": [
    {
     "name": "stdout",
     "output_type": "stream",
     "text": [
      "<class 'pandas.core.frame.DataFrame'>\n",
      "RangeIndex: 11131 entries, 0 to 11130\n",
      "Columns: 354 entries, INTER6 to an_nais\n",
      "dtypes: float64(47), int64(15), object(292)\n",
      "memory usage: 30.1+ MB\n"
     ]
    }
   ],
   "source": [
    "cdv.info()"
   ]
  },
  {
   "cell_type": "code",
   "execution_count": 5,
   "metadata": {
    "collapsed": true
   },
   "outputs": [],
   "source": [
    "# loadind cdv data without format\n",
    "file = path_data / Path(\"felix_ssfmt.csv\")\n",
    "with Path.open(file, 'rb') as fp:\n",
    "    cdv_ssfmt = pd.read_csv(fp,  encoding='cp1252',low_memory=False)"
   ]
  },
  {
   "cell_type": "code",
   "execution_count": 6,
   "metadata": {},
   "outputs": [
    {
     "data": {
      "text/plain": [
       "(11131, 354)"
      ]
     },
     "execution_count": 6,
     "metadata": {},
     "output_type": "execute_result"
    }
   ],
   "source": [
    "cdv_ssfmt.shape"
   ]
  },
  {
   "cell_type": "markdown",
   "metadata": {},
   "source": [
    "## 1) Dataset Size and missing values analysis\n",
    "### a) First anlysis regarless of the year of teh study"
   ]
  },
  {
   "cell_type": "code",
   "execution_count": 7,
   "metadata": {},
   "outputs": [
    {
     "name": "stdout",
     "output_type": "stream",
     "text": [
      "Number of records: 11131\n",
      "Number of variables: 354\n"
     ]
    }
   ],
   "source": [
    "print(f\"Number of records: {cdv.shape[0]}\")\n",
    "print(f\"Number of variables: {cdv.shape[1]}\")"
   ]
  },
  {
   "cell_type": "code",
   "execution_count": 8,
   "metadata": {},
   "outputs": [
    {
     "name": "stdout",
     "output_type": "stream",
     "text": [
      "List of 354 variables names:\n",
      "\n",
      "INTER6 INTER ANNEEFUZ ANNEFUZ2 COLLECTE CHAMP POND identifiant SEXE AGE5 PCSENQ8 TYPOSQT DIPL4 AGGLO5 UDA10 SITUEMP3 AGEDIP2 DPT COMINSEE AGGLO9 AGE DIPLOME EXERCPRO SITUEMP SITUEMP5 SITUEMP6 SALCOMP TYPEMPL INTERIM TYPCONT TEMPSTRA nbheures NBHEUR39 NBHEUR35 PREFPALI SALCOMPI CHERCHEM IMAGTRAV COUPLE STATMAT STATMAT4 ACTCONJ SALCOMPC ENFANTS NBENF NBENF6 FAMILLE UNIONGAY ADOPTGAY TRAVFEM NB0003 NB0306 NB0610 NB1016 NB1620 NB2099 NB03_4 NB06_4 NB10_4 NB16_4 NB20_4 NB99_4 NB03_2 NB06_2 NB10_2 NB16_2 NB20_2 NB99_2 SITUFAM RESIDALT NBPIECES NBPIECE6 LOGSUFFI STATLOGB STATLOG4 DEPLOG DEPLOG3 CADVIE CADVIE3 SECURITE SECUR3 MODCHAUF TYPCHAUF VOITURE CONDUIT CHOIXNUC SENSIENV TAXENV HANDICAP SOUFFTET SOUFFDOS SOUFFNER SOUFFDEP SOUFFINS ETATSAN LIMVIAND WHYLIM ADNSTIC ADNCB ADNORDI ROBOT1 ROBOT2 ROBOT3 NBPERS NBPERS5 SEXE_2 SEXE_3 SEXE_4 SEXE_5 SEXE_6 SEXE_7 SEXE_8 SEXE_9 AGE_2 AGE_3 AGE_4 AGE_5 AGE_6 AGE_7 AGE_8 AGE_9 LIEN_2 LIEN_3 LIEN_4 LIEN_5 LIEN_6 LIEN_7 LIEN_8 LIEN_9 PRESTCAF REVPF RESTRICT RE_MEDI RE_VOIT RE_EQUI RE_ALIM RE_VAC RE_HABI RE_LOG RE_ENF RE_TABAL RE_WEB NIVPERSO NIVPERS4 NIVFRAN NIVFRAN4 CDV5 CDV5_4 NBCHOM BANQMOB BANQEPA BANQVIE INNOVTEC TELMOB PRATCOLL CONFWEB VACANCES VISITFAM RECEP YOGA FREQSPOR FREQBIBL FREQCINE FREQTELE ASSOSPOR ASSOCULT ASSOCONF ASSOJEUN ASSOSYND ASSOENVI ASSOPARE ASSOCONS ASSOPOLI ASSOHUMA ASSOAUTR ASSO11_2 ASSO11_3 ASSO6_2 ASSO10_2 ASSO10_3 HARVEY AIDESUFF EFFORTPP RAISPAUV CHOAVANT CHOVOLON OPIRSA JUSTICE RELEG CONFPUB CONFENTR CONFASSO CONFPOLI CONFBANK CONFPRES CONFECOL CONFKEUF TRANSFST TRANSFO5 PROGRAD RADIQUOI RADWHY1 RADWHY2 RADWHY3 RADWHY4 RADWHY5 RADWHY6 RADWHY7 RADWHY8 RADWHY9 RADWHY10 RADWHY11 RADWHY12 RADWHY13 RADWHY14 ORDLIB CONFMEFI PREOCCU1 PREOCCU2 PREOCHOM PREOMALA PREOENV PREOPAUF PREOPAUM PREODROG PREOVIO PREOTENS PREOCONF PREOIMMI PREOEURO RADI1 RADI2 RADI3 OPICULT COMMU1 COMMU2 COMMU3 COMMU4 COMMU5 COMMU6 COMMU7 COMMU8 MONDIAL INQMALAD INQMALA3 INQAGRES INQAGRE3 INQROUTE INQROUT3 INQCHOMA INQCHOM3 INQGUERR INQGUER3 INQNUCLE INQNUCL3 INQALIM INQALIM3 INQ4SUR6 CLASSESO ISEGO NOT_FAMI NOT_PROF NOT_AMIS NOT_COHE NOT_POLI NOT_LIBR NOT_LOG NOT_CAD HEUREUX CONFGOUV ECHPOL OPIIMMIG RELIGION REVENQ REVCONJ REVAUON REVAUTR AUTREREV REV_TR7 REVTOT revtot7 NBUC REVUC REVsqt decuc decsqt TYPOCLAS TYPLOG2 AGESEX12 PCSENQ36 PCSCONJ PCSENQ35 PCSENQ32 PCSENQ24 PCSENQ15 PCSENQ13 PCSENQ10 PCSENQ9 PCSENQ7 PCSCON7 ACM1 ACM2 ACM3 ACM4 ACM5 ACM6 ACM7 ACM8 ACM9 ACM10 ACM11 ACM12 UDA23 UDA14 statut99 RURAURBA zau1999 zau2010 typodeg popdense popinter poppeud poptrpeu agedip AUTREAL age_OW UDA5 CSP6 CP TYPLOG inseel inseenum couple2 cpt AGE6 PCSRED10 prescaf refus2 info med i com type99 AGGLOINS DEPCOM pmun QUOTAAGE PRIVPUB interim2 EMP7 typcont2 REVTOT6 an_enq an_nais\n"
     ]
    }
   ],
   "source": [
    "print(f\"List of {cdv.shape[1]} variables names:\\n\")\n",
    "print(\" \".join(cdv.columns))"
   ]
  },
  {
   "cell_type": "code",
   "execution_count": 9,
   "metadata": {},
   "outputs": [
    {
     "name": "stdout",
     "output_type": "stream",
     "text": [
      "Number of lines without missing values : 0 out of 11131\n"
     ]
    }
   ],
   "source": [
    "print(f\"Number of lines without missing values : {cdv.dropna().shape[0]} out of {cdv.shape[0]}\")"
   ]
  },
  {
   "cell_type": "code",
   "execution_count": 10,
   "metadata": {
    "collapsed": true
   },
   "outputs": [],
   "source": [
    "number_missing_values_per_variable = np.sum(cdv.isnull()) "
   ]
  },
  {
   "cell_type": "code",
   "execution_count": 11,
   "metadata": {},
   "outputs": [
    {
     "name": "stdout",
     "output_type": "stream",
     "text": [
      "Number of missing values per variables :\n"
     ]
    },
    {
     "data": {
      "text/plain": [
       "prescaf     11130\n",
       "SEXE_9      11124\n",
       "AGE_9       11123\n",
       "LIEN_9      11123\n",
       "SEXE_8      11107\n",
       "LIEN_8      11106\n",
       "AGE_8       11106\n",
       "SEXE_7      11078\n",
       "AGE_7       11077\n",
       "LIEN_7      11076\n",
       "AUTREAL     10995\n",
       "SEXE_6      10920\n",
       "AGE_6       10909\n",
       "LIEN_6      10906\n",
       "SEXE_5      10300\n",
       "LIEN_5      10228\n",
       "AGE_5       10226\n",
       "RADIQUOI    10146\n",
       "RADWHY3      9959\n",
       "RADWHY9      9959\n",
       "RADWHY2      9959\n",
       "RADWHY4      9959\n",
       "RADWHY1      9959\n",
       "RADWHY7      9959\n",
       "RADWHY8      9959\n",
       "RADWHY5      9959\n",
       "RADWHY10     9959\n",
       "RADWHY11     9959\n",
       "RADWHY12     9959\n",
       "RADWHY13     9959\n",
       "            ...  \n",
       "age_OW       8115\n",
       "refus2       8115\n",
       "info         8115\n",
       "i            8115\n",
       "com          8115\n",
       "QUOTAAGE     8111\n",
       "interim2     7498\n",
       "PCSCONJ      7295\n",
       "SALCOMPC     7295\n",
       "SEXE_3       7152\n",
       "SALCOMPI     6804\n",
       "AGE_3        6665\n",
       "LIEN_3       6655\n",
       "TYPCONT      6055\n",
       "typcont2     5792\n",
       "PRIVPUB      5792\n",
       "INTERIM      5792\n",
       "TYPEMPL      5792\n",
       "SALCOMP      5242\n",
       "NBHEUR35     5242\n",
       "NBHEUR39     5242\n",
       "nbheures     5242\n",
       "PREFPALI     5242\n",
       "TEMPSTRA     5242\n",
       "NOT_CAD      5206\n",
       "NOT_LOG      5199\n",
       "poppeud      5134\n",
       "DEPCOM       5134\n",
       "popinter     5134\n",
       "typodeg      5134\n",
       "Length: 100, dtype: int64"
      ]
     },
     "execution_count": 11,
     "metadata": {},
     "output_type": "execute_result"
    }
   ],
   "source": [
    "print(\"Number of missing values per variables :\")\n",
    "number_missing_values_per_variable.sort_values(ascending=False).head(100)"
   ]
  },
  {
   "cell_type": "code",
   "execution_count": 12,
   "metadata": {},
   "outputs": [
    {
     "name": "stdout",
     "output_type": "stream",
     "text": [
      "Number of variables without missing values : 193 out of 354 variable\n",
      "Number of variables with at least one missing values : 161 out of 354 variable\n"
     ]
    }
   ],
   "source": [
    "n_complete = len(number_missing_values_per_variable[number_missing_values_per_variable == 0])\n",
    "n_uncomplete = len(number_missing_values_per_variable[number_missing_values_per_variable != 0])\n",
    "print(f\"Number of variables without missing values : {n_complete} out of {cdv.shape[1]} variable\")\n",
    "print(f\"Number of variables with at least one missing values : {n_uncomplete} out of {cdv.shape[1]} variable\")"
   ]
  },
  {
   "cell_type": "code",
   "execution_count": 13,
   "metadata": {},
   "outputs": [
    {
     "name": "stdout",
     "output_type": "stream",
     "text": [
      "List of 193 variables without missing values names:\n",
      "\n",
      "INTER6 INTER ANNEEFUZ ANNEFUZ2 COLLECTE CHAMP POND SEXE AGE5 PCSENQ8 TYPOSQT DIPL4 AGGLO5 UDA10 SITUEMP3 AGEDIP2 DPT COMINSEE AGGLO9 AGE DIPLOME EXERCPRO SITUEMP SITUEMP5 SITUEMP6 CHERCHEM STATMAT STATMAT4 ENFANTS NBENF6 FAMILLE UNIONGAY ADOPTGAY TRAVFEM NB0003 NB0306 NB0610 NB1016 NB1620 NB2099 NB03_4 NB06_4 NB10_4 NB16_4 NB20_4 NB99_4 NB03_2 NB06_2 NB10_2 NB16_2 NB20_2 NB99_2 NBPIECE6 LOGSUFFI STATLOG4 DEPLOG DEPLOG3 CADVIE CADVIE3 SECURITE SECUR3 MODCHAUF TYPCHAUF VOITURE CONDUIT CHOIXNUC TAXENV HANDICAP SOUFFTET SOUFFDOS SOUFFNER SOUFFDEP SOUFFINS ETATSAN NBPERS5 PRESTCAF RESTRICT NIVPERSO NIVPERS4 NIVFRAN NIVFRAN4 CDV5 CDV5_4 NBCHOM BANQMOB BANQEPA BANQVIE INNOVTEC TELMOB VACANCES FREQSPOR FREQBIBL FREQCINE FREQTELE ASSOSPOR ASSOCULT ASSOCONF ASSOJEUN ASSOSYND ASSOENVI ASSOPARE ASSOCONS ASSOPOLI ASSOHUMA ASSO11_2 ASSO11_3 ASSO6_2 ASSO10_2 ASSO10_3 AIDESUFF EFFORTPP RAISPAUV CHOAVANT CHOVOLON OPIRSA JUSTICE CONFPUB CONFENTR CONFASSO CONFPOLI TRANSFST TRANSFO5 ORDLIB PREOCCU1 PREOCCU2 PREOCHOM PREOMALA PREOENV PREOPAUF PREOPAUM PREODROG PREOVIO PREOTENS PREOCONF PREOIMMI PREOEURO INQMALAD INQMALA3 INQAGRES INQAGRE3 INQROUTE INQROUT3 INQCHOMA INQCHOM3 INQGUERR INQGUER3 INQNUCLE INQNUCL3 INQALIM INQALIM3 INQ4SUR6 CLASSESO HEUREUX CONFGOUV ECHPOL OPIIMMIG RELIGION REVENQ AUTREREV REV_TR7 revtot7 decuc decsqt TYPOCLAS TYPLOG2 AGESEX12 PCSENQ36 PCSENQ35 PCSENQ32 PCSENQ24 PCSENQ15 PCSENQ13 PCSENQ10 PCSENQ9 PCSENQ7 ACM1 ACM2 ACM3 ACM4 ACM5 ACM6 ACM7 ACM8 ACM9 ACM10 ACM11 ACM12 UDA23 UDA14 EMP7 REVTOT6 an_enq an_nais\n",
      "\n",
      "List of 161 variables with at least 1 missing values names:\n",
      "\n",
      "identifiant SALCOMP TYPEMPL INTERIM TYPCONT TEMPSTRA nbheures NBHEUR39 NBHEUR35 PREFPALI SALCOMPI IMAGTRAV COUPLE ACTCONJ SALCOMPC NBENF SITUFAM RESIDALT NBPIECES STATLOGB SENSIENV LIMVIAND WHYLIM ADNSTIC ADNCB ADNORDI ROBOT1 ROBOT2 ROBOT3 NBPERS SEXE_2 SEXE_3 SEXE_4 SEXE_5 SEXE_6 SEXE_7 SEXE_8 SEXE_9 AGE_2 AGE_3 AGE_4 AGE_5 AGE_6 AGE_7 AGE_8 AGE_9 LIEN_2 LIEN_3 LIEN_4 LIEN_5 LIEN_6 LIEN_7 LIEN_8 LIEN_9 REVPF RE_MEDI RE_VOIT RE_EQUI RE_ALIM RE_VAC RE_HABI RE_LOG RE_ENF RE_TABAL RE_WEB PRATCOLL CONFWEB VISITFAM RECEP YOGA ASSOAUTR HARVEY RELEG CONFBANK CONFPRES CONFECOL CONFKEUF PROGRAD RADIQUOI RADWHY1 RADWHY2 RADWHY3 RADWHY4 RADWHY5 RADWHY6 RADWHY7 RADWHY8 RADWHY9 RADWHY10 RADWHY11 RADWHY12 RADWHY13 RADWHY14 CONFMEFI RADI1 RADI2 RADI3 OPICULT COMMU1 COMMU2 COMMU3 COMMU4 COMMU5 COMMU6 COMMU7 COMMU8 MONDIAL ISEGO NOT_FAMI NOT_PROF NOT_AMIS NOT_COHE NOT_POLI NOT_LIBR NOT_LOG NOT_CAD REVCONJ REVAUON REVAUTR REVTOT NBUC REVUC REVsqt PCSCONJ PCSCON7 statut99 RURAURBA zau1999 zau2010 typodeg popdense popinter poppeud poptrpeu agedip AUTREAL age_OW UDA5 CSP6 CP TYPLOG inseel inseenum couple2 cpt AGE6 PCSRED10 prescaf refus2 info med i com type99 AGGLOINS DEPCOM pmun QUOTAAGE PRIVPUB interim2 typcont2\n"
     ]
    }
   ],
   "source": [
    "complete_variables = number_missing_values_per_variable[number_missing_values_per_variable == 0].index\n",
    "uncomplete_variables = number_missing_values_per_variable[number_missing_values_per_variable != 0].index\n",
    "print(f\"List of {n_complete} variables without missing values names:\\n\")\n",
    "print(\" \".join(complete_variables))\n",
    "print(f\"\\nList of {n_uncomplete} variables with at least 1 missing values names:\\n\")\n",
    "print(\" \".join(uncomplete_variables))"
   ]
  },
  {
   "cell_type": "code",
   "execution_count": 14,
   "metadata": {},
   "outputs": [
    {
     "data": {
      "image/png": "[encoded data removed]",
      "text/plain": [
       "<matplotlib.figure.Figure at 0x10e62f860>"
      ]
     },
     "metadata": {},
     "output_type": "display_data"
    }
   ],
   "source": [
    "fig=plt.figure()\n",
    "plt.title(\"Histogram of missing values for the 161 variables\\nhaving at least 1 missing value\")\n",
    "plt.ylabel(u'Number of variables')\n",
    "plt.xlabel(\"Number of mising values\")\n",
    "bins = np.linspace(0, 12000,50)\n",
    "plt.hist(number_missing_values_per_variable[uncomplete_variables], bins, facecolor='g', alpha=0.8)\n",
    "plt.grid()"
   ]
  },
  {
   "cell_type": "code",
   "execution_count": 20,
   "metadata": {},
   "outputs": [
    {
     "data": {
      "text/plain": [
       "NOT_FAMI     89\n",
       "NOT_PROF    125\n",
       "NOT_AMIS    102\n",
       "NOT_COHE    120\n",
       "NOT_POLI    132\n",
       "NOT_LIBR    123\n",
       "NOT_LOG     104\n",
       "NOT_CAD     111\n",
       "ANNEEFUZ      0\n",
       "INTER6        0\n",
       "dtype: int64"
      ]
     },
     "execution_count": 20,
     "metadata": {},
     "output_type": "execute_result"
    }
   ],
   "source": [
    "np.sum(cdv1718.isnull())"
   ]
  },
  {
   "cell_type": "code",
   "execution_count": 21,
   "metadata": {},
   "outputs": [
    {
     "data": {
      "text/plain": [
       "(6036, 10)"
      ]
     },
     "execution_count": 21,
     "metadata": {},
     "output_type": "execute_result"
    }
   ],
   "source": [
    "cdv1718.shape"
   ]
  },
  {
   "cell_type": "code",
   "execution_count": null,
   "metadata": {},
   "outputs": [],
   "source": []
  },
  {
   "cell_type": "code",
   "execution_count": null,
   "metadata": {},
   "outputs": [],
   "source": []
  },
  {
   "cell_type": "markdown",
   "metadata": {},
   "source": [
    "### b) Year of realisation of the study and missing values\n",
    "Variables **ANNEEFUZ** & **ANNEFUZ2** seems equivalent   \n",
    "\n",
    "***According to the authors of the study : ***   \n",
    "En **2015**, l’enquête a été menée à la fois en face-à-face (**2 000 personnes** interrogées) et aussi online (2 000 personnes également) tous **âgés de 18 ans et plus**, résidant en **France métropolitaine (hors Corse)**.\n",
    "Seuls les 2000 enregistrements correspondants à l'énquête online sont présents dans le dataset.   \n",
    "**A partir de 2016**, le mode de collecte est passé en ligne et on interroge désormais **3 000 individus âgés de 15 ans et plus en France entière** (France métropolitaine, Corse et DOM-TOM).   \n"
   ]
  },
  {
   "cell_type": "code",
   "execution_count": 22,
   "metadata": {},
   "outputs": [
    {
     "data": {
      "text/plain": [
       "array([2015, 2016, 2017, 2018])"
      ]
     },
     "execution_count": 22,
     "metadata": {},
     "output_type": "execute_result"
    }
   ],
   "source": [
    "cdv[\"ANNEEFUZ\"].unique()"
   ]
  },
  {
   "cell_type": "code",
   "execution_count": 23,
   "metadata": {},
   "outputs": [
    {
     "data": {
      "text/plain": [
       "array(['2015 online', '2016', '2017', '2018'], dtype=object)"
      ]
     },
     "execution_count": 23,
     "metadata": {},
     "output_type": "execute_result"
    }
   ],
   "source": [
    "cdv[\"ANNEFUZ2\"].unique()"
   ]
  },
  {
   "cell_type": "code",
   "execution_count": 24,
   "metadata": {},
   "outputs": [
    {
     "name": "stdout",
     "output_type": "stream",
     "text": [
      "Number of records per year 'ANNEEFUZ':\n"
     ]
    },
    {
     "data": {
      "text/plain": [
       "2016    3050\n",
       "2017    3020\n",
       "2018    3016\n",
       "2015    2045\n",
       "Name: ANNEEFUZ, dtype: int64"
      ]
     },
     "execution_count": 24,
     "metadata": {},
     "output_type": "execute_result"
    }
   ],
   "source": [
    "nb_enregistrements_anneefuz =  cdv[\"ANNEEFUZ\"].value_counts().sort_values(ascending = False)\n",
    "print(\"Number of records per year 'ANNEEFUZ':\")\n",
    "nb_enregistrements_anneefuz"
   ]
  },
  {
   "cell_type": "code",
   "execution_count": 25,
   "metadata": {},
   "outputs": [
    {
     "name": "stdout",
     "output_type": "stream",
     "text": [
      "Number of records per year 'ANNEFUZ2':\n"
     ]
    },
    {
     "data": {
      "text/plain": [
       "2016           3050\n",
       "2017           3020\n",
       "2018           3016\n",
       "2015 online    2045\n",
       "Name: ANNEFUZ2, dtype: int64"
      ]
     },
     "execution_count": 25,
     "metadata": {},
     "output_type": "execute_result"
    }
   ],
   "source": [
    "nb_enregistrements_annefuz2 =  cdv[\"ANNEFUZ2\"].value_counts()\n",
    "print(\"Number of records per year 'ANNEFUZ2':\")\n",
    "nb_enregistrements_annefuz2"
   ]
  },
  {
   "cell_type": "code",
   "execution_count": 26,
   "metadata": {},
   "outputs": [
    {
     "name": "stdout",
     "output_type": "stream",
     "text": [
      "['2015 online']\n",
      "[2015]\n"
     ]
    }
   ],
   "source": [
    "B =  cdv.ANNEEFUZ.astype(str)\n",
    "R = cdv.loc[B != cdv[\"ANNEFUZ2\"],[\"ANNEEFUZ\",\"ANNEFUZ2\"]]\n",
    "print(R[\"ANNEFUZ2\"].unique())\n",
    "print(R[\"ANNEEFUZ\"].unique())"
   ]
  },
  {
   "cell_type": "code",
   "execution_count": 27,
   "metadata": {},
   "outputs": [],
   "source": [
    "# number of missing value per variable for a given year\n",
    "na_2015 = np.sum(cdv.loc[cdv[\"ANNEEFUZ\"] == 2015].isnull()) \n",
    "na_2016 = np.sum(cdv.loc[cdv[\"ANNEEFUZ\"] == 2016].isnull()) \n",
    "na_2017 = np.sum(cdv.loc[cdv[\"ANNEEFUZ\"] == 2017].isnull()) \n",
    "na_2018 = np.sum(cdv.loc[cdv[\"ANNEEFUZ\"] == 2018].isnull()) "
   ]
  },
  {
   "cell_type": "code",
   "execution_count": 28,
   "metadata": {},
   "outputs": [],
   "source": [
    "complete_2015 = set(na_2015[na_2015==0].index)\n",
    "complete_2016 = set(na_2016[na_2016==0].index)\n",
    "complete_2017 = set(na_2017[na_2017==0].index)\n",
    "complete_2018 = set(na_2018[na_2018==0].index)"
   ]
  },
  {
   "cell_type": "code",
   "execution_count": 29,
   "metadata": {},
   "outputs": [
    {
     "name": "stdout",
     "output_type": "stream",
     "text": [
      "Number of variable without any missing values in 2015: 199\n",
      "Number of variable without any missing values in 2016: 224\n",
      "Number of variable without any missing values in 2017: 224\n",
      "Number of variable without any missing values in 2018: 257\n"
     ]
    }
   ],
   "source": [
    "print(f\"Number of variable without any missing values in 2015: {len(complete_2015)}\")\n",
    "print(f\"Number of variable without any missing values in 2016: {len(complete_2017)}\")\n",
    "print(f\"Number of variable without any missing values in 2017: {len(complete_2017)}\")\n",
    "print(f\"Number of variable without any missing values in 2018: {len(complete_2018)}\")"
   ]
  },
  {
   "cell_type": "code",
   "execution_count": 30,
   "metadata": {
    "collapsed": true
   },
   "outputs": [],
   "source": [
    "missing_2015 = set(na_2015[na_2015==2045].index)\n",
    "missing_2016 = set(na_2016[na_2016==3050].index)\n",
    "missing_2017 = set(na_2017[na_2017==3020].index)\n",
    "missing_2018 = set(na_2018[na_2018==3016].index)"
   ]
  },
  {
   "cell_type": "code",
   "execution_count": 31,
   "metadata": {},
   "outputs": [
    {
     "name": "stdout",
     "output_type": "stream",
     "text": [
      "Number of variable totally missing in 2015: 82\n",
      "Number of variable totally missing in 2016: 73\n",
      "Number of variable totally missing in 2017: 56\n",
      "Number of variable totally missing in 2018: 1\n"
     ]
    }
   ],
   "source": [
    "print(f\"Number of variable totally missing in 2015: {len(missing_2015)}\")\n",
    "print(f\"Number of variable totally missing in 2016: {len(missing_2016)}\")\n",
    "print(f\"Number of variable totally missing in 2017: {len(missing_2017)}\")\n",
    "print(f\"Number of variable totally missing in 2018: {len(missing_2018)}\")"
   ]
  },
  {
   "cell_type": "code",
   "execution_count": 32,
   "metadata": {},
   "outputs": [],
   "source": [
    "full_scope = set(cdv.columns)\n",
    "scope_2015 = full_scope - missing_2015\n",
    "scope_2016 = full_scope - missing_2016\n",
    "scope_2017 = full_scope - missing_2017\n",
    "scope_2018 = full_scope - missing_2018"
   ]
  },
  {
   "cell_type": "code",
   "execution_count": 33,
   "metadata": {},
   "outputs": [
    {
     "name": "stdout",
     "output_type": "stream",
     "text": [
      "Number of variable used 2015: 272\n",
      "Number of variable used 2016: 281\n",
      "Number of variable used 2017: 298\n",
      "Number of variable used 2018: 353\n"
     ]
    }
   ],
   "source": [
    "print(f\"Number of variable used 2015: {len(scope_2015)}\")\n",
    "print(f\"Number of variable used 2016: {len(scope_2016)}\")\n",
    "print(f\"Number of variable used 2017: {len(scope_2017)}\")\n",
    "print(f\"Number of variable used 2018: {len(scope_2018)}\")"
   ]
  },
  {
   "cell_type": "markdown",
   "metadata": {},
   "source": [
    "**Synthesis of variable evolution over the period**"
   ]
  },
  {
   "cell_type": "code",
   "execution_count": 34,
   "metadata": {},
   "outputs": [
    {
     "name": "stdout",
     "output_type": "stream",
     "text": [
      "2016 vs 2015\n",
      "\tNew variable (13):\n",
      "COUPLE PRATCOLL OPICULT CONFMEFI CONFWEB CONFBANK CONFKEUF AGE6 inseel STATLOGB CONFPRES AGGLOINS CONFECOL\n",
      "\tVariable dropped (4):\n",
      "MONDIAL RECEP VISITFAM REVAUON\n",
      "\n",
      "2017 vs 2016\n",
      "\tNew variable (17):\n",
      "typodeg ISEGO popdense popinter REVAUON poppeud PCSRED10 poptrpeu type99 QUOTAAGE RECEP MONDIAL NOT_CAD NOT_LOG DEPCOM VISITFAM pmun\n",
      "\tVariable dropped (0):\n",
      "\n",
      "\n",
      "2018 vs 2017\n",
      "\tNew variable (56):\n",
      "RADWHY2 COMMU1 RADWHY12 RADWHY11 RADI3 ADNORDI ROBOT1 HARVEY com RADIQUOI UDA5 RADWHY9 COMMU5 COMMU3 TYPLOG refus2 COMMU2 RADWHY4 ADNSTIC WHYLIM prescaf i agedip identifiant COMMU4 RADWHY3 age_OW inseenum COMMU6 ADNCB RADI1 LIMVIAND RADWHY1 info ROBOT3 IMAGTRAV RADWHY14 AUTREAL cpt RADWHY13 CP RADI2 COMMU8 RADWHY10 RADWHY7 RELEG CSP6 RADWHY6 COMMU7 RADWHY8 RESIDALT YOGA couple2 RADWHY5 ROBOT2 med\n",
      "\tVariable dropped (1):\n",
      "QUOTAAGE\n"
     ]
    }
   ],
   "source": [
    "print(f\"2016 vs 2015\\n\\tNew variable ({len(scope_2016 - scope_2015)}):\")\n",
    "print(\" \".join(scope_2016 - scope_2015))\n",
    "print(f\"\\tVariable dropped ({len(scope_2015 - scope_2016)}):\")\n",
    "print(\" \".join(scope_2015 - scope_2016))\n",
    "print(f\"\\n2017 vs 2016\\n\\tNew variable ({len(scope_2017 - scope_2016)}):\")\n",
    "print(\" \".join(scope_2017 - scope_2016))\n",
    "print(f\"\\tVariable dropped ({len(scope_2016 - scope_2017)}):\")\n",
    "print(\" \".join(scope_2016 - scope_2017))\n",
    "print(f\"\\n2018 vs 2017\\n\\tNew variable ({len(scope_2018 - scope_2017)}):\")\n",
    "print(\" \".join(scope_2018 - scope_2017))\n",
    "print(f\"\\tVariable dropped ({len(scope_2017 - scope_2018)}):\")\n",
    "print(\" \".join(scope_2017 - scope_2018))"
   ]
  },
  {
   "cell_type": "code",
   "execution_count": 35,
   "metadata": {},
   "outputs": [
    {
     "data": {
      "image/png": "[encoded data removed]",
      "text/plain": [
       "<matplotlib.figure.Figure at 0x11055d128>"
      ]
     },
     "metadata": {},
     "output_type": "display_data"
    }
   ],
   "source": [
    "number_missing_values_per_variable_2015 = np.sum(cdv.loc[cdv[\"ANNEEFUZ\"]==2015].isnull()) \n",
    "fig=plt.figure()\n",
    "plt.title(\"Histogram of missing values on 2015 scope\")\n",
    "plt.ylabel(u'Number of variables')\n",
    "plt.xlabel(\"Number of mising values\")\n",
    "bins = np.linspace(0, 2050,10)\n",
    "plt.hist(number_missing_values_per_variable_2015[scope_2015 - complete_2015], bins, facecolor='g', alpha=0.8)\n",
    "plt.grid()"
   ]
  },
  {
   "cell_type": "code",
   "execution_count": 36,
   "metadata": {},
   "outputs": [
    {
     "data": {
      "text/plain": [
       "AGE_9       2043\n",
       "LIEN_9      2043\n",
       "SEXE_9      2043\n",
       "LIEN_8      2040\n",
       "SEXE_8      2040\n",
       "AGE_8       2040\n",
       "LIEN_7      2038\n",
       "AGE_7       2038\n",
       "SEXE_7      2038\n",
       "AGE_6       2014\n",
       "LIEN_6      2014\n",
       "SEXE_6      2014\n",
       "AGE_5       1886\n",
       "SEXE_5      1886\n",
       "LIEN_5      1886\n",
       "REVAUTR     1715\n",
       "AGE_4       1601\n",
       "LIEN_4      1601\n",
       "SEXE_4      1601\n",
       "interim2    1405\n",
       "PCSCONJ     1321\n",
       "SALCOMPC    1321\n",
       "SEXE_3      1289\n",
       "AGE_3       1289\n",
       "LIEN_3      1289\n",
       "SALCOMPI    1236\n",
       "TYPCONT     1089\n",
       "PRIVPUB     1063\n",
       "INTERIM     1063\n",
       "TYPEMPL     1063\n",
       "            ... \n",
       "RE_MEDI      794\n",
       "RE_WEB       794\n",
       "RE_VOIT      794\n",
       "RE_LOG       794\n",
       "ACTCONJ      737\n",
       "REVCONJ      737\n",
       "NBENF        687\n",
       "AGE_2        400\n",
       "LIEN_2       400\n",
       "REVAUON      400\n",
       "SEXE_2       400\n",
       "PROGRAD      303\n",
       "zau1999      105\n",
       "statut99     105\n",
       "zau2010      103\n",
       "RURAURBA      93\n",
       "REVsqt        63\n",
       "REVUC         63\n",
       "REVTOT        57\n",
       "NOT_PROF      25\n",
       "SENSIENV      24\n",
       "NOT_AMIS      23\n",
       "NOT_COHE      23\n",
       "NOT_POLI      20\n",
       "NOT_LIBR      19\n",
       "NOT_FAMI      11\n",
       "SITUFAM        9\n",
       "NBPERS         9\n",
       "NBPIECES       9\n",
       "NBUC           9\n",
       "Length: 73, dtype: int64"
      ]
     },
     "execution_count": 36,
     "metadata": {},
     "output_type": "execute_result"
    }
   ],
   "source": [
    "number_missing_values_per_variable_2015[scope_2015 - complete_2015].sort_values(ascending=False)"
   ]
  },
  {
   "cell_type": "code",
   "execution_count": 37,
   "metadata": {},
   "outputs": [
    {
     "name": "stdout",
     "output_type": "stream",
     "text": [
      "List of variable with more than 75% missing values in 2015:\n",
      "\n",
      "AGE_9 SEXE_6 AGE_4 AGE_8 SEXE_5 LIEN_9 LIEN_6 REVAUTR SEXE_8 LIEN_5 SEXE_9 AGE_5 AGE_6 LIEN_7 LIEN_8 SEXE_4 AGE_7 SEXE_7 LIEN_4\n"
     ]
    }
   ],
   "source": [
    "print(\"List of variable with more than 75% missing values in 2015:\\n\")\n",
    "l = number_missing_values_per_variable_2015[scope_2015 - \n",
    "                                            complete_2015][number_missing_values_per_variable_2015 > 0.75*2045]\n",
    "print(\" \".join(l.index))"
   ]
  },
  {
   "cell_type": "code",
   "execution_count": 38,
   "metadata": {},
   "outputs": [
    {
     "data": {
      "image/png": "[encoded data removed]",
      "text/plain": [
       "<matplotlib.figure.Figure at 0x1106db8d0>"
      ]
     },
     "metadata": {},
     "output_type": "display_data"
    }
   ],
   "source": [
    "number_missing_values_per_variable_2016 = np.sum(cdv.loc[cdv[\"ANNEEFUZ\"]==2016].isnull()) \n",
    "fig=plt.figure()\n",
    "plt.title(\"Histogram of missing values on 2016 scope\")\n",
    "plt.ylabel(u'Number of variables')\n",
    "plt.xlabel(\"Number of mising values\")\n",
    "bins = np.linspace(0, 3050,10)\n",
    "plt.hist(number_missing_values_per_variable_2016[scope_2016 - complete_2016], bins, facecolor='g', alpha=0.8)\n",
    "plt.grid()"
   ]
  },
  {
   "cell_type": "code",
   "execution_count": 39,
   "metadata": {},
   "outputs": [
    {
     "data": {
      "text/plain": [
       "SEXE_9      3048\n",
       "AGE_9       3047\n",
       "LIEN_9      3047\n",
       "SEXE_8      3045\n",
       "LIEN_8      3044\n",
       "AGE_8       3044\n",
       "SEXE_7      3040\n",
       "AGE_7       3039\n",
       "LIEN_7      3038\n",
       "SEXE_6      3010\n",
       "AGE_6       2999\n",
       "LIEN_6      2996\n",
       "SEXE_5      2881\n",
       "LIEN_5      2809\n",
       "AGE_5       2807\n",
       "SEXE_4      2630\n",
       "SEXE_3      2388\n",
       "AGE_4       2355\n",
       "LIEN_4      2348\n",
       "REVAUTR     2164\n",
       "interim2    2120\n",
       "SALCOMPC    2079\n",
       "PCSCONJ     2079\n",
       "AGE_3       1901\n",
       "LIEN_3      1891\n",
       "SALCOMPI    1884\n",
       "SEXE_2      1804\n",
       "TYPCONT     1737\n",
       "typcont2    1677\n",
       "INTERIM     1677\n",
       "            ... \n",
       "REVCONJ     1376\n",
       "ACTCONJ     1340\n",
       "RE_VAC      1241\n",
       "RE_ALIM     1241\n",
       "RE_VOIT     1241\n",
       "RE_TABAL    1241\n",
       "RE_MEDI     1241\n",
       "RE_EQUI     1241\n",
       "RE_WEB      1241\n",
       "RE_ENF      1241\n",
       "RE_HABI     1241\n",
       "RE_LOG      1241\n",
       "NBENF       1178\n",
       "AGE_2        809\n",
       "LIEN_2       726\n",
       "PROGRAD      497\n",
       "inseel        95\n",
       "REVUC         74\n",
       "REVsqt        74\n",
       "REVTOT        74\n",
       "NOT_PROF      35\n",
       "NOT_COHE      34\n",
       "NOT_FAMI      33\n",
       "NOT_POLI      32\n",
       "NOT_AMIS      32\n",
       "NOT_LIBR      29\n",
       "PRATCOLL      27\n",
       "zau2010       18\n",
       "SENSIENV      15\n",
       "RURAURBA       4\n",
       "Length: 69, dtype: int64"
      ]
     },
     "execution_count": 39,
     "metadata": {},
     "output_type": "execute_result"
    }
   ],
   "source": [
    "number_missing_values_per_variable_2016[scope_2016 - complete_2016].sort_values(ascending=False)"
   ]
  },
  {
   "cell_type": "code",
   "execution_count": 40,
   "metadata": {},
   "outputs": [
    {
     "name": "stdout",
     "output_type": "stream",
     "text": [
      "List of variable with more than 75% missing values in 2016:\n",
      "\n",
      "AGE_9 AGE_4 SEXE_6 AGE_8 SEXE_5 LIEN_9 LIEN_6 SEXE_8 LIEN_5 SEXE_3 SEXE_9 AGE_5 AGE_6 LIEN_7 LIEN_8 SEXE_4 AGE_7 SEXE_7 LIEN_4\n"
     ]
    }
   ],
   "source": [
    "print(\"List of variable with more than 75% missing values in 2016:\\n\")\n",
    "l = number_missing_values_per_variable_2016[scope_2016 - \n",
    "                                            complete_2016][number_missing_values_per_variable_2016 > 0.75*3050]\n",
    "print(\" \".join(l.index))"
   ]
  },
  {
   "cell_type": "code",
   "execution_count": 41,
   "metadata": {},
   "outputs": [
    {
     "data": {
      "image/png": "[encoded data removed]",
      "text/plain": [
       "<matplotlib.figure.Figure at 0x10e67d860>"
      ]
     },
     "metadata": {},
     "output_type": "display_data"
    }
   ],
   "source": [
    "number_missing_values_per_variable_2017 = np.sum(cdv.loc[cdv[\"ANNEEFUZ\"]==2017].isnull()) \n",
    "fig=plt.figure()\n",
    "plt.title(\"Histogram of missing values on 2017 scope\")\n",
    "plt.ylabel(u'Number of variables')\n",
    "plt.xlabel(\"Number of mising values\")\n",
    "bins = np.linspace(0, 3050,10)\n",
    "plt.hist(number_missing_values_per_variable_2017[scope_2017 - complete_2017], bins, facecolor='g', alpha=0.8)\n",
    "plt.grid()"
   ]
  },
  {
   "cell_type": "code",
   "execution_count": 42,
   "metadata": {},
   "outputs": [
    {
     "data": {
      "text/plain": [
       "AGE_9       3018\n",
       "SEXE_9      3018\n",
       "LIEN_9      3018\n",
       "AGE_8       3013\n",
       "SEXE_8      3013\n",
       "LIEN_8      3013\n",
       "LIEN_7      2999\n",
       "SEXE_7      2999\n",
       "AGE_7       2999\n",
       "SEXE_6      2946\n",
       "AGE_6       2946\n",
       "LIEN_6      2946\n",
       "AGE_5       2775\n",
       "LIEN_5      2775\n",
       "SEXE_5      2775\n",
       "REVAUTR     2518\n",
       "SEXE_4      2278\n",
       "LIEN_4      2278\n",
       "AGE_4       2278\n",
       "interim2    1967\n",
       "PCSCONJ     1920\n",
       "SALCOMPC    1920\n",
       "SALCOMPI    1869\n",
       "SEXE_3      1715\n",
       "AGE_3       1715\n",
       "LIEN_3      1715\n",
       "TYPCONT     1590\n",
       "INTERIM     1523\n",
       "typcont2    1523\n",
       "PRIVPUB     1523\n",
       "            ... \n",
       "RE_EQUI     1327\n",
       "RE_ENF      1327\n",
       "RE_WEB      1327\n",
       "REVCONJ     1232\n",
       "ACTCONJ     1203\n",
       "NBENF       1063\n",
       "AGE_2        578\n",
       "SEXE_2       578\n",
       "LIEN_2       578\n",
       "PROGRAD      435\n",
       "inseel       119\n",
       "REVUC        105\n",
       "REVTOT       105\n",
       "REVsqt       105\n",
       "NOT_PROF      55\n",
       "NOT_LIBR      52\n",
       "NOT_POLI      47\n",
       "NOT_CAD       44\n",
       "NOT_LOG       43\n",
       "NOT_FAMI      39\n",
       "NOT_COHE      39\n",
       "NOT_AMIS      37\n",
       "DEPCOM        24\n",
       "typodeg       24\n",
       "pmun          24\n",
       "popdense      24\n",
       "poptrpeu      24\n",
       "poppeud       24\n",
       "popinter      24\n",
       "SENSIENV      15\n",
       "Length: 74, dtype: int64"
      ]
     },
     "execution_count": 42,
     "metadata": {},
     "output_type": "execute_result"
    }
   ],
   "source": [
    "number_missing_values_per_variable_2017[scope_2017 - complete_2017].sort_values(ascending=False)"
   ]
  },
  {
   "cell_type": "code",
   "execution_count": 43,
   "metadata": {},
   "outputs": [
    {
     "name": "stdout",
     "output_type": "stream",
     "text": [
      "List of variable with more than 75% missing values in 2017:\n",
      "\n",
      "AGE_9 SEXE_6 AGE_8 SEXE_5 LIEN_9 LIEN_6 REVAUTR SEXE_8 LIEN_5 SEXE_9 AGE_5 AGE_6 LIEN_7 LIEN_8 AGE_7 SEXE_7\n"
     ]
    }
   ],
   "source": [
    "print(\"List of variable with more than 75% missing values in 2017:\\n\")\n",
    "l = number_missing_values_per_variable_2017[scope_2017 - \n",
    "                                            complete_2017][number_missing_values_per_variable_2017 > 0.75*3050]\n",
    "print(\" \".join(l.index))"
   ]
  },
  {
   "cell_type": "code",
   "execution_count": 44,
   "metadata": {},
   "outputs": [
    {
     "data": {
      "image/png": "[encoded data removed]",
      "text/plain": [
       "<matplotlib.figure.Figure at 0x10e6e0f98>"
      ]
     },
     "metadata": {},
     "output_type": "display_data"
    }
   ],
   "source": [
    "number_missing_values_per_variable_2018 = np.sum(cdv.loc[cdv[\"ANNEEFUZ\"]==2018].isnull()) \n",
    "fig=plt.figure()\n",
    "plt.title(\"Histogram of missing values on 2018 scope\")\n",
    "plt.ylabel(u'Number of variables')\n",
    "plt.xlabel(\"Number of mising values\")\n",
    "bins = np.linspace(0, 3050,100)\n",
    "plt.hist(number_missing_values_per_variable_2018[scope_2018 - complete_2018], bins, facecolor='g', alpha=0.8)\n",
    "plt.grid()"
   ]
  },
  {
   "cell_type": "code",
   "execution_count": 45,
   "metadata": {},
   "outputs": [
    {
     "data": {
      "text/plain": [
       "prescaf     3015\n",
       "SEXE_9      3015\n",
       "LIEN_9      3015\n",
       "AGE_9       3015\n",
       "SEXE_8      3009\n",
       "AGE_8       3009\n",
       "LIEN_8      3009\n",
       "SEXE_7      3001\n",
       "LIEN_7      3001\n",
       "AGE_7       3001\n",
       "AGE_6       2950\n",
       "SEXE_6      2950\n",
       "LIEN_6      2950\n",
       "AUTREAL     2880\n",
       "LIEN_5      2758\n",
       "AGE_5       2758\n",
       "SEXE_5      2758\n",
       "REVAUTR     2704\n",
       "AGE_4       2291\n",
       "SEXE_4      2291\n",
       "LIEN_4      2291\n",
       "RADIQUOI    2031\n",
       "interim2    2006\n",
       "PCSCONJ     1975\n",
       "SALCOMPC    1975\n",
       "RADWHY10    1844\n",
       "RADWHY9     1844\n",
       "RADWHY6     1844\n",
       "RADWHY1     1844\n",
       "RADWHY14    1844\n",
       "            ... \n",
       "ACTCONJ     1219\n",
       "NBENF       1096\n",
       "PROGRAD      608\n",
       "LIEN_2       573\n",
       "SEXE_2       573\n",
       "AGE_2        573\n",
       "med          117\n",
       "REVsqt       105\n",
       "REVTOT       105\n",
       "REVUC        105\n",
       "NOT_POLI      85\n",
       "UDA5          85\n",
       "NOT_COHE      81\n",
       "NOT_LIBR      71\n",
       "NOT_PROF      70\n",
       "NOT_CAD       67\n",
       "NOT_AMIS      65\n",
       "NOT_LOG       61\n",
       "ASSOAUTR      59\n",
       "SENSIENV      54\n",
       "NOT_FAMI      50\n",
       "PCSCON7       47\n",
       "pmun          15\n",
       "DEPCOM        15\n",
       "popdense      15\n",
       "poppeud       15\n",
       "typodeg       15\n",
       "poptrpeu      15\n",
       "popinter      15\n",
       "RURAURBA       6\n",
       "Length: 96, dtype: int64"
      ]
     },
     "execution_count": 45,
     "metadata": {},
     "output_type": "execute_result"
    }
   ],
   "source": [
    "number_missing_values_per_variable_2018[scope_2018 - complete_2018].sort_values(ascending=False)"
   ]
  },
  {
   "cell_type": "code",
   "execution_count": 46,
   "metadata": {},
   "outputs": [
    {
     "name": "stdout",
     "output_type": "stream",
     "text": [
      "List of variable with more than 75% missing values in 2017:\n",
      "\n",
      "SEXE_6 AGE_8 LIEN_6 SEXE_9 AGE_5 AUTREAL AGE_6 AGE_7 SEXE_4 LIEN_9 prescaf REVAUTR LIEN_8 LIEN_4 AGE_9 AGE_4 SEXE_5 SEXE_8 LIEN_5 LIEN_7 SEXE_7\n"
     ]
    }
   ],
   "source": [
    "print(\"List of variable with more than 75% missing values in 2017:\\n\")\n",
    "l = number_missing_values_per_variable_2018[scope_2018 - \n",
    "                                            complete_2018][number_missing_values_per_variable_2018 > 0.75*3050]\n",
    "print(\" \".join(l.index))"
   ]
  },
  {
   "cell_type": "markdown",
   "metadata": {},
   "source": [
    "## Selection and classification of variables  "
   ]
  },
  {
   "cell_type": "markdown",
   "metadata": {},
   "source": [
    "### a) Variable to be predicted - \"HEUREUX\""
   ]
  },
  {
   "cell_type": "code",
   "execution_count": 47,
   "metadata": {},
   "outputs": [
    {
     "data": {
      "text/plain": [
       "Assez souvent        5423\n",
       "Occasionnellement    3665\n",
       "Très souvent         1758\n",
       "Jamais                203\n",
       "[Nsp]                  82\n",
       "Name: HEUREUX, dtype: int64"
      ]
     },
     "execution_count": 47,
     "metadata": {},
     "output_type": "execute_result"
    }
   ],
   "source": [
    "cdv['HEUREUX'].value_counts().sort_values(ascending = False)"
   ]
  },
  {
   "cell_type": "markdown",
   "metadata": {},
   "source": [
    "### b) Variable common to all years "
   ]
  },
  {
   "cell_type": "code",
   "execution_count": 48,
   "metadata": {},
   "outputs": [
    {
     "data": {
      "text/plain": [
       "268"
      ]
     },
     "execution_count": 48,
     "metadata": {},
     "output_type": "execute_result"
    }
   ],
   "source": [
    "common_variables = (scope_2015 & scope_2016 & scope_2017 & scope_2018)\n",
    "len(common_variables)"
   ]
  },
  {
   "cell_type": "code",
   "execution_count": 49,
   "metadata": {
    "collapsed": true
   },
   "outputs": [],
   "source": [
    "cdv_restricted_common = cdv.loc[:,common_variables]"
   ]
  },
  {
   "cell_type": "code",
   "execution_count": 50,
   "metadata": {},
   "outputs": [
    {
     "data": {
      "text/plain": [
       "['ACM1',\n",
       " 'ACM10',\n",
       " 'ACM11',\n",
       " 'ACM12',\n",
       " 'ACM2',\n",
       " 'ACM3',\n",
       " 'ACM4',\n",
       " 'ACM5',\n",
       " 'ACM6',\n",
       " 'ACM7',\n",
       " 'ACM8',\n",
       " 'ACM9',\n",
       " 'ACTCONJ',\n",
       " 'ADOPTGAY',\n",
       " 'AGE',\n",
       " 'AGE5',\n",
       " 'AGEDIP2',\n",
       " 'AGESEX12',\n",
       " 'AGE_2',\n",
       " 'AGE_3',\n",
       " 'AGE_4',\n",
       " 'AGE_5',\n",
       " 'AGE_6',\n",
       " 'AGE_7',\n",
       " 'AGE_8',\n",
       " 'AGE_9',\n",
       " 'AGGLO5',\n",
       " 'AGGLO9',\n",
       " 'AIDESUFF',\n",
       " 'ANNEEFUZ',\n",
       " 'ANNEFUZ2',\n",
       " 'ASSO10_2',\n",
       " 'ASSO10_3',\n",
       " 'ASSO11_2',\n",
       " 'ASSO11_3',\n",
       " 'ASSO6_2',\n",
       " 'ASSOAUTR',\n",
       " 'ASSOCONF',\n",
       " 'ASSOCONS',\n",
       " 'ASSOCULT',\n",
       " 'ASSOENVI',\n",
       " 'ASSOHUMA',\n",
       " 'ASSOJEUN',\n",
       " 'ASSOPARE',\n",
       " 'ASSOPOLI',\n",
       " 'ASSOSPOR',\n",
       " 'ASSOSYND',\n",
       " 'AUTREREV',\n",
       " 'BANQEPA',\n",
       " 'BANQMOB',\n",
       " 'BANQVIE',\n",
       " 'CADVIE',\n",
       " 'CADVIE3',\n",
       " 'CDV5',\n",
       " 'CDV5_4',\n",
       " 'CHAMP',\n",
       " 'CHERCHEM',\n",
       " 'CHOAVANT',\n",
       " 'CHOIXNUC',\n",
       " 'CHOVOLON',\n",
       " 'CLASSESO',\n",
       " 'COLLECTE',\n",
       " 'COMINSEE',\n",
       " 'CONDUIT',\n",
       " 'CONFASSO',\n",
       " 'CONFENTR',\n",
       " 'CONFGOUV',\n",
       " 'CONFPOLI',\n",
       " 'CONFPUB',\n",
       " 'DEPLOG',\n",
       " 'DEPLOG3',\n",
       " 'DIPL4',\n",
       " 'DIPLOME',\n",
       " 'DPT',\n",
       " 'ECHPOL',\n",
       " 'EFFORTPP',\n",
       " 'EMP7',\n",
       " 'ENFANTS',\n",
       " 'ETATSAN',\n",
       " 'EXERCPRO',\n",
       " 'FAMILLE',\n",
       " 'FREQBIBL',\n",
       " 'FREQCINE',\n",
       " 'FREQSPOR',\n",
       " 'FREQTELE',\n",
       " 'HANDICAP',\n",
       " 'HEUREUX',\n",
       " 'INNOVTEC',\n",
       " 'INQ4SUR6',\n",
       " 'INQAGRE3',\n",
       " 'INQAGRES',\n",
       " 'INQALIM',\n",
       " 'INQALIM3',\n",
       " 'INQCHOM3',\n",
       " 'INQCHOMA',\n",
       " 'INQGUER3',\n",
       " 'INQGUERR',\n",
       " 'INQMALA3',\n",
       " 'INQMALAD',\n",
       " 'INQNUCL3',\n",
       " 'INQNUCLE',\n",
       " 'INQROUT3',\n",
       " 'INQROUTE',\n",
       " 'INTER',\n",
       " 'INTER6',\n",
       " 'INTERIM',\n",
       " 'JUSTICE',\n",
       " 'LIEN_2',\n",
       " 'LIEN_3',\n",
       " 'LIEN_4',\n",
       " 'LIEN_5',\n",
       " 'LIEN_6',\n",
       " 'LIEN_7',\n",
       " 'LIEN_8',\n",
       " 'LIEN_9',\n",
       " 'LOGSUFFI',\n",
       " 'MODCHAUF',\n",
       " 'NB0003',\n",
       " 'NB0306',\n",
       " 'NB03_2',\n",
       " 'NB03_4',\n",
       " 'NB0610',\n",
       " 'NB06_2',\n",
       " 'NB06_4',\n",
       " 'NB1016',\n",
       " 'NB10_2',\n",
       " 'NB10_4',\n",
       " 'NB1620',\n",
       " 'NB16_2',\n",
       " 'NB16_4',\n",
       " 'NB2099',\n",
       " 'NB20_2',\n",
       " 'NB20_4',\n",
       " 'NB99_2',\n",
       " 'NB99_4',\n",
       " 'NBCHOM',\n",
       " 'NBENF',\n",
       " 'NBENF6',\n",
       " 'NBHEUR35',\n",
       " 'NBHEUR39',\n",
       " 'NBPERS',\n",
       " 'NBPERS5',\n",
       " 'NBPIECE6',\n",
       " 'NBPIECES',\n",
       " 'NBUC',\n",
       " 'NIVFRAN',\n",
       " 'NIVFRAN4',\n",
       " 'NIVPERS4',\n",
       " 'NIVPERSO',\n",
       " 'NOT_AMIS',\n",
       " 'NOT_COHE',\n",
       " 'NOT_FAMI',\n",
       " 'NOT_LIBR',\n",
       " 'NOT_POLI',\n",
       " 'NOT_PROF',\n",
       " 'OPIIMMIG',\n",
       " 'OPIRSA',\n",
       " 'ORDLIB',\n",
       " 'PCSCON7',\n",
       " 'PCSCONJ',\n",
       " 'PCSENQ10',\n",
       " 'PCSENQ13',\n",
       " 'PCSENQ15',\n",
       " 'PCSENQ24',\n",
       " 'PCSENQ32',\n",
       " 'PCSENQ35',\n",
       " 'PCSENQ36',\n",
       " 'PCSENQ7',\n",
       " 'PCSENQ8',\n",
       " 'PCSENQ9',\n",
       " 'POND',\n",
       " 'PREFPALI',\n",
       " 'PREOCCU1',\n",
       " 'PREOCCU2',\n",
       " 'PREOCHOM',\n",
       " 'PREOCONF',\n",
       " 'PREODROG',\n",
       " 'PREOENV',\n",
       " 'PREOEURO',\n",
       " 'PREOIMMI',\n",
       " 'PREOMALA',\n",
       " 'PREOPAUF',\n",
       " 'PREOPAUM',\n",
       " 'PREOTENS',\n",
       " 'PREOVIO',\n",
       " 'PRESTCAF',\n",
       " 'PRIVPUB',\n",
       " 'PROGRAD',\n",
       " 'RAISPAUV',\n",
       " 'RELIGION',\n",
       " 'RESTRICT',\n",
       " 'REVAUTR',\n",
       " 'REVCONJ',\n",
       " 'REVENQ',\n",
       " 'REVPF',\n",
       " 'REVTOT',\n",
       " 'REVTOT6',\n",
       " 'REVUC',\n",
       " 'REV_TR7',\n",
       " 'REVsqt',\n",
       " 'RE_ALIM',\n",
       " 'RE_ENF',\n",
       " 'RE_EQUI',\n",
       " 'RE_HABI',\n",
       " 'RE_LOG',\n",
       " 'RE_MEDI',\n",
       " 'RE_TABAL',\n",
       " 'RE_VAC',\n",
       " 'RE_VOIT',\n",
       " 'RE_WEB',\n",
       " 'RURAURBA',\n",
       " 'SALCOMP',\n",
       " 'SALCOMPC',\n",
       " 'SALCOMPI',\n",
       " 'SECUR3',\n",
       " 'SECURITE',\n",
       " 'SENSIENV',\n",
       " 'SEXE',\n",
       " 'SEXE_2',\n",
       " 'SEXE_3',\n",
       " 'SEXE_4',\n",
       " 'SEXE_5',\n",
       " 'SEXE_6',\n",
       " 'SEXE_7',\n",
       " 'SEXE_8',\n",
       " 'SEXE_9',\n",
       " 'SITUEMP',\n",
       " 'SITUEMP3',\n",
       " 'SITUEMP5',\n",
       " 'SITUEMP6',\n",
       " 'SITUFAM',\n",
       " 'SOUFFDEP',\n",
       " 'SOUFFDOS',\n",
       " 'SOUFFINS',\n",
       " 'SOUFFNER',\n",
       " 'SOUFFTET',\n",
       " 'STATLOG4',\n",
       " 'STATMAT',\n",
       " 'STATMAT4',\n",
       " 'TAXENV',\n",
       " 'TELMOB',\n",
       " 'TEMPSTRA',\n",
       " 'TRANSFO5',\n",
       " 'TRANSFST',\n",
       " 'TRAVFEM',\n",
       " 'TYPCHAUF',\n",
       " 'TYPCONT',\n",
       " 'TYPEMPL',\n",
       " 'TYPLOG2',\n",
       " 'TYPOCLAS',\n",
       " 'TYPOSQT',\n",
       " 'UDA10',\n",
       " 'UDA14',\n",
       " 'UDA23',\n",
       " 'UNIONGAY',\n",
       " 'VACANCES',\n",
       " 'VOITURE',\n",
       " 'an_enq',\n",
       " 'an_nais',\n",
       " 'decsqt',\n",
       " 'decuc',\n",
       " 'interim2',\n",
       " 'nbheures',\n",
       " 'revtot7',\n",
       " 'statut99',\n",
       " 'typcont2',\n",
       " 'zau1999',\n",
       " 'zau2010']"
      ]
     },
     "execution_count": 50,
     "metadata": {},
     "output_type": "execute_result"
    }
   ],
   "source": [
    "l = list(common_variables)\n",
    "l.sort()\n",
    "l"
   ]
  },
  {
   "cell_type": "markdown",
   "metadata": {},
   "source": [
    "### c) variable analysis - link with CDV study "
   ]
  },
  {
   "cell_type": "code",
   "execution_count": 51,
   "metadata": {},
   "outputs": [
    {
     "name": "stdout",
     "output_type": "stream",
     "text": [
      "['INTER6', 'INTER', 'ANNEEFUZ', 'ANNEFUZ2', 'COLLECTE', 'CHAMP', 'POND', 'identifiant', 'SEXE', 'AGE5', 'PCSENQ8', 'TYPOSQT', 'DIPL4', 'AGGLO5', 'UDA10', 'SITUEMP3', 'AGEDIP2', 'DPT', 'COMINSEE', 'AGGLO9', 'AGE', 'DIPLOME', 'EXERCPRO', 'SITUEMP', 'SITUEMP5', 'SITUEMP6', 'SALCOMP', 'TYPEMPL', 'INTERIM', 'TYPCONT', 'TEMPSTRA', 'nbheures', 'NBHEUR39', 'NBHEUR35', 'PREFPALI', 'SALCOMPI', 'CHERCHEM', 'IMAGTRAV', 'COUPLE', 'STATMAT', 'STATMAT4', 'ACTCONJ', 'SALCOMPC', 'ENFANTS', 'NBENF', 'NBENF6', 'FAMILLE', 'UNIONGAY', 'ADOPTGAY', 'TRAVFEM', 'NB0003', 'NB0306', 'NB0610', 'NB1016', 'NB1620', 'NB2099', 'NB03_4', 'NB06_4', 'NB10_4', 'NB16_4', 'NB20_4', 'NB99_4', 'NB03_2', 'NB06_2', 'NB10_2', 'NB16_2', 'NB20_2', 'NB99_2', 'SITUFAM', 'RESIDALT', 'NBPIECES', 'NBPIECE6', 'LOGSUFFI', 'STATLOGB', 'STATLOG4', 'DEPLOG', 'DEPLOG3', 'CADVIE', 'CADVIE3', 'SECURITE', 'SECUR3', 'MODCHAUF', 'TYPCHAUF', 'VOITURE', 'CONDUIT', 'CHOIXNUC', 'SENSIENV', 'TAXENV', 'HANDICAP', 'SOUFFTET', 'SOUFFDOS', 'SOUFFNER', 'SOUFFDEP', 'SOUFFINS', 'ETATSAN', 'LIMVIAND', 'WHYLIM', 'ADNSTIC', 'ADNCB', 'ADNORDI', 'ROBOT1', 'ROBOT2', 'ROBOT3', 'NBPERS', 'NBPERS5', 'SEXE_2', 'SEXE_3', 'SEXE_4', 'SEXE_5', 'SEXE_6', 'SEXE_7', 'SEXE_8', 'SEXE_9', 'AGE_2', 'AGE_3', 'AGE_4', 'AGE_5', 'AGE_6', 'AGE_7', 'AGE_8', 'AGE_9', 'LIEN_2', 'LIEN_3', 'LIEN_4', 'LIEN_5', 'LIEN_6', 'LIEN_7', 'LIEN_8', 'LIEN_9', 'PRESTCAF', 'REVPF', 'RESTRICT', 'RE_MEDI', 'RE_VOIT', 'RE_EQUI', 'RE_ALIM', 'RE_VAC', 'RE_HABI', 'RE_LOG', 'RE_ENF', 'RE_TABAL', 'RE_WEB', 'NIVPERSO', 'NIVPERS4', 'NIVFRAN', 'NIVFRAN4', 'CDV5', 'CDV5_4', 'NBCHOM', 'BANQMOB', 'BANQEPA', 'BANQVIE', 'INNOVTEC', 'TELMOB', 'PRATCOLL', 'CONFWEB', 'VACANCES', 'VISITFAM', 'RECEP', 'YOGA', 'FREQSPOR', 'FREQBIBL', 'FREQCINE', 'FREQTELE', 'ASSOSPOR', 'ASSOCULT', 'ASSOCONF', 'ASSOJEUN', 'ASSOSYND', 'ASSOENVI', 'ASSOPARE', 'ASSOCONS', 'ASSOPOLI', 'ASSOHUMA', 'ASSOAUTR', 'ASSO11_2', 'ASSO11_3', 'ASSO6_2', 'ASSO10_2', 'ASSO10_3', 'HARVEY', 'AIDESUFF', 'EFFORTPP', 'RAISPAUV', 'CHOAVANT', 'CHOVOLON', 'OPIRSA', 'JUSTICE', 'RELEG', 'CONFPUB', 'CONFENTR', 'CONFASSO', 'CONFPOLI', 'CONFBANK', 'CONFPRES', 'CONFECOL', 'CONFKEUF', 'TRANSFST', 'TRANSFO5', 'PROGRAD', 'RADIQUOI', 'RADWHY1', 'RADWHY2', 'RADWHY3', 'RADWHY4', 'RADWHY5', 'RADWHY6', 'RADWHY7', 'RADWHY8', 'RADWHY9', 'RADWHY10', 'RADWHY11', 'RADWHY12', 'RADWHY13', 'RADWHY14', 'ORDLIB', 'CONFMEFI', 'PREOCCU1', 'PREOCCU2', 'PREOCHOM', 'PREOMALA', 'PREOENV', 'PREOPAUF', 'PREOPAUM', 'PREODROG', 'PREOVIO', 'PREOTENS', 'PREOCONF', 'PREOIMMI', 'PREOEURO', 'RADI1', 'RADI2', 'RADI3', 'OPICULT', 'COMMU1', 'COMMU2', 'COMMU3', 'COMMU4', 'COMMU5', 'COMMU6', 'COMMU7', 'COMMU8', 'MONDIAL', 'INQMALAD', 'INQMALA3', 'INQAGRES', 'INQAGRE3', 'INQROUTE', 'INQROUT3', 'INQCHOMA', 'INQCHOM3', 'INQGUERR', 'INQGUER3', 'INQNUCLE', 'INQNUCL3', 'INQALIM', 'INQALIM3', 'INQ4SUR6', 'CLASSESO', 'ISEGO', 'NOT_FAMI', 'NOT_PROF', 'NOT_AMIS', 'NOT_COHE', 'NOT_POLI', 'NOT_LIBR', 'NOT_LOG', 'NOT_CAD', 'HEUREUX', 'CONFGOUV', 'ECHPOL', 'OPIIMMIG', 'RELIGION', 'REVENQ', 'REVCONJ', 'REVAUON', 'REVAUTR', 'AUTREREV', 'REV_TR7', 'REVTOT', 'revtot7', 'NBUC', 'REVUC', 'REVsqt', 'decuc', 'decsqt', 'TYPOCLAS', 'TYPLOG2', 'AGESEX12', 'PCSENQ36', 'PCSCONJ', 'PCSENQ35', 'PCSENQ32', 'PCSENQ24', 'PCSENQ15', 'PCSENQ13', 'PCSENQ10', 'PCSENQ9', 'PCSENQ7', 'PCSCON7', 'ACM1', 'ACM2', 'ACM3', 'ACM4', 'ACM5', 'ACM6', 'ACM7', 'ACM8', 'ACM9', 'ACM10', 'ACM11', 'ACM12', 'UDA23', 'UDA14', 'statut99', 'RURAURBA', 'zau1999', 'zau2010', 'typodeg', 'popdense', 'popinter', 'poppeud', 'poptrpeu', 'agedip', 'AUTREAL', 'age_OW', 'UDA5', 'CSP6', 'CP', 'TYPLOG', 'inseel', 'inseenum', 'couple2', 'cpt', 'AGE6', 'PCSRED10', 'prescaf', 'refus2', 'info', 'med', 'i', 'com', 'type99', 'AGGLOINS', 'DEPCOM', 'pmun', 'QUOTAAGE', 'PRIVPUB', 'interim2', 'EMP7', 'typcont2', 'REVTOT6', 'an_enq', 'an_nais']\n"
     ]
    }
   ],
   "source": [
    "print(list(cdv.columns))"
   ]
  },
  {
   "cell_type": "code",
   "execution_count": 52,
   "metadata": {},
   "outputs": [
    {
     "data": {
      "text/html": [
       "<div>\n",
       "<style>\n",
       "    .dataframe thead tr:only-child th {\n",
       "        text-align: right;\n",
       "    }\n",
       "\n",
       "    .dataframe thead th {\n",
       "        text-align: left;\n",
       "    }\n",
       "\n",
       "    .dataframe tbody tr th {\n",
       "        vertical-align: top;\n",
       "    }\n",
       "</style>\n",
       "<table border=\"1\" class=\"dataframe\">\n",
       "  <thead>\n",
       "    <tr style=\"text-align: right;\">\n",
       "      <th></th>\n",
       "      <th>POND</th>\n",
       "      <th>INTER6</th>\n",
       "      <th>INTER</th>\n",
       "      <th>COLLECTE</th>\n",
       "      <th>CHAMP</th>\n",
       "      <th>identifiant</th>\n",
       "    </tr>\n",
       "  </thead>\n",
       "  <tbody>\n",
       "    <tr>\n",
       "      <th>0</th>\n",
       "      <td>1.313554</td>\n",
       "      <td>373001</td>\n",
       "      <td>3001</td>\n",
       "      <td>Online</td>\n",
       "      <td>18 ans et + métropole</td>\n",
       "      <td>NaN</td>\n",
       "    </tr>\n",
       "    <tr>\n",
       "      <th>1</th>\n",
       "      <td>2.009015</td>\n",
       "      <td>373002</td>\n",
       "      <td>3002</td>\n",
       "      <td>Online</td>\n",
       "      <td>18 ans et + métropole</td>\n",
       "      <td>NaN</td>\n",
       "    </tr>\n",
       "    <tr>\n",
       "      <th>2</th>\n",
       "      <td>0.217607</td>\n",
       "      <td>373003</td>\n",
       "      <td>3003</td>\n",
       "      <td>Online</td>\n",
       "      <td>18 ans et + métropole</td>\n",
       "      <td>NaN</td>\n",
       "    </tr>\n",
       "    <tr>\n",
       "      <th>3</th>\n",
       "      <td>0.539351</td>\n",
       "      <td>373004</td>\n",
       "      <td>3004</td>\n",
       "      <td>Online</td>\n",
       "      <td>18 ans et + métropole</td>\n",
       "      <td>NaN</td>\n",
       "    </tr>\n",
       "    <tr>\n",
       "      <th>4</th>\n",
       "      <td>0.270204</td>\n",
       "      <td>373005</td>\n",
       "      <td>3005</td>\n",
       "      <td>Online</td>\n",
       "      <td>18 ans et + métropole</td>\n",
       "      <td>NaN</td>\n",
       "    </tr>\n",
       "  </tbody>\n",
       "</table>\n",
       "</div>"
      ],
      "text/plain": [
       "       POND  INTER6  INTER COLLECTE                  CHAMP identifiant\n",
       "0  1.313554  373001   3001   Online  18 ans et + métropole         NaN\n",
       "1  2.009015  373002   3002   Online  18 ans et + métropole         NaN\n",
       "2  0.217607  373003   3003   Online  18 ans et + métropole         NaN\n",
       "3  0.539351  373004   3004   Online  18 ans et + métropole         NaN\n",
       "4  0.270204  373005   3005   Online  18 ans et + métropole         NaN"
      ]
     },
     "execution_count": 52,
     "metadata": {},
     "output_type": "execute_result"
    }
   ],
   "source": [
    "cdv.loc[:,[\"POND\",\"INTER6\",\"INTER\",\"COLLECTE\",\"CHAMP\",\"identifiant\"]].head()"
   ]
  },
  {
   "cell_type": "code",
   "execution_count": 53,
   "metadata": {},
   "outputs": [
    {
     "data": {
      "text/plain": [
       "array(['18 ans et + métropole', '15-17 ans + DOM + Corse'], dtype=object)"
      ]
     },
     "execution_count": 53,
     "metadata": {},
     "output_type": "execute_result"
    }
   ],
   "source": [
    "cdv[\"CHAMP\"].unique()"
   ]
  },
  {
   "cell_type": "code",
   "execution_count": 54,
   "metadata": {},
   "outputs": [
    {
     "data": {
      "text/plain": [
       "array(['Online'], dtype=object)"
      ]
     },
     "execution_count": 54,
     "metadata": {},
     "output_type": "execute_result"
    }
   ],
   "source": [
    "cdv[\"COLLECTE\"].unique()"
   ]
  },
  {
   "cell_type": "code",
   "execution_count": 55,
   "metadata": {},
   "outputs": [
    {
     "data": {
      "text/plain": [
       "array(['PR', 'PU', nan, 'IN'], dtype=object)"
      ]
     },
     "execution_count": 55,
     "metadata": {},
     "output_type": "execute_result"
    }
   ],
   "source": [
    "# Variables not present in the list ???\n",
    "cdv[\"RURAURBA\"].unique()"
   ]
  },
  {
   "cell_type": "code",
   "execution_count": 56,
   "metadata": {},
   "outputs": [
    {
     "data": {
      "text/plain": [
       "array([ nan,   0.,   2.,   1.,   7.,   4.,   8.,   5.,   3.,   6.])"
      ]
     },
     "execution_count": 56,
     "metadata": {},
     "output_type": "execute_result"
    }
   ],
   "source": [
    "cdv[\"AGGLOINS\"].unique()"
   ]
  },
  {
   "cell_type": "code",
   "execution_count": 57,
   "metadata": {
    "collapsed": true
   },
   "outputs": [],
   "source": [
    "liste_explained = {\"INTER6\",\"ANNEEFUZ\",\"ANNEEFUZ2\",\"COLLECTE\",\"SEXE\",\"AGE5\",\"PCSENQ8\",\"TYPOSQT\",\n",
    "                   \"DIPL4\",\"AGGLO5\",\"UDA10\",\"SITUEMP3\",\"AGGLO9\",\"AGE\",\"EXERCPRO\",\"SITUEMP\",\"SITUEMP5\",\n",
    "                   \"SITUEMP6\",\"SALCOMP\",\"INTERIM\",\"TYPCONT\",\"TEMPSTRA\",\"nbheures\",\"NBHEUR39\",\n",
    "                   \"NBHEUR35\",\"PREFPALI\",\"SALCOMPI\",\"CHERCHEM\",\"NBCHOM\",\"STATMAT\",\"ACTCONJ\",\"SALCOMPC\",\n",
    "                   \"ENFANTS\",\"NBENF\",\"NBENF6\",\"DIPLOME\",\"FAMILLE\",\n",
    "                   \"UNIONGAY\",\"ADOPTGAY\",\"TRAVFEM\",\"NB0003\",\"NB0306\",\"NB0610\",\"NB1016\",\n",
    "                   \"NB1620\",\"NB2099\",\"NBPIECE6\",\"LOGSUFFI\",\"DEPLOG\",\"DEPLOG3\",\"CADVIE\",\"CADVIE3\",\"SECUR3\",\n",
    "                   \"MODCHAUF\",\"TYPCHAUF\",\"TELFIXE\",\"TELMOB\",\"SENSIENV\",\"TAXENV\",\"HANDICAP\",\"SOUFFTET\",\"SOUFFDOS\",\n",
    "                   \"SOUFFNER\",\"SOUFFDEP\",\"SOUFFINS\",\"ETATSAN\",\"NBPERS\",\"NBPERS5\",\"SEXE_2\",\"SEXE_3\",\n",
    "                   \"SEXE_4\",\"SEXE_5\",\"SEXE_6\",\"SEXE_7\",\"SEXE_8\",\"SEXE_9\",\"AGE_2\",\"AGE_3\",\n",
    "                   \"AGE_4\",\"AGE_5\",\"AGE_6\",\"AGE_7\",\"AGE_8\",\"AGE_9\",\"LIEN_2\",\"LIEN_3\",\"LIEN_4\",\"LIEN_5\",\"LIEN_6\",\n",
    "                   \"LIEN_7\",\"LIEN_8\",\"LIEN_9\",\"RESTRICT\",\"NIVPERSO\",\"NIVFRAN\",\"NIVFRAN4\",\"CDV5\",\"BANQEPA\",\n",
    "                   \"BANQVIE\",\"ASSOSPOR\",\"ASSOCULT\",\"ASSOCONF\",\"ASSOJEUN\",\"ASSOSYND\",\"ASSOENVI\",\n",
    "                   \"ASSOPARE\",\"ASSOCONS\",\"ASSOPOLI\",\"ASSOHUMA\",\"ASSOAUTR\",\"FREQSPOR\",\n",
    "                   \"FREQTELE\",\"RAISPAUV\",\"CHOAVANT\",\"CHOVOLON\",\"OPIRSA\",\"JUSTICE\",\"TRANSFST\",\"PREOCCU1\",\n",
    "                   \"PREOCCU2\",\"INQAGRE3\",\"INQALIM\",\"CLASSESO\",\"HEUREUX\",\"CONFGOUV\",\"revtot7\",\n",
    "                   \"NBUC\",\"TYPLOG2\",\"TYPLOG3\",\"AGESEX12\",\"PCSENQ36\",\"UDA14\",\"zau1999\",\"POND\",\"dpt\"}"
   ]
  },
  {
   "cell_type": "code",
   "execution_count": 58,
   "metadata": {},
   "outputs": [
    {
     "data": {
      "text/plain": [
       "135"
      ]
     },
     "execution_count": 58,
     "metadata": {},
     "output_type": "execute_result"
    }
   ],
   "source": [
    "len(liste_explained)"
   ]
  },
  {
   "cell_type": "code",
   "execution_count": 59,
   "metadata": {
    "collapsed": true
   },
   "outputs": [],
   "source": [
    "columns = set(cdv.columns)"
   ]
  },
  {
   "cell_type": "code",
   "execution_count": 60,
   "metadata": {},
   "outputs": [
    {
     "name": "stdout",
     "output_type": "stream",
     "text": [
      "Variables explained but not present in the dataset : 4\n",
      "\n",
      "TELFIXE ANNEEFUZ2 TYPLOG3 dpt\n"
     ]
    }
   ],
   "source": [
    "print(f\"Variables explained but not present in the dataset : {len(liste_explained - columns)}\\n\")\n",
    "print(\" \".join(liste_explained - columns))"
   ]
  },
  {
   "cell_type": "code",
   "execution_count": 61,
   "metadata": {},
   "outputs": [
    {
     "name": "stdout",
     "output_type": "stream",
     "text": [
      "Variables present in the dataset but not explained : 223\n",
      "\n",
      "OPIIMMIG INQGUER3 COMMU1 NB10_2 INQMALA3 popinter CONFENTR TYPOCLAS STATMAT4 RE_VAC FREQCINE CONFMEFI com CONFPOLI PREOVIO ACM2 NOT_COHE COMMU5 RURAURBA pmun REVTOT6 NB03_4 RE_ENF ISEGO INTER COUPLE popdense WHYLIM poppeud AGEDIP2 ACM1 INQGUERR RE_HABI PREOENV identifiant age_OW ACM6 RE_WEB ACM3 REVCONJ ORDLIB ASSO11_3 RADI1 CDV5_4 ECHPOL REVENQ RADWHY1 ACM9 ROBOT3 INQNUCLE IMAGTRAV NB99_2 CONFKEUF ACM11 AUTREAL CONFPRES NB06_4 PREOPAUM RE_EQUI RADWHY13 PCSENQ15 EFFORTPP COMMU8 PCSCON7 COMINSEE COMMU7 RADWHY8 AGE6 PREOCONF INQCHOM3 UDA23 AUTREREV RADWHY12 NB16_4 SECURITE NB03_2 ADNORDI ROBOT1 TYPEMPL ANNEFUZ2 HARVEY INQAGRES NOT_CAD ASSO10_3 STATLOGB RADWHY9 refus2 PCSENQ35 AIDESUFF ADNSTIC PRATCOLL i PCSRED10 CONFPUB PCSENQ10 ASSO11_2 inseenum FREQBIBL NBPIECES ADNCB LIMVIAND INQROUTE PCSENQ9 PROGRAD PCSENQ32 PCSENQ13 ACM5 PCSCONJ statut99 NOT_LOG PCSENQ24 inseel an_nais VISITFAM typodeg CONDUIT RELEG NB99_4 RADWHY6 RE_ALIM INQMALAD CONFASSO ROBOT2 INQCHOMA med CONFECOL an_enq type99 RADIQUOI NOT_LIBR DEPCOM typcont2 COMMU3 REVPF OPICULT prescaf PREOMALA REVAUTR INQNUCL3 COMMU4 REVUC PRESTCAF COMMU6 zau2010 decsqt TRANSFO5 info CONFBANK RADWHY14 INQ4SUR6 cpt RE_TABAL ACM4 RADI2 RADWHY10 REVTOT RADWHY7 PREOPAUF NB20_2 ACM7 STATLOG4 poptrpeu RADWHY5 CHAMP DPT RADI3 RESIDALT RADWHY2 RADWHY11 EMP7 INQROUT3 ASSO10_2 UDA5 ACM8 RE_MEDI NIVPERS4 INNOVTEC NOT_AMIS TYPLOG VACANCES VOITURE COMMU2 RADWHY4 interim2 NOT_PROF decuc QUOTAAGE agedip RADWHY3 NB06_2 AGGLOINS PREODROG ACM10 RE_LOG PREOCHOM NOT_POLI NB20_4 ACM12 RECEP CONFWEB CHOIXNUC BANQMOB MONDIAL PREOEURO NOT_FAMI NB10_4 CP NB16_2 REVAUON PCSENQ7 PREOTENS REVsqt RE_VOIT RELIGION ASSO6_2 INQALIM3 SITUFAM PRIVPUB CSP6 YOGA couple2 REV_TR7 PREOIMMI\n"
     ]
    }
   ],
   "source": [
    "print(f\"Variables present in the dataset but not explained : {len(columns - liste_explained)}\\n\")\n",
    "print(\" \".join(columns - liste_explained))"
   ]
  },
  {
   "cell_type": "code",
   "execution_count": 62,
   "metadata": {},
   "outputs": [
    {
     "name": "stdout",
     "output_type": "stream",
     "text": [
      "Variables present in the dataset for all years but not explained : 137\n",
      "\n",
      "OPIIMMIG INQGUER3 INQMALA3 NB10_2 CONFENTR RE_VAC STATMAT4 TYPOCLAS FREQCINE CONFPOLI PREOVIO ACM2 NOT_COHE REVTOT6 RURAURBA NB03_4 RE_ENF INTER AGEDIP2 ACM1 INQGUERR RE_HABI PREOENV ACM6 RE_WEB ACM3 REVCONJ ORDLIB ASSO11_3 CDV5_4 ECHPOL REVENQ ACM9 INQNUCLE NB99_2 ACM11 NB06_4 PREOPAUM RE_EQUI PCSENQ15 EFFORTPP PCSCON7 COMINSEE PREOCONF INQCHOM3 AUTREREV UDA23 NB16_4 SECURITE NB03_2 TYPEMPL ANNEFUZ2 INQAGRES ASSO10_3 PCSENQ35 AIDESUFF CONFPUB PCSENQ10 ASSO11_2 FREQBIBL NBPIECES PCSENQ9 INQROUTE PROGRAD PCSENQ32 PCSENQ13 ACM5 PCSCONJ statut99 PCSENQ24 an_nais CONDUIT NB99_4 RE_ALIM INQMALAD CONFASSO INQCHOMA an_enq NOT_LIBR typcont2 REVPF PREOMALA REVAUTR INQNUCL3 REVUC PRESTCAF zau2010 decsqt TRANSFO5 INQ4SUR6 RE_TABAL ACM4 REVTOT PREOPAUF NB20_2 ACM7 STATLOG4 CHAMP DPT EMP7 INQROUT3 ASSO10_2 ACM8 RE_MEDI NIVPERS4 INNOVTEC NOT_AMIS VACANCES VOITURE interim2 NOT_PROF decuc NB06_2 PREODROG ACM10 RE_LOG PREOCHOM NOT_POLI NB20_4 ACM12 CHOIXNUC BANQMOB PREOEURO NOT_FAMI NB10_4 NB16_2 PCSENQ7 PREOTENS REVsqt RE_VOIT RELIGION ASSO6_2 INQALIM3 PRIVPUB SITUFAM REV_TR7 PREOIMMI\n"
     ]
    }
   ],
   "source": [
    "print(f\"Variables present in the dataset for all years but not explained : {len(common_variables - liste_explained)}\\n\")\n",
    "print(\" \".join(common_variables - liste_explained))"
   ]
  },
  {
   "cell_type": "code",
   "execution_count": null,
   "metadata": {
    "collapsed": true
   },
   "outputs": [],
   "source": []
  },
  {
   "cell_type": "code",
   "execution_count": null,
   "metadata": {
    "collapsed": true
   },
   "outputs": [],
   "source": []
  },
  {
   "cell_type": "code",
   "execution_count": null,
   "metadata": {
    "collapsed": true
   },
   "outputs": [],
   "source": []
  },
  {
   "cell_type": "code",
   "execution_count": null,
   "metadata": {
    "collapsed": true
   },
   "outputs": [],
   "source": []
  },
  {
   "cell_type": "code",
   "execution_count": null,
   "metadata": {
    "collapsed": true
   },
   "outputs": [],
   "source": []
  },
  {
   "cell_type": "code",
   "execution_count": 63,
   "metadata": {
    "collapsed": true
   },
   "outputs": [],
   "source": [
    "sub_cdv = cdv.loc[:,[\"NOT_FAMI\", \"NOT_PROF\", \"NOT_AMIS\",\n",
    "                   \"NOT_COHE\", \"NOT_POLI\", \"NOT_LIBR\", \n",
    "                   \"NOT_LOG\", \"NOT_CAD\", \"ANNEEFUZ\", \"INTER6\"]]\n",
    "cdv1718 = sub_cdv.loc[sub_cdv[\"ANNEEFUZ\"].isin([2017,2018]),:]"
   ]
  },
  {
   "cell_type": "code",
   "execution_count": null,
   "metadata": {
    "collapsed": true
   },
   "outputs": [],
   "source": []
  }
 ],
 "metadata": {
  "kernelspec": {
   "display_name": "Python 3",
   "language": "python",
   "name": "python3"
  },
  "language_info": {
   "codemirror_mode": {
    "name": "ipython",
    "version": 3
   },
   "file_extension": ".py",
   "mimetype": "text/x-python",
   "name": "python",
   "nbconvert_exporter": "python",
   "pygments_lexer": "ipython3",
   "version": "3.6.3"
  }
 },
 "nbformat": 4,
 "nbformat_minor": 2
}
