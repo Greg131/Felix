{
 "cells": [
  {
   "cell_type": "markdown",
   "metadata": {},
   "source": [
    "# Analyse des données de l'étude CDV"
   ]
  },
  {
   "cell_type": "code",
   "execution_count": 1,
   "metadata": {
    "collapsed": true
   },
   "outputs": [],
   "source": [
    "from pathlib import Path\n",
    "import pandas as pd\n",
    "import numpy as np\n",
    "import matplotlib.pyplot as plt\n",
    "%matplotlib inline\n",
    "#%pylab inline"
   ]
  },
  {
   "cell_type": "code",
   "execution_count": 2,
   "metadata": {
    "collapsed": true
   },
   "outputs": [],
   "source": [
    "path_project = Path.home() / Path('Google Drive/Felix')\n",
    "path_data = path_project / Path(\"data\")"
   ]
  },
  {
   "cell_type": "code",
   "execution_count": 3,
   "metadata": {
    "collapsed": true
   },
   "outputs": [],
   "source": [
    "file = path_data / Path(\"felix.csv\")\n",
    "with Path.open(file, 'rb') as fp:\n",
    "    cdv = pd.read_csv(fp,  encoding='cp1252',low_memory=False)"
   ]
  },
  {
   "cell_type": "code",
   "execution_count": 4,
   "metadata": {},
   "outputs": [
    {
     "data": {
      "text/plain": [
       "(11131, 354)"
      ]
     },
     "execution_count": 4,
     "metadata": {},
     "output_type": "execute_result"
    }
   ],
   "source": [
    "cdv.shape"
   ]
  },
  {
   "cell_type": "code",
   "execution_count": 5,
   "metadata": {},
   "outputs": [
    {
     "name": "stdout",
     "output_type": "stream",
     "text": [
      "INTER6 INTER ANNEEFUZ ANNEFUZ2 COLLECTE CHAMP POND identifiant SEXE AGE5 PCSENQ8 TYPOSQT DIPL4 AGGLO5 UDA10 SITUEMP3 AGEDIP2 DPT COMINSEE AGGLO9 AGE DIPLOME EXERCPRO SITUEMP SITUEMP5 SITUEMP6 SALCOMP TYPEMPL INTERIM TYPCONT TEMPSTRA nbheures NBHEUR39 NBHEUR35 PREFPALI SALCOMPI CHERCHEM IMAGTRAV COUPLE STATMAT STATMAT4 ACTCONJ SALCOMPC ENFANTS NBENF NBENF6 FAMILLE UNIONGAY ADOPTGAY TRAVFEM NB0003 NB0306 NB0610 NB1016 NB1620 NB2099 NB03_4 NB06_4 NB10_4 NB16_4 NB20_4 NB99_4 NB03_2 NB06_2 NB10_2 NB16_2 NB20_2 NB99_2 SITUFAM RESIDALT NBPIECES NBPIECE6 LOGSUFFI STATLOGB STATLOG4 DEPLOG DEPLOG3 CADVIE CADVIE3 SECURITE SECUR3 MODCHAUF TYPCHAUF VOITURE CONDUIT CHOIXNUC SENSIENV TAXENV HANDICAP SOUFFTET SOUFFDOS SOUFFNER SOUFFDEP SOUFFINS ETATSAN LIMVIAND WHYLIM ADNSTIC ADNCB ADNORDI ROBOT1 ROBOT2 ROBOT3 NBPERS NBPERS5 SEXE_2 SEXE_3 SEXE_4 SEXE_5 SEXE_6 SEXE_7 SEXE_8 SEXE_9 AGE_2 AGE_3 AGE_4 AGE_5 AGE_6 AGE_7 AGE_8 AGE_9 LIEN_2 LIEN_3 LIEN_4 LIEN_5 LIEN_6 LIEN_7 LIEN_8 LIEN_9 PRESTCAF REVPF RESTRICT RE_MEDI RE_VOIT RE_EQUI RE_ALIM RE_VAC RE_HABI RE_LOG RE_ENF RE_TABAL RE_WEB NIVPERSO NIVPERS4 NIVFRAN NIVFRAN4 CDV5 CDV5_4 NBCHOM BANQMOB BANQEPA BANQVIE INNOVTEC TELMOB PRATCOLL CONFWEB VACANCES VISITFAM RECEP YOGA FREQSPOR FREQBIBL FREQCINE FREQTELE ASSOSPOR ASSOCULT ASSOCONF ASSOJEUN ASSOSYND ASSOENVI ASSOPARE ASSOCONS ASSOPOLI ASSOHUMA ASSOAUTR ASSO11_2 ASSO11_3 ASSO6_2 ASSO10_2 ASSO10_3 HARVEY AIDESUFF EFFORTPP RAISPAUV CHOAVANT CHOVOLON OPIRSA JUSTICE RELEG CONFPUB CONFENTR CONFASSO CONFPOLI CONFBANK CONFPRES CONFECOL CONFKEUF TRANSFST TRANSFO5 PROGRAD RADIQUOI RADWHY1 RADWHY2 RADWHY3 RADWHY4 RADWHY5 RADWHY6 RADWHY7 RADWHY8 RADWHY9 RADWHY10 RADWHY11 RADWHY12 RADWHY13 RADWHY14 ORDLIB CONFMEFI PREOCCU1 PREOCCU2 PREOCHOM PREOMALA PREOENV PREOPAUF PREOPAUM PREODROG PREOVIO PREOTENS PREOCONF PREOIMMI PREOEURO RADI1 RADI2 RADI3 OPICULT COMMU1 COMMU2 COMMU3 COMMU4 COMMU5 COMMU6 COMMU7 COMMU8 MONDIAL INQMALAD INQMALA3 INQAGRES INQAGRE3 INQROUTE INQROUT3 INQCHOMA INQCHOM3 INQGUERR INQGUER3 INQNUCLE INQNUCL3 INQALIM INQALIM3 INQ4SUR6 CLASSESO ISEGO NOT_FAMI NOT_PROF NOT_AMIS NOT_COHE NOT_POLI NOT_LIBR NOT_LOG NOT_CAD HEUREUX CONFGOUV ECHPOL OPIIMMIG RELIGION REVENQ REVCONJ REVAUON REVAUTR AUTREREV REV_TR7 REVTOT revtot7 NBUC REVUC REVsqt decuc decsqt TYPOCLAS TYPLOG2 AGESEX12 PCSENQ36 PCSCONJ PCSENQ35 PCSENQ32 PCSENQ24 PCSENQ15 PCSENQ13 PCSENQ10 PCSENQ9 PCSENQ7 PCSCON7 ACM1 ACM2 ACM3 ACM4 ACM5 ACM6 ACM7 ACM8 ACM9 ACM10 ACM11 ACM12 UDA23 UDA14 statut99 RURAURBA zau1999 zau2010 typodeg popdense popinter poppeud poptrpeu agedip AUTREAL age_OW UDA5 CSP6 CP TYPLOG inseel inseenum couple2 cpt AGE6 PCSRED10 prescaf refus2 info med i com type99 AGGLOINS DEPCOM pmun QUOTAAGE PRIVPUB interim2 EMP7 typcont2 REVTOT6 an_enq an_nais\n"
     ]
    }
   ],
   "source": [
    "print(\" \".join(cdv.columns))"
   ]
  },
  {
   "cell_type": "code",
   "execution_count": 6,
   "metadata": {
    "collapsed": true
   },
   "outputs": [],
   "source": [
    "sub_cdv = cdv.loc[:,[\"NOT_FAMI\", \"NOT_PROF\", \"NOT_AMIS\",\n",
    "                   \"NOT_COHE\", \"NOT_POLI\", \"NOT_LIBR\", \n",
    "                   \"NOT_LOG\", \"NOT_CAD\", \"ANNEEFUZ\", \"INTER6\"]]"
   ]
  },
  {
   "cell_type": "code",
   "execution_count": 7,
   "metadata": {},
   "outputs": [
    {
     "data": {
      "text/plain": [
       "(11131, 10)"
      ]
     },
     "execution_count": 7,
     "metadata": {},
     "output_type": "execute_result"
    }
   ],
   "source": [
    "sub_cdv.shape"
   ]
  },
  {
   "cell_type": "code",
   "execution_count": 8,
   "metadata": {},
   "outputs": [
    {
     "data": {
      "text/html": [
       "<div>\n",
       "<style>\n",
       "    .dataframe thead tr:only-child th {\n",
       "        text-align: right;\n",
       "    }\n",
       "\n",
       "    .dataframe thead th {\n",
       "        text-align: left;\n",
       "    }\n",
       "\n",
       "    .dataframe tbody tr th {\n",
       "        vertical-align: top;\n",
       "    }\n",
       "</style>\n",
       "<table border=\"1\" class=\"dataframe\">\n",
       "  <thead>\n",
       "    <tr style=\"text-align: right;\">\n",
       "      <th></th>\n",
       "      <th>NOT_FAMI</th>\n",
       "      <th>NOT_PROF</th>\n",
       "      <th>NOT_AMIS</th>\n",
       "      <th>NOT_COHE</th>\n",
       "      <th>NOT_POLI</th>\n",
       "      <th>NOT_LIBR</th>\n",
       "      <th>NOT_LOG</th>\n",
       "      <th>NOT_CAD</th>\n",
       "      <th>ANNEEFUZ</th>\n",
       "      <th>INTER6</th>\n",
       "    </tr>\n",
       "  </thead>\n",
       "  <tbody>\n",
       "    <tr>\n",
       "      <th>0</th>\n",
       "      <td>5.0</td>\n",
       "      <td>6.0</td>\n",
       "      <td>6.0</td>\n",
       "      <td>6.0</td>\n",
       "      <td>3.0</td>\n",
       "      <td>6.0</td>\n",
       "      <td>NaN</td>\n",
       "      <td>NaN</td>\n",
       "      <td>2015</td>\n",
       "      <td>373001</td>\n",
       "    </tr>\n",
       "    <tr>\n",
       "      <th>1</th>\n",
       "      <td>7.0</td>\n",
       "      <td>6.0</td>\n",
       "      <td>6.0</td>\n",
       "      <td>7.0</td>\n",
       "      <td>5.0</td>\n",
       "      <td>6.0</td>\n",
       "      <td>NaN</td>\n",
       "      <td>NaN</td>\n",
       "      <td>2015</td>\n",
       "      <td>373002</td>\n",
       "    </tr>\n",
       "    <tr>\n",
       "      <th>2</th>\n",
       "      <td>7.0</td>\n",
       "      <td>6.0</td>\n",
       "      <td>6.0</td>\n",
       "      <td>NaN</td>\n",
       "      <td>5.0</td>\n",
       "      <td>4.0</td>\n",
       "      <td>NaN</td>\n",
       "      <td>NaN</td>\n",
       "      <td>2015</td>\n",
       "      <td>373003</td>\n",
       "    </tr>\n",
       "    <tr>\n",
       "      <th>3</th>\n",
       "      <td>7.0</td>\n",
       "      <td>5.0</td>\n",
       "      <td>6.0</td>\n",
       "      <td>6.0</td>\n",
       "      <td>5.0</td>\n",
       "      <td>6.0</td>\n",
       "      <td>NaN</td>\n",
       "      <td>NaN</td>\n",
       "      <td>2015</td>\n",
       "      <td>373004</td>\n",
       "    </tr>\n",
       "    <tr>\n",
       "      <th>4</th>\n",
       "      <td>7.0</td>\n",
       "      <td>7.0</td>\n",
       "      <td>6.0</td>\n",
       "      <td>6.0</td>\n",
       "      <td>6.0</td>\n",
       "      <td>7.0</td>\n",
       "      <td>NaN</td>\n",
       "      <td>NaN</td>\n",
       "      <td>2015</td>\n",
       "      <td>373005</td>\n",
       "    </tr>\n",
       "  </tbody>\n",
       "</table>\n",
       "</div>"
      ],
      "text/plain": [
       "   NOT_FAMI  NOT_PROF  NOT_AMIS  NOT_COHE  NOT_POLI  NOT_LIBR  NOT_LOG  \\\n",
       "0       5.0       6.0       6.0       6.0       3.0       6.0      NaN   \n",
       "1       7.0       6.0       6.0       7.0       5.0       6.0      NaN   \n",
       "2       7.0       6.0       6.0       NaN       5.0       4.0      NaN   \n",
       "3       7.0       5.0       6.0       6.0       5.0       6.0      NaN   \n",
       "4       7.0       7.0       6.0       6.0       6.0       7.0      NaN   \n",
       "\n",
       "   NOT_CAD  ANNEEFUZ  INTER6  \n",
       "0      NaN      2015  373001  \n",
       "1      NaN      2015  373002  \n",
       "2      NaN      2015  373003  \n",
       "3      NaN      2015  373004  \n",
       "4      NaN      2015  373005  "
      ]
     },
     "execution_count": 8,
     "metadata": {},
     "output_type": "execute_result"
    }
   ],
   "source": [
    "sub_cdv.head()"
   ]
  },
  {
   "cell_type": "code",
   "execution_count": 9,
   "metadata": {
    "collapsed": true
   },
   "outputs": [],
   "source": [
    "cdv1718 = sub_cdv.loc[sub_cdv[\"ANNEEFUZ\"].isin([2017,2018]),:]"
   ]
  },
  {
   "cell_type": "code",
   "execution_count": 10,
   "metadata": {},
   "outputs": [
    {
     "data": {
      "text/html": [
       "<div>\n",
       "<style>\n",
       "    .dataframe thead tr:only-child th {\n",
       "        text-align: right;\n",
       "    }\n",
       "\n",
       "    .dataframe thead th {\n",
       "        text-align: left;\n",
       "    }\n",
       "\n",
       "    .dataframe tbody tr th {\n",
       "        vertical-align: top;\n",
       "    }\n",
       "</style>\n",
       "<table border=\"1\" class=\"dataframe\">\n",
       "  <thead>\n",
       "    <tr style=\"text-align: right;\">\n",
       "      <th></th>\n",
       "      <th>NOT_FAMI</th>\n",
       "      <th>NOT_PROF</th>\n",
       "      <th>NOT_AMIS</th>\n",
       "      <th>NOT_COHE</th>\n",
       "      <th>NOT_POLI</th>\n",
       "      <th>NOT_LIBR</th>\n",
       "      <th>NOT_LOG</th>\n",
       "      <th>NOT_CAD</th>\n",
       "      <th>ANNEEFUZ</th>\n",
       "      <th>INTER6</th>\n",
       "    </tr>\n",
       "  </thead>\n",
       "  <tbody>\n",
       "    <tr>\n",
       "      <th>count</th>\n",
       "      <td>5947.000000</td>\n",
       "      <td>5911.000000</td>\n",
       "      <td>5934.000000</td>\n",
       "      <td>5916.000000</td>\n",
       "      <td>5904.000000</td>\n",
       "      <td>5913.000000</td>\n",
       "      <td>5932.000000</td>\n",
       "      <td>5925.000000</td>\n",
       "      <td>6036.000000</td>\n",
       "      <td>6036.000000</td>\n",
       "    </tr>\n",
       "    <tr>\n",
       "      <th>mean</th>\n",
       "      <td>6.206491</td>\n",
       "      <td>4.714600</td>\n",
       "      <td>5.216212</td>\n",
       "      <td>4.617478</td>\n",
       "      <td>3.658706</td>\n",
       "      <td>5.410621</td>\n",
       "      <td>5.510789</td>\n",
       "      <td>5.687595</td>\n",
       "      <td>2017.499669</td>\n",
       "      <td>396506.768058</td>\n",
       "    </tr>\n",
       "    <tr>\n",
       "      <th>std</th>\n",
       "      <td>1.492127</td>\n",
       "      <td>1.740409</td>\n",
       "      <td>1.337627</td>\n",
       "      <td>1.360557</td>\n",
       "      <td>1.678520</td>\n",
       "      <td>1.280449</td>\n",
       "      <td>1.214502</td>\n",
       "      <td>1.216359</td>\n",
       "      <td>0.500041</td>\n",
       "      <td>5075.357643</td>\n",
       "    </tr>\n",
       "    <tr>\n",
       "      <th>min</th>\n",
       "      <td>1.000000</td>\n",
       "      <td>1.000000</td>\n",
       "      <td>1.000000</td>\n",
       "      <td>1.000000</td>\n",
       "      <td>1.000000</td>\n",
       "      <td>1.000000</td>\n",
       "      <td>1.000000</td>\n",
       "      <td>1.000000</td>\n",
       "      <td>2017.000000</td>\n",
       "      <td>390001.000000</td>\n",
       "    </tr>\n",
       "    <tr>\n",
       "      <th>25%</th>\n",
       "      <td>6.000000</td>\n",
       "      <td>4.000000</td>\n",
       "      <td>4.000000</td>\n",
       "      <td>4.000000</td>\n",
       "      <td>2.000000</td>\n",
       "      <td>5.000000</td>\n",
       "      <td>5.000000</td>\n",
       "      <td>5.000000</td>\n",
       "      <td>2017.000000</td>\n",
       "      <td>391509.750000</td>\n",
       "    </tr>\n",
       "    <tr>\n",
       "      <th>50%</th>\n",
       "      <td>7.000000</td>\n",
       "      <td>5.000000</td>\n",
       "      <td>5.000000</td>\n",
       "      <td>5.000000</td>\n",
       "      <td>4.000000</td>\n",
       "      <td>6.000000</td>\n",
       "      <td>6.000000</td>\n",
       "      <td>6.000000</td>\n",
       "      <td>2017.000000</td>\n",
       "      <td>393019.500000</td>\n",
       "    </tr>\n",
       "    <tr>\n",
       "      <th>75%</th>\n",
       "      <td>7.000000</td>\n",
       "      <td>6.000000</td>\n",
       "      <td>6.000000</td>\n",
       "      <td>5.000000</td>\n",
       "      <td>5.000000</td>\n",
       "      <td>6.000000</td>\n",
       "      <td>6.000000</td>\n",
       "      <td>7.000000</td>\n",
       "      <td>2018.000000</td>\n",
       "      <td>401508.250000</td>\n",
       "    </tr>\n",
       "    <tr>\n",
       "      <th>max</th>\n",
       "      <td>7.000000</td>\n",
       "      <td>7.000000</td>\n",
       "      <td>7.000000</td>\n",
       "      <td>7.000000</td>\n",
       "      <td>7.000000</td>\n",
       "      <td>7.000000</td>\n",
       "      <td>7.000000</td>\n",
       "      <td>7.000000</td>\n",
       "      <td>2018.000000</td>\n",
       "      <td>403018.000000</td>\n",
       "    </tr>\n",
       "  </tbody>\n",
       "</table>\n",
       "</div>"
      ],
      "text/plain": [
       "          NOT_FAMI     NOT_PROF     NOT_AMIS     NOT_COHE     NOT_POLI  \\\n",
       "count  5947.000000  5911.000000  5934.000000  5916.000000  5904.000000   \n",
       "mean      6.206491     4.714600     5.216212     4.617478     3.658706   \n",
       "std       1.492127     1.740409     1.337627     1.360557     1.678520   \n",
       "min       1.000000     1.000000     1.000000     1.000000     1.000000   \n",
       "25%       6.000000     4.000000     4.000000     4.000000     2.000000   \n",
       "50%       7.000000     5.000000     5.000000     5.000000     4.000000   \n",
       "75%       7.000000     6.000000     6.000000     5.000000     5.000000   \n",
       "max       7.000000     7.000000     7.000000     7.000000     7.000000   \n",
       "\n",
       "          NOT_LIBR      NOT_LOG      NOT_CAD     ANNEEFUZ         INTER6  \n",
       "count  5913.000000  5932.000000  5925.000000  6036.000000    6036.000000  \n",
       "mean      5.410621     5.510789     5.687595  2017.499669  396506.768058  \n",
       "std       1.280449     1.214502     1.216359     0.500041    5075.357643  \n",
       "min       1.000000     1.000000     1.000000  2017.000000  390001.000000  \n",
       "25%       5.000000     5.000000     5.000000  2017.000000  391509.750000  \n",
       "50%       6.000000     6.000000     6.000000  2017.000000  393019.500000  \n",
       "75%       6.000000     6.000000     7.000000  2018.000000  401508.250000  \n",
       "max       7.000000     7.000000     7.000000  2018.000000  403018.000000  "
      ]
     },
     "execution_count": 10,
     "metadata": {},
     "output_type": "execute_result"
    }
   ],
   "source": [
    "cdv1718.describe()"
   ]
  },
  {
   "cell_type": "code",
   "execution_count": null,
   "metadata": {
    "collapsed": true
   },
   "outputs": [],
   "source": []
  },
  {
   "cell_type": "code",
   "execution_count": null,
   "metadata": {
    "collapsed": true
   },
   "outputs": [],
   "source": []
  }
 ],
 "metadata": {
  "kernelspec": {
   "display_name": "Python 3",
   "language": "python",
   "name": "python3"
  },
  "language_info": {
   "codemirror_mode": {
    "name": "ipython",
    "version": 3
   },
   "file_extension": ".py",
   "mimetype": "text/x-python",
   "name": "python",
   "nbconvert_exporter": "python",
   "pygments_lexer": "ipython3",
   "version": "3.6.3"
  }
 },
 "nbformat": 4,
 "nbformat_minor": 2
}
