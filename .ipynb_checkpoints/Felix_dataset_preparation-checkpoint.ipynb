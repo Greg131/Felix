{
 "cells": [
  {
   "cell_type": "markdown",
   "metadata": {},
   "source": [
    "# Felix - dataset preparation"
   ]
  },
  {
   "cell_type": "markdown",
   "metadata": {},
   "source": [
    "A dataset is build based on \"Etude condistions de vie\" merged with \"INSEE\" communal data ...\n",
    "....  \n",
    "Categorial features are ... K-1 categ\n",
    "...\n",
    "Set of variables and featiures ..."
   ]
  },
  {
   "cell_type": "code",
   "execution_count": 1,
   "metadata": {
    "collapsed": true
   },
   "outputs": [],
   "source": [
    "from pathlib import Path\n",
    "import pandas as pd\n",
    "import numpy as np\n",
    "from datetime import datetime\n",
    "import time\n",
    "import matplotlib.pyplot as plt\n",
    "%matplotlib inline\n",
    "import pickle\n",
    "from sklearn.model_selection import train_test_split\n",
    "from sklearn.preprocessing import StandardScaler\n",
    "from sklearn.linear_model import LogisticRegression\n",
    "from sklearn.model_selection import cross_val_score, GridSearchCV\n",
    "from sklearn.decomposition import PCA\n",
    "from sklearn.ensemble import RandomForestClassifier\n",
    "from sklearn.metrics import confusion_matrix, f1_score, precision_score, recall_score\n",
    "from sklearn.preprocessing import LabelEncoder\n",
    "from sklearn.preprocessing import LabelBinarizer\n",
    "from sklearn.preprocessing import OneHotEncoder\n",
    "from sklearn.svm import SVC, LinearSVC\n",
    "from sklearn.model_selection import StratifiedKFold\n",
    "from sklearn.feature_selection import RFECV, RFE, SelectKBest, chi2, SelectFromModel\n",
    "from sklearn.utils import resample"
   ]
  },
  {
   "cell_type": "code",
   "execution_count": 2,
   "metadata": {
    "collapsed": true
   },
   "outputs": [],
   "source": [
    "path_project = Path.home() / Path('Google Drive/Felix')\n",
    "path_data = path_project / Path(\"data\")\n",
    "path_dump = path_project / Path(\"dump\")"
   ]
  },
  {
   "cell_type": "markdown",
   "metadata": {},
   "source": [
    "## Feature sets and engineering - Dataset preparation"
   ]
  },
  {
   "cell_type": "code",
   "execution_count": 3,
   "metadata": {
    "collapsed": true
   },
   "outputs": [],
   "source": [
    "# loading cdv data\n",
    "file = path_data / Path(\"felix.csv\")\n",
    "with Path.open(file, 'rb') as fp:\n",
    "    cdv = pd.read_csv(fp,  encoding='cp1252',low_memory=False, index_col = 0)"
   ]
  },
  {
   "cell_type": "code",
   "execution_count": 4,
   "metadata": {
    "collapsed": true
   },
   "outputs": [],
   "source": [
    "# loadind cdv data without format\n",
    "file = path_data / Path(\"felix_ssfmt.csv\")\n",
    "with Path.open(file, 'rb') as fp:\n",
    "    cdv_ssfmt = pd.read_csv(fp,  encoding='cp1252',low_memory=False, index_col = 0)"
   ]
  },
  {
   "cell_type": "markdown",
   "metadata": {},
   "source": [
    "### Feature scope"
   ]
  },
  {
   "cell_type": "code",
   "execution_count": 5,
   "metadata": {
    "collapsed": true
   },
   "outputs": [],
   "source": [
    "# number of line per year in teh dataset\n",
    "n_per_year = cdv[\"ANNEEFUZ\"].value_counts()\n",
    "# number of missing value per variable for a given year\n",
    "na_2015 = np.sum(cdv.loc[cdv[\"ANNEEFUZ\"] == 2015].isnull()) \n",
    "na_2016 = np.sum(cdv.loc[cdv[\"ANNEEFUZ\"] == 2016].isnull()) \n",
    "na_2017 = np.sum(cdv.loc[cdv[\"ANNEEFUZ\"] == 2017].isnull()) \n",
    "na_2018 = np.sum(cdv.loc[cdv[\"ANNEEFUZ\"] == 2018].isnull()) \n",
    "# column scope per year \n",
    "cdv_2015_var = set(na_2015[na_2015 < n_per_year[2015]].index)\n",
    "cdv_2016_var = set(na_2016[na_2016 < n_per_year[2016]].index)\n",
    "cdv_2017_var = set(na_2017[na_2017 < n_per_year[2017]].index)\n",
    "cdv_2018_var = set(na_2018[na_2018 < n_per_year[2018]].index)"
   ]
  },
  {
   "cell_type": "code",
   "execution_count": 6,
   "metadata": {
    "collapsed": true
   },
   "outputs": [],
   "source": [
    "cdv_2015_2018_var = (cdv_2015_var & cdv_2016_var & cdv_2017_var & cdv_2018_var)\n",
    "cdv_2016_2018_var = (cdv_2016_var & cdv_2017_var & cdv_2018_var)\n",
    "cdv_2017_2018_var = (cdv_2017_var & cdv_2018_var)"
   ]
  },
  {
   "cell_type": "code",
   "execution_count": 7,
   "metadata": {},
   "outputs": [
    {
     "name": "stdout",
     "output_type": "stream",
     "text": [
      "267 variables common to all study out of 353\n"
     ]
    }
   ],
   "source": [
    "print(f\"{len(cdv_2015_2018_var)} variables common to all study out of {cdv_ssfmt.shape[1]}\")"
   ]
  },
  {
   "cell_type": "markdown",
   "metadata": {},
   "source": [
    "### Special variables "
   ]
  },
  {
   "cell_type": "code",
   "execution_count": 8,
   "metadata": {
    "collapsed": true
   },
   "outputs": [],
   "source": [
    "cdv_var = set(cdv.columns)\n",
    "pred_var = {\"HEUREUX\"}\n",
    "tech_var = {\n",
    "    \"ANNEEFUZ\", \"ANNEFUZ2\", \"COLLECTE\", \"CHAMP\", \n",
    "    \"identifiant\", \"an_enq\", \"INTER\"\n",
    "}\n",
    "com_var = {'COMINSEE', 'DEPCOM', 'com', 'inseel','inseenum','CP'}\n",
    "text_var = {'RADIQUOI'}\n",
    "bizz_var = {\n",
    "    'NB0003','NB0306','NB0610','NB1016','NB1620','NB2099',\n",
    "    'an_nais','decuc','decsqt','info','typodeg','refus2', \n",
    "    'cpt', 'prescaf', 'poptrpeu','REVUC','i','REVTOT', \n",
    "    'poppeud','popdense', 'popinter', 'pmun', 'agedip', 'age_OW',\n",
    "    'REVsqt', 'NBUC', 'AGGLOINS', 'med', 'CSP6','REVTOT6',\n",
    "    'ACM1','ACM2','ACM3','ACM4','ACM5', 'ACM6', 'ACM7',\n",
    "    'ACM8','ACM9', 'ACM10', 'ACM11','ACM12'\n",
    "}\n",
    "calc_cdv_var = set()"
   ]
  },
  {
   "cell_type": "code",
   "execution_count": 9,
   "metadata": {
    "collapsed": true
   },
   "outputs": [],
   "source": [
    "non_redundant_cdv_var = {\n",
    "    'zau2010','YOGA','WHYLIM','VOITURE','VISITFAM','VACANCES',\n",
    "    'UNIONGAY','UDA10','TYPOSQT','TYPLOG2','TYPLOG',\n",
    "    'TYPEMPL','type99','TYPCONT','TYPCHAUF','TRAVFEM','TRANSFST','TRANSFO5',\n",
    "    'TEMPSTRA','TELMOB','TAXENV','statut99',\n",
    "    'STATMAT','STATLOGB','SOUFFTET','SOUFFNER','SOUFFINS',\n",
    "    'SOUFFDOS','SOUFFDEP','SITUFAM','SITUEMP5','SITUEMP',\n",
    "    'SEXE_9','SEXE_8','SEXE_7','SEXE_6','SEXE_5','SEXE_4',\n",
    "    'SEXE_3','SEXE_2','SEXE','SENSIENV','SECURITE','SALCOMPI',\n",
    "    'SALCOMPC','RURAURBA','ROBOT3','ROBOT2','ROBOT1',\n",
    "    'revtot7','REVTOT','REVPF','REVENQ','REVCONJ','REVAUTR',\n",
    "    'REVAUON','REV_TR7','RESTRICT','RESIDALT','RELIGION','RELEG',\n",
    "    'refus2','RECEP','RE_WEB','RE_VOIT','RE_VAC',\n",
    "    'RE_TABAL','RE_MEDI','RE_LOG','RE_HABI','RE_EQUI',\n",
    "    'RE_ENF','RE_ALIM','RAISPAUV','RADWHY9','RADWHY8','RADWHY7',\n",
    "    'RADWHY6','RADWHY5','RADWHY4','RADWHY3','RADWHY2','RADWHY14',\n",
    "    'RADWHY13','RADWHY12','RADWHY11','RADWHY10','RADWHY1',\n",
    "    'RADI3','RADI2','RADI1','PROGRAD','PRIVPUB','PRESTCAF',\n",
    "    'prescaf','PREOVIO','PREOTENS','PREOPAUM',\n",
    "    'PREOPAUF','PREOMALA','PREOIMMI','PREOEURO','PREOENV',\n",
    "    'PREODROG','PREOCONF','PREOCHOM','PREOCCU2','PREOCCU1',\n",
    "    'PREFPALI','PRATCOLL','popdense','pmun','PCSENQ7','PCSENQ36',\n",
    "    'PCSCON7','ORDLIB','OPIRSA','OPIIMMIG','OPICULT',\n",
    "    'NOT_PROF','NOT_POLI','NOT_LOG','NOT_LIBR','NOT_FAMI',\n",
    "    'NOT_COHE','NOT_CAD','NOT_AMIS','NIVPERSO','NIVPERS4',\n",
    "    'NIVFRAN4','NBUC','NBPIECE6','NBPERS5','NBPERS','NBHEUR35',\n",
    "    'NBENF6','NBCHOM','NB99_4','NB2099','NB20_4','NB1620',\n",
    "    'NB16_4','NB1016','NB10_4','NB0610','NB06_4','NB0306','NB03_4',\n",
    "    'NB0003','MONDIAL','med','LOGSUFFI','LIMVIAND',\n",
    "    'LIEN_9','LIEN_8','LIEN_7','LIEN_6','LIEN_5','LIEN_4','LIEN_3',\n",
    "    'LIEN_2','JUSTICE','ISEGO','INTERIM','INQROUTE',\n",
    "    'INQNUCLE','INQMALAD','INQGUERR','INQCHOMA','INQALIM',\n",
    "    'INQAGRES','INQ4SUR6','INNOVTEC','info','IMAGTRAV','i',\n",
    "    'HEUREUX','HARVEY','HANDICAP','FREQTELE','FREQSPOR','FREQCINE',\n",
    "    'FREQBIBL','FAMILLE','EXERCPRO','ETATSAN','ENFANTS','EFFORTPP',\n",
    "    'ECHPOL','DIPLOME','DEPLOG3','cpt','CP','COUPLE','CONFWEB','CONFPUB',\n",
    "    'CONFPRES','CONFPOLI','CONFMEFI',\n",
    "    'CONFKEUF','CONFGOUV','CONFENTR','CONFECOL','CONFBANK',\n",
    "    'CONFASSO','CONDUIT','COMMU8','COMMU7','COMMU6','COMMU5',\n",
    "    'COMMU4','COMMU3','COMMU2','COMMU1','com','CLASSESO',\n",
    "    'CHOVOLON','CHOIXNUC','CHOAVANT','CHERCHEM','CDV5_4','CDV5',\n",
    "    'CADVIE','BANQVIE','BANQMOB','BANQEPA','AUTREREV','AUTREAL','ASSOSYND','ASSOSPOR',\n",
    "    'ASSOPOLI','ASSOPARE','ASSOJEUN','ASSOHUMA','ASSOENVI',\n",
    "    'ASSOCULT','ASSOCONS','ASSOCONF','ASSOAUTR','ASSO6_2','ASSO11_3','ASSO11_2','ASSO10_3',\n",
    "    'ASSO10_2','AIDESUFF','AGGLOINS','AGGLO9','AGESEX12','agedip','AGE6',\n",
    "    'AGE5','age_OW','AGE_9','AGE_8','AGE_7',\n",
    "    'AGE_6','AGE_5','AGE_4','AGE_3','AGE_2','AGE','ADOPTGAY','ADNSTIC','ADNORDI',\n",
    "    'ADNCB','ACM9','ACM8','ACM7','ACM6',\n",
    "    'ACM5','ACM4','ACM3','ACM2','ACM12','ACM11','ACM10','ACM1', 'COMINSEE'\n",
    "}"
   ]
  },
  {
   "cell_type": "markdown",
   "metadata": {},
   "source": [
    "### Categorial variable"
   ]
  },
  {
   "cell_type": "code",
   "execution_count": 10,
   "metadata": {
    "collapsed": true,
    "scrolled": true
   },
   "outputs": [],
   "source": [
    "obj_cdv = cdv.select_dtypes(include=['object'])\n",
    "obj_var = set(obj_cdv.columns)\n",
    "cat_max9_var = set()\n",
    "cat_min10_var = set()\n",
    "for c in obj_var:\n",
    "    obj_cdv_valcpt = obj_cdv[c].value_counts()\n",
    "    if len(obj_cdv_valcpt) > 10:\n",
    "        cat_min10_var.add(c)\n",
    "    else:\n",
    "        cat_max9_var.add(c)"
   ]
  },
  {
   "cell_type": "code",
   "execution_count": 11,
   "metadata": {
    "collapsed": true
   },
   "outputs": [],
   "source": [
    "ord_var = {\n",
    "    \"CONFPOLI\", \"AGE5\",\"SECURITE\", \"ACM7\",\"INQGUERR\", \"NBPIECE6\",\"INNOVTEC\",\n",
    "    \"JUSTICE\",\"EFFORTPP\",\"ACM10\",\"NIVFRAN4\",\"NBPERS5\",\"INQCHOMA\",\"CDV5_4\",\n",
    "    \"CONFGOUV\",\"ADOPTGAY\",\"ACM8\",\"FREQCINE\",\"CONFPUB\",\"FREQSPOR\",\"INQALIM\",\n",
    "    \"ASSO10_3\", \"FREQBIBL\",\"DEPLOG\",\"NBCHOM\",\"CONFENTR\",\"ORDLIB\",\"ACM5\",\n",
    "    \"INQMALAD\",\"FREQTELE\",\"NBENF6\",\"ACM9\",\"revtot7\",\"INQROUTE\",\"NIVPERS4\",\n",
    "    \"ETATSAN\",\"INQNUCLE\",\"NIVPERSO\",\"CONFASSO\",\"ACM6\",\"CDV5\",\"UNIONGAY\",\n",
    "    \"ACM4\",\"INQAGRES\",\"CADVIE\",\"NIVFRAN\",\"REV_TR7\",\"ISEGO\",\"RECEP\",\"AGE6\",\n",
    "    \"ADNCB\",\"PRATCOLL\",\"NBHEUR39\",\"HARVEY\",\"QUOTAAGE\",\"NBHEUR35\",\"RELEG\",\n",
    "    \"CONFKEUF\",\"CONFECOL\",\"ADNSTIC\",\"ADNORDI\",\"CONFPRES\",\"CONFWEB\",\"CONFBANK\"\n",
    "}"
   ]
  },
  {
   "cell_type": "code",
   "execution_count": 12,
   "metadata": {
    "collapsed": true
   },
   "outputs": [],
   "source": [
    "# exclusion of features with order\n",
    "cat_var = obj_var - ord_var\n",
    "cat_max9_var = cat_max9_var - ord_var\n",
    "cat_min10_var = cat_min10_var - ord_var"
   ]
  },
  {
   "cell_type": "code",
   "execution_count": 13,
   "metadata": {
    "collapsed": true
   },
   "outputs": [],
   "source": [
    "cdv_dtypes = cdv.dtypes"
   ]
  },
  {
   "cell_type": "code",
   "execution_count": 14,
   "metadata": {
    "collapsed": true
   },
   "outputs": [],
   "source": [
    "int_var = set(cdv_dtypes[cdv_dtypes == 'int64'].index)"
   ]
  },
  {
   "cell_type": "code",
   "execution_count": 15,
   "metadata": {
    "collapsed": true
   },
   "outputs": [],
   "source": [
    "int_cat_var = {\n",
    "    'NB0003','NB0306','NB0610','NB1016',\n",
    "    'NB1620','NB2099', 'REVTOT6','ANNEEFUZ','INTER'\n",
    "}\n",
    "int_cat_max9_var = {\n",
    "    'NB0003','NB0306','NB0610','NB1016',\n",
    "    'NB1620','NB2099', \"REVTOT6\",\"ANNEEFUZ\"}\n",
    "int_cat_min10_var = {\n",
    "    'INTER'\n",
    "}\n",
    "int_quant_var = {\n",
    "    'AGE','REVENQ', 'AUTREREV',\n",
    "    'an_enq','an_nais' \n",
    "}"
   ]
  },
  {
   "cell_type": "code",
   "execution_count": 16,
   "metadata": {
    "collapsed": true
   },
   "outputs": [],
   "source": [
    "cat_var = cat_var | int_cat_var\n",
    "cat_max9_var = cat_max9_var | int_cat_max9_var\n",
    "cat_min10_var = cat_min10_var | int_cat_min10_var\n",
    "quant_var = ord_var | int_quant_var"
   ]
  },
  {
   "cell_type": "code",
   "execution_count": 17,
   "metadata": {
    "collapsed": true
   },
   "outputs": [],
   "source": [
    "float_var = set(cdv_dtypes[cdv_dtypes == 'float64'].index)"
   ]
  },
  {
   "cell_type": "code",
   "execution_count": 18,
   "metadata": {
    "collapsed": true
   },
   "outputs": [],
   "source": [
    "float_cat_min10_var = {'CP','inseenum'}\n",
    "float_cat_max9_var = {'refus2','cpt','prescaf','i','age_OW','TYPLOG','AGGLOINS','CSP6'}\n",
    "float_cat_var = float_cat_min10_var | float_cat_max9_var\n",
    "float_quant_var = float_var - float_cat_var"
   ]
  },
  {
   "cell_type": "code",
   "execution_count": 19,
   "metadata": {
    "collapsed": true
   },
   "outputs": [],
   "source": [
    "cat_var = cat_var | float_cat_var\n",
    "cat_max9_var = cat_max9_var | float_cat_max9_var\n",
    "cat_min10_var = cat_min10_var | float_cat_min10_var\n",
    "quant_var = quant_var | float_quant_var"
   ]
  },
  {
   "cell_type": "code",
   "execution_count": 20,
   "metadata": {},
   "outputs": [
    {
     "name": "stdout",
     "output_type": "stream",
     "text": [
      "out of the 353 variable :\n",
      "247 variables are categorial \n",
      "106 variables are quantitative \n"
     ]
    }
   ],
   "source": [
    "print(f\"out of the {cdv.shape[1]} variable :\")\n",
    "print(f\"{len(cat_var)} variables are categorial \")\n",
    "print(f\"{len(quant_var)} variables are quantitative \")"
   ]
  },
  {
   "cell_type": "code",
   "execution_count": 21,
   "metadata": {},
   "outputs": [
    {
     "name": "stdout",
     "output_type": "stream",
     "text": [
      "out of the 247 variable categorial:\n",
      "221 variables have maximum 9 modalities  \n",
      "26 variables have more \n"
     ]
    }
   ],
   "source": [
    "print(f\"out of the {len(cat_var)} variable categorial:\")\n",
    "print(f\"{len(cat_max9_var)} variables have maximum 9 modalities  \")\n",
    "print(f\"{len(cat_min10_var)} variables have more \")"
   ]
  },
  {
   "cell_type": "markdown",
   "metadata": {
    "collapsed": true
   },
   "source": [
    "### Adding communal features and levers"
   ]
  },
  {
   "cell_type": "code",
   "execution_count": 22,
   "metadata": {
    "collapsed": true
   },
   "outputs": [],
   "source": [
    "# loading MergeCommunesEnvi data\n",
    "file = path_data / Path(\"MergeCommunesEnvi.csv\")\n",
    "with Path.open(file, 'rb') as fp:\n",
    "    MergeCommunesEnvi = pd.read_csv(fp,  encoding='cp1252',low_memory=False, sep=';', index_col = 1)"
   ]
  },
  {
   "cell_type": "code",
   "execution_count": 23,
   "metadata": {
    "collapsed": true
   },
   "outputs": [],
   "source": [
    "insee_var = set(MergeCommunesEnvi.columns) - set(cdv.columns)"
   ]
  },
  {
   "cell_type": "code",
   "execution_count": 24,
   "metadata": {
    "collapsed": true
   },
   "outputs": [],
   "source": [
    "df = MergeCommunesEnvi.loc[:,insee_var]\n",
    "insee_quant_var = set(df.select_dtypes(include=['float64']).columns)"
   ]
  },
  {
   "cell_type": "markdown",
   "metadata": {},
   "source": [
    "### Adding work on features of September\n"
   ]
  },
  {
   "cell_type": "code",
   "execution_count": 25,
   "metadata": {},
   "outputs": [],
   "source": [
    "# loadind xlsx file with agreement data \n",
    "file = path_data / Path(\"Base of Actionable Var. - Survey Data.xlsx\")\n",
    "with Path.open(file, 'rb') as fp:\n",
    "    agreement = pd.read_excel(fp, \n",
    "                        sheetname='List 1 Actionable Individual',\n",
    "                        parse_cols=\"C,H\",\n",
    "                        index_col=0\n",
    "                       )"
   ]
  },
  {
   "cell_type": "code",
   "execution_count": 26,
   "metadata": {},
   "outputs": [
    {
     "data": {
      "text/html": [
       "<div>\n",
       "<style>\n",
       "    .dataframe thead tr:only-child th {\n",
       "        text-align: right;\n",
       "    }\n",
       "\n",
       "    .dataframe thead th {\n",
       "        text-align: left;\n",
       "    }\n",
       "\n",
       "    .dataframe tbody tr th {\n",
       "        vertical-align: top;\n",
       "    }\n",
       "</style>\n",
       "<table border=\"1\" class=\"dataframe\">\n",
       "  <thead>\n",
       "    <tr style=\"text-align: right;\">\n",
       "      <th></th>\n",
       "      <th>Agreement</th>\n",
       "    </tr>\n",
       "    <tr>\n",
       "      <th>Variables</th>\n",
       "      <th></th>\n",
       "    </tr>\n",
       "  </thead>\n",
       "  <tbody>\n",
       "    <tr>\n",
       "      <th>INTER6</th>\n",
       "      <td>4</td>\n",
       "    </tr>\n",
       "    <tr>\n",
       "      <th>INTER</th>\n",
       "      <td>4</td>\n",
       "    </tr>\n",
       "    <tr>\n",
       "      <th>ANNEEFUZ</th>\n",
       "      <td>4</td>\n",
       "    </tr>\n",
       "    <tr>\n",
       "      <th>ANNEFUZ2</th>\n",
       "      <td>4</td>\n",
       "    </tr>\n",
       "    <tr>\n",
       "      <th>COLLECTE</th>\n",
       "      <td>4</td>\n",
       "    </tr>\n",
       "  </tbody>\n",
       "</table>\n",
       "</div>"
      ],
      "text/plain": [
       "           Agreement\n",
       "Variables           \n",
       "INTER6             4\n",
       "INTER              4\n",
       "ANNEEFUZ           4\n",
       "ANNEFUZ2           4\n",
       "COLLECTE           4"
      ]
     },
     "execution_count": 26,
     "metadata": {},
     "output_type": "execute_result"
    }
   ],
   "source": [
    "agreement.head()"
   ]
  },
  {
   "cell_type": "code",
   "execution_count": 27,
   "metadata": {
    "collapsed": true
   },
   "outputs": [],
   "source": [
    "cdv_actionable_individual_1_var = set(agreement.loc[agreement.loc[:,\"Agreement\"]==1,:].index)\n",
    "cdv_actionable_individual_2_var = set(agreement.loc[agreement.loc[:,\"Agreement\"]==2,:].index)\n",
    "cdv_actionable_individual_3_var = set(agreement.loc[agreement.loc[:,\"Agreement\"]==3,:].index)\n",
    "cdv_actionable_individual_4_var = set(agreement.loc[agreement.loc[:,\"Agreement\"]==4,:].index)"
   ]
  },
  {
   "cell_type": "code",
   "execution_count": 28,
   "metadata": {
    "collapsed": true
   },
   "outputs": [],
   "source": [
    "# loadind xlsx file with agreement data \n",
    "file = path_data / Path(\"Base of Actionable Var. - Survey Data.xlsx\")\n",
    "with Path.open(file, 'rb') as fp:\n",
    "    agreement = pd.read_excel(fp, \n",
    "                        sheetname='List 2 Actionable Admin',\n",
    "                        parse_cols=\"C,H\",\n",
    "                        index_col=0\n",
    "                       )"
   ]
  },
  {
   "cell_type": "code",
   "execution_count": 29,
   "metadata": {},
   "outputs": [
    {
     "data": {
      "text/html": [
       "<div>\n",
       "<style>\n",
       "    .dataframe thead tr:only-child th {\n",
       "        text-align: right;\n",
       "    }\n",
       "\n",
       "    .dataframe thead th {\n",
       "        text-align: left;\n",
       "    }\n",
       "\n",
       "    .dataframe tbody tr th {\n",
       "        vertical-align: top;\n",
       "    }\n",
       "</style>\n",
       "<table border=\"1\" class=\"dataframe\">\n",
       "  <thead>\n",
       "    <tr style=\"text-align: right;\">\n",
       "      <th></th>\n",
       "      <th>Agreement</th>\n",
       "    </tr>\n",
       "    <tr>\n",
       "      <th>Variables</th>\n",
       "      <th></th>\n",
       "    </tr>\n",
       "  </thead>\n",
       "  <tbody>\n",
       "    <tr>\n",
       "      <th>INTER6</th>\n",
       "      <td>4</td>\n",
       "    </tr>\n",
       "    <tr>\n",
       "      <th>INTER</th>\n",
       "      <td>4</td>\n",
       "    </tr>\n",
       "    <tr>\n",
       "      <th>ANNEEFUZ</th>\n",
       "      <td>4</td>\n",
       "    </tr>\n",
       "    <tr>\n",
       "      <th>ANNEFUZ2</th>\n",
       "      <td>4</td>\n",
       "    </tr>\n",
       "    <tr>\n",
       "      <th>COLLECTE</th>\n",
       "      <td>4</td>\n",
       "    </tr>\n",
       "  </tbody>\n",
       "</table>\n",
       "</div>"
      ],
      "text/plain": [
       "           Agreement\n",
       "Variables           \n",
       "INTER6             4\n",
       "INTER              4\n",
       "ANNEEFUZ           4\n",
       "ANNEFUZ2           4\n",
       "COLLECTE           4"
      ]
     },
     "execution_count": 29,
     "metadata": {},
     "output_type": "execute_result"
    }
   ],
   "source": [
    "agreement.head()"
   ]
  },
  {
   "cell_type": "code",
   "execution_count": 30,
   "metadata": {
    "collapsed": true
   },
   "outputs": [],
   "source": [
    "cdv_actionable_admin_1_var = set(agreement.loc[agreement.loc[:,\"Agreement\"]==1,:].index)\n",
    "cdv_actionable_admin_2_var = set(agreement.loc[agreement.loc[:,\"Agreement\"]==2,:].index)\n",
    "cdv_actionable_admin_3_var = set(agreement.loc[agreement.loc[:,\"Agreement\"]==3,:].index)\n",
    "cdv_actionable_admin_4_var = set(agreement.loc[agreement.loc[:,\"Agreement\"]==4,:].index)\n",
    "cdv_actionable_admin_5_var = set(agreement.loc[agreement.loc[:,\"Agreement\"]==5,:].index)"
   ]
  },
  {
   "cell_type": "code",
   "execution_count": 31,
   "metadata": {},
   "outputs": [],
   "source": [
    "# loadind xlsx file with agreement data \n",
    "file = path_data / Path(\"Base Admin Action. Var. - Recreation.xlsx\")\n",
    "with Path.open(file, 'rb') as fp:\n",
    "    agreement = pd.read_excel(fp, \n",
    "                              sheetname='Actionable Variables',\n",
    "                              parse_cols=\"A,E\",\n",
    "                              index_col=0,\n",
    "                              skiprows=[0,1]\n",
    "                             )"
   ]
  },
  {
   "cell_type": "code",
   "execution_count": 32,
   "metadata": {},
   "outputs": [
    {
     "data": {
      "text/html": [
       "<div>\n",
       "<style>\n",
       "    .dataframe thead tr:only-child th {\n",
       "        text-align: right;\n",
       "    }\n",
       "\n",
       "    .dataframe thead th {\n",
       "        text-align: left;\n",
       "    }\n",
       "\n",
       "    .dataframe tbody tr th {\n",
       "        vertical-align: top;\n",
       "    }\n",
       "</style>\n",
       "<table border=\"1\" class=\"dataframe\">\n",
       "  <thead>\n",
       "    <tr style=\"text-align: right;\">\n",
       "      <th></th>\n",
       "      <th>Agreement</th>\n",
       "    </tr>\n",
       "    <tr>\n",
       "      <th>VAR</th>\n",
       "      <th></th>\n",
       "    </tr>\n",
       "  </thead>\n",
       "  <tbody>\n",
       "    <tr>\n",
       "      <th>CODGEO</th>\n",
       "      <td>4</td>\n",
       "    </tr>\n",
       "    <tr>\n",
       "      <th>LIBGEO</th>\n",
       "      <td>4</td>\n",
       "    </tr>\n",
       "    <tr>\n",
       "      <th>REG</th>\n",
       "      <td>4</td>\n",
       "    </tr>\n",
       "    <tr>\n",
       "      <th>DEP</th>\n",
       "      <td>4</td>\n",
       "    </tr>\n",
       "    <tr>\n",
       "      <th>NB_F101</th>\n",
       "      <td>1</td>\n",
       "    </tr>\n",
       "  </tbody>\n",
       "</table>\n",
       "</div>"
      ],
      "text/plain": [
       "         Agreement\n",
       "VAR               \n",
       "CODGEO           4\n",
       "LIBGEO           4\n",
       "REG              4\n",
       "DEP              4\n",
       "NB_F101          1"
      ]
     },
     "execution_count": 32,
     "metadata": {},
     "output_type": "execute_result"
    }
   ],
   "source": [
    "agreement.head()"
   ]
  },
  {
   "cell_type": "code",
   "execution_count": 33,
   "metadata": {},
   "outputs": [],
   "source": [
    "insee_recreation_var = set(agreement.index)"
   ]
  },
  {
   "cell_type": "code",
   "execution_count": 34,
   "metadata": {
    "collapsed": true
   },
   "outputs": [],
   "source": [
    "insee_recreation_actionable_admin_1_var = set(agreement.loc[agreement.loc[:,\"Agreement\"]==1,:].index)\n",
    "insee_recreation_actionable_admin_2_var = set(agreement.loc[agreement.loc[:,\"Agreement\"]==2,:].index)\n",
    "insee_recreation_actionable_admin_3_var = set(agreement.loc[agreement.loc[:,\"Agreement\"]==3,:].index)\n",
    "insee_recreation_actionable_admin_4_var = set(agreement.loc[agreement.loc[:,\"Agreement\"]==4,:].index)\n",
    "insee_recreation_actionable_admin_5_var = set(agreement.loc[agreement.loc[:,\"Agreement\"]==5,:].index)"
   ]
  },
  {
   "cell_type": "code",
   "execution_count": 35,
   "metadata": {
    "collapsed": true
   },
   "outputs": [],
   "source": [
    "# loadind xlsx file with agreement data \n",
    "file = path_data / Path(\"Base Admin Action. Var. - Environment.xlsx\")\n",
    "with Path.open(file, 'rb') as fp:\n",
    "    agreement = pd.read_excel(fp, \n",
    "                              sheetname='Actionable Variables',\n",
    "                              parse_cols=\"A,E\",\n",
    "                              index_col=0,\n",
    "                              skiprows=[0,1,2,3,4]\n",
    "                             )"
   ]
  },
  {
   "cell_type": "code",
   "execution_count": 36,
   "metadata": {},
   "outputs": [
    {
     "data": {
      "text/html": [
       "<div>\n",
       "<style>\n",
       "    .dataframe thead tr:only-child th {\n",
       "        text-align: right;\n",
       "    }\n",
       "\n",
       "    .dataframe thead th {\n",
       "        text-align: left;\n",
       "    }\n",
       "\n",
       "    .dataframe tbody tr th {\n",
       "        vertical-align: top;\n",
       "    }\n",
       "</style>\n",
       "<table border=\"1\" class=\"dataframe\">\n",
       "  <thead>\n",
       "    <tr style=\"text-align: right;\">\n",
       "      <th></th>\n",
       "      <th>Agreement</th>\n",
       "    </tr>\n",
       "    <tr>\n",
       "      <th>VAR</th>\n",
       "      <th></th>\n",
       "    </tr>\n",
       "  </thead>\n",
       "  <tbody>\n",
       "    <tr>\n",
       "      <th>code</th>\n",
       "      <td>4</td>\n",
       "    </tr>\n",
       "    <tr>\n",
       "      <th>communes</th>\n",
       "      <td>4</td>\n",
       "    </tr>\n",
       "    <tr>\n",
       "      <th>Superficie.protection.forte...2017..ha.</th>\n",
       "      <td>4</td>\n",
       "    </tr>\n",
       "    <tr>\n",
       "      <th>Part.protection.forte...2017....</th>\n",
       "      <td>1</td>\n",
       "    </tr>\n",
       "    <tr>\n",
       "      <th>Superficie.protection.contractuelle...2017..ha.</th>\n",
       "      <td>4</td>\n",
       "    </tr>\n",
       "    <tr>\n",
       "      <th>Part.protection.contractuelle...2017....</th>\n",
       "      <td>1</td>\n",
       "    </tr>\n",
       "    <tr>\n",
       "      <th>Superficie.forêts.et.milieux.semi.naturels...2012..ha.</th>\n",
       "      <td>4</td>\n",
       "    </tr>\n",
       "    <tr>\n",
       "      <th>Part.forêts.et.milieux.semi.naturels...2012....</th>\n",
       "      <td>2</td>\n",
       "    </tr>\n",
       "  </tbody>\n",
       "</table>\n",
       "</div>"
      ],
      "text/plain": [
       "                                                    Agreement\n",
       "VAR                                                          \n",
       "code                                                        4\n",
       "communes                                                    4\n",
       "Superficie.protection.forte...2017..ha.                     4\n",
       "Part.protection.forte...2017....                            1\n",
       "Superficie.protection.contractuelle...2017..ha.             4\n",
       "Part.protection.contractuelle...2017....                    1\n",
       "Superficie.forêts.et.milieux.semi.naturels...20...          4\n",
       "Part.forêts.et.milieux.semi.naturels...2012....             2"
      ]
     },
     "execution_count": 36,
     "metadata": {},
     "output_type": "execute_result"
    }
   ],
   "source": [
    "agreement.head(8)"
   ]
  },
  {
   "cell_type": "code",
   "execution_count": 37,
   "metadata": {
    "collapsed": true
   },
   "outputs": [],
   "source": [
    "insee_environment_var = set(agreement.index)"
   ]
  },
  {
   "cell_type": "code",
   "execution_count": 38,
   "metadata": {
    "collapsed": true
   },
   "outputs": [],
   "source": [
    "insee_environment_actionable_admin_1_var = set(agreement.loc[agreement.loc[:,\"Agreement\"]==1,:].index)\n",
    "insee_environment_actionable_admin_2_var = set(agreement.loc[agreement.loc[:,\"Agreement\"]==2,:].index)\n",
    "insee_environment_actionable_admin_3_var = set(agreement.loc[agreement.loc[:,\"Agreement\"]==3,:].index)\n",
    "insee_environment_actionable_admin_4_var = set(agreement.loc[agreement.loc[:,\"Agreement\"]==4,:].index)\n",
    "insee_environment_actionable_admin_5_var = set(agreement.loc[agreement.loc[:,\"Agreement\"]==5,:].index)"
   ]
  },
  {
   "cell_type": "code",
   "execution_count": 39,
   "metadata": {
    "collapsed": true
   },
   "outputs": [],
   "source": [
    "# loadind xlsx file with agreement data \n",
    "file = path_data / Path(\"Base Admin Action. Var. - Demographics.xlsx\")\n",
    "with Path.open(file, 'rb') as fp:\n",
    "    agreement = pd.read_excel(fp, \n",
    "                              sheetname='Actionable Variables',\n",
    "                              parse_cols=\"B,G\",\n",
    "                              index_col=0,\n",
    "                              skiprows=[0,1,2,3,4,5,6]\n",
    "                             )"
   ]
  },
  {
   "cell_type": "code",
   "execution_count": 40,
   "metadata": {},
   "outputs": [
    {
     "data": {
      "text/html": [
       "<div>\n",
       "<style>\n",
       "    .dataframe thead tr:only-child th {\n",
       "        text-align: right;\n",
       "    }\n",
       "\n",
       "    .dataframe thead th {\n",
       "        text-align: left;\n",
       "    }\n",
       "\n",
       "    .dataframe tbody tr th {\n",
       "        vertical-align: top;\n",
       "    }\n",
       "</style>\n",
       "<table border=\"1\" class=\"dataframe\">\n",
       "  <thead>\n",
       "    <tr style=\"text-align: right;\">\n",
       "      <th></th>\n",
       "      <th>Agreement</th>\n",
       "    </tr>\n",
       "    <tr>\n",
       "      <th>VAR_ID</th>\n",
       "      <th></th>\n",
       "    </tr>\n",
       "  </thead>\n",
       "  <tbody>\n",
       "    <tr>\n",
       "      <th>CODGEO</th>\n",
       "      <td>4</td>\n",
       "    </tr>\n",
       "    <tr>\n",
       "      <th>LIBGEO</th>\n",
       "      <td>4</td>\n",
       "    </tr>\n",
       "    <tr>\n",
       "      <th>REG</th>\n",
       "      <td>4</td>\n",
       "    </tr>\n",
       "    <tr>\n",
       "      <th>DEP</th>\n",
       "      <td>4</td>\n",
       "    </tr>\n",
       "    <tr>\n",
       "      <th>P15_POP</th>\n",
       "      <td>3</td>\n",
       "    </tr>\n",
       "  </tbody>\n",
       "</table>\n",
       "</div>"
      ],
      "text/plain": [
       "         Agreement\n",
       "VAR_ID            \n",
       "CODGEO           4\n",
       "LIBGEO           4\n",
       "REG              4\n",
       "DEP              4\n",
       "P15_POP          3"
      ]
     },
     "execution_count": 40,
     "metadata": {},
     "output_type": "execute_result"
    }
   ],
   "source": [
    "agreement.head()"
   ]
  },
  {
   "cell_type": "code",
   "execution_count": 41,
   "metadata": {
    "collapsed": true
   },
   "outputs": [],
   "source": [
    "insee_demographics_var = set(agreement.index)"
   ]
  },
  {
   "cell_type": "code",
   "execution_count": 42,
   "metadata": {
    "collapsed": true
   },
   "outputs": [],
   "source": [
    "insee_demographics_actionable_admin_1_var = set(agreement.loc[agreement.loc[:,\"Agreement\"]==1,:].index)\n",
    "insee_demographics_actionable_admin_2_var = set(agreement.loc[agreement.loc[:,\"Agreement\"]==2,:].index)\n",
    "insee_demographics_actionable_admin_3_var = set(agreement.loc[agreement.loc[:,\"Agreement\"]==3,:].index)\n",
    "insee_demographics_actionable_admin_4_var = set(agreement.loc[agreement.loc[:,\"Agreement\"]==4,:].index)\n",
    "insee_demographics_actionable_admin_5_var = set(agreement.loc[agreement.loc[:,\"Agreement\"]==5,:].index)"
   ]
  },
  {
   "cell_type": "code",
   "execution_count": 43,
   "metadata": {},
   "outputs": [
    {
     "data": {
      "text/plain": [
       "(11131, 571)"
      ]
     },
     "execution_count": 43,
     "metadata": {},
     "output_type": "execute_result"
    }
   ],
   "source": [
    "MergeCommunesEnvi.shape"
   ]
  },
  {
   "cell_type": "markdown",
   "metadata": {},
   "source": [
    "#### Adding calculated variable"
   ]
  },
  {
   "cell_type": "code",
   "execution_count": 44,
   "metadata": {},
   "outputs": [],
   "source": [
    "# calculation of scores linked to environment\n",
    "# score_protection_forte [3,6,40,60]\n",
    "MergeCommunesEnvi['score_protection_forte']=1\n",
    "MergeCommunesEnvi.loc[MergeCommunesEnvi.loc[:,'Part.protection.forte...2017....']>3,\n",
    "                      'score_protection_forte']=2\n",
    "MergeCommunesEnvi.loc[MergeCommunesEnvi.loc[:,'Part.protection.forte...2017....']>6,\n",
    "                      'score_protection_forte']=3\n",
    "MergeCommunesEnvi.loc[MergeCommunesEnvi.loc[:,'Part.protection.forte...2017....']>40,\n",
    "                      'score_protection_forte']=4\n",
    "MergeCommunesEnvi.loc[MergeCommunesEnvi.loc[:,'Part.protection.forte...2017....']>60,\n",
    "                      'score_protection_forte']=5\n",
    "\n",
    "# score_protection_contractuelle [1,5,10,15]\n",
    "MergeCommunesEnvi['score_protection_contractuelle']=1\n",
    "MergeCommunesEnvi.loc[MergeCommunesEnvi.loc[:,'Part.protection.contractuelle...2017....']>1,\n",
    "                      'score_protection_contractuelle']=2\n",
    "MergeCommunesEnvi.loc[MergeCommunesEnvi.loc[:,'Part.protection.contractuelle...2017....']>5,\n",
    "                      'score_protection_contractuelle']=3\n",
    "MergeCommunesEnvi.loc[MergeCommunesEnvi.loc[:,'Part.protection.contractuelle...2017....']>10,\n",
    "                      'score_protection_contractuelle']=4\n",
    "MergeCommunesEnvi.loc[MergeCommunesEnvi.loc[:,'Part.protection.contractuelle...2017....']>15,\n",
    "                      'score_protection_contractuelle']=5\n",
    "\n",
    "\n",
    "# score_part_naturel [15,20,25,30]\n",
    "MergeCommunesEnvi['score_nature']=1\n",
    "MergeCommunesEnvi.loc[MergeCommunesEnvi.loc[:,'Part.forêts.et.milieux.semi.naturels...2012....']>15,\n",
    "                      'score_nature']=2\n",
    "MergeCommunesEnvi.loc[MergeCommunesEnvi.loc[:,'Part.forêts.et.milieux.semi.naturels...2012....']>20,\n",
    "                      'score_nature']=3\n",
    "MergeCommunesEnvi.loc[MergeCommunesEnvi.loc[:,'Part.forêts.et.milieux.semi.naturels...2012....']>25,\n",
    "                      'score_nature']=4\n",
    "MergeCommunesEnvi.loc[MergeCommunesEnvi.loc[:,'Part.forêts.et.milieux.semi.naturels...2012....']>30,\n",
    "                      'score_nature']=5\n",
    "\n",
    "\n",
    "\n",
    "# score_protection_forte [1,5,10,20]\n",
    "MergeCommunesEnvi['score_zone_humide']=1\n",
    "MergeCommunesEnvi.loc[MergeCommunesEnvi.loc[:,'Part.zones.humides.et.surfaces.en.eau...2012....']>1,\n",
    "                      'score_zone_humide']=2\n",
    "MergeCommunesEnvi.loc[MergeCommunesEnvi.loc[:,'Part.zones.humides.et.surfaces.en.eau...2012....']>5,\n",
    "                      'score_zone_humide']=3\n",
    "MergeCommunesEnvi.loc[MergeCommunesEnvi.loc[:,'Part.zones.humides.et.surfaces.en.eau...2012....']>10,\n",
    "                      'score_zone_humide']=4\n",
    "MergeCommunesEnvi.loc[MergeCommunesEnvi.loc[:,'Part.zones.humides.et.surfaces.en.eau...2012....']>20,\n",
    "                      'score_zone_humide']=5\n",
    "\n",
    "# score_environnement\n",
    "MergeCommunesEnvi['score_environnement']= MergeCommunesEnvi['score_zone_humide'] \\\n",
    "+ MergeCommunesEnvi['score_nature'] \\\n",
    "+ MergeCommunesEnvi['score_protection_contractuelle'] \\\n",
    "+ MergeCommunesEnvi['score_protection_forte']"
   ]
  },
  {
   "cell_type": "code",
   "execution_count": 45,
   "metadata": {
    "collapsed": true
   },
   "outputs": [],
   "source": [
    "insee_environment_score_var = {\n",
    "    'score_environnement','score_zone_humide','score_nature',\n",
    "    'score_protection_contractuelle','score_protection_forte'\n",
    "}"
   ]
  },
  {
   "cell_type": "code",
   "execution_count": 46,
   "metadata": {},
   "outputs": [],
   "source": [
    "#leasure infrastructure score"
   ]
  },
  {
   "cell_type": "code",
   "execution_count": 47,
   "metadata": {
    "collapsed": true
   },
   "outputs": [],
   "source": [
    "recreation_var = {\n",
    "    'NB_F101_NB_AIREJEU',\n",
    "    'NB_F102_NB_AIREJEU',\n",
    "    'NB_F103_NB_AIREJEU',\n",
    "    'NB_F104_NB_AIREJEU',\n",
    "    'NB_F105_NB_AIREJEU',\n",
    "    'NB_F106_NB_AIREJEU',\n",
    "    'NB_F107_NB_AIREJEU',\n",
    "    'NB_F108_NB_AIREJEU',\n",
    "    'NB_F109_NB_AIREJEU',\n",
    "    'NB_F110_NB_AIREJEU',\n",
    "    'NB_F111_NB_AIREJEU',\n",
    "    'NB_F112_NB_AIREJEU',\n",
    "    'NB_F113_NB_AIREJEU',\n",
    "    'NB_F114_NB_AIREJEU',\n",
    "    'NB_F116_NB_AIREJEU',\n",
    "    'NB_F117_NB_AIREJEU',\n",
    "    'NB_F118_NB_AIREJEU',\n",
    "    'NB_F119_NB_AIREJEU',\n",
    "    'NB_F120_NB_AIREJEU',\n",
    "    'NB_F121_NB_AIREJEU',\n",
    "    'NB_F201_NB_AIREJEU',\n",
    "    'NB_F202_NB_AIREJEU',\n",
    "    'NB_F203_NB_AIREJEU',\n",
    "    'NB_F302',\n",
    "    'NB_F303',\n",
    "    'NB_F304',\n",
    "    'NB_F305'   \n",
    "}\n",
    "for col in recreation_var:\n",
    "    MergeCommunesEnvi[col+'_FLG']= 0\n",
    "    MergeCommunesEnvi.loc[MergeCommunesEnvi.loc[:,col]>0,col+'_FLG']= 1\n",
    "MergeCommunesEnvi['recreation_score']= 0\n",
    "for col in recreation_var:\n",
    "    MergeCommunesEnvi['recreation_score'] += MergeCommunesEnvi[col+'_FLG']"
   ]
  },
  {
   "cell_type": "code",
   "execution_count": 48,
   "metadata": {
    "collapsed": true
   },
   "outputs": [],
   "source": [
    "police_var = {'NB_A101', 'NB_A104'}\n",
    "for col in police_var:\n",
    "    MergeCommunesEnvi[col+'_FLG']= 0\n",
    "    MergeCommunesEnvi.loc[MergeCommunesEnvi.loc[:,col]>0,col+'_FLG']= 1\n",
    "MergeCommunesEnvi['police_score']= 0\n",
    "for col in police_var:\n",
    "    MergeCommunesEnvi['police_score'] += MergeCommunesEnvi[col+'_FLG']"
   ]
  },
  {
   "cell_type": "code",
   "execution_count": 49,
   "metadata": {},
   "outputs": [],
   "source": [
    "justice_var = {\n",
    "    'NB_A105', 'NB_A106', 'NB_A107', 'NB_A108', 'NB_A109',\n",
    "    'NB_A115','NB_A119','NB_A120','NB_A121','NB_A122','NB_A123','NB_A124','NB_A125','NB_A126'\n",
    "}\n",
    "for col in justice_var:\n",
    "    MergeCommunesEnvi[col+'_FLG']= 0\n",
    "    MergeCommunesEnvi.loc[MergeCommunesEnvi.loc[:,col]>0,col+'_FLG']= 1\n",
    "MergeCommunesEnvi['justice_score']= 0\n",
    "for col in justice_var:\n",
    "    MergeCommunesEnvi['justice_score'] += MergeCommunesEnvi[col+'_FLG']"
   ]
  },
  {
   "cell_type": "code",
   "execution_count": 50,
   "metadata": {},
   "outputs": [],
   "source": [
    "service_var = {\n",
    "    'NB_A203','NB_A205','NB_A206','NB_A207','NB_A208',\n",
    "    'NB_A301','NB_A302','NB_A303','NB_A304',\n",
    "    'NB_A401','NB_A402','NB_A403','NB_A404','NB_A405','NB_A406',\n",
    "    'NB_A501','NB_A502','NB_A503','NB_A504','NB_A505','NB_A506','NB_A507'    \n",
    "}\n",
    "for col in service_var:\n",
    "    MergeCommunesEnvi[col+'_FLG']= 0\n",
    "    MergeCommunesEnvi.loc[MergeCommunesEnvi.loc[:,col]>0,col+'_FLG']= 1\n",
    "MergeCommunesEnvi['service_score']= 0\n",
    "for col in service_var:\n",
    "    MergeCommunesEnvi['service_score'] += MergeCommunesEnvi[col+'_FLG']"
   ]
  },
  {
   "cell_type": "code",
   "execution_count": 51,
   "metadata": {
    "collapsed": true
   },
   "outputs": [],
   "source": [
    "senior_var = {\n",
    "    'NB_D401','NB_D402','NB_D403','NB_D404','NB_D405'\n",
    "}\n",
    "for col in senior_var:\n",
    "    MergeCommunesEnvi[col+'_FLG']= 0\n",
    "    MergeCommunesEnvi.loc[MergeCommunesEnvi.loc[:,col]>0,col+'_FLG']= 1\n",
    "MergeCommunesEnvi['senior_score']= 0\n",
    "for col in senior_var:\n",
    "    MergeCommunesEnvi['senior_score'] += MergeCommunesEnvi[col+'_FLG']"
   ]
  },
  {
   "cell_type": "code",
   "execution_count": 52,
   "metadata": {
    "collapsed": true
   },
   "outputs": [],
   "source": [
    "child_var = {\n",
    "    'NB_D502','NB_D701','NB_D702'\n",
    "}\n",
    "for col in child_var:\n",
    "    MergeCommunesEnvi[col+'_FLG']= 0\n",
    "    MergeCommunesEnvi.loc[MergeCommunesEnvi.loc[:,col]>0,col+'_FLG']= 1\n",
    "MergeCommunesEnvi['child_score']= 0\n",
    "for col in child_var:\n",
    "    MergeCommunesEnvi['child_score'] += MergeCommunesEnvi[col+'_FLG']"
   ]
  },
  {
   "cell_type": "code",
   "execution_count": 53,
   "metadata": {
    "collapsed": true
   },
   "outputs": [],
   "source": [
    "disability_var = {\n",
    "    'NB_D601','NB_D602','NB_D603','NB_D604','NB_D605','NB_D606'\n",
    "}\n",
    "for col in disability_var:\n",
    "    MergeCommunesEnvi[col+'_FLG']= 0\n",
    "    MergeCommunesEnvi.loc[MergeCommunesEnvi.loc[:,col]>0,col+'_FLG']= 1\n",
    "    \n",
    "MergeCommunesEnvi['disability_score']= 0\n",
    "for col in disability_var:\n",
    "    MergeCommunesEnvi['disability_score'] += MergeCommunesEnvi[col+'_FLG']"
   ]
  },
  {
   "cell_type": "code",
   "execution_count": 54,
   "metadata": {
    "collapsed": true
   },
   "outputs": [],
   "source": [
    "rehabilitation_var = {\n",
    "    'NB_D703','NB_D704','NB_D705','NB_D709'\n",
    "}\n",
    "for col in rehabilitation_var:\n",
    "    MergeCommunesEnvi[col+'_FLG']= 0\n",
    "    MergeCommunesEnvi.loc[MergeCommunesEnvi.loc[:,col]>0,col+'_FLG']= 1\n",
    "MergeCommunesEnvi['rehabilitation_score']= 0\n",
    "for col in rehabilitation_var:\n",
    "    MergeCommunesEnvi['rehabilitation_score'] += MergeCommunesEnvi[col+'_FLG']"
   ]
  },
  {
   "cell_type": "code",
   "execution_count": 55,
   "metadata": {},
   "outputs": [],
   "source": [
    "health_var = {\n",
    "    'NB_D101','NB_D102','NB_D103','NB_D104','NB_D105',\n",
    "    'NB_D106','NB_D107','NB_D108','NB_D109','NB_D110',\n",
    "    'NB_D111','NB_D112','NB_D113',\n",
    "    'NB_D301','NB_D302','NB_D303','NB_D304'\n",
    "}\n",
    "for col in health_var:\n",
    "    MergeCommunesEnvi[col+'_FLG']= 0\n",
    "    MergeCommunesEnvi.loc[MergeCommunesEnvi.loc[:,col]>0,col+'_FLG']= 1\n",
    "MergeCommunesEnvi['health_score']= 0\n",
    "for col in health_var:\n",
    "    MergeCommunesEnvi['health_score'] += MergeCommunesEnvi[col+'_FLG']"
   ]
  },
  {
   "cell_type": "code",
   "execution_count": 56,
   "metadata": {
    "collapsed": true
   },
   "outputs": [],
   "source": [
    "insee_recreation_score_var = {\n",
    "    'recreation_score','police_score','justice_score',\n",
    "    'service_score','senior_score','child_score',\n",
    "    'disability_score','rehabilitation_score','health_score'\n",
    "}"
   ]
  },
  {
   "cell_type": "code",
   "execution_count": 57,
   "metadata": {},
   "outputs": [],
   "source": [
    "var = recreation_var | police_var | justice_var | service_var | senior_var\n",
    "var = var | child_var | disability_var | rehabilitation_var| health_var\n",
    "var_FLG = {v+'_FLG' for v in var}\n",
    "additional_var = insee_environment_score_var | insee_recreation_score_var | var_FLG"
   ]
  },
  {
   "cell_type": "code",
   "execution_count": 58,
   "metadata": {},
   "outputs": [
    {
     "data": {
      "text/plain": [
       "106"
      ]
     },
     "execution_count": 58,
     "metadata": {},
     "output_type": "execute_result"
    }
   ],
   "source": [
    "len(quant_var)"
   ]
  },
  {
   "cell_type": "code",
   "execution_count": 59,
   "metadata": {},
   "outputs": [],
   "source": [
    "all_var = cdv_var | insee_var | additional_var\n",
    "scope_2015_var = cdv_2015_var | insee_var | additional_var\n",
    "scope_2016_var = cdv_2016_var | insee_var | additional_var\n",
    "scope_2017_var = cdv_2017_var | insee_var | additional_var\n",
    "scope_2018_var = cdv_2018_var | insee_var | additional_var\n",
    "scope_2015_2018_var = cdv_2015_2018_var | insee_var | additional_var\n",
    "scope_2016_2018_var = cdv_2016_2018_var | insee_var | additional_var\n",
    "scope_2017_2018_var = cdv_2017_2018_var | insee_var | additional_var\n",
    "\n",
    "synthesis_var = non_redundant_cdv_var | insee_environment_score_var | insee_recreation_score_var\n",
    "\n",
    "cat_var = cat_var | var_FLG | {'DEP', 'LIBGEO', 'communes'}\n",
    "cat_max9_var = cat_max9_var | var_FLG\n",
    "cat_min10_var = cat_min10_var | {'DEP', 'LIBGEO','communes'}\n",
    "quant_var = quant_var | insee_quant_var | insee_environment_score_var | insee_recreation_score_var\n",
    "\n",
    "exclusion_var = com_var | tech_var | bizz_var | text_var \n",
    "\n",
    "# usual scopes\n",
    "# suppresion of quantitative variables with more than 200 NaN for usual scope\n",
    "quant_null = np.sum(MergeCommunesEnvi.loc[:,quant_var].isnull())\n",
    "quant_kept_var = set(quant_null[quant_null < 200].index)\n",
    "usual_common_scope_var = ((cat_max9_var | quant_kept_var) & scope_2015_2018_var) - exclusion_var\n",
    "usual_synthetic_scope_var = usual_common_scope_var & synthesis_var"
   ]
  },
  {
   "cell_type": "code",
   "execution_count": 60,
   "metadata": {},
   "outputs": [],
   "source": [
    "dict_var_groups = {\n",
    "    'insee_var' : insee_var,\n",
    "    'cdv_var' : cdv_var,\n",
    "    'additional_var' : additional_var,\n",
    "    'all_var' : all_var,\n",
    "    'insee_demographics_var' : insee_demographics_var,\n",
    "    'insee_recreation_var' : insee_recreation_var,\n",
    "    'insee_environment_var' : insee_environment_var,\n",
    "    'cdv_2015_var' : cdv_2015_var,\n",
    "    'cdv_2016_var' : cdv_2016_var,\n",
    "    'cdv_2017_var' : cdv_2017_var,\n",
    "    'cdv_2018_var' : cdv_2018_var,\n",
    "    'cdv_2015_2018_var' : cdv_2015_2018_var,\n",
    "    'cdv_2016_2018_var' : cdv_2016_2018_var,\n",
    "    'cdv_2017_2018_var' : cdv_2017_2018_var,\n",
    "    'pred_var' : pred_var,\n",
    "    'tech_var' : tech_var,\n",
    "    'com_var' : com_var,\n",
    "    'text_var' : text_var,\n",
    "    'bizz_var' : bizz_var,\n",
    "    'calc_cdv_var' : calc_cdv_var,\n",
    "    'non_redundant_cdv_var' : non_redundant_cdv_var,\n",
    "    'scope_2015_var' : scope_2015_var,\n",
    "    'scope_2016_var' : scope_2016_var,\n",
    "    'scope_2017_var' : scope_2017_var,\n",
    "    'scope_2018_var' : scope_2018_var,\n",
    "    'scope_2015_2018_var' : scope_2015_2018_var,\n",
    "    'scope_2016_2018_var' : scope_2016_2018_var,\n",
    "    'scope_2017_2018_var' : scope_2017_2018_var,\n",
    "    'cat_var' : cat_var,\n",
    "    'cat_max9_var' : cat_max9_var,\n",
    "    'cat_min10_var' : cat_min10_var,\n",
    "    'quant_var' : quant_var,\n",
    "    'exclusion_var' : exclusion_var,\n",
    "    'quant_kept_var' : quant_kept_var,\n",
    "    'cdv_actionable_individual_1_var' : cdv_actionable_individual_1_var,\n",
    "    'cdv_actionable_individual_2_var': cdv_actionable_individual_2_var,\n",
    "    'cdv_actionable_individual_3_var' : cdv_actionable_individual_3_var,\n",
    "    'cdv_actionable_individual_4_var' : cdv_actionable_individual_4_var,\n",
    "    'cdv_actionable_admin_1_var': cdv_actionable_admin_1_var,\n",
    "    'cdv_actionable_admin_2_var' : cdv_actionable_admin_2_var,\n",
    "    'cdv_actionable_admin_3_var' : cdv_actionable_admin_3_var,\n",
    "    'cdv_actionable_admin_4_var' : cdv_actionable_admin_4_var,\n",
    "    'cdv_actionable_admin_5_var' : cdv_actionable_admin_5_var,\n",
    "    'insee_recreation_actionable_admin_1_var' : insee_recreation_actionable_admin_1_var,\n",
    "    'insee_recreation_actionable_admin_2_var' : insee_recreation_actionable_admin_2_var,\n",
    "    'insee_recreation_actionable_admin_3_var' : insee_recreation_actionable_admin_3_var,\n",
    "    'insee_recreation_actionable_admin_4_var' : insee_recreation_actionable_admin_4_var,\n",
    "    'insee_recreation_actionable_admin_5_var' : insee_recreation_actionable_admin_5_var,\n",
    "    'insee_environment_actionable_admin_1_var' : insee_environment_actionable_admin_1_var,\n",
    "    'insee_environment_actionable_admin_2_var' : insee_environment_actionable_admin_2_var,\n",
    "    'insee_environment_actionable_admin_3_var' : insee_environment_actionable_admin_3_var,\n",
    "    'insee_environment_actionable_admin_4_var' : insee_environment_actionable_admin_4_var,\n",
    "    'insee_environment_actionable_admin_5_var' : insee_environment_actionable_admin_5_var,\n",
    "    'insee_demographics_actionable_admin_1_var' : insee_demographics_actionable_admin_1_var,\n",
    "    'insee_demographics_actionable_admin_2_var' : insee_demographics_actionable_admin_2_var,\n",
    "    'insee_demographics_actionable_admin_3_var' : insee_demographics_actionable_admin_3_var,\n",
    "    'insee_demographics_actionable_admin_4_var' : insee_demographics_actionable_admin_4_var,\n",
    "    'insee_demographics_actionable_admin_5_var' : insee_demographics_actionable_admin_5_var,\n",
    "    'insee_environment_score_var' : insee_environment_score_var,\n",
    "    'insee_recreation_score_var' : insee_recreation_score_var,\n",
    "    'usual_common_scope_var' : usual_common_scope_var,\n",
    "    'usual_synthetic_scope_var' : usual_synthetic_scope_var    \n",
    "}"
   ]
  },
  {
   "cell_type": "code",
   "execution_count": 61,
   "metadata": {},
   "outputs": [
    {
     "data": {
      "text/plain": [
       "[('insee_var', 218, 203),\n",
       " ('cdv_var', 353, 204),\n",
       " ('additional_var', 114, 114),\n",
       " ('all_var', 685, 521),\n",
       " ('insee_demographics_var', 36, 29),\n",
       " ('insee_recreation_var', 178, 174),\n",
       " ('insee_environment_var', 10, 0),\n",
       " ('cdv_2015_var', 271, 204),\n",
       " ('cdv_2016_var', 280, 204),\n",
       " ('cdv_2017_var', 297, 204),\n",
       " ('cdv_2018_var', 352, 204),\n",
       " ('cdv_2015_2018_var', 267, 204),\n",
       " ('cdv_2016_2018_var', 280, 204),\n",
       " ('cdv_2017_2018_var', 296, 204),\n",
       " ('pred_var', 1, 1),\n",
       " ('tech_var', 7, 0),\n",
       " ('com_var', 6, 0),\n",
       " ('text_var', 1, 0),\n",
       " ('bizz_var', 42, 0),\n",
       " ('calc_cdv_var', 0, 0),\n",
       " ('non_redundant_cdv_var', 278, 169),\n",
       " ('scope_2015_var', 603, 521),\n",
       " ('scope_2016_var', 612, 521),\n",
       " ('scope_2017_var', 629, 521),\n",
       " ('scope_2018_var', 684, 521),\n",
       " ('scope_2015_2018_var', 599, 521),\n",
       " ('scope_2016_2018_var', 612, 521),\n",
       " ('scope_2017_2018_var', 628, 521),\n",
       " ('cat_var', 350, 251),\n",
       " ('cat_max9_var', 321, 251),\n",
       " ('cat_min10_var', 29, 0),\n",
       " ('quant_var', 335, 270),\n",
       " ('exclusion_var', 56, 0),\n",
       " ('quant_kept_var', 280, 270),\n",
       " ('cdv_actionable_individual_1_var', 145, 87),\n",
       " ('cdv_actionable_individual_2_var', 89, 74),\n",
       " ('cdv_actionable_individual_3_var', 49, 30),\n",
       " ('cdv_actionable_individual_4_var', 71, 13),\n",
       " ('cdv_actionable_admin_1_var', 141, 92),\n",
       " ('cdv_actionable_admin_2_var', 84, 61),\n",
       " ('cdv_actionable_admin_3_var', 24, 18),\n",
       " ('cdv_actionable_admin_4_var', 77, 14),\n",
       " ('cdv_actionable_admin_5_var', 28, 19),\n",
       " ('insee_recreation_actionable_admin_1_var', 167, 166),\n",
       " ('insee_recreation_actionable_admin_2_var', 0, 0),\n",
       " ('insee_recreation_actionable_admin_3_var', 7, 7),\n",
       " ('insee_recreation_actionable_admin_4_var', 4, 1),\n",
       " ('insee_recreation_actionable_admin_5_var', 0, 0),\n",
       " ('insee_environment_actionable_admin_1_var', 2, 0),\n",
       " ('insee_environment_actionable_admin_2_var', 2, 0),\n",
       " ('insee_environment_actionable_admin_3_var', 0, 0),\n",
       " ('insee_environment_actionable_admin_4_var', 6, 0),\n",
       " ('insee_environment_actionable_admin_5_var', 0, 0),\n",
       " ('insee_demographics_actionable_admin_1_var', 25, 21),\n",
       " ('insee_demographics_actionable_admin_2_var', 2, 2),\n",
       " ('insee_demographics_actionable_admin_3_var', 3, 3),\n",
       " ('insee_demographics_actionable_admin_4_var', 4, 1),\n",
       " ('insee_demographics_actionable_admin_5_var', 2, 2),\n",
       " ('insee_environment_score_var', 5, 5),\n",
       " ('insee_recreation_score_var', 9, 9),\n",
       " ('usual_common_scope_var', 521, 521),\n",
       " ('usual_synthetic_scope_var', 183, 183)]"
      ]
     },
     "execution_count": 61,
     "metadata": {},
     "output_type": "execute_result"
    }
   ],
   "source": [
    "[(k, len(dict_var_groups[k]),len(dict_var_groups[k]&usual_common_scope_var)) for k in dict_var_groups.keys()]"
   ]
  },
  {
   "cell_type": "code",
   "execution_count": 62,
   "metadata": {
    "collapsed": true
   },
   "outputs": [],
   "source": [
    "filename = path_dump / Path(\"dict_var_groups.sav\")\n",
    "with open(filename, 'wb') as fp:\n",
    "     pickle.dump(dict_var_groups,fp,pickle.HIGHEST_PROTOCOL)"
   ]
  },
  {
   "cell_type": "code",
   "execution_count": 63,
   "metadata": {},
   "outputs": [
    {
     "data": {
      "text/plain": [
       "(11131, 685)"
      ]
     },
     "execution_count": 63,
     "metadata": {},
     "output_type": "execute_result"
    }
   ],
   "source": [
    "MergeCommunesEnvi.shape"
   ]
  },
  {
   "cell_type": "code",
   "execution_count": 64,
   "metadata": {},
   "outputs": [
    {
     "data": {
      "text/plain": [
       "False"
      ]
     },
     "execution_count": 64,
     "metadata": {},
     "output_type": "execute_result"
    }
   ],
   "source": [
    "var_FLG in usual_common_scope_var"
   ]
  },
  {
   "cell_type": "markdown",
   "metadata": {},
   "source": [
    "#### Dataset"
   ]
  },
  {
   "cell_type": "code",
   "execution_count": 65,
   "metadata": {},
   "outputs": [
    {
     "name": "stdout",
     "output_type": "stream",
     "text": [
      "scope of 521 variables\n",
      "1024 columns after encoding of 250 categorial variables in 753 binary variables (K-1 one hot encoding)\n"
     ]
    }
   ],
   "source": [
    "df = MergeCommunesEnvi.loc[:,:]\n",
    "df.loc[:,cdv_ssfmt.columns] = cdv_ssfmt.loc[:,:]\n",
    "# scope limited to usual_common_scope_var\n",
    "scope = usual_common_scope_var\n",
    "print(f\"scope of {len(scope)} variables\")\n",
    "df = df.loc[:,scope]\n",
    "# getting string values for categorial variables of CVD to name columns\n",
    "cat_cdv_scope = (cat_var & scope & cdv_var) - {'HEUREUX'}    \n",
    "df.loc[:,cat_cdv_scope] = cdv.loc[:,cat_cdv_scope]\n",
    "\n",
    "dataset = pd.get_dummies(\n",
    "    df, \n",
    "    columns= cat_var & usual_common_scope_var - {\"HEUREUX\"},\n",
    "    dummy_na = True,\n",
    "    drop_first=1\n",
    ")\n",
    "print(f\"{dataset.shape[1]} columns after encoding of {len((cat_var & usual_common_scope_var))-1} \\\n",
    "categorial variables in {len((cat_var & usual_common_scope_var))-1+dataset.shape[1]-df.shape[1]} \\\n",
    "binary variables (K-1 one hot encoding)\")"
   ]
  },
  {
   "cell_type": "code",
   "execution_count": 66,
   "metadata": {
    "collapsed": true
   },
   "outputs": [],
   "source": [
    "# saving dataset data\n",
    "file = path_data / Path(\"dataset.csv\")\n",
    "with Path.open(file, 'w') as fp:\n",
    "    dataset.to_csv(fp,  encoding='utf-8')"
   ]
  },
  {
   "cell_type": "code",
   "execution_count": 67,
   "metadata": {},
   "outputs": [
    {
     "name": "stdout",
     "output_type": "stream",
     "text": [
      "1036 columns after encoding of 259 categorial variables in 765 binary variables (K-1 one hot encoding)\n"
     ]
    }
   ],
   "source": [
    "idx_2017_2018 = MergeCommunesEnvi.loc[MergeCommunesEnvi['ANNEEFUZ'].isin([39,40]),:].index\n",
    "df = MergeCommunesEnvi.loc[idx_2017_2018,:]\n",
    "df.loc[:,cdv_ssfmt.columns] = cdv_ssfmt.loc[idx_2017_2018,:]\n",
    "\n",
    "\n",
    "f_2017_2018 = ((cat_max9_var | quant_kept_var) & scope_2017_2018_var) - exclusion_var\n",
    "\n",
    "df = df.loc[:,f_2017_2018]\n",
    "df.loc[:,(cat_var & cdv_var & f_2017_2018 ) - {\"HEUREUX\"}] = cdv.loc[idx_2017_2018,\n",
    "                                                                     (cat_var & cdv_var & f_2017_2018) - {\"HEUREUX\"}]\n",
    "\n",
    "\n",
    "dataset_2017_2018 = pd.get_dummies(\n",
    "    df, \n",
    "    columns=(cat_var & f_2017_2018) - {\"HEUREUX\"},\n",
    "    dummy_na = True,\n",
    "    drop_first=1\n",
    ")\n",
    "\n",
    "print(f\"{dataset_2017_2018.shape[1]} columns after encoding of {len((cat_var & f_2017_2018))-1} \\\n",
    "categorial variables in {len((cat_var & f_2017_2018))-1+dataset_2017_2018.shape[1]-df.shape[1]} \\\n",
    "binary variables (K-1 one hot encoding)\")"
   ]
  },
  {
   "cell_type": "code",
   "execution_count": 68,
   "metadata": {
    "collapsed": true
   },
   "outputs": [],
   "source": [
    "# saving dataset data\n",
    "file = path_data / Path(\"dataset_2017_2018.csv\")\n",
    "with Path.open(file, 'w') as fp:\n",
    "    dataset_2017_2018.to_csv(fp,  encoding='utf-8')"
   ]
  },
  {
   "cell_type": "markdown",
   "metadata": {},
   "source": [
    "#### Construction of usefull feature sets\n",
    "Including ...\n",
    "Lasso or other feature selection methods, ....\n"
   ]
  },
  {
   "cell_type": "code",
   "execution_count": 69,
   "metadata": {
    "collapsed": true
   },
   "outputs": [],
   "source": [
    "dict_features_sets = dict()"
   ]
  },
  {
   "cell_type": "code",
   "execution_count": 70,
   "metadata": {},
   "outputs": [],
   "source": [
    "list_var_set = [    \n",
    "    'all_var',\n",
    "    'cdv_var',\n",
    "    'additional_var',\n",
    "    'insee_var',\n",
    "    'insee_demographics_var',\n",
    "    'insee_recreation_var',\n",
    "    'insee_environment_var',\n",
    "    'cat_var',\n",
    "    'quant_var',\n",
    "    'calc_cdv_var',\n",
    "    'non_redundant_cdv_var',\n",
    "    'cdv_actionable_individual_1_var',\n",
    "    'cdv_actionable_individual_2_var',\n",
    "    'cdv_actionable_individual_3_var',\n",
    "    'cdv_actionable_individual_4_var',\n",
    "    'cdv_actionable_admin_1_var',\n",
    "    'cdv_actionable_admin_2_var',\n",
    "    'cdv_actionable_admin_3_var',\n",
    "    'cdv_actionable_admin_4_var',\n",
    "    'cdv_actionable_admin_5_var',\n",
    "    'insee_recreation_actionable_admin_1_var',\n",
    "    'insee_recreation_actionable_admin_2_var',\n",
    "    'insee_recreation_actionable_admin_3_var',\n",
    "    'insee_recreation_actionable_admin_4_var',\n",
    "    'insee_recreation_actionable_admin_5_var',\n",
    "    'insee_environment_actionable_admin_1_var',\n",
    "    'insee_environment_actionable_admin_2_var',\n",
    "    'insee_environment_actionable_admin_3_var',\n",
    "    'insee_environment_actionable_admin_4_var',\n",
    "    'insee_environment_actionable_admin_5_var',\n",
    "    'insee_demographics_actionable_admin_1_var',\n",
    "    'insee_demographics_actionable_admin_2_var',\n",
    "    'insee_demographics_actionable_admin_3_var',\n",
    "    'insee_demographics_actionable_admin_4_var',\n",
    "    'insee_demographics_actionable_admin_5_var',\n",
    "    'insee_environment_score_var',\n",
    "    'insee_recreation_score_var',\n",
    "    'usual_common_scope_var',\n",
    "    'usual_synthetic_scope_var'\n",
    "]"
   ]
  },
  {
   "cell_type": "code",
   "execution_count": 71,
   "metadata": {},
   "outputs": [
    {
     "name": "stdout",
     "output_type": "stream",
     "text": [
      "-----all_var------\n",
      "scope of len 521\n",
      "(11131, 521)\n",
      "251 categorial variables in scope\n",
      "1024 columns after encoding of 250 categorial variables in 754 binary variables (K-1 one hot encoding)\n",
      "-----cdv_var------\n",
      "scope of len 204\n",
      "(11131, 204)\n",
      "151 categorial variables in scope\n",
      "607 columns after encoding of 150 categorial variables in 554 binary variables (K-1 one hot encoding)\n",
      "-----additional_var------\n",
      "scope of len 114\n",
      "(11131, 114)\n",
      "100 categorial variables in scope\n",
      "214 columns after encoding of 100 categorial variables in 200 binary variables (K-1 one hot encoding)\n",
      "-----insee_var------\n",
      "scope of len 203\n",
      "(11131, 203)\n",
      "No categorial variables in scope\n",
      "203 columns after encoding of 0 categorial variables in 0 binary variables (K-1 one hot encoding)\n",
      "-----insee_demographics_var------\n",
      "scope of len 29\n",
      "(11131, 29)\n",
      "No categorial variables in scope\n",
      "29 columns after encoding of 0 categorial variables in 0 binary variables (K-1 one hot encoding)\n",
      "-----insee_recreation_var------\n",
      "scope of len 174\n",
      "(11131, 174)\n",
      "No categorial variables in scope\n",
      "174 columns after encoding of 0 categorial variables in 0 binary variables (K-1 one hot encoding)\n",
      "-----insee_environment_var------\n",
      "scope of len 0\n",
      "(11131, 0)\n",
      "No categorial variables in scope\n",
      "empty scope for insee_environment_features\n",
      "0 columns after encoding of 0 categorial variables in 0 binary variables (K-1 one hot encoding)\n",
      "-----cat_var------\n",
      "scope of len 251\n",
      "(11131, 251)\n",
      "251 categorial variables in scope\n",
      "754 columns after encoding of 250 categorial variables in 754 binary variables (K-1 one hot encoding)\n",
      "-----quant_var------\n",
      "scope of len 270\n",
      "(11131, 270)\n",
      "No categorial variables in scope\n",
      "270 columns after encoding of 0 categorial variables in 0 binary variables (K-1 one hot encoding)\n",
      "-----calc_cdv_var------\n",
      "scope of len 0\n",
      "(11131, 0)\n",
      "No categorial variables in scope\n",
      "empty scope for calc_cdv_features\n",
      "0 columns after encoding of 0 categorial variables in 0 binary variables (K-1 one hot encoding)\n",
      "-----non_redundant_cdv_var------\n",
      "scope of len 169\n",
      "(11131, 169)\n",
      "120 categorial variables in scope\n",
      "478 columns after encoding of 119 categorial variables in 429 binary variables (K-1 one hot encoding)\n",
      "-----cdv_actionable_individual_1_var------\n",
      "scope of len 87\n",
      "(11131, 87)\n",
      "57 categorial variables in scope\n",
      "193 columns after encoding of 57 categorial variables in 163 binary variables (K-1 one hot encoding)\n",
      "-----cdv_actionable_individual_2_var------\n",
      "scope of len 74\n",
      "(11131, 74)\n",
      "54 categorial variables in scope\n",
      "230 columns after encoding of 54 categorial variables in 210 binary variables (K-1 one hot encoding)\n",
      "-----cdv_actionable_individual_3_var------\n",
      "scope of len 30\n",
      "(11131, 30)\n",
      "28 categorial variables in scope\n",
      "115 columns after encoding of 27 categorial variables in 113 binary variables (K-1 one hot encoding)\n",
      "-----cdv_actionable_individual_4_var------\n",
      "scope of len 13\n",
      "(11131, 13)\n",
      "12 categorial variables in scope\n",
      "69 columns after encoding of 12 categorial variables in 68 binary variables (K-1 one hot encoding)\n",
      "-----cdv_actionable_admin_1_var------\n",
      "scope of len 92\n",
      "(11131, 92)\n",
      "59 categorial variables in scope\n",
      "201 columns after encoding of 59 categorial variables in 168 binary variables (K-1 one hot encoding)\n",
      "-----cdv_actionable_admin_2_var------\n",
      "scope of len 61\n",
      "(11131, 61)\n",
      "47 categorial variables in scope\n",
      "198 columns after encoding of 46 categorial variables in 184 binary variables (K-1 one hot encoding)\n",
      "-----cdv_actionable_admin_3_var------\n",
      "scope of len 18\n",
      "(11131, 18)\n",
      "15 categorial variables in scope\n",
      "60 columns after encoding of 15 categorial variables in 57 binary variables (K-1 one hot encoding)\n",
      "-----cdv_actionable_admin_4_var------\n",
      "scope of len 14\n",
      "(11131, 14)\n",
      "13 categorial variables in scope\n",
      "76 columns after encoding of 13 categorial variables in 75 binary variables (K-1 one hot encoding)\n",
      "-----cdv_actionable_admin_5_var------\n",
      "scope of len 19\n",
      "(11131, 19)\n",
      "17 categorial variables in scope\n",
      "72 columns after encoding of 17 categorial variables in 70 binary variables (K-1 one hot encoding)\n",
      "-----insee_recreation_actionable_admin_1_var------\n",
      "scope of len 166\n",
      "(11131, 166)\n",
      "No categorial variables in scope\n",
      "166 columns after encoding of 0 categorial variables in 0 binary variables (K-1 one hot encoding)\n",
      "-----insee_recreation_actionable_admin_2_var------\n",
      "scope of len 0\n",
      "(11131, 0)\n",
      "No categorial variables in scope\n",
      "empty scope for insee_recreation_actionable_admin_2_features\n",
      "0 columns after encoding of 0 categorial variables in 0 binary variables (K-1 one hot encoding)\n",
      "-----insee_recreation_actionable_admin_3_var------\n",
      "scope of len 7\n",
      "(11131, 7)\n",
      "No categorial variables in scope\n",
      "7 columns after encoding of 0 categorial variables in 0 binary variables (K-1 one hot encoding)\n",
      "-----insee_recreation_actionable_admin_4_var------\n",
      "scope of len 1\n",
      "(11131, 1)\n",
      "No categorial variables in scope\n",
      "1 columns after encoding of 0 categorial variables in 0 binary variables (K-1 one hot encoding)\n",
      "-----insee_recreation_actionable_admin_5_var------\n",
      "scope of len 0\n",
      "(11131, 0)\n",
      "No categorial variables in scope\n",
      "empty scope for insee_recreation_actionable_admin_5_features\n",
      "0 columns after encoding of 0 categorial variables in 0 binary variables (K-1 one hot encoding)\n",
      "-----insee_environment_actionable_admin_1_var------\n",
      "scope of len 0\n",
      "(11131, 0)\n",
      "No categorial variables in scope\n",
      "empty scope for insee_environment_actionable_admin_1_features\n",
      "0 columns after encoding of 0 categorial variables in 0 binary variables (K-1 one hot encoding)\n",
      "-----insee_environment_actionable_admin_2_var------\n",
      "scope of len 0\n",
      "(11131, 0)\n",
      "No categorial variables in scope\n",
      "empty scope for insee_environment_actionable_admin_2_features\n",
      "0 columns after encoding of 0 categorial variables in 0 binary variables (K-1 one hot encoding)\n",
      "-----insee_environment_actionable_admin_3_var------\n",
      "scope of len 0\n",
      "(11131, 0)\n",
      "No categorial variables in scope\n",
      "empty scope for insee_environment_actionable_admin_3_features\n",
      "0 columns after encoding of 0 categorial variables in 0 binary variables (K-1 one hot encoding)\n",
      "-----insee_environment_actionable_admin_4_var------\n",
      "scope of len 0\n",
      "(11131, 0)\n",
      "No categorial variables in scope\n",
      "empty scope for insee_environment_actionable_admin_4_features\n",
      "0 columns after encoding of 0 categorial variables in 0 binary variables (K-1 one hot encoding)\n",
      "-----insee_environment_actionable_admin_5_var------\n",
      "scope of len 0\n",
      "(11131, 0)\n",
      "No categorial variables in scope\n",
      "empty scope for insee_environment_actionable_admin_5_features\n",
      "0 columns after encoding of 0 categorial variables in 0 binary variables (K-1 one hot encoding)\n",
      "-----insee_demographics_actionable_admin_1_var------\n",
      "scope of len 21\n",
      "(11131, 21)\n",
      "No categorial variables in scope\n",
      "21 columns after encoding of 0 categorial variables in 0 binary variables (K-1 one hot encoding)\n",
      "-----insee_demographics_actionable_admin_2_var------\n",
      "scope of len 2\n",
      "(11131, 2)\n",
      "No categorial variables in scope\n",
      "2 columns after encoding of 0 categorial variables in 0 binary variables (K-1 one hot encoding)\n",
      "-----insee_demographics_actionable_admin_3_var------\n",
      "scope of len 3\n",
      "(11131, 3)\n",
      "No categorial variables in scope\n",
      "3 columns after encoding of 0 categorial variables in 0 binary variables (K-1 one hot encoding)\n",
      "-----insee_demographics_actionable_admin_4_var------\n",
      "scope of len 1\n",
      "(11131, 1)\n",
      "No categorial variables in scope\n",
      "1 columns after encoding of 0 categorial variables in 0 binary variables (K-1 one hot encoding)\n",
      "-----insee_demographics_actionable_admin_5_var------\n",
      "scope of len 2\n",
      "(11131, 2)\n",
      "No categorial variables in scope\n",
      "2 columns after encoding of 0 categorial variables in 0 binary variables (K-1 one hot encoding)\n",
      "-----insee_environment_score_var------\n",
      "scope of len 5\n",
      "(11131, 5)\n",
      "No categorial variables in scope\n",
      "5 columns after encoding of 0 categorial variables in 0 binary variables (K-1 one hot encoding)\n",
      "-----insee_recreation_score_var------\n",
      "scope of len 9\n",
      "(11131, 9)\n",
      "No categorial variables in scope\n",
      "9 columns after encoding of 0 categorial variables in 0 binary variables (K-1 one hot encoding)\n",
      "-----usual_common_scope_var------\n",
      "scope of len 521\n",
      "(11131, 521)\n",
      "251 categorial variables in scope\n",
      "1024 columns after encoding of 250 categorial variables in 754 binary variables (K-1 one hot encoding)\n",
      "-----usual_synthetic_scope_var------\n",
      "scope of len 183\n",
      "(11131, 183)\n",
      "120 categorial variables in scope\n",
      "492 columns after encoding of 119 categorial variables in 429 binary variables (K-1 one hot encoding)\n"
     ]
    }
   ],
   "source": [
    "# usefull subset of features of usual_common_scope_features (based on usual_common_scope_var)\n",
    "for var_set in list_var_set:\n",
    "    print(f\"-----{var_set}------\")\n",
    "    # starting with 533 variable of MergeCommunesEnvi including additional var\n",
    "    df = MergeCommunesEnvi.loc[:,:]\n",
    "    df.loc[:,cdv_ssfmt.columns] = cdv_ssfmt.loc[:,:]\n",
    "    scope = dict_var_groups[var_set] & usual_common_scope_var    \n",
    "    print(f\"scope of len {len(scope)}\")\n",
    "    df = df.loc[:,scope]\n",
    "    # getting expliciyte names ...\n",
    "    cat_cdv_scope = (cat_var & scope & cdv_var) - {'HEUREUX'}    \n",
    "    df.loc[:,cat_cdv_scope] = cdv.loc[:,cat_cdv_scope]\n",
    "    print(df.shape)\n",
    "    if cat_var & scope - {'HEUREUX'}:\n",
    "        print(f\"{len(cat_var & scope)} categorial variables in scope\")\n",
    "        df_dummies = pd.get_dummies(\n",
    "            df, \n",
    "            columns=(cat_var & scope) - {'HEUREUX'},\n",
    "            dummy_na = True,\n",
    "            drop_first=1\n",
    "        )\n",
    "        \n",
    "    else:\n",
    "        print(f\"No categorial variables in scope\")\n",
    "        df_dummies = df \n",
    "    if df_dummies.shape[1] > 0:\n",
    "        dict_features_sets[var_set[:-3]+'features'] = set(df_dummies.columns)\n",
    "    else :\n",
    "        print(f\"empty scope for {var_set[:-3]+'features'}\")\n",
    "    print(f\"{df_dummies.shape[1]} columns after encoding of {len((cat_var & scope - {'HEUREUX'}))} categorial \\\n",
    "variables in {len((cat_var & scope))+df_dummies.shape[1]-df.shape[1]} binary variables \\\n",
    "(K-1 one hot encoding)\")    "
   ]
  },
  {
   "cell_type": "code",
   "execution_count": 72,
   "metadata": {},
   "outputs": [
    {
     "data": {
      "text/plain": [
       "[('all_features', 1024, 521, 685),\n",
       " ('cdv_features', 607, 204, 353),\n",
       " ('additional_features', 214, 114, 114),\n",
       " ('insee_features', 203, 203, 218),\n",
       " ('insee_demographics_features', 29, 29, 36),\n",
       " ('insee_recreation_features', 174, 174, 178),\n",
       " ('cat_features', 754, 251, 350),\n",
       " ('quant_features', 270, 270, 335),\n",
       " ('non_redundant_cdv_features', 478, 169, 278),\n",
       " ('cdv_actionable_individual_1_features', 193, 87, 145),\n",
       " ('cdv_actionable_individual_2_features', 230, 74, 89),\n",
       " ('cdv_actionable_individual_3_features', 115, 30, 49),\n",
       " ('cdv_actionable_individual_4_features', 69, 13, 71),\n",
       " ('cdv_actionable_admin_1_features', 201, 92, 141),\n",
       " ('cdv_actionable_admin_2_features', 198, 61, 84),\n",
       " ('cdv_actionable_admin_3_features', 60, 18, 24),\n",
       " ('cdv_actionable_admin_4_features', 76, 14, 77),\n",
       " ('cdv_actionable_admin_5_features', 72, 19, 28),\n",
       " ('insee_recreation_actionable_admin_1_features', 166, 166, 167),\n",
       " ('insee_recreation_actionable_admin_3_features', 7, 7, 7),\n",
       " ('insee_recreation_actionable_admin_4_features', 1, 1, 4),\n",
       " ('insee_demographics_actionable_admin_1_features', 21, 21, 25),\n",
       " ('insee_demographics_actionable_admin_2_features', 2, 2, 2),\n",
       " ('insee_demographics_actionable_admin_3_features', 3, 3, 3),\n",
       " ('insee_demographics_actionable_admin_4_features', 1, 1, 4),\n",
       " ('insee_demographics_actionable_admin_5_features', 2, 2, 2),\n",
       " ('insee_environment_score_features', 5, 5, 5),\n",
       " ('insee_recreation_score_features', 9, 9, 9),\n",
       " ('usual_common_scope_features', 1024, 521, 521),\n",
       " ('usual_synthetic_scope_features', 492, 183, 183)]"
      ]
     },
     "execution_count": 72,
     "metadata": {},
     "output_type": "execute_result"
    }
   ],
   "source": [
    "[(k,len(dict_features_sets[k]), \n",
    "  len(dict_var_groups[k[:-8]+'var']&usual_common_scope_var),\n",
    "  len(dict_var_groups[k[:-8]+'var'])) for k in dict_features_sets.keys()]"
   ]
  },
  {
   "cell_type": "code",
   "execution_count": 73,
   "metadata": {
    "collapsed": true
   },
   "outputs": [],
   "source": [
    "filename = path_dump / Path(\"dict_features_sets.sav\")\n",
    "with open(filename, 'wb') as fp:\n",
    "     pickle.dump(dict_features_sets,fp,pickle.HIGHEST_PROTOCOL)"
   ]
  },
  {
   "cell_type": "code",
   "execution_count": 74,
   "metadata": {},
   "outputs": [
    {
     "data": {
      "text/plain": [
       "['all_features',\n",
       " 'cdv_features',\n",
       " 'additional_features',\n",
       " 'insee_features',\n",
       " 'insee_demographics_features',\n",
       " 'insee_recreation_features',\n",
       " 'cat_features',\n",
       " 'quant_features',\n",
       " 'non_redundant_cdv_features',\n",
       " 'cdv_actionable_individual_1_features',\n",
       " 'cdv_actionable_individual_2_features',\n",
       " 'cdv_actionable_individual_3_features',\n",
       " 'cdv_actionable_individual_4_features',\n",
       " 'cdv_actionable_admin_1_features',\n",
       " 'cdv_actionable_admin_2_features',\n",
       " 'cdv_actionable_admin_3_features',\n",
       " 'cdv_actionable_admin_4_features',\n",
       " 'cdv_actionable_admin_5_features',\n",
       " 'insee_recreation_actionable_admin_1_features',\n",
       " 'insee_recreation_actionable_admin_3_features',\n",
       " 'insee_recreation_actionable_admin_4_features',\n",
       " 'insee_demographics_actionable_admin_1_features',\n",
       " 'insee_demographics_actionable_admin_2_features',\n",
       " 'insee_demographics_actionable_admin_3_features',\n",
       " 'insee_demographics_actionable_admin_4_features',\n",
       " 'insee_demographics_actionable_admin_5_features',\n",
       " 'insee_environment_score_features',\n",
       " 'insee_recreation_score_features',\n",
       " 'usual_common_scope_features',\n",
       " 'usual_synthetic_scope_features']"
      ]
     },
     "execution_count": 74,
     "metadata": {},
     "output_type": "execute_result"
    }
   ],
   "source": [
    "[k for k in dict_features_sets.keys()]"
   ]
  },
  {
   "cell_type": "markdown",
   "metadata": {},
   "source": [
    "#### Feature selection and and results recording "
   ]
  },
  {
   "cell_type": "code",
   "execution_count": 75,
   "metadata": {
    "collapsed": true
   },
   "outputs": [],
   "source": [
    "# reducing problem to a 2 class classification problem\n",
    "df = dataset.loc[:,:]\n",
    "df[\"HEUREUX_CLF\"] = 0\n",
    "df.loc[df[\"HEUREUX\"]==4, \"HEUREUX_CLF\"] = 1\n",
    "df.loc[df[\"HEUREUX\"]==3, \"HEUREUX_CLF\"] = 1\n",
    "df.loc[df[\"HEUREUX\"]==5, \"HEUREUX_CLF\"] = None\n",
    "\n",
    "# treating remaining missing values\n",
    "features = set(df.columns.drop(['HEUREUX', 'HEUREUX_CLF']))\n",
    "df = df.loc[:,features | {\"HEUREUX_CLF\"}].dropna()"
   ]
  },
  {
   "cell_type": "code",
   "execution_count": 76,
   "metadata": {},
   "outputs": [
    {
     "name": "stdout",
     "output_type": "stream",
     "text": [
      "Number exemple: 10445\n",
      "- training set: 8356\n",
      "- test set: 2089\n",
      "Number of features: p=1023\n",
      "Number of class: 2\n",
      "class 0 : 35.1%\n",
      "class 1 : 64.9%\n"
     ]
    }
   ],
   "source": [
    "X = df.loc[:,features]\n",
    "y = df[\"HEUREUX_CLF\"]\n",
    "\n",
    "X_train, X_test, y_train, y_test = train_test_split(X, y, \n",
    "                                                    test_size=0.2, \n",
    "                                                    random_state=42\n",
    "                                                   )\n",
    "\n",
    "scaler = StandardScaler().fit(X_train)\n",
    "X_train = scaler.transform(X_train)\n",
    "X_test = scaler.transform(X_test)\n",
    "\n",
    "print(f\"Number exemple: {y.shape[0]}\\n- training set: \\\n",
    "{y_train.shape[0]}\\n- test set: {y_test.shape[0]}\")\n",
    "print(f\"Number of features: p={X_train.shape[1]}\")\n",
    "print(f\"Number of class: {len(np.unique(y))}\")\n",
    "for c in np.unique(y):\n",
    "    print(f\"class {c:0.0f} : {100*np.sum(y==c)/len(y):0.1f}%\")"
   ]
  },
  {
   "cell_type": "code",
   "execution_count": 77,
   "metadata": {
    "collapsed": true
   },
   "outputs": [],
   "source": [
    "clf = LinearSVC(C=0.01, \n",
    "                class_weight='balanced',\n",
    "                dual=False,\n",
    "                random_state=42 )\n",
    "step = 0.05"
   ]
  },
  {
   "cell_type": "code",
   "execution_count": 78,
   "metadata": {},
   "outputs": [
    {
     "name": "stdout",
     "output_type": "stream",
     "text": [
      "number of features to select : 100\n",
      "Optimal support of size 100 found in 168.4 s\n",
      "number of features to select : 50\n",
      "Optimal support of size 50 found in 213.5 s\n",
      "number of features to select : 20\n",
      "Optimal support of size 20 found in 195.1 s\n",
      "number of features to select : 10\n",
      "Optimal support of size 10 found in 217.7 s\n"
     ]
    }
   ],
   "source": [
    "for n_features_to_select in [100,50,20,10]:\n",
    "    startTime = time.time()\n",
    "    print(f\"number of features to select : {n_features_to_select}\")\n",
    "    selector = RFE(estimator=clf, n_features_to_select=n_features_to_select, step=step)\n",
    "    selector.fit(X_train, y_train)\n",
    "    print(f\"Optimal support of size {n_features_to_select} found in {time.time() - startTime:0.1f} s\")\n",
    "    key = \"RFE_LinearSVC_\" + str(n_features_to_select) + \"_features\" \n",
    "    dict_features_sets[key] = set(X.loc[:,selector.support_].columns)"
   ]
  },
  {
   "cell_type": "code",
   "execution_count": 79,
   "metadata": {
    "collapsed": true
   },
   "outputs": [],
   "source": [
    "params = {'max_features' :'sqrt', 'random_state' : 32, \n",
    "          'min_samples_split' : 2, 'class_weight' : 'balanced',\n",
    "          'n_estimators' : 128,\n",
    "          'max_depth' : 8}\n",
    "clf = RandomForestClassifier(**params)\n",
    "step = 0.05"
   ]
  },
  {
   "cell_type": "code",
   "execution_count": 80,
   "metadata": {},
   "outputs": [
    {
     "name": "stdout",
     "output_type": "stream",
     "text": [
      "number of features to select : 100\n",
      "Optimal support of size 100 found in 89.9 s\n",
      "number of features to select : 50\n",
      "Optimal support of size 50 found in 79.3 s\n",
      "number of features to select : 20\n",
      "Optimal support of size 20 found in 89.6 s\n",
      "number of features to select : 10\n",
      "Optimal support of size 10 found in 83.0 s\n"
     ]
    }
   ],
   "source": [
    "for n_features_to_select in [100,50,20,10]:\n",
    "    startTime = time.time()\n",
    "    print(f\"number of features to select : {n_features_to_select}\")\n",
    "    selector = RFE(estimator=clf, n_features_to_select=n_features_to_select, step=step)\n",
    "    selector.fit(X_train, y_train)\n",
    "    print(f\"Optimal support of size {n_features_to_select} found in {time.time() - startTime:0.1f} s\")\n",
    "    key = \"RFE_RandomForestClassifier_\" + str(n_features_to_select) + \"_features\" \n",
    "    dict_features_sets[key] = set(X.loc[:,selector.support_].columns)"
   ]
  },
  {
   "cell_type": "code",
   "execution_count": 81,
   "metadata": {
    "collapsed": true
   },
   "outputs": [],
   "source": [
    "clf = LogisticRegression(C=0.01, \n",
    "                         penalty='l1', \n",
    "                         class_weight='balanced',\n",
    "                         random_state=42)\n",
    "step = 0.05"
   ]
  },
  {
   "cell_type": "code",
   "execution_count": 82,
   "metadata": {},
   "outputs": [
    {
     "name": "stdout",
     "output_type": "stream",
     "text": [
      "number of features to select : 100\n",
      "Optimal support of size 100 found in 11.2 s\n",
      "number of features to select : 50\n",
      "Optimal support of size 50 found in 12.3 s\n",
      "number of features to select : 20\n",
      "Optimal support of size 20 found in 8.9 s\n",
      "number of features to select : 10\n",
      "Optimal support of size 10 found in 8.7 s\n"
     ]
    }
   ],
   "source": [
    "for n_features_to_select in [100,50,20,10]:\n",
    "    startTime = time.time()\n",
    "    print(f\"number of features to select : {n_features_to_select}\")\n",
    "    selector = RFE(estimator=clf, n_features_to_select=n_features_to_select, step=step)\n",
    "    selector.fit(X_train, y_train)\n",
    "    print(f\"Optimal support of size {n_features_to_select} found in {time.time() - startTime:0.1f} s\")\n",
    "    key = \"RFE_LogisticRegression_\" + str(n_features_to_select) + \"_features\" \n",
    "    dict_features_sets[key] = set(X.loc[:,selector.support_].columns)"
   ]
  },
  {
   "cell_type": "markdown",
   "metadata": {},
   "source": [
    "#### SelectFromModel"
   ]
  },
  {
   "cell_type": "code",
   "execution_count": 83,
   "metadata": {
    "collapsed": true
   },
   "outputs": [],
   "source": [
    "clf = LinearSVC(C=0.01, penalty=\"l1\", dual=False, class_weight='balanced' ).fit(X_train, y_train)\n",
    "model = SelectFromModel(clf, prefit=True)\n",
    "dict_features_sets['SelectFromModel_LinearSCV_features'] = set(X.loc[:,model.get_support()].columns)"
   ]
  },
  {
   "cell_type": "code",
   "execution_count": 84,
   "metadata": {
    "collapsed": true
   },
   "outputs": [],
   "source": [
    "clf = LogisticRegression(C=0.01, penalty=\"l1\",class_weight='balanced',random_state=42 ).fit(X_train, y_train)\n",
    "model = SelectFromModel(clf, prefit=True)\n",
    "dict_features_sets['SelectFromModel_LogisticRegression_features'] = set(X.loc[:,model.get_support()].columns)"
   ]
  },
  {
   "cell_type": "code",
   "execution_count": null,
   "metadata": {
    "collapsed": true
   },
   "outputs": [],
   "source": []
  },
  {
   "cell_type": "code",
   "execution_count": null,
   "metadata": {
    "collapsed": true
   },
   "outputs": [],
   "source": []
  },
  {
   "cell_type": "code",
   "execution_count": 85,
   "metadata": {
    "collapsed": true
   },
   "outputs": [],
   "source": [
    "filename = path_dump / Path(\"dict_features_sets.sav\")\n",
    "with open(filename, 'wb') as fp:\n",
    "     pickle.dump(dict_features_sets,fp,pickle.HIGHEST_PROTOCOL)"
   ]
  },
  {
   "cell_type": "code",
   "execution_count": 86,
   "metadata": {},
   "outputs": [
    {
     "data": {
      "text/plain": [
       "['all_features',\n",
       " 'cdv_features',\n",
       " 'additional_features',\n",
       " 'insee_features',\n",
       " 'insee_demographics_features',\n",
       " 'insee_recreation_features',\n",
       " 'cat_features',\n",
       " 'quant_features',\n",
       " 'non_redundant_cdv_features',\n",
       " 'cdv_actionable_individual_1_features',\n",
       " 'cdv_actionable_individual_2_features',\n",
       " 'cdv_actionable_individual_3_features',\n",
       " 'cdv_actionable_individual_4_features',\n",
       " 'cdv_actionable_admin_1_features',\n",
       " 'cdv_actionable_admin_2_features',\n",
       " 'cdv_actionable_admin_3_features',\n",
       " 'cdv_actionable_admin_4_features',\n",
       " 'cdv_actionable_admin_5_features',\n",
       " 'insee_recreation_actionable_admin_1_features',\n",
       " 'insee_recreation_actionable_admin_3_features',\n",
       " 'insee_recreation_actionable_admin_4_features',\n",
       " 'insee_demographics_actionable_admin_1_features',\n",
       " 'insee_demographics_actionable_admin_2_features',\n",
       " 'insee_demographics_actionable_admin_3_features',\n",
       " 'insee_demographics_actionable_admin_4_features',\n",
       " 'insee_demographics_actionable_admin_5_features',\n",
       " 'insee_environment_score_features',\n",
       " 'insee_recreation_score_features',\n",
       " 'usual_common_scope_features',\n",
       " 'usual_synthetic_scope_features',\n",
       " 'RFE_LinearSVC_100_features',\n",
       " 'RFE_LinearSVC_50_features',\n",
       " 'RFE_LinearSVC_20_features',\n",
       " 'RFE_LinearSVC_10_features',\n",
       " 'RFE_RandomForestClassifier_100_features',\n",
       " 'RFE_RandomForestClassifier_50_features',\n",
       " 'RFE_RandomForestClassifier_20_features',\n",
       " 'RFE_RandomForestClassifier_10_features',\n",
       " 'RFE_LogisticRegression_100_features',\n",
       " 'RFE_LogisticRegression_50_features',\n",
       " 'RFE_LogisticRegression_20_features',\n",
       " 'RFE_LogisticRegression_10_features',\n",
       " 'SelectFromModel_LinearSCV_features',\n",
       " 'SelectFromModel_LogisticRegression_features']"
      ]
     },
     "execution_count": 86,
     "metadata": {},
     "output_type": "execute_result"
    }
   ],
   "source": [
    "[k for k in dict_features_sets.keys()]"
   ]
  },
  {
   "cell_type": "code",
   "execution_count": null,
   "metadata": {
    "collapsed": true
   },
   "outputs": [],
   "source": []
  }
 ],
 "metadata": {
  "kernelspec": {
   "display_name": "Python 3",
   "language": "python",
   "name": "python3"
  },
  "language_info": {
   "codemirror_mode": {
    "name": "ipython",
    "version": 3
   },
   "file_extension": ".py",
   "mimetype": "text/x-python",
   "name": "python",
   "nbconvert_exporter": "python",
   "pygments_lexer": "ipython3",
   "version": "3.6.3"
  }
 },
 "nbformat": 4,
 "nbformat_minor": 2
}
