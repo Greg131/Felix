{
 "cells": [
  {
   "cell_type": "markdown",
   "metadata": {},
   "source": [
    "# Felix prototype\n",
    "**Version 0.1**   \n",
    "**Date 21/10/2018**  \n",
    "  \n",
    "Model used : **Random Forest** Classifier on features selected using various techniques including **lasso**  \n",
    "Clustering method used : **Hierarchical clustering** using **ward metric** based on 6 **NOT variable** "
   ]
  },
  {
   "cell_type": "code",
   "execution_count": 13,
   "metadata": {
    "collapsed": true
   },
   "outputs": [],
   "source": [
    "from pathlib import Path\n",
    "import pandas as pd\n",
    "import numpy as np\n",
    "from datetime import datetime\n",
    "import time\n",
    "import matplotlib.pyplot as plt\n",
    "%matplotlib inline\n",
    "import itertools\n",
    "import pickle\n",
    "from sklearn.model_selection import train_test_split\n",
    "from sklearn.preprocessing import StandardScaler\n",
    "from sklearn.model_selection import cross_val_score, GridSearchCV\n",
    "from sklearn.ensemble import RandomForestClassifier\n",
    "from sklearn.metrics import confusion_matrix, f1_score, precision_score, recall_score\n",
    "from sklearn.model_selection import StratifiedKFold\n",
    "from sklearn.utils import resample"
   ]
  },
  {
   "cell_type": "code",
   "execution_count": 14,
   "metadata": {
    "collapsed": true
   },
   "outputs": [],
   "source": [
    "path_project = Path.home() / Path('Google Drive/Felix')\n",
    "path_data = path_project / Path(\"data\")\n",
    "path_dump = path_project / Path(\"dump\")"
   ]
  },
  {
   "cell_type": "code",
   "execution_count": 15,
   "metadata": {
    "collapsed": true
   },
   "outputs": [],
   "source": [
    "# loading data\n",
    "file = path_data / Path(\"dataset.csv\")\n",
    "with Path.open(file, 'rb') as fp:\n",
    "    dataset = pd.read_csv(fp,  encoding='utf-8',low_memory=False, index_col = 0)"
   ]
  },
  {
   "cell_type": "markdown",
   "metadata": {},
   "source": [
    "### Features scope and selection strategy  \n",
    "Features are selected using lasso on the full scope of feature.\n",
    "The 50 more important features (logistic regression coef ranking) are kept regardless of their activability"
   ]
  },
  {
   "cell_type": "code",
   "execution_count": 16,
   "metadata": {
    "collapsed": true
   },
   "outputs": [],
   "source": [
    "# load feature sets\n",
    "filename = path_dump / Path(\"dict_features_sets.sav\")\n",
    "with open(filename, 'rb') as fp:\n",
    "     dict_features_sets = pickle.load(fp)"
   ]
  },
  {
   "cell_type": "code",
   "execution_count": 17,
   "metadata": {
    "collapsed": true
   },
   "outputs": [],
   "source": [
    "usual_common_scope_features = dict_features_sets.get('usual_common_scope_features', set())\n",
    "# retreiving actionable features from disk\n",
    "cdv_actionable_individual_1_features = dict_features_sets.get('cdv_actionable_individual_1_features', set())\n",
    "cdv_actionable_individual_2_features = dict_features_sets.get('cdv_actionable_individual_2_features', set())\n",
    "cdv_actionable_admin_1_features = dict_features_sets.get('cdv_actionable_admin_1_features', set())\n",
    "cdv_actionable_admin_2_features = dict_features_sets.get('cdv_actionable_admin_2_features', set())\n",
    "insee_recreation_actionable_admin_1_features = dict_features_sets.get('insee_recreation_actionable_admin_1_features', set())\n",
    "insee_recreation_actionable_admin_2_features = dict_features_sets.get('insee_recreation_actionable_admin_2_features', set())\n",
    "insee_environment_actionable_admin_1_features = dict_features_sets.get('insee_environment_actionable_admin_1_features', set())\n",
    "insee_environment_actionable_admin_2_features = dict_features_sets.get('insee_environment_actionable_admin_2_features', set())\n",
    "insee_demographics_actionable_admin_1_features = dict_features_sets.get('insee_demographics_actionable_admin_1_features', set())\n",
    "insee_demographics_actionable_admin_2_features = dict_features_sets.get('insee_demographics_actionable_admin_2_features', set())\n",
    "# defining sets of actionable features\n",
    "actionable_individual_1_features = cdv_actionable_individual_1_features\n",
    "actionable_individual_2_features = cdv_actionable_individual_2_features\n",
    "actionable_admin_1_features = cdv_actionable_admin_1_features | insee_recreation_actionable_admin_1_features | insee_environment_actionable_admin_1_features | insee_demographics_actionable_admin_1_features\n",
    "actionable_admin_2_features = cdv_actionable_admin_2_features | insee_recreation_actionable_admin_2_features | insee_environment_actionable_admin_2_features | insee_demographics_actionable_admin_2_features\n",
    "\n",
    "RFE_LogisticRegression_10_features = dict_features_sets['RFE_LogisticRegression_10_features']\n",
    "RFE_LogisticRegression_20_features = dict_features_sets['RFE_LogisticRegression_20_features']\n",
    "RFE_LogisticRegression_50_features = dict_features_sets['RFE_LogisticRegression_50_features']\n",
    "RFE_LogisticRegression_100_features = dict_features_sets['RFE_LogisticRegression_100_features']\n",
    "RFE_LinearSVC_100_features = dict_features_sets['RFE_LinearSVC_100_features'],\n",
    "RFE_LinearSVC_50_features =  dict_features_sets['RFE_LinearSVC_50_features'],\n",
    "RFE_LinearSVC_20_features =  dict_features_sets['RFE_LinearSVC_20_features'],\n",
    "RFE_LinearSVC_10_features =  dict_features_sets['RFE_LinearSVC_10_features'],\n",
    "SelectFromModel_LinearSCV_features = dict_features_sets['SelectFromModel_LinearSCV_features'],\n",
    "SelectFromModel_LogisticRegression_features = dict_features_sets['SelectFromModel_LogisticRegression_features']\n",
    "RFE_LinearSVC_10_features = RFE_LinearSVC_10_features[0]\n",
    "RFE_LinearSVC_20_features = RFE_LinearSVC_20_features[0]\n",
    "RFE_LinearSVC_50_features = RFE_LinearSVC_50_features[0]\n",
    "RFE_LinearSVC_100_features = RFE_LinearSVC_100_features[0]\n",
    "SelectFromModel_LinearSCV_features = SelectFromModel_LinearSCV_features[0]"
   ]
  },
  {
   "cell_type": "code",
   "execution_count": 18,
   "metadata": {},
   "outputs": [
    {
     "name": "stdout",
     "output_type": "stream",
     "text": [
      "The 56 features obtained using lasso:\n",
      "56 issues de l'étude CDV, 0 de l'insee, 0 calculées à partir des données insee\n",
      "['RE_MEDI_Oui', 'VACANCES_Oui', 'SITUFAM_Couple sans enfants', 'OPIIMMIG_[Nsp]', 'LIEN_2_Conjoint ou compagnon', 'INQMALAD', 'NOT_PROF', 'INQCHOM3_Non inquiet', 'RE_VOIT_Oui', 'zau2010_nan', 'RE_EQUI_[Nsp]', 'NIVPERSO', 'RE_MEDI_nan', 'CONFENTR', 'RESTRICT_Oui', 'RE_ALIM_nan', 'PROGRAD_nan', 'NB03_2_Oui, enfant de moins de 3 ans', 'PCSCON7_Sans conjoint', 'ASSO10_2_Non adhérent', 'revtot7', 'HANDICAP_Oui', 'NBCHOM', 'NOT_FAMI', 'CADVIE', 'CDV5', 'NBENF6', 'RE_LOG_Oui', 'SOUFFDEP_Oui', 'SITUEMP3_Inactif', 'INQCHOMA', 'UDA10_DOM', 'PREOTENS_Oui', 'RE_VAC_nan', 'PCSENQ10_Ouvrier', 'TRAVFEM_Elles devraient travailler quand elles le désirent', 'CHOIXNUC_Sans avis', 'SECURITE', 'INQALIM', 'CHERCHEM_Oui', 'CLASSESO_La classe populaire', 'SOUFFNER_Oui', 'OPIRSA_[Nsp]', 'INQROUT3_Non inquiet', 'INQAGRE3_Non inquiet', 'RE_LOG_nan', 'NOT_AMIS', 'RE_VOIT_nan', 'ETATSAN', 'SOUFFINS_Oui', 'CLASSESO_Les défavorisés', 'TRANSFST_Oui', 'NOT_LIBR', 'CLASSESO_La classe moyenne supérieure', 'BANQEPA_Oui', 'RE_ALIM_Oui']\n"
     ]
    }
   ],
   "source": [
    "print(f\"The {len(SelectFromModel_LogisticRegression_features)} features obtained using lasso:\")\n",
    "print(f\"{len(SelectFromModel_LogisticRegression_features & dict_features_sets.get('cdv_features',set()))} issues de l'étude CDV, {len(SelectFromModel_LogisticRegression_features & dict_features_sets.get('insee_features',set()))} de l'insee, {len(SelectFromModel_LogisticRegression_features & dict_features_sets.get('additional_features',set()))} calculées à partir des données insee\")\n",
    "print(list(SelectFromModel_LogisticRegression_features))"
   ]
  },
  {
   "cell_type": "code",
   "execution_count": 19,
   "metadata": {},
   "outputs": [
    {
     "data": {
      "text/plain": [
       "['all_features',\n",
       " 'cdv_features',\n",
       " 'additional_features',\n",
       " 'insee_features',\n",
       " 'insee_demographics_features',\n",
       " 'insee_recreation_features',\n",
       " 'cat_features',\n",
       " 'quant_features',\n",
       " 'non_redundant_cdv_features',\n",
       " 'cdv_actionable_individual_1_features',\n",
       " 'cdv_actionable_individual_2_features',\n",
       " 'cdv_actionable_individual_3_features',\n",
       " 'cdv_actionable_individual_4_features',\n",
       " 'cdv_actionable_admin_1_features',\n",
       " 'cdv_actionable_admin_2_features',\n",
       " 'cdv_actionable_admin_3_features',\n",
       " 'cdv_actionable_admin_4_features',\n",
       " 'cdv_actionable_admin_5_features',\n",
       " 'insee_recreation_actionable_admin_1_features',\n",
       " 'insee_recreation_actionable_admin_3_features',\n",
       " 'insee_recreation_actionable_admin_4_features',\n",
       " 'insee_demographics_actionable_admin_1_features',\n",
       " 'insee_demographics_actionable_admin_2_features',\n",
       " 'insee_demographics_actionable_admin_3_features',\n",
       " 'insee_demographics_actionable_admin_4_features',\n",
       " 'insee_demographics_actionable_admin_5_features',\n",
       " 'insee_environment_score_features',\n",
       " 'insee_recreation_score_features',\n",
       " 'usual_common_scope_features',\n",
       " 'usual_synthetic_scope_features',\n",
       " 'RFE_LinearSVC_100_features',\n",
       " 'RFE_LinearSVC_50_features',\n",
       " 'RFE_LinearSVC_20_features',\n",
       " 'RFE_LinearSVC_10_features',\n",
       " 'RFE_RandomForestClassifier_100_features',\n",
       " 'RFE_RandomForestClassifier_50_features',\n",
       " 'RFE_RandomForestClassifier_20_features',\n",
       " 'RFE_RandomForestClassifier_10_features',\n",
       " 'RFE_LogisticRegression_100_features',\n",
       " 'RFE_LogisticRegression_50_features',\n",
       " 'RFE_LogisticRegression_20_features',\n",
       " 'RFE_LogisticRegression_10_features',\n",
       " 'SelectFromModel_LinearSCV_features',\n",
       " 'SelectFromModel_LogisticRegression_features']"
      ]
     },
     "execution_count": 19,
     "metadata": {},
     "output_type": "execute_result"
    }
   ],
   "source": [
    "[k for k in dict_features_sets.keys()]"
   ]
  },
  {
   "cell_type": "code",
   "execution_count": 20,
   "metadata": {
    "collapsed": true
   },
   "outputs": [],
   "source": [
    "# choosing set of features\n",
    "scope = dict_features_sets.get('insee_environment_score_features', set())\n",
    "scope = scope | dict_features_sets.get('insee_recreation_score_features',set()) \n",
    "scope = scope | dict_features_sets.get('cdv_actionable_admin_1_features',set()) \n",
    "scope = scope | RFE_LogisticRegression_20_features"
   ]
  },
  {
   "cell_type": "code",
   "execution_count": 21,
   "metadata": {},
   "outputs": [
    {
     "data": {
      "text/plain": [
       "224"
      ]
     },
     "execution_count": 21,
     "metadata": {},
     "output_type": "execute_result"
    }
   ],
   "source": [
    "len(scope)"
   ]
  },
  {
   "cell_type": "markdown",
   "metadata": {},
   "source": [
    "### Clustering method - feature used \n",
    "Hierarchical clustering is used using 6 common \"NOT_\" variable"
   ]
  },
  {
   "cell_type": "code",
   "execution_count": 22,
   "metadata": {
    "collapsed": true
   },
   "outputs": [],
   "source": [
    "# loading clustering\n",
    "file = path_data / Path(\"clustTest3.csv\")\n",
    "with Path.open(file, 'rb') as fp:\n",
    "    clustTest1 = pd.read_csv(fp,  encoding='utf-8',low_memory=False, sep=\";\", index_col = 0)"
   ]
  },
  {
   "cell_type": "markdown",
   "metadata": {},
   "source": [
    "### Training set and test set preparation"
   ]
  },
  {
   "cell_type": "code",
   "execution_count": 23,
   "metadata": {},
   "outputs": [
    {
     "name": "stdout",
     "output_type": "stream",
     "text": [
      "Number exemple: 10673\n",
      "- training set: 1600\n",
      "- test set: 400\n",
      "Number of features: p=224\n",
      "Number of class: 2\n",
      "class 0 : 34.9%\n",
      "class 1 : 65.1%\n"
     ]
    }
   ],
   "source": [
    "df = dataset.loc[:,:]\n",
    "# reducing problem to a 2 class classification problem\n",
    "df[\"HEUREUX_CLF\"] = 0\n",
    "df.loc[df[\"HEUREUX\"]==4, \"HEUREUX_CLF\"] = 1\n",
    "df.loc[df[\"HEUREUX\"]==3, \"HEUREUX_CLF\"] = 1\n",
    "df.loc[df[\"HEUREUX\"]==5, \"HEUREUX_CLF\"] = None\n",
    "\n",
    "scope = scope & set(dataset.columns)\n",
    "n_max = 2000\n",
    "\n",
    "df = df.loc[:,scope | {\"HEUREUX_CLF\"} ].dropna()\n",
    "features = df.loc[:,scope ].columns\n",
    "\n",
    "X = df.loc[:,scope]\n",
    "y = df[\"HEUREUX_CLF\"]\n",
    "\n",
    "\n",
    "Xs, ys = resample(X, y, random_state=42)\n",
    "\n",
    "Xs = Xs.iloc[0:n_max,:]\n",
    "ys = ys.iloc[0:n_max]\n",
    "\n",
    "X_train, X_test, y_train, y_test = train_test_split(Xs, ys, \n",
    "                                                    test_size=0.2, \n",
    "                                                    random_state=42\n",
    "                                                   )\n",
    "\n",
    "scaler = StandardScaler().fit(X_train)\n",
    "X_train = scaler.transform(X_train)\n",
    "X_test = scaler.transform(X_test)\n",
    "\n",
    "print(f\"Number exemple: {y.shape[0]}\\n- training set: \\\n",
    "{y_train.shape[0]}\\n- test set: {y_test.shape[0]}\")\n",
    "print(f\"Number of features: p={X_train.shape[1]}\")\n",
    "print(f\"Number of class: {len(np.unique(y))}\")\n",
    "for c in np.unique(y):\n",
    "    print(f\"class {c:0.0f} : {100*np.sum(y==c)/len(y):0.1f}%\")"
   ]
  },
  {
   "cell_type": "markdown",
   "metadata": {},
   "source": [
    "### Learning and model performance evaluation on full dataset (before clustering)\n"
   ]
  },
  {
   "cell_type": "code",
   "execution_count": 24,
   "metadata": {},
   "outputs": [
    {
     "name": "stdout",
     "output_type": "stream",
     "text": [
      "Determination of optimal hyperparameters in 50.6 s\n",
      "Optimal values are {'max_depth': 32, 'n_estimators': 128} \n",
      "Accuracy Score of cross valdation 75.94%\n",
      "Random Forest, p=224\n",
      "Model score\n",
      "- Accuracy : 76.0 %\n",
      "- Precision : 76.8 % (Happy # positive class)\n",
      "- Recall : 89.9 %\n",
      "- F1 score : 82.9 %\n"
     ]
    }
   ],
   "source": [
    "startTime = time.time()\n",
    "n_estimators_range = [32,64,128,256,512]\n",
    "max_depth_range = [4,8,16,32,64] \n",
    "param_grid = dict(n_estimators=n_estimators_range, max_depth = max_depth_range)\n",
    "\n",
    "params = {'max_features' :'sqrt', 'random_state' : 32,\n",
    "          'min_samples_split' : 2, 'class_weight' : 'balanced'}\n",
    "clf = RandomForestClassifier(**params)\n",
    "\n",
    "grid = GridSearchCV(clf, scoring='accuracy', param_grid=param_grid)\n",
    "grid.fit(X_train, y_train)\n",
    "print(f\"Determination of optimal hyperparameters in {time.time() - startTime:0.1f} s\")\n",
    "print(f\"Optimal values are {grid.best_params_} \\n\\\n",
    "Accuracy Score of cross valdation {100*grid.best_score_:0.2f}%\")\n",
    "\n",
    "# Learning on full training set with optimals hyperparameters and score on test set\n",
    "params = {'max_features' :'sqrt', 'random_state' : 32, \n",
    "          'min_samples_split' : 2, 'class_weight' : 'balanced',\n",
    "          'n_estimators' : grid.best_params_['n_estimators'],\n",
    "          'max_depth' : grid.best_params_['max_depth']}\n",
    "clf = RandomForestClassifier(**params).fit(X_train, y_train)\n",
    "clf.fit(X_train, y_train)\n",
    "y_test_pred = clf.predict(X_test)\n",
    "\n",
    "print(f\"Random Forest, p={X_train.shape[1]}\")\n",
    "accuracy = clf.score(X_test, y_test)\n",
    "f1 = f1_score(y_test, y_test_pred)\n",
    "p = precision_score(y_test, y_test_pred)\n",
    "r = recall_score(y_test, y_test_pred)\n",
    "print(f\"Model score\\n- Accuracy : {accuracy*100:0.1f} %\")\n",
    "print(f\"- Precision : {p*100:0.1f} % (Happy # positive class)\")\n",
    "print(f\"- Recall : {r*100:0.1f} %\")\n",
    "print(f\"- F1 score : {f1*100:0.1f} %\")\n",
    "res_full  = {\n",
    "    'f1_score' : f1,\n",
    "    'accuracy' : accuracy,\n",
    "    'precision' : p,\n",
    "    'recall' : r\n",
    "}"
   ]
  },
  {
   "cell_type": "code",
   "execution_count": 25,
   "metadata": {},
   "outputs": [
    {
     "name": "stdout",
     "output_type": "stream",
     "text": [
      "Feature ranking:\n",
      "1. feature 194 -SOUFFDEP_Oui- (0.031521)\n",
      "\tActionable at individual level (2)\n",
      "\tActionable at administrative level (1)\n",
      "2. feature 214 -ETATSAN- (0.024959)\n",
      "\tActionable at individual level (1)\n",
      "\tActionable at administrative level (1)\n",
      "3. feature 174 -recreation_score- (0.021366)\n",
      "4. feature 40 -SOUFFNER_Oui- (0.019970)\n",
      "\tActionable at individual level (2)\n",
      "\tActionable at administrative level (1)\n",
      "5. feature 158 -NOT_AMIS- (0.019895)\n",
      "\tActionable at individual level (1)\n",
      "\tActionable at administrative level (2)\n",
      "6. feature 180 -NIVPERSO- (0.019513)\n",
      "\tActionable at individual level (2)\n",
      "\tActionable at administrative level (2)\n",
      "7. feature 182 -service_score- (0.018447)\n",
      "8. feature 171 -RE_MEDI_Oui- (0.017639)\n",
      "\tActionable at individual level (2)\n",
      "\tActionable at administrative level (2)\n",
      "9. feature 73 -CADVIE- (0.017588)\n",
      "\tActionable at individual level (1)\n",
      "\tActionable at administrative level (1)\n",
      "10. feature 140 -health_score- (0.016573)\n",
      "11. feature 42 -NOT_COHE- (0.016553)\n",
      "\tActionable at individual level (1)\n",
      "\tActionable at administrative level (1)\n",
      "12. feature 101 -NOT_LIBR- (0.016258)\n",
      "\tActionable at individual level (1)\n",
      "\tActionable at administrative level (1)\n",
      "13. feature 77 -NOT_FAMI- (0.015291)\n",
      "\tActionable at individual level (1)\n",
      "\tActionable at administrative level (2)\n",
      "14. feature 131 -NOT_POLI- (0.015083)\n",
      "\tActionable at individual level (1)\n",
      "\tActionable at administrative level (1)\n",
      "15. feature 215 -SOUFFINS_Oui- (0.013837)\n",
      "\tActionable at individual level (2)\n",
      "\tActionable at administrative level (1)\n"
     ]
    },
    {
     "data": {
      "image/png": "[encoded data removed]",
      "text/plain": [
       "<matplotlib.figure.Figure at 0x1088e5048>"
      ]
     },
     "metadata": {},
     "output_type": "display_data"
    }
   ],
   "source": [
    "importances = clf.feature_importances_\n",
    "std = np.std([tree.feature_importances_ for tree in clf.estimators_],\n",
    "             axis=0)\n",
    "indices = np.argsort(importances)[::-1]\n",
    "features_name = np.array(features)\n",
    "#features_name_sorted_rf = features_name[indices]\n",
    "# Print the feature ranking\n",
    "print(\"Feature ranking:\")\n",
    "\n",
    "max_features = 15\n",
    "\n",
    "for f in range(min(X.shape[1],max_features)):\n",
    "    print(\"%d. feature %d -%s- (%f)\" % (f + 1, indices[f],features_name[indices[f]], importances[indices[f]]))\n",
    "    if features_name[indices[f]] in actionable_individual_1_features:\n",
    "        print(\"\\tActionable at individual level (1)\")\n",
    "    if features_name[indices[f]] in actionable_individual_2_features:\n",
    "        print(\"\\tActionable at individual level (2)\")\n",
    "    if features_name[indices[f]] in actionable_admin_1_features:\n",
    "        print(\"\\tActionable at administrative level (1)\")\n",
    "    if features_name[indices[f]] in actionable_admin_2_features:\n",
    "        print(\"\\tActionable at administrative level (2)\")\n",
    "\n",
    "# Plot the feature importances of the forest\n",
    "plt.figure()\n",
    "plt.title(\"Feature importances\")\n",
    "plt.bar(range(X.shape[1]), importances[indices],\n",
    "       color=\"r\", yerr=std[indices], align=\"center\")\n",
    "plt.xticks(range(X.shape[1]), indices)\n",
    "plt.xlim([-1, X.shape[1]])\n",
    "plt.show()"
   ]
  },
  {
   "cell_type": "markdown",
   "metadata": {},
   "source": [
    "### Learning and model performance evaluation on each clusters"
   ]
  },
  {
   "cell_type": "code",
   "execution_count": 26,
   "metadata": {
    "collapsed": true
   },
   "outputs": [],
   "source": [
    "n_estimators_range = [16,32,64,128]\n",
    "max_depth_range = [2,4,8,16,32,64] \n",
    "param_grid = dict(n_estimators=n_estimators_range, max_depth = max_depth_range)\n",
    "params = {'max_features' :'sqrt', \n",
    "          'random_state' : 32, \n",
    "          'min_samples_split' : 2, \n",
    "          'class_weight' : 'balanced'\n",
    "         }\n",
    "#scope = ( SelectFromModel_LogisticRegression_features )  & set(dataset.columns)\n",
    "features = df.loc[:,scope].columns"
   ]
  },
  {
   "cell_type": "code",
   "execution_count": 27,
   "metadata": {},
   "outputs": [
    {
     "name": "stdout",
     "output_type": "stream",
     "text": [
      "--------------------------------------------\n",
      "\n",
      "Analysis cluster method clust3\n",
      "liste of clusters : [2 4 6 1 3 5]\n",
      "cluster 2 : 3053 elements\n",
      "Number exemple: 2000\n",
      "        - training set: 1600\n",
      "        - test set: 400\n",
      "Number of features: p=224\n",
      "Number of class: 2\n",
      "class 0 : 34.9%\n",
      "class 1 : 65.1%\n",
      "Optimal values are {'max_depth': 16, 'n_estimators': 64} \n",
      "cross validation score 82.31%\n",
      "\n",
      "cluster 4 : 2359 elements\n",
      "Number exemple: 2000\n",
      "        - training set: 1600\n",
      "        - test set: 400\n",
      "Number of features: p=224\n",
      "Number of class: 2\n",
      "class 0 : 34.9%\n",
      "class 1 : 65.1%\n",
      "Optimal values are {'max_depth': 32, 'n_estimators': 128} \n",
      "cross validation score 84.00%\n",
      "\n",
      "cluster 6 : 2313 elements\n",
      "Number exemple: 2000\n",
      "        - training set: 1600\n",
      "        - test set: 400\n",
      "Number of features: p=224\n",
      "Number of class: 2\n",
      "class 0 : 34.9%\n",
      "class 1 : 65.1%\n",
      "Optimal values are {'max_depth': 32, 'n_estimators': 64} \n",
      "cross validation score 82.81%\n",
      "\n",
      "cluster 1 : 528 elements\n",
      "Number exemple: 476\n",
      "        - training set: 380\n",
      "        - test set: 96\n",
      "Number of features: p=224\n",
      "Number of class: 2\n",
      "class 0 : 34.9%\n",
      "class 1 : 65.1%\n",
      "Optimal values are {'max_depth': 16, 'n_estimators': 64} \n",
      "cross validation score 81.84%\n",
      "\n",
      "cluster 3 : 1384 elements\n",
      "Number exemple: 1350\n",
      "        - training set: 1080\n",
      "        - test set: 270\n",
      "Number of features: p=224\n",
      "Number of class: 2\n",
      "class 0 : 34.9%\n",
      "class 1 : 65.1%\n",
      "Optimal values are {'max_depth': 32, 'n_estimators': 32} \n",
      "cross validation score 84.72%\n",
      "\n",
      "cluster 5 : 1494 elements\n",
      "Number exemple: 1457\n",
      "        - training set: 1165\n",
      "        - test set: 292\n",
      "Number of features: p=224\n",
      "Number of class: 2\n",
      "class 0 : 34.9%\n",
      "class 1 : 65.1%\n",
      "Optimal values are {'max_depth': 32, 'n_estimators': 32} \n",
      "cross validation score 84.46%\n",
      "\n"
     ]
    }
   ],
   "source": [
    "score_clustering_methods = []\n",
    "clustering_methods = clustTest1.columns[2:3]\n",
    "\n",
    "for method in clustering_methods:\n",
    "    print(\"--------------------------------------------\")\n",
    "    print(f\"\\nAnalysis cluster method {method}\")\n",
    "    cluster_list = clustTest1[method].unique()\n",
    "    print(f\"liste of clusters : {cluster_list}\")\n",
    "    score_cluster = []\n",
    "    for cluster in cluster_list:\n",
    "        index_scope = clustTest1.loc[clustTest1[method]==cluster,:].index\n",
    "        print(f\"cluster {cluster} : {len(index_scope)} elements\")\n",
    "        \n",
    "        Xc = X.loc[index_scope.intersection(X.index),:]\n",
    "        yc = y[index_scope.intersection(X.index)]\n",
    "        \n",
    "        Xs, ys = resample(Xc, yc, random_state=42)\n",
    "        \n",
    "        Xs = Xs.iloc[0:n_max,:]\n",
    "        ys = ys.iloc[0:n_max]\n",
    "        \n",
    "        X_train, X_test, y_train, y_test = train_test_split(Xs, ys,\n",
    "                                                            test_size=0.2, \n",
    "                                                            random_state=42)\n",
    "\n",
    "        scaler = StandardScaler().fit(X_train)\n",
    "        X_train = scaler.transform(X_train)\n",
    "        X_test = scaler.transform(X_test)\n",
    "                \n",
    "        print(f\"Number exemple: {ys.shape[0]}\\n\\\n",
    "        - training set: {y_train.shape[0]}\\n\\\n",
    "        - test set: {y_test.shape[0]}\")\n",
    "        print(f\"Number of features: p={X_train.shape[1]}\")\n",
    "        print(f\"Number of class: {len(np.unique(y))}\")\n",
    "        for c in np.unique(y):\n",
    "            print(f\"class {c:0.0f} : {100*np.sum(y==c)/len(y):0.1f}%\")\n",
    "            \n",
    "            \n",
    "        startTime = time.time()\n",
    "        clf = RandomForestClassifier(**params)\n",
    "        grid = GridSearchCV(clf, \n",
    "                            scoring='accuracy', \n",
    "                            param_grid=param_grid)\n",
    "\n",
    "        grid.fit(X_train, y_train)\n",
    "        print(f\"Optimal values are {grid.best_params_} \\n\\\n",
    "cross validation score {100*grid.best_score_:0.2f}%\")\n",
    "        print()\n",
    "\n",
    "        # Learning on full training set with optimals hyperparameters and score on test set\n",
    "        params_opt = {'max_features' :'sqrt', 'random_state' : 32, \n",
    "                      'min_samples_split' : 2, 'class_weight' : 'balanced',\n",
    "                      'n_estimators' : grid.best_params_['n_estimators'],\n",
    "                      'max_depth' : grid.best_params_['max_depth']}\n",
    "        clf = RandomForestClassifier(**params_opt).fit(X_train, y_train)\n",
    "\n",
    "            \n",
    "        y_test_pred = clf.predict(X_test)\n",
    "        accuracy = clf.score(X_test, y_test)\n",
    "        f1 = f1_score(y_test, y_test_pred)\n",
    "        p = precision_score(y_test, y_test_pred)\n",
    "        r = recall_score(y_test, y_test_pred)            \n",
    "\n",
    "        res  = {'f1_score' : f1,\n",
    "                'accuracy' : accuracy,\n",
    "                'precision' : p,\n",
    "                'recall' : r}\n",
    "\n",
    "        \n",
    "        importances = clf.feature_importances_\n",
    "        std = np.std([tree.feature_importances_ for tree in clf.estimators_],\n",
    "                     axis=0)\n",
    "        indices = np.argsort(importances)[::-1]\n",
    "        features_name = np.array(features)\n",
    "        \n",
    "        cl = {'cluster' : cluster,\n",
    "              'size' : len(index_scope),\n",
    "              'model' : 'RandomForestClassifier',\n",
    "              'params' : params_opt,\n",
    "              'metrics' : res,\n",
    "              'importances' : importances,\n",
    "              'sdt' : std,\n",
    "              'indices' : indices,\n",
    "              'features_name' : features_name\n",
    "             }\n",
    "         \n",
    "        score_cluster.append(cl)\n",
    "        \n",
    "        \n",
    "        \n",
    "        \n",
    "        \n",
    "        \n",
    "        \n",
    "        \n",
    "    d = {'clustering_method' : method,\n",
    "         'cluster_scores' : score_cluster\n",
    "        }\n",
    "    score_clustering_methods.append(d) "
   ]
  },
  {
   "cell_type": "markdown",
   "metadata": {},
   "source": [
    "### Performance gain obtained using clustering"
   ]
  },
  {
   "cell_type": "code",
   "execution_count": 28,
   "metadata": {
    "scrolled": true
   },
   "outputs": [
    {
     "name": "stdout",
     "output_type": "stream",
     "text": [
      "method clust3:\n",
      "cluster 2 (3053), f1 macro 88.3%\n",
      "cluster 4 (2359), f1 macro 93.2%\n",
      "cluster 6 (2313), f1 macro 91.8%\n",
      "cluster 1 (528), f1 macro 85.4%\n",
      "cluster 3 (1384), f1 macro 94.1%\n",
      "cluster 5 (1494), f1 macro 89.9%\n",
      "average f1 on clusters 90.9% gain 8.0\n",
      "\n"
     ]
    }
   ],
   "source": [
    "# F1 score\n",
    "for score_method in score_clustering_methods:\n",
    "    print(f\"method {score_method['clustering_method']}:\")\n",
    "    average_score = 0\n",
    "    total_size = 0\n",
    "    for i, score_cluster in enumerate(score_method['cluster_scores']):\n",
    "        print(f\"cluster {score_cluster['cluster']} ({score_cluster['size']}), f1 macro {100*score_cluster['metrics']['f1_score']:0.1f}%\")  \n",
    "        average_score += score_cluster['metrics']['f1_score']*score_cluster['size']\n",
    "        total_size += score_cluster['size']\n",
    "        \n",
    "    average_score = average_score / total_size\n",
    "    print(f\"average f1 on clusters {100*average_score:0.1f}% gain {100*(average_score-res_full['f1_score']):0.1f}\\n\")  "
   ]
  },
  {
   "cell_type": "code",
   "execution_count": 29,
   "metadata": {},
   "outputs": [
    {
     "name": "stdout",
     "output_type": "stream",
     "text": [
      "method clust3:\n",
      "cluster 2 (3053) , accuracy 83.5%\n",
      "cluster 4 (2359) , accuracy 90.2%\n",
      "cluster 6 (2313) , accuracy 88.5%\n",
      "cluster 1 (528) , accuracy 85.4%\n",
      "cluster 3 (1384) , accuracy 91.5%\n",
      "cluster 5 (1494) , accuracy 87.7%\n",
      "average accuracy on clusters 87.6% gain 11.6\n",
      "\n"
     ]
    }
   ],
   "source": [
    "# accuracy\n",
    "for score_method in score_clustering_methods:\n",
    "    print(f\"method {score_method['clustering_method']}:\")\n",
    "    average_score = 0\n",
    "    total_size = 0\n",
    "    for i, score_cluster in enumerate(score_method['cluster_scores']):\n",
    "        print(f\"cluster {score_cluster['cluster']} ({score_cluster['size']}) , accuracy {100*score_cluster['metrics']['accuracy']:0.1f}%\")  \n",
    "        average_score = average_score + score_cluster['metrics']['accuracy']*score_cluster['size']\n",
    "        total_size += score_cluster['size']\n",
    "    average_score = average_score / total_size\n",
    "    print(f\"average accuracy on clusters {100*average_score:0.1f}% gain {100*(average_score-res_full['accuracy']):0.1f}\\n\")  "
   ]
  },
  {
   "cell_type": "markdown",
   "metadata": {
    "collapsed": true
   },
   "source": [
    "### Feature importance of the models & actionable variables"
   ]
  },
  {
   "cell_type": "code",
   "execution_count": 30,
   "metadata": {},
   "outputs": [
    {
     "name": "stdout",
     "output_type": "stream",
     "text": [
      "method clust3:\n",
      "cluster 2 (3053), f1 macro 88.3%\n",
      "top 15 features:\n",
      "1. feature 194 -SOUFFDEP_Oui- (0.024585)\n",
      "\tActionable at individual level (2)\n",
      "\tActionable at administrative level (1)\n",
      "2. feature 77 -NOT_FAMI- (0.021463)\n",
      "\tActionable at individual level (1)\n",
      "\tActionable at administrative level (2)\n",
      "3. feature 174 -recreation_score- (0.021064)\n",
      "4. feature 42 -NOT_COHE- (0.020081)\n",
      "\tActionable at individual level (1)\n",
      "\tActionable at administrative level (1)\n",
      "5. feature 214 -ETATSAN- (0.019791)\n",
      "\tActionable at individual level (1)\n",
      "\tActionable at administrative level (1)\n",
      "6. feature 180 -NIVPERSO- (0.018045)\n",
      "\tActionable at individual level (2)\n",
      "\tActionable at administrative level (2)\n",
      "7. feature 131 -NOT_POLI- (0.017250)\n",
      "\tActionable at individual level (1)\n",
      "\tActionable at administrative level (1)\n",
      "8. feature 182 -service_score- (0.016288)\n",
      "9. feature 140 -health_score- (0.015963)\n",
      "10. feature 158 -NOT_AMIS- (0.015891)\n",
      "\tActionable at individual level (1)\n",
      "\tActionable at administrative level (2)\n",
      "11. feature 101 -NOT_LIBR- (0.015613)\n",
      "\tActionable at individual level (1)\n",
      "\tActionable at administrative level (1)\n",
      "12. feature 73 -CADVIE- (0.015412)\n",
      "\tActionable at individual level (1)\n",
      "\tActionable at administrative level (1)\n",
      "13. feature 186 -score_environnement- (0.014520)\n",
      "14. feature 28 -SENSIENV- (0.013780)\n",
      "\tActionable at individual level (1)\n",
      "\tActionable at administrative level (1)\n",
      "15. feature 12 -justice_score- (0.013617)\n"
     ]
    },
    {
     "data": {
      "image/png": "[encoded data removed]",
      "text/plain": [
       "<matplotlib.figure.Figure at 0x1a2b06a7f0>"
      ]
     },
     "metadata": {},
     "output_type": "display_data"
    },
    {
     "name": "stdout",
     "output_type": "stream",
     "text": [
      "cluster 4 (2359), f1 macro 93.2%\n",
      "top 15 features:\n",
      "1. feature 174 -recreation_score- (0.022405)\n",
      "2. feature 214 -ETATSAN- (0.019984)\n",
      "\tActionable at individual level (1)\n",
      "\tActionable at administrative level (1)\n",
      "3. feature 194 -SOUFFDEP_Oui- (0.019773)\n",
      "\tActionable at individual level (2)\n",
      "\tActionable at administrative level (1)\n",
      "4. feature 73 -CADVIE- (0.018034)\n",
      "\tActionable at individual level (1)\n",
      "\tActionable at administrative level (1)\n",
      "5. feature 131 -NOT_POLI- (0.017956)\n",
      "\tActionable at individual level (1)\n",
      "\tActionable at administrative level (1)\n",
      "6. feature 180 -NIVPERSO- (0.017926)\n",
      "\tActionable at individual level (2)\n",
      "\tActionable at administrative level (2)\n",
      "7. feature 42 -NOT_COHE- (0.017370)\n",
      "\tActionable at individual level (1)\n",
      "\tActionable at administrative level (1)\n",
      "8. feature 158 -NOT_AMIS- (0.017209)\n",
      "\tActionable at individual level (1)\n",
      "\tActionable at administrative level (2)\n",
      "9. feature 182 -service_score- (0.017065)\n",
      "10. feature 101 -NOT_LIBR- (0.016377)\n",
      "\tActionable at individual level (1)\n",
      "\tActionable at administrative level (1)\n",
      "11. feature 192 -CDV5- (0.016340)\n",
      "\tActionable at individual level (2)\n",
      "\tActionable at administrative level (1)\n",
      "12. feature 140 -health_score- (0.016113)\n",
      "13. feature 29 -INQCHOMA- (0.015294)\n",
      "\tActionable at individual level (1)\n",
      "\tActionable at administrative level (1)\n",
      "14. feature 171 -RE_MEDI_Oui- (0.014790)\n",
      "\tActionable at individual level (2)\n",
      "\tActionable at administrative level (2)\n",
      "15. feature 28 -SENSIENV- (0.014755)\n",
      "\tActionable at individual level (1)\n",
      "\tActionable at administrative level (1)\n"
     ]
    },
    {
     "data": {
      "image/png": "[encoded data removed]",
      "text/plain": [
       "<matplotlib.figure.Figure at 0x115120208>"
      ]
     },
     "metadata": {},
     "output_type": "display_data"
    },
    {
     "name": "stdout",
     "output_type": "stream",
     "text": [
      "cluster 6 (2313), f1 macro 91.8%\n",
      "top 15 features:\n",
      "1. feature 158 -NOT_AMIS- (0.032133)\n",
      "\tActionable at individual level (1)\n",
      "\tActionable at administrative level (2)\n",
      "2. feature 180 -NIVPERSO- (0.026058)\n",
      "\tActionable at individual level (2)\n",
      "\tActionable at administrative level (2)\n",
      "3. feature 214 -ETATSAN- (0.024819)\n",
      "\tActionable at individual level (1)\n",
      "\tActionable at administrative level (1)\n",
      "4. feature 194 -SOUFFDEP_Oui- (0.023141)\n",
      "\tActionable at individual level (2)\n",
      "\tActionable at administrative level (1)\n",
      "5. feature 42 -NOT_COHE- (0.022800)\n",
      "\tActionable at individual level (1)\n",
      "\tActionable at administrative level (1)\n",
      "6. feature 174 -recreation_score- (0.022455)\n",
      "7. feature 73 -CADVIE- (0.021672)\n",
      "\tActionable at individual level (1)\n",
      "\tActionable at administrative level (1)\n",
      "8. feature 140 -health_score- (0.018987)\n",
      "9. feature 182 -service_score- (0.017876)\n",
      "10. feature 171 -RE_MEDI_Oui- (0.015540)\n",
      "\tActionable at individual level (2)\n",
      "\tActionable at administrative level (2)\n",
      "11. feature 142 -FREQSPOR- (0.014271)\n",
      "\tActionable at individual level (1)\n",
      "\tActionable at administrative level (1)\n",
      "12. feature 126 -senior_score- (0.014232)\n",
      "13. feature 12 -justice_score- (0.014146)\n",
      "14. feature 40 -SOUFFNER_Oui- (0.014126)\n",
      "\tActionable at individual level (2)\n",
      "\tActionable at administrative level (1)\n",
      "15. feature 186 -score_environnement- (0.013280)\n"
     ]
    },
    {
     "data": {
      "image/png": "[encoded data removed]",
      "text/plain": [
       "<matplotlib.figure.Figure at 0x10f55b748>"
      ]
     },
     "metadata": {},
     "output_type": "display_data"
    },
    {
     "name": "stdout",
     "output_type": "stream",
     "text": [
      "cluster 1 (528), f1 macro 85.4%\n",
      "top 15 features:\n",
      "1. feature 91 -INNOVTEC- (0.034431)\n",
      "\tActionable at individual level (1)\n",
      "\tActionable at administrative level (1)\n",
      "2. feature 174 -recreation_score- (0.021934)\n",
      "3. feature 162 -CONFASSO- (0.021475)\n",
      "\tActionable at individual level (1)\n",
      "\tActionable at administrative level (1)\n",
      "4. feature 186 -score_environnement- (0.021265)\n",
      "5. feature 194 -SOUFFDEP_Oui- (0.019852)\n",
      "\tActionable at individual level (2)\n",
      "\tActionable at administrative level (1)\n",
      "6. feature 126 -senior_score- (0.018348)\n",
      "7. feature 140 -health_score- (0.018325)\n",
      "8. feature 214 -ETATSAN- (0.018030)\n",
      "\tActionable at individual level (1)\n",
      "\tActionable at administrative level (1)\n",
      "9. feature 18 -CONFENTR- (0.017529)\n",
      "\tActionable at individual level (1)\n",
      "\tActionable at administrative level (1)\n",
      "10. feature 180 -NIVPERSO- (0.016434)\n",
      "\tActionable at individual level (2)\n",
      "\tActionable at administrative level (2)\n",
      "11. feature 158 -NOT_AMIS- (0.016232)\n",
      "\tActionable at individual level (1)\n",
      "\tActionable at administrative level (2)\n",
      "12. feature 12 -justice_score- (0.016073)\n",
      "13. feature 42 -NOT_COHE- (0.015387)\n",
      "\tActionable at individual level (1)\n",
      "\tActionable at administrative level (1)\n",
      "14. feature 101 -NOT_LIBR- (0.015139)\n",
      "\tActionable at individual level (1)\n",
      "\tActionable at administrative level (1)\n",
      "15. feature 138 -score_nature- (0.014263)\n"
     ]
    },
    {
     "data": {
      "image/png": "[encoded data removed]",
      "text/plain": [
       "<matplotlib.figure.Figure at 0x114dda3c8>"
      ]
     },
     "metadata": {},
     "output_type": "display_data"
    },
    {
     "name": "stdout",
     "output_type": "stream",
     "text": [
      "cluster 3 (1384), f1 macro 94.1%\n",
      "top 15 features:\n",
      "1. feature 214 -ETATSAN- (0.035473)\n",
      "\tActionable at individual level (1)\n",
      "\tActionable at administrative level (1)\n",
      "2. feature 194 -SOUFFDEP_Oui- (0.034323)\n",
      "\tActionable at individual level (2)\n",
      "\tActionable at administrative level (1)\n",
      "3. feature 174 -recreation_score- (0.020701)\n",
      "4. feature 182 -service_score- (0.018199)\n",
      "5. feature 169 -RE_ALIM_Oui- (0.017952)\n",
      "\tActionable at individual level (2)\n",
      "\tActionable at administrative level (2)\n",
      "6. feature 140 -health_score- (0.017898)\n",
      "7. feature 186 -score_environnement- (0.017692)\n",
      "8. feature 158 -NOT_AMIS- (0.016514)\n",
      "\tActionable at individual level (1)\n",
      "\tActionable at administrative level (2)\n",
      "9. feature 42 -NOT_COHE- (0.014656)\n",
      "\tActionable at individual level (1)\n",
      "\tActionable at administrative level (1)\n",
      "10. feature 101 -NOT_LIBR- (0.014457)\n",
      "\tActionable at individual level (1)\n",
      "\tActionable at administrative level (1)\n",
      "11. feature 88 -SECURITE- (0.014100)\n",
      "\tActionable at individual level (2)\n",
      "\tActionable at administrative level (1)\n",
      "12. feature 180 -NIVPERSO- (0.013949)\n",
      "\tActionable at individual level (2)\n",
      "\tActionable at administrative level (2)\n",
      "13. feature 131 -NOT_POLI- (0.013378)\n",
      "\tActionable at individual level (1)\n",
      "\tActionable at administrative level (1)\n",
      "14. feature 125 -RESTRICT_Oui- (0.013313)\n",
      "\tActionable at individual level (2)\n",
      "\tActionable at administrative level (2)\n",
      "15. feature 149 -INQALIM- (0.013173)\n",
      "\tActionable at individual level (1)\n",
      "\tActionable at administrative level (1)\n"
     ]
    },
    {
     "data": {
      "image/png": "[encoded data removed]",
      "text/plain": [
       "<matplotlib.figure.Figure at 0x114f0d668>"
      ]
     },
     "metadata": {},
     "output_type": "display_data"
    },
    {
     "name": "stdout",
     "output_type": "stream",
     "text": [
      "cluster 5 (1494), f1 macro 89.9%\n",
      "top 15 features:\n",
      "1. feature 194 -SOUFFDEP_Oui- (0.036367)\n",
      "\tActionable at individual level (2)\n",
      "\tActionable at administrative level (1)\n",
      "2. feature 214 -ETATSAN- (0.029576)\n",
      "\tActionable at individual level (1)\n",
      "\tActionable at administrative level (1)\n",
      "3. feature 180 -NIVPERSO- (0.023833)\n",
      "\tActionable at individual level (2)\n",
      "\tActionable at administrative level (2)\n",
      "4. feature 73 -CADVIE- (0.021619)\n",
      "\tActionable at individual level (1)\n",
      "\tActionable at administrative level (1)\n",
      "5. feature 158 -NOT_AMIS- (0.021091)\n",
      "\tActionable at individual level (1)\n",
      "\tActionable at administrative level (2)\n",
      "6. feature 174 -recreation_score- (0.020340)\n",
      "7. feature 131 -NOT_POLI- (0.019911)\n",
      "\tActionable at individual level (1)\n",
      "\tActionable at administrative level (1)\n",
      "8. feature 171 -RE_MEDI_Oui- (0.018137)\n",
      "\tActionable at individual level (2)\n",
      "\tActionable at administrative level (2)\n",
      "9. feature 140 -health_score- (0.018014)\n",
      "10. feature 169 -RE_ALIM_Oui- (0.017080)\n",
      "\tActionable at individual level (2)\n",
      "\tActionable at administrative level (2)\n",
      "11. feature 182 -service_score- (0.016913)\n",
      "12. feature 42 -NOT_COHE- (0.016401)\n",
      "\tActionable at individual level (1)\n",
      "\tActionable at administrative level (1)\n",
      "13. feature 28 -SENSIENV- (0.015809)\n",
      "\tActionable at individual level (1)\n",
      "\tActionable at administrative level (1)\n",
      "14. feature 44 -CLASSESO_La classe moyenne supérieure- (0.015234)\n",
      "\tActionable at individual level (1)\n",
      "\tActionable at administrative level (1)\n",
      "15. feature 149 -INQALIM- (0.015077)\n",
      "\tActionable at individual level (1)\n",
      "\tActionable at administrative level (1)\n"
     ]
    },
    {
     "data": {
      "image/png": "[encoded data removed]",
      "text/plain": [
       "<matplotlib.figure.Figure at 0x1a2affef28>"
      ]
     },
     "metadata": {},
     "output_type": "display_data"
    }
   ],
   "source": [
    "# Feature importance by cluster\n",
    "for score_method in score_clustering_methods:\n",
    "    print(f\"method {score_method['clustering_method']}:\")\n",
    "    for i, score_cluster in enumerate(score_method['cluster_scores']):\n",
    "        print(f\"cluster {score_cluster['cluster']} ({score_cluster['size']}), f1 macro {100*score_cluster['metrics']['f1_score']:0.1f}%\")\n",
    "        print(f\"top 15 features:\")\n",
    "        indices = score_cluster['indices']\n",
    "        features_name = score_cluster['features_name']\n",
    "        importances = score_cluster['importances']\n",
    "        for f in range(15):\n",
    "            print(\"%d. feature %d -%s- (%f)\" % (f + 1, indices[f],features_name[indices[f]], importances[indices[f]]))\n",
    "            if features_name[indices[f]] in actionable_individual_1_features:\n",
    "                print(\"\\tActionable at individual level (1)\")\n",
    "            if features_name[indices[f]] in actionable_individual_2_features:\n",
    "                print(\"\\tActionable at individual level (2)\")\n",
    "            if features_name[indices[f]] in actionable_admin_1_features:\n",
    "                print(\"\\tActionable at administrative level (1)\")\n",
    "            if features_name[indices[f]] in actionable_admin_2_features:\n",
    "                print(\"\\tActionable at administrative level (2)\")\n",
    "  \n",
    "        # Plot the feature importances of the forest\n",
    "        plt.figure()\n",
    "        plt.title(\"Feature importances\")\n",
    "        plt.bar(range(X.shape[1]), importances[indices],\n",
    "                color=\"r\", yerr=std[indices], align=\"center\")\n",
    "        plt.xticks(range(X.shape[1]), indices)\n",
    "        plt.xlim([-1, X.shape[1]])\n",
    "        plt.show()\n",
    "        \n",
    "        \n",
    "\n"
   ]
  },
  {
   "cell_type": "code",
   "execution_count": null,
   "metadata": {
    "collapsed": true
   },
   "outputs": [],
   "source": []
  },
  {
   "cell_type": "code",
   "execution_count": null,
   "metadata": {
    "collapsed": true
   },
   "outputs": [],
   "source": []
  },
  {
   "cell_type": "code",
   "execution_count": null,
   "metadata": {
    "collapsed": true
   },
   "outputs": [],
   "source": []
  },
  {
   "cell_type": "code",
   "execution_count": null,
   "metadata": {
    "collapsed": true
   },
   "outputs": [],
   "source": []
  }
 ],
 "metadata": {
  "kernelspec": {
   "display_name": "Python 3",
   "language": "python",
   "name": "python3"
  },
  "language_info": {
   "codemirror_mode": {
    "name": "ipython",
    "version": 3
   },
   "file_extension": ".py",
   "mimetype": "text/x-python",
   "name": "python",
   "nbconvert_exporter": "python",
   "pygments_lexer": "ipython3",
   "version": "3.6.3"
  }
 },
 "nbformat": 4,
 "nbformat_minor": 2
}
