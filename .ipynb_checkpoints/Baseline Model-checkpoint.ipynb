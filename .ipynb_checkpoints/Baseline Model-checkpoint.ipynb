{
 "cells": [
  {
   "cell_type": "markdown",
   "metadata": {},
   "source": [
    "# Firts attempts & Base Model"
   ]
  },
  {
   "cell_type": "code",
   "execution_count": 1,
   "metadata": {
    "collapsed": true
   },
   "outputs": [],
   "source": [
    "from pathlib import Path\n",
    "import pandas as pd\n",
    "import numpy as np\n",
    "from datetime import datetime\n",
    "import time\n",
    "import matplotlib.pyplot as plt\n",
    "%matplotlib inline\n",
    "#%pylab inline\n",
    "import itertools\n",
    "import pickle\n",
    "from sklearn.model_selection import train_test_split\n",
    "from sklearn.preprocessing import StandardScaler\n",
    "from sklearn.linear_model import LogisticRegression\n",
    "from sklearn.model_selection import cross_val_score, GridSearchCV\n",
    "from sklearn.decomposition import PCA\n",
    "from sklearn.ensemble import RandomForestClassifier\n",
    "from sklearn.metrics import confusion_matrix\n",
    "from sklearn.preprocessing import LabelEncoder\n",
    "from sklearn.preprocessing import LabelBinarizer\n",
    "from sklearn.preprocessing import OneHotEncoder\n",
    "from sklearn.svm import SVC\n",
    "from sklearn.model_selection import StratifiedKFold\n",
    "from sklearn.feature_selection import RFECV"
   ]
  },
  {
   "cell_type": "code",
   "execution_count": 2,
   "metadata": {
    "collapsed": true
   },
   "outputs": [],
   "source": [
    "path_project = Path.home() / Path('Google Drive/Felix')\n",
    "path_data = path_project / Path(\"data\")\n",
    "path_dump = path_project / Path(\"dump\")"
   ]
  },
  {
   "cell_type": "code",
   "execution_count": 3,
   "metadata": {
    "collapsed": true
   },
   "outputs": [],
   "source": [
    "# loading cdv data\n",
    "file = path_data / Path(\"felix.csv\")\n",
    "with Path.open(file, 'rb') as fp:\n",
    "    cdv = pd.read_csv(fp,  encoding='cp1252',low_memory=False)"
   ]
  },
  {
   "cell_type": "code",
   "execution_count": 4,
   "metadata": {
    "collapsed": true
   },
   "outputs": [],
   "source": [
    "# loadind cdv data without format\n",
    "file = path_data / Path(\"felix_ssfmt.csv\")\n",
    "with Path.open(file, 'rb') as fp:\n",
    "    cdv_ssfmt = pd.read_csv(fp,  encoding='cp1252',low_memory=False)"
   ]
  },
  {
   "cell_type": "markdown",
   "metadata": {},
   "source": [
    "## 1) Feature engineering"
   ]
  },
  {
   "cell_type": "code",
   "execution_count": 5,
   "metadata": {
    "collapsed": true
   },
   "outputs": [],
   "source": [
    "filename = path_dump / Path(\"dict_var_groups.sav\")\n",
    "with open(filename, 'rb') as fp:\n",
    "     dict_var_groups = pickle.load(fp)\n",
    "\n",
    "scope_2015_var = dict_var_groups['scope_2015_var']\n",
    "scope_2016_var = dict_var_groups['scope_2016_var']\n",
    "scope_2017_var = dict_var_groups['scope_2017_var']\n",
    "scope_2018_var = dict_var_groups['scope_2018_var']\n",
    "scope_2015_2018_var = dict_var_groups['scope_2015_2018_var']\n",
    "scope_2016_2018_var = dict_var_groups['scope_2016_2018_var']\n",
    "scope_2017_2018_var = dict_var_groups['scope_2017_2018_var']\n",
    "pred_var = dict_var_groups['pred_var']\n",
    "com_var = dict_var_groups['com_var']\n",
    "tech_var = dict_var_groups['tech_var']\n",
    "text_var = dict_var_groups['text_var']\n",
    "bizz_var = dict_var_groups['bizz_var']\n",
    "cat_var = dict_var_groups['cat_var']\n",
    "cat_max9_var = dict_var_groups['cat_max9_var']\n",
    "cat_min10_var = dict_var_groups['cat_min10_var']\n",
    "quant_var = dict_var_groups['quant_var']"
   ]
  },
  {
   "cell_type": "code",
   "execution_count": 6,
   "metadata": {},
   "outputs": [
    {
     "name": "stdout",
     "output_type": "stream",
     "text": [
      "out of the 354 variable :\n",
      "268 variables como, to all years \n"
     ]
    }
   ],
   "source": [
    "print(f\"out of the {cdv.shape[1]} variable :\")\n",
    "print(f\"{len(scope_2015_2018_var)} variables como, to all years \")"
   ]
  },
  {
   "cell_type": "code",
   "execution_count": 7,
   "metadata": {},
   "outputs": [
    {
     "name": "stdout",
     "output_type": "stream",
     "text": [
      "Out of the 268 variables comon to all years \n",
      "22 are excluded \n",
      "246 are kept \n"
     ]
    }
   ],
   "source": [
    "exclusion = com_var | tech_var | bizz_var | text_var \n",
    "print(f\"Out of the {len(scope_2015_2018_var)} variables comon to all years \")\n",
    "print(f\"{len(scope_2015_2018_var & exclusion)} are excluded \")\n",
    "scope_2015_2018_var_kept = scope_2015_2018_var - exclusion\n",
    "print(f\"{len(scope_2015_2018_var_kept)} are kept \")"
   ]
  },
  {
   "cell_type": "code",
   "execution_count": 8,
   "metadata": {},
   "outputs": [
    {
     "name": "stdout",
     "output_type": "stream",
     "text": [
      "out of the 246 common variable :\n",
      "171 variables are categorial \n",
      "75 variables are quantitative \n"
     ]
    }
   ],
   "source": [
    "print(f\"out of the {len(scope_2015_2018_var_kept)} common variable :\")\n",
    "print(f\"{len(cat_var & scope_2015_2018_var_kept)} variables are categorial \")\n",
    "print(f\"{len(quant_var & scope_2015_2018_var_kept)} variables are quantitative \")"
   ]
  },
  {
   "cell_type": "code",
   "execution_count": 9,
   "metadata": {},
   "outputs": [
    {
     "name": "stdout",
     "output_type": "stream",
     "text": [
      "out of the 171 variable categorial:\n",
      "156 variables have maximum 9 modalities  \n",
      "15 variables have more and are excluded\n"
     ]
    }
   ],
   "source": [
    "print(f\"out of the {len(cat_var & scope_2015_2018_var_kept)} variable categorial:\")\n",
    "print(f\"{len(cat_max9_var & scope_2015_2018_var_kept)} variables have maximum 9 modalities  \")\n",
    "print(f\"{len(cat_min10_var & scope_2015_2018_var_kept)} variables have more and are excluded\")\n",
    "cat_var_kept = cat_max9_var & scope_2015_2018_var_kept"
   ]
  },
  {
   "cell_type": "code",
   "execution_count": 10,
   "metadata": {},
   "outputs": [
    {
     "name": "stdout",
     "output_type": "stream",
     "text": [
      "out of the 75 quantitatices variables:\n",
      "60 have less than 200 missing values and are kept\n"
     ]
    }
   ],
   "source": [
    "scope_quant_var = (quant_var & scope_2015_2018_var_kept) \n",
    "quant_null = np.sum(cdv_ssfmt.loc[:,scope_quant_var].isnull())\n",
    "quant_var_kept = set(quant_null[quant_null < 200].index)\n",
    "print(f\"out of the {len(scope_quant_var)} quantitatices variables:\")\n",
    "print(f\"{len(quant_var_kept)} have less than 200 missing values and are kept\")"
   ]
  },
  {
   "cell_type": "code",
   "execution_count": 11,
   "metadata": {},
   "outputs": [],
   "source": [
    "scope = cat_var_kept | quant_var_kept\n",
    "df = cdv_ssfmt.loc[:,scope]\n",
    "df.loc[:,cat_var_kept - {\"HEUREUX\"}] = cdv.loc[:,cat_var_kept - {\"HEUREUX\"}]"
   ]
  },
  {
   "cell_type": "code",
   "execution_count": 12,
   "metadata": {},
   "outputs": [
    {
     "name": "stdout",
     "output_type": "stream",
     "text": [
      "Number of variable kept 216\n"
     ]
    }
   ],
   "source": [
    "print(f\"Number of variable kept {df.shape[1]}\")"
   ]
  },
  {
   "cell_type": "markdown",
   "metadata": {},
   "source": [
    "### Encoding 'HEUREUX'"
   ]
  },
  {
   "cell_type": "code",
   "execution_count": 13,
   "metadata": {},
   "outputs": [],
   "source": [
    "# reducing problem to a 2 class classification problem\n",
    "df[\"HEUREUX_CLF\"] = 0\n",
    "df.loc[df[\"HEUREUX\"]==4, \"HEUREUX_CLF\"] = 1\n",
    "df.loc[df[\"HEUREUX\"]==3, \"HEUREUX_CLF\"] = 1\n",
    "df.loc[df[\"HEUREUX\"]==5, \"HEUREUX_CLF\"] = None"
   ]
  },
  {
   "cell_type": "code",
   "execution_count": 14,
   "metadata": {
    "collapsed": true
   },
   "outputs": [],
   "source": [
    "# Modelisation as a regression problem\n",
    "df[\"HEUREUX_REG\"] = df[\"HEUREUX\"]\n",
    "df.loc[df[\"HEUREUX\"]==5, \"HEUREUX_REG\"] = None"
   ]
  },
  {
   "cell_type": "markdown",
   "metadata": {},
   "source": [
    "### Encoding categorial variables"
   ]
  },
  {
   "cell_type": "code",
   "execution_count": 15,
   "metadata": {},
   "outputs": [
    {
     "name": "stdout",
     "output_type": "stream",
     "text": [
      "218 columns\n",
      "out of which 155 are corresponding to categorial features\n"
     ]
    }
   ],
   "source": [
    "p = df.shape[1]\n",
    "print(f\"{p} columns\")\n",
    "print(f\"out of which {len(cat_var_kept)-1} are corresponding to categorial features\")"
   ]
  },
  {
   "cell_type": "code",
   "execution_count": 16,
   "metadata": {},
   "outputs": [],
   "source": [
    "df = pd.get_dummies(df, \n",
    "                    columns=cat_var_kept - {\"HEUREUX\"},\n",
    "                    dummy_na = True,\n",
    "                    drop_first=1)"
   ]
  },
  {
   "cell_type": "code",
   "execution_count": 17,
   "metadata": {},
   "outputs": [
    {
     "name": "stdout",
     "output_type": "stream",
     "text": [
      "635 columns after encoding\n",
      "155 variables where re-encoded in 572\n"
     ]
    }
   ],
   "source": [
    "q = df.shape[1]\n",
    "print(f\"{q} columns after encoding\")\n",
    "print(f\"{len(cat_var_kept)-1} variables where re-encoded in {len(cat_var_kept)-1+q-p}\")"
   ]
  },
  {
   "cell_type": "code",
   "execution_count": 18,
   "metadata": {},
   "outputs": [],
   "source": [
    "def get_related_features(variable):\n",
    "    '''return all columns in global variable df\n",
    "    starting by variable'''\n",
    "    if isinstance(variable, str):\n",
    "        scope = {variable}\n",
    "    else:\n",
    "        scope = set(variable)\n",
    "    features = set()\n",
    "    for element in scope:\n",
    "        features = features  | {c for c in df.columns if len(c) > len(element) \n",
    "                               and c[0:len(element)] == element \n",
    "                               and c[len(element)]=='_'}\n",
    "    return features"
   ]
  },
  {
   "cell_type": "markdown",
   "metadata": {},
   "source": [
    "## 2) Dataset construction and visualisation"
   ]
  },
  {
   "cell_type": "code",
   "execution_count": 24,
   "metadata": {},
   "outputs": [
    {
     "name": "stdout",
     "output_type": "stream",
     "text": [
      "Number exemple: 10596\n",
      "- training set: 8476\n",
      "- test set: 2120\n",
      "Number of features: p=632\n"
     ]
    }
   ],
   "source": [
    "features = df.columns.drop(['HEUREUX',\"HEUREUX_CLF\", \"HEUREUX_REG\"])\n",
    "pred = \"HEUREUX_CLF\"\n",
    "\n",
    "# treating remaining missing values\n",
    "df_tmp = df.loc[:,set(features) | {pred} ].dropna()\n",
    "\n",
    "X = df_tmp.loc[:,features]\n",
    "y = df_tmp[pred]\n",
    "\n",
    "X_train, X_test, y_train, y_test = train_test_split(X, y, \n",
    "                                                    test_size=0.2, \n",
    "                                                    random_state=42)\n",
    "\n",
    "scaler = StandardScaler().fit(X_train)\n",
    "X_train = scaler.transform(X_train)\n",
    "X_test = scaler.transform(X_test)\n",
    "\n",
    "print(f\"Number exemple: {y.shape[0]}\\n- training set: \\\n",
    "{y_train.shape[0]}\\n- test set: {y_test.shape[0]}\")\n",
    "print(f\"Number of features: p={X_train.shape[1]}\")"
   ]
  },
  {
   "cell_type": "code",
   "execution_count": 25,
   "metadata": {},
   "outputs": [
    {
     "data": {
      "image/png": "[encoded data removed]",
      "text/plain": [
       "<matplotlib.figure.Figure at 0x10666b7b8>"
      ]
     },
     "metadata": {},
     "output_type": "display_data"
    }
   ],
   "source": [
    "# Reduction dim PCA\n",
    "pca = PCA(n_components=2)\n",
    "pca.fit(X_train)\n",
    "X_r = pca.transform(X_train)\n",
    "happy = (y_train==1)\n",
    "unhappy = (y_train==0)\n",
    "plt.scatter(X_r[happy,0], X_r[happy,1], \n",
    "            s=80, c='blue',marker=\">\", label=\"happy\")\n",
    "plt.scatter(X_r[unhappy,0], X_r[unhappy,1], \n",
    "            s=80, c='red',marker='+', label=\"unhappy\")\n",
    "plt.ylabel(f'Projection VP2 \\\n",
    "{pca.explained_variance_ratio_[1]*100:0.1f}% de variance')\n",
    "plt.xlabel(f'Projection VP1 \\\n",
    "{pca.explained_variance_ratio_[0]*100:0.1f}% de variance')\n",
    "plt.title(\"Projection 2D par PCA\") \n",
    "plt.legend(bbox_to_anchor=(0.4, 0.25))\n",
    "plt.show()"
   ]
  },
  {
   "cell_type": "markdown",
   "metadata": {},
   "source": [
    "## 3)  Baseline model "
   ]
  },
  {
   "cell_type": "markdown",
   "metadata": {},
   "source": [
    "**Logistic regression** with **4 features** to predict a **2 class** variable"
   ]
  },
  {
   "cell_type": "code",
   "execution_count": 26,
   "metadata": {},
   "outputs": [
    {
     "name": "stdout",
     "output_type": "stream",
     "text": [
      "Number exemple: 10915\n",
      "- training set: 8732\n",
      "- test set: 2183\n",
      "Number of features: p=4\n"
     ]
    }
   ],
   "source": [
    "features = {'ETATSAN','NOT_AMIS','DEPLOG','NOT_FAMI'}\n",
    "pred = \"HEUREUX_CLF\"\n",
    "\n",
    "# treating remaining missing values\n",
    "df_tmp = df.loc[:,set(features) | {pred} ].dropna()\n",
    "\n",
    "X = df_tmp.loc[:,features]\n",
    "y = df_tmp[pred]\n",
    "\n",
    "\n",
    "X_train, X_test, y_train, y_test = train_test_split(X, y, \n",
    "                                                    test_size=0.2, \n",
    "                                                    random_state=42)\n",
    "\n",
    "scaler = StandardScaler().fit(X_train)\n",
    "X_train = scaler.transform(X_train)\n",
    "X_test = scaler.transform(X_test)\n",
    "\n",
    "print(f\"Number exemple: {y.shape[0]}\\n- training set: \\\n",
    "{y_train.shape[0]}\\n- test set: {y_test.shape[0]}\")\n",
    "print(f\"Number of features: p={X_train.shape[1]}\")"
   ]
  },
  {
   "cell_type": "code",
   "execution_count": 27,
   "metadata": {},
   "outputs": [
    {
     "data": {
      "image/png": "[encoded data removed]",
      "text/plain": [
       "<matplotlib.figure.Figure at 0x1a0fc76ef0>"
      ]
     },
     "metadata": {},
     "output_type": "display_data"
    },
    {
     "name": "stdout",
     "output_type": "stream",
     "text": [
      "Détermination des paramètres optimaux en 6.3 s\n",
      "Pénalisation l1, valeur optimale : C = 0.15\n"
     ]
    }
   ],
   "source": [
    "nb_value = 50 # Nombre de valeurs testées pour l'hyperparamètre\n",
    "mean_score_l1 = np.zeros(nb_value)\n",
    "C_log = np.logspace(-2,1,nb_value)\n",
    "cv = 6 # V-fold, nombre de fold\n",
    "\n",
    "mean_score_l1 = np.empty(nb_value)\n",
    "std_scores_l1 = np.empty(nb_value)\n",
    "\n",
    "np.random.seed(seed=42) \n",
    "\n",
    "startTime = time.time()\n",
    "\n",
    "for i, C in enumerate(C_log):\n",
    "    clf = LogisticRegression(C=C, penalty='l1', \n",
    "                             tol=0.01, random_state=42, \n",
    "                             class_weight='balanced')\n",
    "    mean_score_l1[i] = 100*np.mean(1-cross_val_score(clf, \n",
    "                                                     X_train, \n",
    "                                                     y_train,\n",
    "                                                     cv=cv, \n",
    "                                                     scoring='accuracy'))\n",
    "    std_scores_l1[i] = 100*np.std(1-cross_val_score(clf, \n",
    "                                                    X_train, \n",
    "                                                    y_train, \n",
    "                                                    cv=cv, \n",
    "                                                    scoring='accuracy'))    \n",
    "\n",
    "\n",
    "    \n",
    "plt.figure()\n",
    "plt.semilogx(C_log,mean_score_l1[:],'r',linewidth=2,label='moyenne (l1)')\n",
    "plt.semilogx(C_log,mean_score_l1[:]-0.5*std_scores_l1[:],\n",
    "             'r--', label=u'+/-0.5 écart type')\n",
    "plt.semilogx(C_log,mean_score_l1[:]+0.5*std_scores_l1[:],'r--')\n",
    "\n",
    "\n",
    "plt.xlabel(\"Valeur de pénalisation C = 1/lambda\")\n",
    "plt.ylabel(u\"Erreur de validation croisée (%)\\n(Taux moyen d'erreur de classification)\")\n",
    "plt.title(u\"Choix de l'hyperparamètre C\\npar validation croisée \\\n",
    "(V-fold avec V = %s)\" % (cv)) \n",
    "plt.legend(bbox_to_anchor=(1, 1))\n",
    "plt.grid()\n",
    "plt.show()\n",
    "print(\"Détermination des paramètres optimaux en %0.1f s\" % (time.time() - startTime))\n",
    "print(\"Pénalisation l1, valeur optimale : C = %0.2f\" % (C_log[np.argmin(mean_score_l1)]))"
   ]
  },
  {
   "cell_type": "code",
   "execution_count": 28,
   "metadata": {},
   "outputs": [
    {
     "name": "stdout",
     "output_type": "stream",
     "text": [
      "Model accuracy 67.1 %\n"
     ]
    }
   ],
   "source": [
    "# Learning on full training set with optimals hyperparameters \n",
    "# and score evaluation on test set\n",
    "clf = LogisticRegression(C=C_log[np.argmin(mean_score_l1)], \n",
    "                         penalty='l1', \n",
    "                         tol=0.01, \n",
    "                         random_state=42, \n",
    "                         class_weight='balanced')\n",
    "clf.fit(X_train, y_train)\n",
    "accuracy = clf.score(X_test, y_test)\n",
    "print(f\"Model accuracy {accuracy*100:0.1f} %\")"
   ]
  },
  {
   "cell_type": "markdown",
   "metadata": {},
   "source": [
    "## 3) Feature selection"
   ]
  },
  {
   "cell_type": "code",
   "execution_count": 68,
   "metadata": {},
   "outputs": [
    {
     "name": "stdout",
     "output_type": "stream",
     "text": [
      "11131 exemples before droping na\n",
      "Number exemple: 10596\n",
      "- training set: 8476\n",
      "- test set: 2120\n",
      "Number of features: p=632\n"
     ]
    }
   ],
   "source": [
    "features = df.columns.drop(['HEUREUX',\"HEUREUX_CLF\", \"HEUREUX_REG\"])\n",
    "\n",
    "# treating remaining missing values\n",
    "print(f\"{df.shape[0]} exemples before droping na\")\n",
    "df_tmp = df.loc[:,set(features) | {pred} ].dropna()\n",
    "\n",
    "X = df_tmp.loc[:,features]\n",
    "y = df_tmp[pred]\n",
    "\n",
    "X_train, X_test, y_train, y_test = train_test_split(X, y, \n",
    "                                                    test_size=0.2, \n",
    "                                                    random_state=42\n",
    "                                                   )\n",
    "\n",
    "scaler = StandardScaler().fit(X_train)\n",
    "X_train = scaler.transform(X_train)\n",
    "X_test = scaler.transform(X_test)\n",
    "\n",
    "print(f\"Number exemple: {y.shape[0]}\\n- training set: \\\n",
    "{y_train.shape[0]}\\n- test set: {y_test.shape[0]}\")\n",
    "print(f\"Number of features: p={X_train.shape[1]}\")"
   ]
  },
  {
   "cell_type": "markdown",
   "metadata": {},
   "source": [
    "### a) RFECV using lasso"
   ]
  },
  {
   "cell_type": "code",
   "execution_count": 69,
   "metadata": {},
   "outputs": [
    {
     "name": "stdout",
     "output_type": "stream",
     "text": [
      "Optimal number of features : 105\n"
     ]
    },
    {
     "data": {
      "image/png": "[encoded data removed]",
      "text/plain": [
       "<matplotlib.figure.Figure at 0x1a0f2dcb00>"
      ]
     },
     "metadata": {},
     "output_type": "display_data"
    },
    {
     "name": "stdout",
     "output_type": "stream",
     "text": [
      "Détermination des features optimales en 326.0 s\n"
     ]
    }
   ],
   "source": [
    "startTime = time.time()\n",
    "\n",
    "clf = LogisticRegression(C=1, \n",
    "                         penalty='l1', \n",
    "                         class_weight='balanced',\n",
    "                         random_state=42)\n",
    "\n",
    "rfecv = RFECV(estimator=clf, step=0.05, cv=StratifiedKFold(2),\n",
    "              scoring='accuracy')\n",
    "\n",
    "rfecv.fit(X_train, y_train)\n",
    "\n",
    "print(\"Optimal number of features : %d\" % rfecv.n_features_)\n",
    "\n",
    "# Plot number of features VS. cross-validation scores\n",
    "plt.figure()\n",
    "plt.xlabel(\"Number of steps of 5% variables\")\n",
    "plt.ylabel(\"Cross validation score (nb of correct classifications)\")\n",
    "plt.plot(range(1, len(rfecv.grid_scores_) + 1), rfecv.grid_scores_)\n",
    "plt.show()\n",
    "print(\"Détermination des features optimales en %0.1f s\" % (time.time() - startTime))"
   ]
  },
  {
   "cell_type": "markdown",
   "metadata": {},
   "source": [
    "Using slected features to fit various models"
   ]
  },
  {
   "cell_type": "code",
   "execution_count": 70,
   "metadata": {},
   "outputs": [
    {
     "name": "stdout",
     "output_type": "stream",
     "text": [
      "Number of features: p=105\n"
     ]
    }
   ],
   "source": [
    "lasso_mask = rfecv.support_\n",
    "X_train = X_train[:,lasso_mask]\n",
    "X_test = X_test[:,lasso_mask]\n",
    "print(f\"Number of features: p={X_train.shape[1]}\")"
   ]
  },
  {
   "cell_type": "code",
   "execution_count": 71,
   "metadata": {},
   "outputs": [
    {
     "data": {
      "image/png": "[encoded data removed]",
      "text/plain": [
       "<matplotlib.figure.Figure at 0x1a0ea16d30>"
      ]
     },
     "metadata": {},
     "output_type": "display_data"
    },
    {
     "name": "stdout",
     "output_type": "stream",
     "text": [
      "Détermination des paramètres optimaux en 100.4 s\n",
      "Pénalisation l1, valeur optimale : C = 0.05\n",
      "Pénalisation l2, valeur optimale : C = 0.05\n"
     ]
    }
   ],
   "source": [
    "nb_value = 20 # Nombre de valeurs testées pour l'hyperparamètre\n",
    "mean_score_l1 = np.zeros(nb_value)\n",
    "mean_score_l2 = np.zeros(nb_value)\n",
    "C_log = np.logspace(-2.5,2,nb_value)\n",
    "cv = 6 # V-fold, nombre de fold\n",
    "\n",
    "mean_score_l1 = np.empty(nb_value)\n",
    "std_scores_l1 = np.empty(nb_value)\n",
    "\n",
    "mean_score_l2 = np.empty(nb_value)\n",
    "std_scores_l2 = np.empty(nb_value)\n",
    "\n",
    "np.random.seed(seed=42) \n",
    "\n",
    "startTime = time.time()\n",
    "\n",
    "for i, C in enumerate(C_log):\n",
    "    clf = LogisticRegression(C=C, penalty='l1', \n",
    "                             tol=0.01, random_state=42, \n",
    "                             class_weight='balanced')\n",
    "    mean_score_l1[i] = 100*np.mean(1-cross_val_score(clf, \n",
    "                                                     X_train, \n",
    "                                                     y_train,\n",
    "                                                     cv=cv, \n",
    "                                                     scoring='accuracy'))\n",
    "    std_scores_l1[i] = 100*np.std(1-cross_val_score(clf, \n",
    "                                                    X_train, \n",
    "                                                    y_train, \n",
    "                                                    cv=cv, \n",
    "                                                    scoring='accuracy'))    \n",
    "\n",
    "\n",
    "for i, C in enumerate(C_log):\n",
    "    clf = LogisticRegression(C=C, penalty='l2', tol=0.01, random_state=42, class_weight='balanced')\n",
    "    mean_score_l2[i] = 100*np.mean(1-cross_val_score(clf, \n",
    "                                                     X_train, \n",
    "                                                     y_train, \n",
    "                                                     cv=cv, \n",
    "                                                     scoring='accuracy'))\n",
    "    std_scores_l2[i] = 100*np.std(1-cross_val_score(clf, \n",
    "                                                    X_train, \n",
    "                                                    y_train, \n",
    "                                                    cv=cv, \n",
    "                                                    scoring='accuracy'))    \n",
    "    \n",
    "plt.figure()\n",
    "plt.semilogx(C_log,mean_score_l1[:],'r',linewidth=2,label='moyenne (l1)')\n",
    "plt.semilogx(C_log,mean_score_l1[:]-0.5*std_scores_l1[:],\n",
    "             'r--', label=u'+/-0.5 écart type')\n",
    "plt.semilogx(C_log,mean_score_l1[:]+0.5*std_scores_l1[:],'r--')\n",
    "\n",
    "plt.semilogx(C_log,mean_score_l2[:],'g',linewidth=2,label='moyenne (l2)')\n",
    "plt.semilogx(C_log,mean_score_l2[:]-0.5*std_scores_l2[:], 'g--', label=u'+/-0.5 écart type')\n",
    "plt.semilogx(C_log,mean_score_l2[:]+0.5*std_scores_l2[:],'g--')\n",
    "\n",
    "plt.xlabel(\"Valeur de pénalisation C = 1/lambda\")\n",
    "plt.ylabel(u\"Erreur de validation croisée (%)\\n(Taux moyen d'erreur de classification)\")\n",
    "plt.title(u\"Choix de l'hyperparamètre C\\npar validation croisée \\\n",
    "(V-fold avec V = %s)\" % (cv)) \n",
    "plt.legend(bbox_to_anchor=(1, 1))\n",
    "plt.grid()\n",
    "plt.show()\n",
    "print(\"Détermination des paramètres optimaux en %0.1f s\" % (time.time() - startTime))\n",
    "print(\"Pénalisation l1, valeur optimale : C = %0.2f\" % (C_log[np.argmin(mean_score_l1)]))\n",
    "print(\"Pénalisation l2, valeur optimale : C = %0.2f\" % (C_log[np.argmin(mean_score_l2)]))"
   ]
  },
  {
   "cell_type": "code",
   "execution_count": 72,
   "metadata": {},
   "outputs": [
    {
     "name": "stdout",
     "output_type": "stream",
     "text": [
      "Logistic regression, p=105, penalty L1\n",
      "Accuracy: 72.26%\n"
     ]
    }
   ],
   "source": [
    "# Learning on full training set with optimals hyperparameters \n",
    "# and score evaluation on test set\n",
    "clf = LogisticRegression(C=C_log[np.argmin(mean_score_l1)], \n",
    "                         penalty='l1', \n",
    "                         tol=0.01, \n",
    "                         random_state=42, \n",
    "                         class_weight='balanced')\n",
    "clf.fit(X_train, y_train)\n",
    "accuracy = clf.score(X_test, y_test)\n",
    "print(f\"Logistic regression, p={X_train.shape[1]}, penalty L1\")\n",
    "print(f\"Accuracy: {accuracy*100:0.2f}%\")"
   ]
  },
  {
   "cell_type": "code",
   "execution_count": 73,
   "metadata": {},
   "outputs": [
    {
     "name": "stdout",
     "output_type": "stream",
     "text": [
      "Logistic regression, p=105, penalty L2\n",
      "Accuracy: 72.45%\n"
     ]
    }
   ],
   "source": [
    "# Learning on full training set with optimals hyperparameters \n",
    "# and score evaluation on test set\n",
    "clf = LogisticRegression(C=C_log[np.argmin(mean_score_l2)], \n",
    "                         penalty='l2', \n",
    "                         tol=0.01, \n",
    "                         random_state=42, \n",
    "                         class_weight='balanced')\n",
    "clf.fit(X_train, y_train)\n",
    "accuracy = clf.score(X_test, y_test)\n",
    "print(f\"Logistic regression, p={X_train.shape[1]}, penalty L2\")\n",
    "print(f\"Accuracy: {accuracy*100:0.2f}%\")"
   ]
  },
  {
   "cell_type": "code",
   "execution_count": 74,
   "metadata": {},
   "outputs": [
    {
     "name": "stdout",
     "output_type": "stream",
     "text": [
      "Determination of optimal hyperparameters in 66.0 s\n",
      "Optimal values are {'max_depth': 16, 'n_estimators': 128} \n",
      "Accuracy Score of cross valdation 73.97%\n",
      "Random Forest, p=105\n",
      "Accuracy: 73.07%\n",
      "... done in 69.8\n"
     ]
    }
   ],
   "source": [
    "startTime = time.time()\n",
    "n_estimators_range = [16,32,64,128]\n",
    "max_depth_range = [2,4,8,16,32,64,128,256] \n",
    "param_grid = dict(n_estimators=n_estimators_range, max_depth = max_depth_range)\n",
    "\n",
    "\n",
    "params = {'max_features' :'sqrt', 'random_state' : 32, 'min_samples_split' : 2, 'class_weight' : 'balanced'}\n",
    "clf = RandomForestClassifier(**params)\n",
    "\n",
    "grid = GridSearchCV(clf, scoring='accuracy', param_grid=param_grid)\n",
    "grid.fit(X_train, y_train)\n",
    "print(f\"Determination of optimal hyperparameters in {time.time() - startTime:0.1f} s\")\n",
    "print(f\"Optimal values are {grid.best_params_} \\nAccuracy Score of cross valdation {100*grid.best_score_:0.2f}%\")\n",
    "\n",
    "# Learning on full training set with optimals hyperparameters and score on test set\n",
    "params = {'max_features' :'sqrt', 'random_state' : 32, \n",
    "          'min_samples_split' : 2, 'class_weight' : 'balanced',\n",
    "          'n_estimators' : grid.best_params_['n_estimators'],\n",
    "          'max_depth' : grid.best_params_['max_depth']}\n",
    "clf = RandomForestClassifier(**params).fit(X_train, y_train)\n",
    "clf.fit(X_train, y_train)\n",
    "accuracy = clf.score(X_test, y_test)\n",
    "print(f\"Random Forest, p={X_train.shape[1]}\")\n",
    "print(f\"Accuracy: {accuracy*100:0.2f}%\")\n",
    "print(f\"... done in {time.time() - startTime:0.1f}\")"
   ]
  },
  {
   "cell_type": "code",
   "execution_count": 81,
   "metadata": {},
   "outputs": [
    {
     "data": {
      "image/png": "[encoded data removed]",
      "text/plain": [
       "<matplotlib.figure.Figure at 0x1a0fc72cc0>"
      ]
     },
     "metadata": {},
     "output_type": "display_data"
    },
    {
     "name": "stdout",
     "output_type": "stream",
     "text": [
      "SVC optimisation in 203.0\n",
      "Epsilon fixed at: 0.1000 \n",
      "Optimal value for C: 0.0017\n",
      "Corresponding accuracy : 72.60%\n",
      "Accuracy on test set : 72.45%\n",
      "... done in 215.6\n"
     ]
    }
   ],
   "source": [
    "nb_value = 20 # Number of values tested for hyperparameter\n",
    "\n",
    "C_log = np.logspace(-5,3,nb_value)\n",
    "cv = 3 # V-fold, number of folds\n",
    "\n",
    "params = { 'kernel' :'linear', 'class_weight' : 'balanced'}\n",
    "clf = SVC(**params)\n",
    "\n",
    "\n",
    "mean_score_1 = np.empty(nb_value)\n",
    "std_scores_1 = np.empty(nb_value)\n",
    "\n",
    "np.random.seed(seed=42) \n",
    "startTime = time.time()\n",
    "\n",
    "for i, C in enumerate(C_log):\n",
    "    params = { 'kernel' :'linear', 'C' : C, 'class_weight' : 'balanced'}\n",
    "    clf = SVC(**params)\n",
    "    scores = cross_val_score(clf, X_train, y_train, cv=cv, scoring='accuracy')\n",
    "    mean_score_1[i] = np.mean(scores)\n",
    "    std_scores_1[i] = np.std(scores)  \n",
    "                                                           \n",
    "# Plotting cross validation score depending on alpha/c value\n",
    "plt.figure()\n",
    "plt.semilogx(C_log,mean_score_1[:],'r',linewidth=2,label='SVC average accuracy')\n",
    "plt.semilogx(C_log,mean_score_1[:]-0.5*std_scores_1[:],'r--',\n",
    "             label=u'+/-0.5 std dev.')\n",
    "plt.semilogx(C_log,mean_score_1[:]+0.5*std_scores_1[:],'r--')\n",
    "\n",
    "plt.xlabel(\"Regularisation coeficient $C$\")\n",
    "plt.ylabel(\"Accuracy\\n\")\n",
    "plt.title(f\"Support Vector Machine - linear kernel\\nCross validation (V-fold with V={cv})\") \n",
    "plt.legend(bbox_to_anchor=(1.5, 1))\n",
    "plt.grid()\n",
    "plt.show()\n",
    "print(f\"SVC optimisation in {time.time() - startTime:0.1f}\")\n",
    "print(f\"Epsilon fixed at: {0.1:0.4f} \\nOptimal value for C: {C_log[np.argmax(mean_score_1)]:0.4f}\")\n",
    "print(f\"Corresponding accuracy : {100*np.max(mean_score_1):0.2f}%\")\n",
    "\n",
    "# Calculaltion of generalisation score\n",
    "params = { 'kernel' :'linear', 'C' : C_log[np.argmax(mean_score_1)], 'class_weight' : 'balanced'}\n",
    "# Learning on full training set with optimals hyperparameters and score on test set\n",
    "clf = SVC(**params).fit(X_train, y_train)\n",
    "accuracy = clf.score(X_test, y_test)\n",
    "print(f\"Accuracy on test set : {100*accuracy:0.2f}%\")\n",
    "print(f\"... done in {time.time() - startTime:0.1f}\")"
   ]
  },
  {
   "cell_type": "code",
   "execution_count": 88,
   "metadata": {},
   "outputs": [
    {
     "name": "stdout",
     "output_type": "stream",
     "text": [
      "Determination of optimal hyperparameters in 751.2 s\n",
      "Optimal values are {'C': 4.6415888336127775, 'gamma': 0.0021544346900318821} \n",
      "Accuracy of cross valdation 72.81%\n",
      "Accuracy on test set : 72.03%\n",
      "... done in 770.7 s\n"
     ]
    }
   ],
   "source": [
    "startTime = time.time()\n",
    "\n",
    "nb_value = 4\n",
    "C_log = np.logspace(-2,2,nb_value)\n",
    "gamma_log = np.logspace(-4,0, nb_value)\n",
    "param_grid = dict(C=C_log, gamma=gamma_log)\n",
    "\n",
    "params = { 'kernel' :'rbf', 'class_weight' : 'balanced'}\n",
    "\n",
    "clf = SVC(**params)\n",
    "grid = GridSearchCV(clf, scoring='accuracy', param_grid=param_grid)\n",
    "grid.fit(X_train, y_train)\n",
    "print(f\"Determination of optimal hyperparameters in {time.time() - startTime:0.1f} s\")\n",
    "print(f\"Optimal values are {grid.best_params_} \\nAccuracy of cross valdation {100*grid.best_score_:0.2f}%\")\n",
    "\n",
    "# Learning on full training set with optimals hyperparameters and score on test set\n",
    "params = {'kernel' :'rbf',\n",
    "          'C' : grid.best_params_['C'], \n",
    "          \"gamma\" : grid.best_params_['gamma'],\n",
    "          'class_weight' : 'balanced'}\n",
    "clf = SVC(**params).fit(X_train, y_train)\n",
    "y = clf.predict(X_test)\n",
    "accuracy = clf.score(X_test, y_test)\n",
    "print(f\"Accuracy on test set : {100*accuracy:0.2f}%\")\n",
    "print(f\"... done in {time.time() - startTime:0.1f} s\")"
   ]
  },
  {
   "cell_type": "markdown",
   "metadata": {},
   "source": [
    "### a) RFECV using Random Forest"
   ]
  },
  {
   "cell_type": "code",
   "execution_count": 93,
   "metadata": {},
   "outputs": [
    {
     "name": "stdout",
     "output_type": "stream",
     "text": [
      "11131 exemples before droping na\n",
      "Number exemple: 10596\n",
      "- training set: 8476\n",
      "- test set: 2120\n",
      "Number of features: p=632\n"
     ]
    }
   ],
   "source": [
    "features = df.columns.drop(['HEUREUX',\"HEUREUX_CLF\", \"HEUREUX_REG\"])\n",
    "\n",
    "# treating remaining missing values\n",
    "print(f\"{df.shape[0]} exemples before droping na\")\n",
    "df_tmp = df.loc[:,set(features) | {pred} ].dropna()\n",
    "\n",
    "X = df_tmp.loc[:,features]\n",
    "y = df_tmp[pred]\n",
    "\n",
    "X_train, X_test, y_train, y_test = train_test_split(X, y, \n",
    "                                                    test_size=0.2, \n",
    "                                                    random_state=42\n",
    "                                                   )\n",
    "\n",
    "scaler = StandardScaler().fit(X_train)\n",
    "X_train = scaler.transform(X_train)\n",
    "X_test = scaler.transform(X_test)\n",
    "\n",
    "print(f\"Number exemple: {y.shape[0]}\\n- training set: \\\n",
    "{y_train.shape[0]}\\n- test set: {y_test.shape[0]}\")\n",
    "print(f\"Number of features: p={X_train.shape[1]}\")"
   ]
  },
  {
   "cell_type": "code",
   "execution_count": 97,
   "metadata": {},
   "outputs": [
    {
     "name": "stdout",
     "output_type": "stream",
     "text": [
      "Optimal number of features : 86\n"
     ]
    },
    {
     "data": {
      "image/png": "[encoded data removed]",
      "text/plain": [
       "<matplotlib.figure.Figure at 0x108b27198>"
      ]
     },
     "metadata": {},
     "output_type": "display_data"
    },
    {
     "name": "stdout",
     "output_type": "stream",
     "text": [
      "Détermination des features optimales en 663.4 s\n"
     ]
    }
   ],
   "source": [
    "startTime = time.time()\n",
    "\n",
    "params = {'max_features' :'sqrt', 'random_state' : 32, \n",
    "          'min_samples_split' : 2, 'class_weight' : 'balanced',\n",
    "          'n_estimators' : 128,\n",
    "          'max_depth' : 16}\n",
    "clf = RandomForestClassifier(**params).fit(X_train, y_train)\n",
    "\n",
    "rfecv = RFECV(estimator=clf, step=0.01, cv=StratifiedKFold(2),\n",
    "              scoring='accuracy')\n",
    "\n",
    "rfecv.fit(X_train, y_train)\n",
    "\n",
    "print(\"Optimal number of features : %d\" % rfecv.n_features_)\n",
    "\n",
    "# Plot number of features VS. cross-validation scores\n",
    "plt.figure()\n",
    "plt.xlabel(\"Number of steps ({step*100:0.0f}%)\")\n",
    "plt.ylabel(\"Cross validation score (nb of correct classifications)\")\n",
    "plt.plot(range(1, len(rfecv.grid_scores_) + 1), rfecv.grid_scores_)\n",
    "plt.show()\n",
    "print(\"Détermination des features optimales en %0.1f s\" % (time.time() - startTime))"
   ]
  },
  {
   "cell_type": "code",
   "execution_count": 98,
   "metadata": {},
   "outputs": [
    {
     "name": "stdout",
     "output_type": "stream",
     "text": [
      "Number of features: p=86\n"
     ]
    }
   ],
   "source": [
    "rf_mask = rfecv.support_\n",
    "X_train = X_train[:,rf_mask]\n",
    "X_test = X_test[:,rf_mask]\n",
    "print(f\"Number of features: p={X_train.shape[1]}\")"
   ]
  },
  {
   "cell_type": "code",
   "execution_count": 99,
   "metadata": {},
   "outputs": [
    {
     "name": "stdout",
     "output_type": "stream",
     "text": [
      "Determination of optimal hyperparameters in 149.5 s\n",
      "Optimal values are {'max_depth': 16, 'n_estimators': 256} \n",
      "Accuracy Score of cross valdation 74.13%\n",
      "Random Forest, p=86\n",
      "Accuracy: 72.0%\n",
      "... done in 154.6\n"
     ]
    }
   ],
   "source": [
    "startTime = time.time()\n",
    "n_estimators_range = [16,32,64,128,256]\n",
    "max_depth_range = [2,4,8,16,32,64,128,256] \n",
    "param_grid = dict(n_estimators=n_estimators_range, max_depth = max_depth_range)\n",
    "\n",
    "\n",
    "params = {'max_features' :'sqrt', 'random_state' : 32, 'min_samples_split' : 2, 'class_weight' : 'balanced'}\n",
    "clf = RandomForestClassifier(**params)\n",
    "\n",
    "grid = GridSearchCV(clf, scoring='accuracy', param_grid=param_grid)\n",
    "grid.fit(X_train, y_train)\n",
    "print(f\"Determination of optimal hyperparameters in {time.time() - startTime:0.1f} s\")\n",
    "print(f\"Optimal values are {grid.best_params_} \\nAccuracy Score of cross valdation {100*grid.best_score_:0.2f}%\")\n",
    "\n",
    "# Learning on full training set with optimals hyperparameters and score on test set\n",
    "params = {'max_features' :'sqrt', 'random_state' : 32, \n",
    "          'min_samples_split' : 2, 'class_weight' : 'balanced',\n",
    "          'n_estimators' : grid.best_params_['n_estimators'],\n",
    "          'max_depth' : grid.best_params_['max_depth']}\n",
    "clf = RandomForestClassifier(**params).fit(X_train, y_train)\n",
    "y = clf.predict(X_test)\n",
    "accruacy = clf.score(X_test, y_test)\n",
    "print(f\"Random Forest, p={X_train.shape[1]}\")\n",
    "print(f\"Accuracy: {accuracy*100:0.1f}%\")\n",
    "print(f\"... done in {time.time() - startTime:0.1f}\")"
   ]
  },
  {
   "cell_type": "code",
   "execution_count": 105,
   "metadata": {},
   "outputs": [
    {
     "data": {
      "text/plain": [
       "86"
      ]
     },
     "execution_count": 105,
     "metadata": {},
     "output_type": "execute_result"
    }
   ],
   "source": [
    "np.sum(rf_mask)"
   ]
  },
  {
   "cell_type": "code",
   "execution_count": 106,
   "metadata": {},
   "outputs": [
    {
     "data": {
      "text/plain": [
       "105"
      ]
     },
     "execution_count": 106,
     "metadata": {},
     "output_type": "execute_result"
    }
   ],
   "source": [
    "np.sum(lasso_mask)"
   ]
  },
  {
   "cell_type": "code",
   "execution_count": 110,
   "metadata": {},
   "outputs": [
    {
     "name": "stderr",
     "output_type": "stream",
     "text": [
      "//anaconda/envs/py36/lib/python3.6/site-packages/ipykernel_launcher.py:1: DeprecationWarning: elementwise == comparison failed; this will raise an error in the future.\n",
      "  \"\"\"Entry point for launching an IPython kernel.\n"
     ]
    },
    {
     "data": {
      "text/plain": [
       "False"
      ]
     },
     "execution_count": 110,
     "metadata": {},
     "output_type": "execute_result"
    }
   ],
   "source": [
    "rf_mask == lasso_mask"
   ]
  },
  {
   "cell_type": "markdown",
   "metadata": {},
   "source": [
    "### C) RFECV using SVM (linear kerner)"
   ]
  },
  {
   "cell_type": "code",
   "execution_count": null,
   "metadata": {
    "collapsed": true
   },
   "outputs": [],
   "source": [
    "features = df.columns.drop(['HEUREUX',\"HEUREUX_CLF\", \"HEUREUX_REG\"])\n",
    "\n",
    "# treating remaining missing values\n",
    "print(f\"{df.shape[0]} exemples before droping na\")\n",
    "df_tmp = df.loc[:,set(features) | {pred} ].dropna()\n",
    "\n",
    "X = df_tmp.loc[:,features]\n",
    "y = df_tmp[pred]\n",
    "\n",
    "X_train, X_test, y_train, y_test = train_test_split(X, y, \n",
    "                                                    test_size=0.2, \n",
    "                                                    random_state=42\n",
    "                                                   )\n",
    "\n",
    "scaler = StandardScaler().fit(X_train)\n",
    "X_train = scaler.transform(X_train)\n",
    "X_test = scaler.transform(X_test)\n",
    "\n",
    "print(f\"Number exemple: {y.shape[0]}\\n- training set: \\\n",
    "{y_train.shape[0]}\\n- test set: {y_test.shape[0]}\")\n",
    "print(f\"Number of features: p={X_train.shape[1]}\")"
   ]
  },
  {
   "cell_type": "code",
   "execution_count": null,
   "metadata": {},
   "outputs": [],
   "source": [
    "startTime = time.time()\n",
    "\n",
    "params = {'kernel' :'linear'}\n",
    "clf = SVC(**params)\n",
    "\n",
    "rfecv = RFECV(estimator=clf, step=0.2, cv=StratifiedKFold(2),\n",
    "              scoring='accuracy')\n",
    "\n",
    "\n",
    "rfecv.fit(X_train, y_train)\n",
    "print(\"Optimal number of features : %d\" % rfecv.n_features_)\n",
    "\n",
    "print(\"Détermination des features optimales en %0.1f s\" % (time.time() - startTime))\n",
    "# Plot number of features VS. cross-validation scores\n",
    "plt.figure()\n",
    "plt.xlabel(\"Number of features selected\")\n",
    "plt.ylabel(\"Cross validation score (nb of correct classifications)\")\n",
    "plt.plot(range(1, len(rfecv.grid_scores_) + 1), rfecv.grid_scores_)\n",
    "plt.show()"
   ]
  },
  {
   "cell_type": "code",
   "execution_count": null,
   "metadata": {},
   "outputs": [],
   "source": []
  },
  {
   "cell_type": "code",
   "execution_count": null,
   "metadata": {},
   "outputs": [],
   "source": [
    "# Learning on full training set with optimals hyperparameters \n",
    "# and score evaluation on test set\n",
    "clf = LogisticRegression(C=C_log[np.argmin(mean_score_l1)], \n",
    "                         penalty='l1', \n",
    "                         tol=0.01, \n",
    "                         random_state=42, \n",
    "                         class_weight='balanced')\n",
    "clf.fit(X_train, y_train)\n",
    "#y_pred = clf.predict(X_test)\n",
    "accuracy = clf.score(X_test, y_test)\n",
    "print(accuracy)"
   ]
  },
  {
   "cell_type": "code",
   "execution_count": null,
   "metadata": {},
   "outputs": [],
   "source": [
    "y_pred = clf.predict(X_test)\n",
    "for i in range(20):\n",
    "    print(y_pred[i], y_test.iloc[i])"
   ]
  },
  {
   "cell_type": "code",
   "execution_count": null,
   "metadata": {},
   "outputs": [],
   "source": [
    "# Use regression coefficients to rank features\n",
    "clf = LogisticRegression(penalty='l2',C=0.4)\n",
    "    \n",
    "clf.fit(X_train,y_train)\n",
    "coef_l2 = abs(clf.coef_)\n",
    "coef_sorted_l2 = -np.sort(-coef_l2).reshape(-1)\n",
    "print(coef_sorted_l2)\n",
    "features_sorded_l2 = np.argsort(-coef_l2).reshape(-1)\n",
    "print(features_sorded_l2)\n",
    "features_name = np.array(features)\n",
    "features_name_sorted_l2 = features_name[features_sorded_l2]\n",
    "    \n",
    "clf = LogisticRegression(penalty='l1',C=7.2)\n",
    "    \n",
    "clf.fit(X_train,y_train)\n",
    "coef_l1 = abs(clf.coef_)\n",
    "coef_sorted_l1 = -np.sort(-coef_l1).reshape(-1)\n",
    "features_sorded_l1 = np.argsort(-coef_l1).reshape(-1)\n",
    "features_name_sorted_l1 = features_name[features_sorded_l1]\n",
    "\n",
    "nf = len(features)\n",
    "\n",
    "fig, axes = plt.subplots(nrows=1, ncols=2, figsize=(10, 4))\n",
    "ind = np.arange(nf)    # the x locations for the groups\n",
    "\n",
    "plt.subplot(1, 2, 1)\n",
    "p1 = plt.bar(ind, coef_sorted_l2[0:nf], 1, color='b',alpha=0.5)\n",
    "plt.ylabel('Feature importance')\n",
    "plt.title(u'Top %i features\\nLogistic regression pénalisation l2 C = 0.4' % nf)\n",
    "plt.xticks(ind + 0.35/2.0, features_name_sorted_l2[0:nf], rotation = 90)\n",
    "\n",
    "plt.subplot(1, 2, 2)\n",
    "p1 = plt.bar(ind, coef_sorted_l1[0:nf], 1, color='b',alpha=0.5)\n",
    "plt.ylabel('Feature importance')\n",
    "plt.title(u'Top %i features\\nLogistic regression pénalisation l1 C = 7.2' % nf)\n",
    "plt.xticks(ind + 0.35/2.0, features_name_sorted_l1[0:nf], rotation = 90)\n",
    "\n",
    "plt.show()"
   ]
  },
  {
   "cell_type": "code",
   "execution_count": null,
   "metadata": {},
   "outputs": [],
   "source": []
  },
  {
   "cell_type": "code",
   "execution_count": null,
   "metadata": {},
   "outputs": [],
   "source": [
    "startTime = time.time()\n",
    "n_estimators_range = [16,32,64,128]\n",
    "max_depth_range = [2,4,8,16,32,64,128,256] \n",
    "param_grid = dict(n_estimators=n_estimators_range, max_depth = max_depth_range)\n",
    "\n",
    "\n",
    "params = {'max_features' :'sqrt', 'random_state' : 32, 'min_samples_split' : 2, 'class_weight' : 'balanced'}\n",
    "clf = RandomForestClassifier(**params)\n",
    "\n",
    "grid = GridSearchCV(clf, scoring='accuracy', param_grid=param_grid)\n",
    "grid.fit(X_train, y_train)\n",
    "print(f\"Determination of optimal hyperparameters in {time.time() - startTime:0.1f} s\")\n",
    "print(f\"Optimal values are {grid.best_params_} \\nAccuracy Score of cross valdation {100*grid.best_score_:0.2f}%\")\n",
    "\n",
    "# Learning on full training set with optimals hyperparameters and score on test set\n",
    "params = {'max_features' :'sqrt', 'random_state' : 32, \n",
    "          'min_samples_split' : 2, 'class_weight' : 'balanced',\n",
    "          'n_estimators' : grid.best_params_['n_estimators'],\n",
    "          'max_depth' : grid.best_params_['max_depth']}\n",
    "clf = RandomForestClassifier(**params).fit(X_train, y_train)\n",
    "y = clf.predict(X_test)\n",
    "accruacy = clf.score(X_test, y_test)\n",
    "print(accruacy)\n",
    "#rmse = np.sqrt(mean_squared_error(y_test, y))\n",
    "#print \"RMSE: {:0.4f}\".format(rmse)\n",
    "#r2 = r2_score(y_test, y)\n",
    "#print \"R2: {:0.2f}%\".format(r2*100)\n",
    "print(f\"... done in {time.time() - startTime:0.1f}\")"
   ]
  },
  {
   "cell_type": "code",
   "execution_count": null,
   "metadata": {},
   "outputs": [],
   "source": [
    "clf.score(X_test, y_test, sample_weight=None )"
   ]
  },
  {
   "cell_type": "markdown",
   "metadata": {},
   "source": [
    "### d) Multi class regression"
   ]
  },
  {
   "cell_type": "code",
   "execution_count": null,
   "metadata": {},
   "outputs": [],
   "source": [
    "y = df[\"HEUREUX\"]\n",
    "\n",
    "X_train, X_test, y_train, y_test = train_test_split(X, y, test_size=0.2, random_state=42)\n",
    "\n",
    "scaler = StandardScaler().fit(X_train)\n",
    "X_train = scaler.transform(X_train)\n",
    "X_test = scaler.transform(X_test)\n",
    "\n",
    "print(f\"Number exemple: \\n- training set: {y_train.shape[0]}\\n- test set: {y_test.shape[0]}\")\n",
    "print(f\"Number of features: p={X_train.shape[1]}\")"
   ]
  },
  {
   "cell_type": "code",
   "execution_count": null,
   "metadata": {},
   "outputs": [],
   "source": [
    "nb_value = 20 # Nombre de valeurs testées pour l'hyperparamètre\n",
    "mean_score_l1 = np.zeros(nb_value)\n",
    "mean_score_l2 = np.zeros(nb_value)\n",
    "C_log = np.logspace(-2,2,nb_value)\n",
    "cv = 6 # V-fold, nombre de fold\n",
    "\n",
    "mean_score_l1 = np.empty(nb_value)\n",
    "std_scores_l1 = np.empty(nb_value)\n",
    "\n",
    "mean_score_l2 = np.empty(nb_value)\n",
    "std_scores_l2 = np.empty(nb_value)\n",
    "\n",
    "np.random.seed(seed=42) \n",
    "\n",
    "startTime = time.time()\n",
    "\n",
    "for i, C in enumerate(C_log):\n",
    "    clf = LogisticRegression(C=C, penalty='l1', tol=0.01, random_state=42, class_weight='balanced')\n",
    "    mean_score_l1[i] = 100*np.mean(1-cross_val_score(clf, \n",
    "                                                     X_train, \n",
    "                                                     y_train, \n",
    "                                                     cv=cv, \n",
    "                                                     scoring='f1_micro'))\n",
    "    std_scores_l1[i] = 100*np.std(1-cross_val_score(clf, \n",
    "                                                    X_train, \n",
    "                                                    y_train, \n",
    "                                                    cv=cv, \n",
    "                                                    scoring='f1_micro'))    \n",
    "\n",
    "\n",
    "for i, C in enumerate(C_log):\n",
    "    clf = LogisticRegression(C=C, penalty='l2', tol=0.01, random_state=42, class_weight='balanced')\n",
    "    mean_score_l2[i] = 100*np.mean(1-cross_val_score(clf, \n",
    "                                                     X_train, \n",
    "                                                     y_train, \n",
    "                                                     cv=cv, \n",
    "                                                     scoring='f1_micro'))\n",
    "    std_scores_l2[i] = 100*np.std(1-cross_val_score(clf, \n",
    "                                                    X_train, \n",
    "                                                    y_train, \n",
    "                                                    cv=cv, \n",
    "                                                    scoring='f1_micro'))    \n",
    "    \n",
    "plt.figure()\n",
    "plt.semilogx(C_log,mean_score_l1[:],'r',linewidth=2,label='moyenne (l1)')\n",
    "plt.semilogx(C_log,mean_score_l1[:]-0.5*std_scores_l1[:],\n",
    "             'r--', label=u'+/-0.5 écart type')\n",
    "plt.semilogx(C_log,mean_score_l1[:]+0.5*std_scores_l1[:],'r--')\n",
    "\n",
    "plt.semilogx(C_log,mean_score_l2[:],'g',linewidth=2,label='moyenne (l2)')\n",
    "plt.semilogx(C_log,mean_score_l2[:]-0.5*std_scores_l2[:], 'g--',\n",
    "             label=u'+/-0.5 écart type')\n",
    "plt.semilogx(C_log,mean_score_l2[:]+0.5*std_scores_l2[:],'g--')\n",
    "\n",
    "plt.xlabel(\"Valeur de pénalisation C = 1/lambda\")\n",
    "plt.ylabel(\"F1 macro de validation croisée (%)\")\n",
    "plt.title(u\"Choix de l'hyperparamètre C\\npar validation croisée \\\n",
    "(V-fold avec V = %s)\" % (cv)) \n",
    "plt.legend(bbox_to_anchor=(1, 1))\n",
    "plt.grid()\n",
    "plt.show()\n",
    "print(f\"Détermination des paramètres optimaux en \\\n",
    "{time.time() - startTime:0.1f} s\")\n",
    "print(f\"Pénalisation l1, valeur optimale : \\\n",
    "C = {C_log[np.argmax(mean_score_l1)]:0.4f}\")\n",
    "print(f\"Pénalisation l2, valeur optimale : \\\n",
    "C = {C_log[np.argmax(mean_score_l2)]:0.4f}\")"
   ]
  },
  {
   "cell_type": "code",
   "execution_count": null,
   "metadata": {},
   "outputs": [],
   "source": [
    "# Learning on full training set with optimals hyperparameters and score on test set\n",
    "clf = LogisticRegression(C=C_log[np.argmax(mean_score_l2)], \n",
    "                         penalty='l2', \n",
    "                         tol=0.01, \n",
    "                         random_state=42, \n",
    "                         class_weight='balanced')\n",
    "clf.fit(X_train, y_train)\n",
    "y_pred = clf.predict(X_test)\n",
    "\n",
    "\n",
    "# Modelisation as a 5 multi class classification problem\n",
    "\n",
    "class_names = [\"Jamais\",\n",
    "               \"Occasionnellement\",\n",
    "               \"Assez souvent\",\n",
    "               \"Très souvent\" ]\n"
   ]
  },
  {
   "cell_type": "code",
   "execution_count": null,
   "metadata": {},
   "outputs": [],
   "source": [
    "def plot_confusion_matrix(cm, classes,\n",
    "                          normalize=False,\n",
    "                          title='Confusion matrix',\n",
    "                          cmap=plt.cm.Blues):\n",
    "    \"\"\"\n",
    "    This function prints and plots the confusion matrix.\n",
    "    Normalization can be applied by setting `normalize=True`.\n",
    "    \"\"\"\n",
    "    if normalize:\n",
    "        cm = cm.astype('float') / cm.sum(axis=1)[:, np.newaxis]\n",
    "        print(\"Normalized confusion matrix\")\n",
    "    else:\n",
    "        print('Confusion matrix, without normalization')\n",
    "\n",
    "    print(cm)\n",
    "\n",
    "    plt.imshow(cm, interpolation='nearest', cmap=cmap)\n",
    "    plt.title(title)\n",
    "    plt.colorbar()\n",
    "    tick_marks = np.arange(len(classes))\n",
    "    plt.xticks(tick_marks, classes, rotation=45)\n",
    "    plt.yticks(tick_marks, classes)\n",
    "\n",
    "    fmt = '.2f' if normalize else 'd'\n",
    "    thresh = cm.max() / 2.\n",
    "    for i, j in itertools.product(range(cm.shape[0]), range(cm.shape[1])):\n",
    "        plt.text(j, i, format(cm[i, j], fmt),\n",
    "                 horizontalalignment=\"center\",\n",
    "                 color=\"white\" if cm[i, j] > thresh else \"black\")\n",
    "\n",
    "    plt.tight_layout()\n",
    "    plt.ylabel('True label')\n",
    "    plt.xlabel('Predicted label')\n",
    "\n",
    "# Compute confusion matrix\n",
    "cnf_matrix = confusion_matrix(y_test, y_pred)\n",
    "np.set_printoptions(precision=2)\n",
    "\n",
    "# Plot non-normalized confusion matrix\n",
    "plt.figure()\n",
    "plot_confusion_matrix(cnf_matrix, classes=class_names,\n",
    "                      title='Confusion matrix, without normalization')\n",
    "\n",
    "# Plot normalized confusion matrix\n",
    "plt.figure()\n",
    "plot_confusion_matrix(cnf_matrix, classes=class_names, normalize=True,\n",
    "                      title='Normalized confusion matrix')\n",
    "\n",
    "plt.show()"
   ]
  },
  {
   "cell_type": "code",
   "execution_count": null,
   "metadata": {},
   "outputs": [],
   "source": [
    "y_test.value_counts()"
   ]
  },
  {
   "cell_type": "code",
   "execution_count": null,
   "metadata": {
    "collapsed": true
   },
   "outputs": [],
   "source": []
  },
  {
   "cell_type": "code",
   "execution_count": null,
   "metadata": {
    "collapsed": true
   },
   "outputs": [],
   "source": []
  }
 ],
 "metadata": {
  "kernelspec": {
   "display_name": "Python 3",
   "language": "python",
   "name": "python3"
  },
  "language_info": {
   "codemirror_mode": {
    "name": "ipython",
    "version": 3
   },
   "file_extension": ".py",
   "mimetype": "text/x-python",
   "name": "python",
   "nbconvert_exporter": "python",
   "pygments_lexer": "ipython3",
   "version": "3.6.3"
  }
 },
 "nbformat": 4,
 "nbformat_minor": 2
}
