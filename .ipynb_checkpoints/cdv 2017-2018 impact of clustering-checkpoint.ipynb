{
 "cells": [
  {
   "cell_type": "markdown",
   "metadata": {},
   "source": [
    "### I) Loading data and preparing dataset - scope 2017-2018"
   ]
  },
  {
   "cell_type": "code",
   "execution_count": 1,
   "metadata": {
    "collapsed": true
   },
   "outputs": [],
   "source": [
    "from pathlib import Path\n",
    "import pandas as pd\n",
    "import numpy as np\n",
    "from datetime import datetime\n",
    "import time\n",
    "import matplotlib.pyplot as plt\n",
    "%matplotlib inline\n",
    "#%pylab inline\n",
    "import itertools\n",
    "import pickle\n",
    "from sklearn.model_selection import train_test_split\n",
    "from sklearn.preprocessing import StandardScaler\n",
    "from sklearn.linear_model import LogisticRegression\n",
    "from sklearn.model_selection import cross_val_score, GridSearchCV\n",
    "from sklearn.decomposition import PCA\n",
    "from sklearn.ensemble import RandomForestClassifier\n",
    "from sklearn.metrics import confusion_matrix\n",
    "from sklearn.preprocessing import LabelEncoder\n",
    "from sklearn.preprocessing import LabelBinarizer\n",
    "from sklearn.preprocessing import OneHotEncoder\n",
    "from sklearn.svm import SVC\n",
    "from sklearn.model_selection import StratifiedKFold\n",
    "from sklearn.feature_selection import RFECV"
   ]
  },
  {
   "cell_type": "code",
   "execution_count": 2,
   "metadata": {
    "collapsed": true
   },
   "outputs": [],
   "source": [
    "path_project = Path.home() / Path('Google Drive/Felix')\n",
    "path_data = path_project / Path(\"data\")\n",
    "path_dump = path_project / Path(\"dump\")"
   ]
  },
  {
   "cell_type": "code",
   "execution_count": 3,
   "metadata": {
    "collapsed": true
   },
   "outputs": [],
   "source": [
    "# loading cdv data\n",
    "file = path_data / Path(\"felix.csv\")\n",
    "with Path.open(file, 'rb') as fp:\n",
    "    cdv = pd.read_csv(fp,  encoding='cp1252',low_memory=False)\n",
    "# loadind cdv data without format\n",
    "file = path_data / Path(\"felix_ssfmt.csv\")\n",
    "with Path.open(file, 'rb') as fp:\n",
    "    cdv_ssfmt = pd.read_csv(fp,  encoding='cp1252',low_memory=False)"
   ]
  },
  {
   "cell_type": "code",
   "execution_count": 4,
   "metadata": {},
   "outputs": [],
   "source": [
    "# load various variable set\n",
    "filename = path_dump / Path(\"dict_var_groups.sav\")\n",
    "with open(filename, 'rb') as fp:\n",
    "     dict_var_groups = pickle.load(fp)\n",
    "\n",
    "scope_2017_2018_var = dict_var_groups['scope_2017_2018_var']\n",
    "pred_var = dict_var_groups['pred_var']\n",
    "com_var = dict_var_groups['com_var']\n",
    "tech_var = dict_var_groups['tech_var']\n",
    "text_var = dict_var_groups['text_var']\n",
    "bizz_var = dict_var_groups['bizz_var']\n",
    "cat_var = dict_var_groups['cat_var']\n",
    "cat_max9_var = dict_var_groups['cat_max9_var']\n",
    "cat_min10_var = dict_var_groups['cat_min10_var']\n",
    "quant_var = dict_var_groups['quant_var']"
   ]
  },
  {
   "cell_type": "code",
   "execution_count": 5,
   "metadata": {},
   "outputs": [
    {
     "name": "stdout",
     "output_type": "stream",
     "text": [
      "Out of 354 variable 297 are used in 2017 and 2018 \n",
      "31 of 'technical' variable such as 'inseenum' are excluded \n",
      "266 are remaining :\n",
      "\t180 categorial variables : \n",
      "\t\t165 with maximum 9 modalities  \n",
      "\t\t15 with more modalities ... excluded\n",
      "\t86 variables are quantitative \n",
      "\t\t60 have less than 200 missing values\n",
      "\t\t26 have more ... excluded\n",
      "\n",
      "Final number of variable kept : 225\n"
     ]
    }
   ],
   "source": [
    "exclusion = com_var | tech_var | bizz_var | text_var \n",
    "scope_2017_2018_var_kept = scope_2017_2018_var - exclusion\n",
    "cat_var_kept = cat_max9_var & scope_2017_2018_var_kept\n",
    "scope_quant_var = (quant_var & scope_2017_2018_var_kept) \n",
    "quant_null = np.sum(cdv_ssfmt.loc[:,scope_quant_var].isnull())\n",
    "quant_var_kept = set(quant_null[quant_null < 200].index)\n",
    "\n",
    "print(f\"Out of {cdv.shape[1]} variable {len(scope_2017_2018_var)} \\\n",
    "are used in 2017 and 2018 \")\n",
    "print(f\"{len(scope_2017_2018_var & exclusion)} of 'technical' variable \\\n",
    "such as 'inseenum' are excluded \")\n",
    "print(f\"{len(scope_2017_2018_var_kept)} are remaining :\")\n",
    "print(f\"\\t{len(cat_var & scope_2017_2018_var_kept)} \\\n",
    "categorial variables : \")\n",
    "print(f\"\\t\\t{len(cat_max9_var & scope_2017_2018_var_kept)} \\\n",
    "with maximum 9 modalities  \")\n",
    "print(f\"\\t\\t{len(cat_min10_var & scope_2017_2018_var_kept)} \\\n",
    "with more modalities ... excluded\")\n",
    "print(f\"\\t{len(quant_var & scope_2017_2018_var_kept)} \\\n",
    "variables are quantitative \")\n",
    "print(f\"\\t\\t{len(quant_var_kept)} have less than 200 missing values\")\n",
    "print(f\"\\t\\t{len(scope_quant_var)-len(quant_var_kept)} \\\n",
    "have more ... excluded\")\n",
    "\n",
    "scope = cat_var_kept | quant_var_kept\n",
    "df = cdv_ssfmt.loc[cdv_ssfmt['ANNEEFUZ'].isin({39,40}),scope]\n",
    "df.loc[:,cat_var_kept - {\"HEUREUX\"}] = cdv.loc[:,cat_var_kept - {\"HEUREUX\"}]\n",
    "print(f\"\\nFinal number of variable kept : {df.shape[1]}\")"
   ]
  },
  {
   "cell_type": "code",
   "execution_count": 6,
   "metadata": {},
   "outputs": [
    {
     "name": "stdout",
     "output_type": "stream",
     "text": [
      "225 columns out of which 164 are corresponding to categorial features\n"
     ]
    }
   ],
   "source": [
    "p = df.shape[1]\n",
    "print(f\"{p} columns out of which {len(cat_var_kept)-1} \\\n",
    "are corresponding to categorial features\")"
   ]
  },
  {
   "cell_type": "code",
   "execution_count": 7,
   "metadata": {},
   "outputs": [],
   "source": [
    "df = pd.get_dummies(df, \n",
    "                    columns=cat_var_kept - {\"HEUREUX\"},\n",
    "                    dummy_na = True,\n",
    "                    drop_first=1)"
   ]
  },
  {
   "cell_type": "code",
   "execution_count": 8,
   "metadata": {},
   "outputs": [
    {
     "name": "stdout",
     "output_type": "stream",
     "text": [
      "645 columns after encoding of 164 categorial variables in 584 binary variables (K-1 one hot encoding)\n"
     ]
    }
   ],
   "source": [
    "q = df.shape[1]\n",
    "print(f\"{q} columns after encoding of {len(cat_var_kept)-1} categorial \\\n",
    "variables in {len(cat_var_kept)-1+q-p} binary variables \\\n",
    "(K-1 one hot encoding)\")"
   ]
  },
  {
   "cell_type": "code",
   "execution_count": 9,
   "metadata": {},
   "outputs": [
    {
     "name": "stdout",
     "output_type": "stream",
     "text": [
      "Number exemple: 5682\n",
      "- training set: 4545\n",
      "- test set: 1137\n",
      "Number of features: p=644\n"
     ]
    }
   ],
   "source": [
    "# encoding of \"HEUREUX\" '[nsp]'\n",
    "df.loc[df[\"HEUREUX\"]==5,\"HEUREUX\"]= None\n",
    "\n",
    "# treating remaining missing values\n",
    "df_tmp = df.dropna()\n",
    "\n",
    "features = df_tmp.columns.drop(['HEUREUX'])\n",
    "X = df_tmp.loc[:,features]\n",
    "y = df_tmp[\"HEUREUX\"]\n",
    "\n",
    "X_train, X_test, y_train, y_test = train_test_split(X, \n",
    "                                                    y, \n",
    "                                                    test_size=0.2, \n",
    "                                                    random_state=42\n",
    "                                                   )\n",
    "\n",
    "scaler = StandardScaler().fit(X_train)\n",
    "X_train = scaler.transform(X_train)\n",
    "X_test = scaler.transform(X_test)\n",
    "\n",
    "print(f\"Number exemple: {y.shape[0]}\\n\\\n",
    "- training set: {y_train.shape[0]}\\n\\\n",
    "- test set: {y_test.shape[0]}\")\n",
    "print(f\"Number of features: p={X_train.shape[1]}\")"
   ]
  },
  {
   "cell_type": "markdown",
   "metadata": {},
   "source": [
    "### II) Feature selection"
   ]
  },
  {
   "cell_type": "code",
   "execution_count": 12,
   "metadata": {},
   "outputs": [
    {
     "name": "stdout",
     "output_type": "stream",
     "text": [
      "Optimal number of features : 68\n"
     ]
    },
    {
     "data": {
      "image/png": "[encoded data removed]",
      "text/plain": [
       "<matplotlib.figure.Figure at 0x1a10d4d4e0>"
      ]
     },
     "metadata": {},
     "output_type": "display_data"
    },
    {
     "name": "stdout",
     "output_type": "stream",
     "text": [
      "Détermination des features optimales en 977.1 s\n"
     ]
    }
   ],
   "source": [
    "startTime = time.time()\n",
    "\n",
    "clf = LogisticRegression(C=1, \n",
    "                         penalty='l1', \n",
    "                         class_weight='balanced',\n",
    "                         random_state=42)\n",
    "\n",
    "rfecv = RFECV(estimator=clf, step=0.05, cv=StratifiedKFold(2),\n",
    "              scoring='accuracy')\n",
    "\n",
    "rfecv.fit(X_train, y_train)\n",
    "\n",
    "print(\"Optimal number of features : %d\" % rfecv.n_features_)\n",
    "#print(f\"Correspondingf score {grid.best_score_:0.4f}\")\n",
    "# Plot number of features VS. cross-validation scores\n",
    "plt.figure()\n",
    "plt.xlabel(\"Number of steps of 5% variables\")\n",
    "plt.ylabel(\"Cross validation score\")\n",
    "plt.plot(range(1, len(rfecv.grid_scores_) + 1), rfecv.grid_scores_)\n",
    "plt.show()\n",
    "\n",
    "print(\"Détermination des features optimales en %0.1f s\" % (time.time() - startTime))"
   ]
  },
  {
   "cell_type": "code",
   "execution_count": 13,
   "metadata": {},
   "outputs": [
    {
     "name": "stdout",
     "output_type": "stream",
     "text": [
      "Optimal number of features : 68\n"
     ]
    },
    {
     "data": {
      "image/png": "[encoded data removed]",
      "text/plain": [
       "<matplotlib.figure.Figure at 0x1a12f7aef0>"
      ]
     },
     "metadata": {},
     "output_type": "display_data"
    },
    {
     "name": "stdout",
     "output_type": "stream",
     "text": [
      "Détermination des features optimales en 988.2 s\n"
     ]
    }
   ],
   "source": [
    "startTime = time.time()\n",
    "\n",
    "clf = LogisticRegression(C=1, \n",
    "                         penalty='l1', \n",
    "                         class_weight='balanced',\n",
    "                         random_state=42)\n",
    "\n",
    "rfecv = RFECV(estimator=clf, step=0.05, cv=StratifiedKFold(2),\n",
    "              scoring='f1_micro')\n",
    "\n",
    "rfecv.fit(X_train, y_train)\n",
    "\n",
    "print(\"Optimal number of features : %d\" % rfecv.n_features_)\n",
    "#print(f\"Correspondingf score {grid.best_score_:0.4f}\")\n",
    "# Plot number of features VS. cross-validation scores\n",
    "plt.figure()\n",
    "plt.xlabel(\"Number of steps of 5% variables\")\n",
    "plt.ylabel(\"Cross validation score\")\n",
    "plt.plot(range(1, len(rfecv.grid_scores_) + 1), rfecv.grid_scores_)\n",
    "plt.show()\n",
    "\n",
    "print(\"Détermination des features optimales en %0.1f s\" % (time.time() - startTime))"
   ]
  },
  {
   "cell_type": "code",
   "execution_count": 14,
   "metadata": {},
   "outputs": [
    {
     "name": "stderr",
     "output_type": "stream",
     "text": [
      "//anaconda/envs/py36/lib/python3.6/site-packages/sklearn/metrics/classification.py:1135: UndefinedMetricWarning: F-score is ill-defined and being set to 0.0 in labels with no predicted samples.\n",
      "  'precision', 'predicted', average, warn_for)\n",
      "//anaconda/envs/py36/lib/python3.6/site-packages/sklearn/metrics/classification.py:1135: UndefinedMetricWarning: F-score is ill-defined and being set to 0.0 in labels with no predicted samples.\n",
      "  'precision', 'predicted', average, warn_for)\n"
     ]
    },
    {
     "name": "stdout",
     "output_type": "stream",
     "text": [
      "Optimal number of features : 100\n"
     ]
    },
    {
     "data": {
      "image/png": "[encoded data removed]",
      "text/plain": [
       "<matplotlib.figure.Figure at 0x10ad4b128>"
      ]
     },
     "metadata": {},
     "output_type": "display_data"
    },
    {
     "name": "stdout",
     "output_type": "stream",
     "text": [
      "Détermination des features optimales en 1011.3 s\n"
     ]
    }
   ],
   "source": [
    "startTime = time.time()\n",
    "\n",
    "clf = LogisticRegression(C=1, \n",
    "                         penalty='l1', \n",
    "                         class_weight='balanced',\n",
    "                         random_state=42)\n",
    "\n",
    "rfecv = RFECV(estimator=clf, step=0.05, cv=StratifiedKFold(2),\n",
    "              scoring='f1_macro')\n",
    "\n",
    "rfecv.fit(X_train, y_train)\n",
    "\n",
    "print(\"Optimal number of features : %d\" % rfecv.n_features_)\n",
    "#print(f\"Correspondingf score {grid.best_score_:0.4f}\")\n",
    "# Plot number of features VS. cross-validation scores\n",
    "plt.figure()\n",
    "plt.xlabel(\"Number of steps of 5% variables\")\n",
    "plt.ylabel(\"Cross validation score\")\n",
    "plt.plot(range(1, len(rfecv.grid_scores_) + 1), rfecv.grid_scores_)\n",
    "plt.show()\n",
    "\n",
    "print(\"Détermination des features optimales en %0.1f s\" % (time.time() - startTime))"
   ]
  },
  {
   "cell_type": "code",
   "execution_count": 15,
   "metadata": {},
   "outputs": [
    {
     "name": "stderr",
     "output_type": "stream",
     "text": [
      "//anaconda/envs/py36/lib/python3.6/site-packages/sklearn/metrics/classification.py:1135: UndefinedMetricWarning: F-score is ill-defined and being set to 0.0 in labels with no predicted samples.\n",
      "  'precision', 'predicted', average, warn_for)\n",
      "//anaconda/envs/py36/lib/python3.6/site-packages/sklearn/metrics/classification.py:1135: UndefinedMetricWarning: F-score is ill-defined and being set to 0.0 in labels with no predicted samples.\n",
      "  'precision', 'predicted', average, warn_for)\n"
     ]
    },
    {
     "name": "stdout",
     "output_type": "stream",
     "text": [
      "Optimal number of features : 68\n"
     ]
    },
    {
     "data": {
      "image/png": "[encoded data removed]",
      "text/plain": [
       "<matplotlib.figure.Figure at 0x109516710>"
      ]
     },
     "metadata": {},
     "output_type": "display_data"
    },
    {
     "name": "stdout",
     "output_type": "stream",
     "text": [
      "Détermination des features optimales en 1018.0 s\n"
     ]
    }
   ],
   "source": [
    "startTime = time.time()\n",
    "\n",
    "clf = LogisticRegression(C=1, \n",
    "                         penalty='l1', \n",
    "                         class_weight='balanced',\n",
    "                         random_state=42)\n",
    "\n",
    "rfecv = RFECV(estimator=clf, step=0.05, cv=StratifiedKFold(2),\n",
    "              scoring='f1_weighted')\n",
    "\n",
    "rfecv.fit(X_train, y_train)\n",
    "\n",
    "print(\"Optimal number of features : %d\" % rfecv.n_features_)\n",
    "#print(f\"Correspondingf score {grid.best_score_:0.4f}\")\n",
    "# Plot number of features VS. cross-validation scores\n",
    "plt.figure()\n",
    "plt.xlabel(\"Number of steps of 5% variables\")\n",
    "plt.ylabel(\"Cross validation score\")\n",
    "plt.plot(range(1, len(rfecv.grid_scores_) + 1), rfecv.grid_scores_)\n",
    "plt.show()\n",
    "\n",
    "print(\"Détermination des features optimales en %0.1f s\" % (time.time() - startTime))"
   ]
  },
  {
   "cell_type": "code",
   "execution_count": null,
   "metadata": {},
   "outputs": [],
   "source": [
    "lasso_mask = rfecv.support_\n",
    "X_train = X_train[:,lasso_mask]\n",
    "X_test = X_test[:,lasso_mask]\n",
    "print(f\"Number of features: p={X_train.shape[1]}\")"
   ]
  },
  {
   "cell_type": "code",
   "execution_count": null,
   "metadata": {},
   "outputs": [],
   "source": [
    "startTime = time.time()\n",
    "n_estimators_range = [16,32,64,128,256]\n",
    "max_depth_range = [2,4,8,16,32,64,128,256] \n",
    "param_grid = dict(n_estimators=n_estimators_range, max_depth = max_depth_range)\n",
    "\n",
    "\n",
    "params = {'max_features' :'sqrt', \n",
    "          'random_state' : 32, \n",
    "          'min_samples_split' : 2, \n",
    "          'class_weight' : 'balanced'\n",
    "         }\n",
    "\n",
    "clf = RandomForestClassifier(**params)\n",
    "\n",
    "grid = GridSearchCV(clf, \n",
    "                    scoring='f1_weighted', \n",
    "                    param_grid=param_grid)\n",
    "\n",
    "grid.fit(X_train, y_train)\n",
    "print(f\"Determination of optimal hyperparameters in \\\n",
    "{time.time() - startTime:0.1f} s\")\n",
    "print(f\"Optimal values are {grid.best_params_} \\n\\\n",
    "F1 weighted Score of cross valdation {100*grid.best_score_:0.2f}%\")\n",
    "\n",
    "# Learning on full training set with optimals hyperparameters and score on test set\n",
    "params = {'max_features' :'sqrt', 'random_state' : 32, \n",
    "          'min_samples_split' : 2, 'class_weight' : 'balanced',\n",
    "          'n_estimators' : grid.best_params_['n_estimators'],\n",
    "          'max_depth' : grid.best_params_['max_depth']}\n",
    "clf = RandomForestClassifier(**params).fit(X_train, y_train)\n",
    "accuracy = clf.score(X_test, y_test)\n",
    "y_pred = clf.predict(X_test)\n",
    "print(f\"Random Forest, p={X_train.shape[1]}\")\n",
    "print(f\"Accuracy: {accuracy*100:0.2f}%\")\n",
    "print(f\"... done in {time.time() - startTime:0.1f}\")"
   ]
  },
  {
   "cell_type": "code",
   "execution_count": null,
   "metadata": {
    "collapsed": true
   },
   "outputs": [],
   "source": [
    "def plot_confusion_matrix(cm, classes,\n",
    "                          normalize=False,\n",
    "                          title='Confusion matrix',\n",
    "                          cmap=plt.cm.Blues):\n",
    "    \"\"\"\n",
    "    This function prints and plots the confusion matrix.\n",
    "    Normalization can be applied by setting `normalize=True`.\n",
    "    \"\"\"\n",
    "    if normalize:\n",
    "        cm = cm.astype('float') / cm.sum(axis=1)[:, np.newaxis]\n",
    "        print(\"Normalized confusion matrix\")\n",
    "    else:\n",
    "        print('Confusion matrix, without normalization')\n",
    "\n",
    "    print(cm)\n",
    "\n",
    "    plt.imshow(cm, interpolation='nearest', cmap=cmap)\n",
    "    plt.title(title)\n",
    "    plt.colorbar()\n",
    "    tick_marks = np.arange(len(classes))\n",
    "    plt.xticks(tick_marks, classes, rotation=45)\n",
    "    plt.yticks(tick_marks, classes)\n",
    "\n",
    "    fmt = '.2f' if normalize else 'd'\n",
    "    thresh = cm.max() / 2.\n",
    "    for i, j in itertools.product(range(cm.shape[0]), range(cm.shape[1])):\n",
    "        plt.text(j, i, format(cm[i, j], fmt),\n",
    "                 horizontalalignment=\"center\",\n",
    "                 color=\"white\" if cm[i, j] > thresh else \"black\")\n",
    "\n",
    "    plt.tight_layout()\n",
    "    plt.ylabel('True label')\n",
    "    plt.xlabel('Predicted label')"
   ]
  },
  {
   "cell_type": "code",
   "execution_count": null,
   "metadata": {},
   "outputs": [],
   "source": [
    "class_names = [\"Jamais\",\n",
    "               \"Occasionnellement\",\n",
    "               \"Assez souvent\",\n",
    "               \"Très souvent\"]\n",
    "# Compute confusion matrix\n",
    "cnf_matrix = confusion_matrix(y_test, y_pred)\n",
    "np.set_printoptions(precision=2)\n",
    "\n",
    "# Plot non-normalized confusion matrix\n",
    "plt.figure()\n",
    "plot_confusion_matrix(cnf_matrix, classes=class_names,\n",
    "                      title='Confusion matrix, without normalization')\n",
    "\n",
    "# Plot normalized confusion matrix\n",
    "plt.figure()\n",
    "plot_confusion_matrix(cnf_matrix, classes=class_names, normalize=True,\n",
    "                      title='Normalized confusion matrix')\n",
    "\n",
    "plt.show()"
   ]
  },
  {
   "cell_type": "code",
   "execution_count": null,
   "metadata": {},
   "outputs": [],
   "source": [
    "len(y_test)"
   ]
  },
  {
   "cell_type": "code",
   "execution_count": null,
   "metadata": {},
   "outputs": [],
   "source": []
  },
  {
   "cell_type": "code",
   "execution_count": null,
   "metadata": {},
   "outputs": [],
   "source": []
  },
  {
   "cell_type": "code",
   "execution_count": null,
   "metadata": {},
   "outputs": [],
   "source": []
  },
  {
   "cell_type": "code",
   "execution_count": null,
   "metadata": {
    "collapsed": true
   },
   "outputs": [],
   "source": []
  }
 ],
 "metadata": {
  "kernelspec": {
   "display_name": "Python 3",
   "language": "python",
   "name": "python3"
  },
  "language_info": {
   "codemirror_mode": {
    "name": "ipython",
    "version": 3
   },
   "file_extension": ".py",
   "mimetype": "text/x-python",
   "name": "python",
   "nbconvert_exporter": "python",
   "pygments_lexer": "ipython3",
   "version": "3.6.3"
  }
 },
 "nbformat": 4,
 "nbformat_minor": 2
}
