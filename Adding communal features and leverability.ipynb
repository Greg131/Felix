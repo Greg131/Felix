{
 "cells": [
  {
   "cell_type": "markdown",
   "metadata": {},
   "source": [
    "# Adding communal features and levers"
   ]
  },
  {
   "cell_type": "code",
   "execution_count": 1,
   "metadata": {
    "collapsed": true
   },
   "outputs": [],
   "source": [
    "from pathlib import Path\n",
    "import pandas as pd\n",
    "import numpy as np\n",
    "from datetime import datetime\n",
    "import time\n",
    "import pickle"
   ]
  },
  {
   "cell_type": "code",
   "execution_count": 2,
   "metadata": {
    "collapsed": true
   },
   "outputs": [],
   "source": [
    "path_project = Path.home() / Path('Google Drive/Felix')\n",
    "path_data = path_project / Path(\"data\")\n",
    "path_dump = path_project / Path(\"dump\")"
   ]
  },
  {
   "cell_type": "code",
   "execution_count": 3,
   "metadata": {
    "collapsed": true
   },
   "outputs": [],
   "source": [
    "# loading MergeCommunesEnvi data\n",
    "file = path_data / Path(\"MergeCommunesEnvi.csv\")\n",
    "with Path.open(file, 'rb') as fp:\n",
    "    MergeCommunesEnvi = pd.read_csv(fp,  encoding='cp1252',low_memory=False, sep=';', index_col = 1)"
   ]
  },
  {
   "cell_type": "code",
   "execution_count": 4,
   "metadata": {
    "collapsed": true
   },
   "outputs": [],
   "source": [
    "# loading cdv data\n",
    "file = path_data / Path(\"felix.csv\")\n",
    "with Path.open(file, 'rb') as fp:\n",
    "    cdv = pd.read_csv(fp,  encoding='cp1252',low_memory=False, index_col = 0)"
   ]
  },
  {
   "cell_type": "code",
   "execution_count": 5,
   "metadata": {
    "collapsed": true
   },
   "outputs": [],
   "source": [
    "filename = path_dump / Path(\"dict_var_groups.sav\")\n",
    "with open(filename, 'rb') as fp:\n",
    "     dict_var_groups = pickle.load(fp)"
   ]
  },
  {
   "cell_type": "code",
   "execution_count": 6,
   "metadata": {
    "collapsed": true
   },
   "outputs": [],
   "source": [
    "# file 'List-of-Actionable-Variables_v0.1_sp' september 01\n",
    "indiv_act_var = {\n",
    "    \"LIMVIAND\",\"VACANCES\",\"VISITFAM\",\"RECEP\",\"YOGA\",\"FREQSPOR\",\"FREQBIBL\",\"FREQCINE\",\n",
    "    \"FREQTELE\",\"ASSOSPOR\",\"ASSOCULT\",\"ASSOCONF\",\"ASSOJEUN\",\"ASSOSYND\",\"ASSOENVI\",\n",
    "    \"ASSOPARE\",\"ASSOCONS\",\"ASSOPOLI\",\"ASSOHUMA\",\"ASSOAUTR\",\"NOT_FAMI\",\"NOT_PROF\",\n",
    "    \"NOT_AMIS\",\"NOT_COHE\",\"NOT_POLI\",\"NOT_LIBR\",\"NOT_LOG\",\"NOT_CAD\",\"RELIGION\"\n",
    "}"
   ]
  },
  {
   "cell_type": "code",
   "execution_count": 7,
   "metadata": {
    "collapsed": true
   },
   "outputs": [],
   "source": [
    "# file 'List-of-Actionable-Variables_v0.1_sp' september 01\n",
    "indiv_semi_act_var = {\n",
    "    \"SITUEMP5\",\"SITUEMP6\",\"TEMPSTRA\",\"nbheures\",\"NBHEUR39\",\"NBHEUR35\",\n",
    "    \"IMAGTRAV\",\"COUPLE\",\"ENFANTS\",\"CADVIE\",\"CADVIE3\",\"MODCHAUF\",\"ETATSAN\",\n",
    "    \"BANQMOB\",\"BANQEPA\",\"BANQVIE\",\"TELMOB\",\"CONFPUB\",\"CONFENTR\",\"CONFASSO\",\n",
    "    \"CONFPOLI\",\"CONFBANK\",\"CONFPRES\",\"CONFECOL\",\"CONFKEUF\",\"INQMALAD\",\n",
    "    \"INQMALA3\",\"INQAGRES\",\"INQAGRE3\",\"INQROUTE\",\"INQROUT3\",\"INQCHOMA\",\n",
    "    \"INQCHOM3\",\"INQGUERR\",\"INQGUER3\",\"INQNUCLE\",\"INQNUCL3\",\"INQALIM\",\n",
    "    \"INQALIM3\",\"ECHPOL\"\n",
    "}"
   ]
  },
  {
   "cell_type": "code",
   "execution_count": 8,
   "metadata": {
    "collapsed": true
   },
   "outputs": [],
   "source": [
    "admin_act_var = {\n",
    "    \"AIDESUFF\",\"EFFORTPP\",\"CHOAVANT\",\"OPIRSA\",\"JUSTICE\",\"RELEG\",\"RADIQUOI\",\n",
    "    \"RADWHY1\",\"RADWHY2\",\"RADWHY3\",\"RADWHY4\",\"RADWHY5\",\"RADWHY6\",\"RADWHY7\",\n",
    "    \"RADWHY8\",\"RADWHY9\",\"RADWHY10\",\"RADWHY11\",\"RADWHY12\",\"RADWHY13\",\"RADWHY14\",\n",
    "    \"ORDLIB\",\"PREOCCU1\",\"PREOCCU2\",\"CONFGOUV\"\n",
    "}"
   ]
  },
  {
   "cell_type": "code",
   "execution_count": 9,
   "metadata": {
    "collapsed": true
   },
   "outputs": [],
   "source": [
    "admin_semi_act_var = {\n",
    "    \"SECURITE\",\"SECUR3\",\"ADNSTIC\",\"ADNCB\",\"ADNORDI\",\"ROBOT1\",\"ROBOT2\",\"ROBOT3\",\n",
    "    \"PRESTCAF\",\"REVPF\",\"CONFPUB\",\"CONFENTR\",\"CONFASSO\",\"CONFPOLI\",\"CONFBANK\",\n",
    "    \"CONFPRES\",\"CONFECOL\",\"CONFKEUF\",\"TRANSFST\",\"TRANSFO5\",\"PROGRAD\",\"OPIIMMIG\"\n",
    "}"
   ]
  },
  {
   "cell_type": "markdown",
   "metadata": {},
   "source": [
    "## Data exploration"
   ]
  },
  {
   "cell_type": "code",
   "execution_count": 10,
   "metadata": {
    "collapsed": true
   },
   "outputs": [],
   "source": [
    "commune_var = set(MergeCommunesEnvi.columns) - set(cdv.columns)"
   ]
  },
  {
   "cell_type": "code",
   "execution_count": 11,
   "metadata": {},
   "outputs": [
    {
     "name": "stdout",
     "output_type": "stream",
     "text": [
      "218 additional features\n"
     ]
    }
   ],
   "source": [
    "print(f\"{len(commune_var)} additional features\")"
   ]
  },
  {
   "cell_type": "code",
   "execution_count": 12,
   "metadata": {
    "collapsed": true
   },
   "outputs": [],
   "source": [
    "df = MergeCommunesEnvi.loc[:,commune_var]"
   ]
  },
  {
   "cell_type": "code",
   "execution_count": 13,
   "metadata": {},
   "outputs": [
    {
     "data": {
      "text/plain": [
       "TP6015                                                     2830\n",
       "PIMP15                                                     2505\n",
       "Part.protection.forte...2017....                            840\n",
       "Superficie.protection.contractuelle...2017..ha.             840\n",
       "Part.protection.contractuelle...2017....                    840\n",
       "Superficie.protection.forte...2017..ha.                     840\n",
       "Part.zones.humides.et.surfaces.en.eau...2012....            358\n",
       "Superficie.zones.humides.et.surfaces.en.eau...2012..ha.     358\n",
       "Part.forêts.et.milieux.semi.naturels...2012....             358\n",
       "Superficie.forêts.et.milieux.semi.naturels...2012..ha.      358\n",
       "communes                                                    358\n",
       "MED15                                                       212\n",
       "NBMENFISC15                                                 212\n",
       "NB_F101_NB_ECL                                              164\n",
       "NB_D101                                                     164\n",
       "NB_F106_NB_AIREJEU                                          164\n",
       "NB_F202_NB_AIREJEU                                          164\n",
       "NB_A205                                                     164\n",
       "NB_A403                                                     164\n",
       "NB_E102                                                     164\n",
       "DECESD16                                                    164\n",
       "NB_F110_NB_COU                                              164\n",
       "NB_F120                                                     164\n",
       "NB_F121_NB_ECL                                              164\n",
       "NB_F109_NB_COU                                              164\n",
       "NB_A105                                                     164\n",
       "NB_D704                                                     164\n",
       "P15_CHOM1564                                                164\n",
       "NB_F104_NB_COU                                              164\n",
       "NB_F111_NB_ECL                                              164\n",
       "                                                           ... \n",
       "NB_A108                                                     164\n",
       "NB_F118                                                     164\n",
       "NB_D403                                                     164\n",
       "NB_F116_NB_ECL                                              164\n",
       "NB_A401                                                     164\n",
       "NB_D604                                                     164\n",
       "NB_F118_NB_COU                                              164\n",
       "NB_F119_NB_ECL                                              164\n",
       "NB_F107_NB_ECL                                              164\n",
       "NB_D703                                                     164\n",
       "NB_F302                                                     164\n",
       "NB_F114_NB_AIREJEU                                          164\n",
       "NB_F118_NB_AIREJEU                                          164\n",
       "NB_A502                                                     164\n",
       "NB_F305                                                     164\n",
       "NB_D402                                                     164\n",
       "NB_F121_NB_AIREJEU                                          164\n",
       "P10_EMPLT                                                    59\n",
       "REG                                                          58\n",
       "LIBGEO                                                       58\n",
       "ETBE15                                                       58\n",
       "ETGU15                                                       58\n",
       "ETAZ15                                                       58\n",
       "ETOQ15                                                       58\n",
       "ETTOT15                                                      58\n",
       "ETTEF115                                                     58\n",
       "ETTEFP1015                                                   58\n",
       "DEP                                                          58\n",
       "ETGZ15                                                       58\n",
       "ETFZ15                                                       58\n",
       "Length: 218, dtype: int64"
      ]
     },
     "execution_count": 13,
     "metadata": {},
     "output_type": "execute_result"
    }
   ],
   "source": [
    "np.sum(df.isnull()).sort_values(ascending = False)"
   ]
  },
  {
   "cell_type": "code",
   "execution_count": 14,
   "metadata": {},
   "outputs": [
    {
     "data": {
      "text/plain": [
       "array([dtype('float64'), dtype('O')], dtype=object)"
      ]
     },
     "execution_count": 14,
     "metadata": {},
     "output_type": "execute_result"
    }
   ],
   "source": [
    "df.dtypes.unique()"
   ]
  },
  {
   "cell_type": "code",
   "execution_count": 15,
   "metadata": {},
   "outputs": [
    {
     "data": {
      "text/plain": [
       "Index(['LIBGEO', 'DEP', 'communes'], dtype='object')"
      ]
     },
     "execution_count": 15,
     "metadata": {},
     "output_type": "execute_result"
    }
   ],
   "source": [
    "df.select_dtypes(include=['O']).columns"
   ]
  },
  {
   "cell_type": "markdown",
   "metadata": {},
   "source": [
    "## Updating var dictionary"
   ]
  },
  {
   "cell_type": "code",
   "execution_count": 16,
   "metadata": {
    "collapsed": true
   },
   "outputs": [],
   "source": [
    "dict_var_groups[\"cat_min10_var\"] = dict_var_groups[\"cat_min10_var\"] | {'DEP', 'LIBGEO', 'communes'}\n",
    "dict_var_groups[\"cat_var\"] = dict_var_groups[\"cat_var\"] | {'DEP', 'LIBGEO', 'communes'}"
   ]
  },
  {
   "cell_type": "code",
   "execution_count": 17,
   "metadata": {
    "collapsed": true
   },
   "outputs": [],
   "source": [
    "dict_var_groups[\"commune_var\"] = commune_var"
   ]
  },
  {
   "cell_type": "code",
   "execution_count": 18,
   "metadata": {
    "collapsed": true
   },
   "outputs": [],
   "source": [
    "commune_quant_var = set(df.select_dtypes(include=['float64']).columns)\n",
    "dict_var_groups[\"quant_var\"] = dict_var_groups[\"quant_var\"] | commune_quant_var"
   ]
  },
  {
   "cell_type": "code",
   "execution_count": 19,
   "metadata": {
    "collapsed": true
   },
   "outputs": [],
   "source": [
    "scope_2015_var = dict_var_groups['scope_2015_var']\n",
    "scope_2016_var = dict_var_groups['scope_2016_var']\n",
    "scope_2017_var = dict_var_groups['scope_2017_var']\n",
    "scope_2018_var = dict_var_groups['scope_2018_var']\n",
    "scope_2015_2018_var = dict_var_groups['scope_2015_2018_var']\n",
    "scope_2016_2018_var = dict_var_groups['scope_2016_2018_var']\n",
    "scope_2017_2018_var = dict_var_groups['scope_2017_2018_var']\n",
    "\n",
    "scope_2015_ext_var = scope_2015_var | commune_var\n",
    "scope_2016_ext_var = scope_2016_var | commune_var\n",
    "scope_2017_ext_var = scope_2017_var | commune_var\n",
    "scope_2018_ext_var = scope_2018_var | commune_var\n",
    "scope_2015_2018_ext_var = scope_2015_2018_var | commune_var\n",
    "scope_2016_2018_ext_var = scope_2016_2018_var | commune_var\n",
    "scope_2017_2018_ext_var = scope_2017_2018_var | commune_var\n",
    "\n",
    "dict_var_groups[\"scope_2015_ext_var\"] = scope_2015_ext_var\n",
    "dict_var_groups[\"scope_2016_ext_var\"] = scope_2016_ext_var\n",
    "dict_var_groups[\"scope_2017_ext_var\"] = scope_2017_ext_var\n",
    "dict_var_groups[\"scope_2018_ext_var\"] = scope_2018_ext_var\n",
    "dict_var_groups[\"scope_2015_2018_ext_var\"] = scope_2015_2018_ext_var\n",
    "dict_var_groups[\"scope_2016_2018_ext_var\"] = scope_2016_2018_ext_var\n",
    "dict_var_groups[\"scope_2017_2018_ext_var\"] = scope_2017_2018_ext_var"
   ]
  },
  {
   "cell_type": "code",
   "execution_count": 20,
   "metadata": {
    "collapsed": true
   },
   "outputs": [],
   "source": [
    "dict_var_groups[\"indiv_semi_act_var\"] = indiv_semi_act_var\n",
    "dict_var_groups[\"indiv_act_var\"] = indiv_act_var\n",
    "dict_var_groups[\"admin_semi_act_var\"] = admin_semi_act_var\n",
    "dict_var_groups[\"admin_act_var\"] = admin_act_var"
   ]
  },
  {
   "cell_type": "code",
   "execution_count": 26,
   "metadata": {},
   "outputs": [],
   "source": [
    "com_var = dict_var_groups['com_var']\n",
    "tech_var = dict_var_groups['tech_var']\n",
    "text_var = dict_var_groups['text_var']\n",
    "bizz_var = dict_var_groups['bizz_var']\n",
    "\n",
    "cat_max9_var = dict_var_groups['cat_max9_var']\n",
    "quant_var = dict_var_groups['quant_var']\n",
    "\n",
    "exclusion = com_var | tech_var | bizz_var | text_var \n",
    "\n",
    "quant_null = np.sum(MergeCommunesEnvi.loc[:,quant_var].isnull())\n",
    "quant_var_kept = set(quant_null[quant_null < 200].index)\n",
    "\n",
    "usual_common_scope = ((cat_max9_var | quant_var_kept) & scope_2015_2018_ext_var) - exclusion\n",
    "\n",
    "dict_var_groups[\"exclusion\"] = exclusion\n",
    "dict_var_groups[\"usual_common_scope\"] = usual_common_scope"
   ]
  },
  {
   "cell_type": "code",
   "execution_count": 27,
   "metadata": {
    "collapsed": true
   },
   "outputs": [],
   "source": [
    "filename = path_dump / Path(\"dict_var_groups.sav\")\n",
    "with open(filename, 'wb') as fp:\n",
    "     pickle.dump(dict_var_groups,fp,pickle.HIGHEST_PROTOCOL)"
   ]
  },
  {
   "cell_type": "code",
   "execution_count": 28,
   "metadata": {},
   "outputs": [
    {
     "data": {
      "text/plain": [
       "(11131, 218)"
      ]
     },
     "execution_count": 28,
     "metadata": {},
     "output_type": "execute_result"
    }
   ],
   "source": [
    "df.shape"
   ]
  },
  {
   "cell_type": "code",
   "execution_count": null,
   "metadata": {
    "collapsed": true
   },
   "outputs": [],
   "source": []
  }
 ],
 "metadata": {
  "kernelspec": {
   "display_name": "Python 3",
   "language": "python",
   "name": "python3"
  },
  "language_info": {
   "codemirror_mode": {
    "name": "ipython",
    "version": 3
   },
   "file_extension": ".py",
   "mimetype": "text/x-python",
   "name": "python",
   "nbconvert_exporter": "python",
   "pygments_lexer": "ipython3",
   "version": "3.6.3"
  }
 },
 "nbformat": 4,
 "nbformat_minor": 2
}
