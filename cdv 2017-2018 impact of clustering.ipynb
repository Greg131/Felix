{
 "cells": [
  {
   "cell_type": "markdown",
   "metadata": {},
   "source": [
    "### I) Loading data and preparing dataset - scope 2017-2018"
   ]
  },
  {
   "cell_type": "code",
   "execution_count": 1,
   "metadata": {
    "collapsed": true
   },
   "outputs": [],
   "source": [
    "from pathlib import Path\n",
    "import pandas as pd\n",
    "import numpy as np\n",
    "from datetime import datetime\n",
    "import time\n",
    "import matplotlib.pyplot as plt\n",
    "%matplotlib inline\n",
    "#%pylab inline\n",
    "import itertools\n",
    "import pickle\n",
    "from sklearn.model_selection import train_test_split\n",
    "from sklearn.preprocessing import StandardScaler\n",
    "from sklearn.linear_model import LogisticRegression\n",
    "from sklearn.model_selection import cross_val_score, GridSearchCV\n",
    "from sklearn.decomposition import PCA\n",
    "from sklearn.ensemble import RandomForestClassifier\n",
    "from sklearn.metrics import confusion_matrix, f1_score, precision_score, recall_score\n",
    "from sklearn.preprocessing import LabelEncoder\n",
    "from sklearn.preprocessing import LabelBinarizer\n",
    "from sklearn.preprocessing import OneHotEncoder\n",
    "from sklearn.svm import SVC\n",
    "from sklearn.model_selection import StratifiedKFold\n",
    "from sklearn.feature_selection import RFECV"
   ]
  },
  {
   "cell_type": "code",
   "execution_count": 2,
   "metadata": {
    "collapsed": true
   },
   "outputs": [],
   "source": [
    "path_project = Path.home() / Path('Google Drive/Felix')\n",
    "path_data = path_project / Path(\"data\")\n",
    "path_dump = path_project / Path(\"dump\")"
   ]
  },
  {
   "cell_type": "code",
   "execution_count": 3,
   "metadata": {
    "collapsed": true
   },
   "outputs": [],
   "source": [
    "# loading cdv data\n",
    "file = path_data / Path(\"felix.csv\")\n",
    "with Path.open(file, 'rb') as fp:\n",
    "    cdv = pd.read_csv(fp,  encoding='cp1252',low_memory=False, index_col = 0)\n",
    "# loadind cdv data without format\n",
    "file = path_data / Path(\"felix_ssfmt.csv\")\n",
    "with Path.open(file, 'rb') as fp:\n",
    "    cdv_ssfmt = pd.read_csv(fp,  encoding='cp1252',low_memory=False, index_col = 0)"
   ]
  },
  {
   "cell_type": "code",
   "execution_count": 4,
   "metadata": {
    "collapsed": true
   },
   "outputs": [],
   "source": [
    "# load various variable set\n",
    "filename = path_dump / Path(\"dict_var_groups.sav\")\n",
    "with open(filename, 'rb') as fp:\n",
    "     dict_var_groups = pickle.load(fp)\n",
    "\n",
    "scope_2017_2018_var = dict_var_groups['scope_2017_2018_var']\n",
    "pred_var = dict_var_groups['pred_var']\n",
    "com_var = dict_var_groups['com_var']\n",
    "tech_var = dict_var_groups['tech_var']\n",
    "text_var = dict_var_groups['text_var']\n",
    "bizz_var = dict_var_groups['bizz_var']\n",
    "cat_var = dict_var_groups['cat_var']\n",
    "cat_max9_var = dict_var_groups['cat_max9_var']\n",
    "cat_min10_var = dict_var_groups['cat_min10_var']\n",
    "quant_var = dict_var_groups['quant_var']"
   ]
  },
  {
   "cell_type": "code",
   "execution_count": 5,
   "metadata": {},
   "outputs": [
    {
     "name": "stdout",
     "output_type": "stream",
     "text": [
      "Out of 353 variable 297 are used in 2017 and 2018 \n",
      "31 of 'technical' variable such as 'inseenum' are excluded \n",
      "266 are remaining :\n",
      "\t180 categorial variables : \n",
      "\t\t165 with maximum 9 modalities  \n",
      "\t\t15 with more modalities ... excluded\n",
      "\t86 variables are quantitative \n",
      "\t\t60 have less than 200 missing values\n",
      "\t\t26 have more ... excluded\n",
      "\n",
      "Final number of variable kept : 225\n"
     ]
    }
   ],
   "source": [
    "exclusion = com_var | tech_var | bizz_var | text_var \n",
    "scope_2017_2018_var_kept = scope_2017_2018_var - exclusion\n",
    "cat_var_kept = cat_max9_var & scope_2017_2018_var_kept\n",
    "scope_quant_var = (quant_var & scope_2017_2018_var_kept) \n",
    "quant_null = np.sum(cdv_ssfmt.loc[:,scope_quant_var].isnull())\n",
    "quant_var_kept = set(quant_null[quant_null < 200].index)\n",
    "\n",
    "print(f\"Out of {cdv.shape[1]} variable {len(scope_2017_2018_var)} \\\n",
    "are used in 2017 and 2018 \")\n",
    "print(f\"{len(scope_2017_2018_var & exclusion)} of 'technical' variable \\\n",
    "such as 'inseenum' are excluded \")\n",
    "print(f\"{len(scope_2017_2018_var_kept)} are remaining :\")\n",
    "print(f\"\\t{len(cat_var & scope_2017_2018_var_kept)} \\\n",
    "categorial variables : \")\n",
    "print(f\"\\t\\t{len(cat_max9_var & scope_2017_2018_var_kept)} \\\n",
    "with maximum 9 modalities  \")\n",
    "print(f\"\\t\\t{len(cat_min10_var & scope_2017_2018_var_kept)} \\\n",
    "with more modalities ... excluded\")\n",
    "print(f\"\\t{len(quant_var & scope_2017_2018_var_kept)} \\\n",
    "variables are quantitative \")\n",
    "print(f\"\\t\\t{len(quant_var_kept)} have less than 200 missing values\")\n",
    "print(f\"\\t\\t{len(scope_quant_var)-len(quant_var_kept)} \\\n",
    "have more ... excluded\")\n",
    "\n",
    "scope = cat_var_kept | quant_var_kept\n",
    "df = cdv_ssfmt.loc[cdv_ssfmt['ANNEEFUZ'].isin({39,40}),scope]\n",
    "df.loc[:,cat_var_kept - {\"HEUREUX\"}] = cdv.loc[:,cat_var_kept - {\"HEUREUX\"}]\n",
    "print(f\"\\nFinal number of variable kept : {df.shape[1]}\")"
   ]
  },
  {
   "cell_type": "code",
   "execution_count": 6,
   "metadata": {},
   "outputs": [
    {
     "name": "stdout",
     "output_type": "stream",
     "text": [
      "225 columns out of which 164 are corresponding to categorial features\n"
     ]
    }
   ],
   "source": [
    "p = df.shape[1]\n",
    "print(f\"{p} columns out of which {len(cat_var_kept)-1} \\\n",
    "are corresponding to categorial features\")"
   ]
  },
  {
   "cell_type": "code",
   "execution_count": 7,
   "metadata": {
    "collapsed": true
   },
   "outputs": [],
   "source": [
    "df = pd.get_dummies(df, \n",
    "                    columns=cat_var_kept - {\"HEUREUX\"},\n",
    "                    dummy_na = True,\n",
    "                    drop_first=1)"
   ]
  },
  {
   "cell_type": "code",
   "execution_count": 8,
   "metadata": {},
   "outputs": [
    {
     "name": "stdout",
     "output_type": "stream",
     "text": [
      "645 columns after encoding of 164 categorial variables in 584 binary variables (K-1 one hot encoding)\n"
     ]
    }
   ],
   "source": [
    "q = df.shape[1]\n",
    "print(f\"{q} columns after encoding of {len(cat_var_kept)-1} categorial \\\n",
    "variables in {len(cat_var_kept)-1+q-p} binary variables \\\n",
    "(K-1 one hot encoding)\")"
   ]
  },
  {
   "cell_type": "code",
   "execution_count": 9,
   "metadata": {},
   "outputs": [
    {
     "name": "stdout",
     "output_type": "stream",
     "text": [
      "Number exemple: 5682\n",
      "- training set: 4545\n",
      "- test set: 1137\n",
      "Number of features: p=644\n",
      "Number of class: 4\n",
      "class 1 : 2.0%\n",
      "class 2 : 34.8%\n",
      "class 3 : 47.9%\n",
      "class 4 : 15.3%\n"
     ]
    }
   ],
   "source": [
    "# encoding of \"HEUREUX\" '[nsp]'\n",
    "df.loc[df[\"HEUREUX\"]==5,\"HEUREUX\"]= None\n",
    "df = df.loc[np.isfinite(df['HEUREUX']).index,:]\n",
    "\n",
    "\n",
    "# treating remaining missing values\n",
    "features = df.columns.drop(['HEUREUX'])\n",
    "df_tmp = df.loc[:,set(features) | {\"HEUREUX\"}].dropna()\n",
    "\n",
    "X = df_tmp.loc[:,features]\n",
    "y = df_tmp[\"HEUREUX\"]\n",
    "\n",
    "X_train, X_test, y_train, y_test = train_test_split(X, \n",
    "                                                    y, \n",
    "                                                    test_size=0.2, \n",
    "                                                    random_state=42\n",
    "                                                   )\n",
    "\n",
    "scaler = StandardScaler().fit(X_train)\n",
    "X_train = scaler.transform(X_train)\n",
    "X_test = scaler.transform(X_test)\n",
    "\n",
    "print(f\"Number exemple: {y.shape[0]}\\n\\\n",
    "- training set: {y_train.shape[0]}\\n\\\n",
    "- test set: {y_test.shape[0]}\")\n",
    "print(f\"Number of features: p={X_train.shape[1]}\")\n",
    "print(f\"Number of class: {len(np.unique(y))}\")\n",
    "for c in np.unique(y):\n",
    "    print(f\"class {c:0.0f} : {100*np.sum(y==c)/len(y):0.1f}%\")"
   ]
  },
  {
   "cell_type": "markdown",
   "metadata": {},
   "source": [
    "### II) Feature selection"
   ]
  },
  {
   "cell_type": "code",
   "execution_count": 10,
   "metadata": {},
   "outputs": [
    {
     "name": "stdout",
     "output_type": "stream",
     "text": [
      "done in 761.0 s\n",
      "Optimal number of features : 1\n"
     ]
    },
    {
     "data": {
      "image/png": "[encoded data removed]",
      "text/plain": [
       "<matplotlib.figure.Figure at 0x1a161a6668>"
      ]
     },
     "metadata": {},
     "output_type": "display_data"
    }
   ],
   "source": [
    "startTime = time.time()\n",
    "\n",
    "scoring='f1_micro' \n",
    "step = 0.1\n",
    "\n",
    "clf = LogisticRegression(C=1, \n",
    "                         penalty='l1', \n",
    "                         class_weight='balanced',\n",
    "                         random_state=42)\n",
    "\n",
    "rfecv = RFECV(estimator=clf, step=step, cv=StratifiedKFold(2),\n",
    "              scoring=scoring)\n",
    "\n",
    "rfecv.fit(X_train, y_train)\n",
    "print(f\"done in {time.time() - startTime:0.1f} s\")\n",
    "print(\"Optimal number of features : %d\" % rfecv.n_features_)\n",
    "\n",
    "# Plot number of features VS. cross-validation scores\n",
    "plt.figure()\n",
    "plt.xlabel(f\"Number of recurcive steps of {100*step:0.0f}% through {X_train.shape[1]} variables\")\n",
    "plt.ylabel(f\"Cross validation score \\n({scoring})\")\n",
    "plt.plot(range(1, len(rfecv.grid_scores_) + 1), rfecv.grid_scores_)\n",
    "plt.show()"
   ]
  },
  {
   "cell_type": "code",
   "execution_count": 11,
   "metadata": {},
   "outputs": [
    {
     "name": "stdout",
     "output_type": "stream",
     "text": [
      "Number of features: p=1\n"
     ]
    }
   ],
   "source": [
    "lasso_mask = rfecv.support_\n",
    "X_train = X_train[:,lasso_mask]\n",
    "X_test = X_test[:,lasso_mask]\n",
    "print(f\"Number of features: p={X_train.shape[1]}\")"
   ]
  },
  {
   "cell_type": "markdown",
   "metadata": {},
   "source": [
    "### III) Model valuation"
   ]
  },
  {
   "cell_type": "markdown",
   "metadata": {},
   "source": [
    "#### a) Random Forest"
   ]
  },
  {
   "cell_type": "code",
   "execution_count": 12,
   "metadata": {},
   "outputs": [
    {
     "name": "stdout",
     "output_type": "stream",
     "text": [
      "Determination of optimal hyperparameters in 83.5 s\n",
      "Optimal values are {'max_depth': 2, 'n_estimators': 16} \n",
      "F1 weighted Score of cross valdation 30.56%\n"
     ]
    }
   ],
   "source": [
    "startTime = time.time()\n",
    "n_estimators_range = [16,32,64,128,256]\n",
    "max_depth_range = [2,4,8,16,32,64,128,256] \n",
    "param_grid = dict(n_estimators=n_estimators_range, max_depth = max_depth_range)\n",
    "\n",
    "\n",
    "params = {'max_features' :'sqrt', \n",
    "          'random_state' : 32, \n",
    "          'min_samples_split' : 2, \n",
    "          'class_weight' : 'balanced'\n",
    "         }\n",
    "\n",
    "clf = RandomForestClassifier(**params)\n",
    "\n",
    "grid = GridSearchCV(clf, \n",
    "                    scoring='f1_micro', \n",
    "                    param_grid=param_grid)\n",
    "\n",
    "grid.fit(X_train, y_train)\n",
    "print(f\"Determination of optimal hyperparameters in \\\n",
    "{time.time() - startTime:0.1f} s\")\n",
    "print(f\"Optimal values are {grid.best_params_} \\n\\\n",
    "F1 weighted Score of cross valdation {100*grid.best_score_:0.2f}%\")\n",
    "\n",
    "# Learning on full training set with optimals hyperparameters and score on test set\n",
    "params = {'max_features' :'sqrt', 'random_state' : 32, \n",
    "          'min_samples_split' : 2, 'class_weight' : 'balanced',\n",
    "          'n_estimators' : grid.best_params_['n_estimators'],\n",
    "          'max_depth' : grid.best_params_['max_depth']}\n",
    "clf = RandomForestClassifier(**params).fit(X_train, y_train)"
   ]
  },
  {
   "cell_type": "code",
   "execution_count": 13,
   "metadata": {
    "collapsed": true
   },
   "outputs": [],
   "source": [
    "def plot_confusion_matrix(cm, classes,\n",
    "                          normalize=False,\n",
    "                          title='Confusion matrix',\n",
    "                          cmap=plt.cm.Blues):\n",
    "    \"\"\"\n",
    "    This function prints and plots the confusion matrix.\n",
    "    Normalization can be applied by setting `normalize=True`.\n",
    "    \"\"\"\n",
    "    if normalize:\n",
    "        cm = cm.astype('float') / cm.sum(axis=1)[:, np.newaxis]\n",
    "        print(\"Normalized confusion matrix\")\n",
    "    else:\n",
    "        print('Confusion matrix, without normalization')\n",
    "\n",
    "    print(cm)\n",
    "\n",
    "    plt.imshow(cm, interpolation='nearest', cmap=cmap)\n",
    "    plt.title(title)\n",
    "    plt.colorbar()\n",
    "    tick_marks = np.arange(len(classes))\n",
    "    plt.xticks(tick_marks, classes, rotation=45)\n",
    "    plt.yticks(tick_marks, classes)\n",
    "\n",
    "    fmt = '.2f' if normalize else 'd'\n",
    "    thresh = cm.max() / 2.\n",
    "    for i, j in itertools.product(range(cm.shape[0]), range(cm.shape[1])):\n",
    "        plt.text(j, i, format(cm[i, j], fmt),\n",
    "                 horizontalalignment=\"center\",\n",
    "                 color=\"white\" if cm[i, j] > thresh else \"black\")\n",
    "\n",
    "    plt.tight_layout()\n",
    "    plt.ylabel('True label')\n",
    "    plt.xlabel('Predicted label')"
   ]
  },
  {
   "cell_type": "code",
   "execution_count": 15,
   "metadata": {},
   "outputs": [
    {
     "name": "stderr",
     "output_type": "stream",
     "text": [
      "//anaconda/envs/py36/lib/python3.6/site-packages/sklearn/metrics/classification.py:1135: UndefinedMetricWarning: F-score is ill-defined and being set to 0.0 in labels with no predicted samples.\n",
      "  'precision', 'predicted', average, warn_for)\n"
     ]
    },
    {
     "name": "stdout",
     "output_type": "stream",
     "text": [
      "f1 score class 'Jamais' : 8.3%\n",
      "f1 score class 'Occasionnellement' : 0.0%\n",
      "f1 score class 'Assez souvent' : 49.1%\n",
      "f1 score class 'Très souvent' : 25.9%\n",
      "Average scores :\n",
      "f1 macro : 20.8299 %\n",
      "f1 weighted : 27.6477 %\n",
      "acurracy : 30.5189 %\n",
      "Confusion matrix, without normalization\n",
      "[[ 11   0   8   9]\n",
      " [ 93   0 195  97]\n",
      " [ 94   0 266 176]\n",
      " [ 40   0  78  70]]\n",
      "Normalized confusion matrix\n",
      "[[ 0.39  0.    0.29  0.32]\n",
      " [ 0.24  0.    0.51  0.25]\n",
      " [ 0.18  0.    0.5   0.33]\n",
      " [ 0.21  0.    0.41  0.37]]\n"
     ]
    },
    {
     "data": {
      "image/png": "[encoded data removed]",
      "text/plain": [
       "<matplotlib.figure.Figure at 0x1a164f0588>"
      ]
     },
     "metadata": {},
     "output_type": "display_data"
    },
    {
     "data": {
      "image/png": "[encoded data removed]",
      "text/plain": [
       "<matplotlib.figure.Figure at 0x112a3beb8>"
      ]
     },
     "metadata": {},
     "output_type": "display_data"
    }
   ],
   "source": [
    "# Model evaluation\n",
    "class_names = [\"Jamais\",\n",
    "               \"Occasionnellement\",\n",
    "               \"Assez souvent\",\n",
    "               \"Très souvent\" ]\n",
    "y_test_pred = clf.predict(X_test)\n",
    "f1_scores = f1_score(y_test, y_test_pred, labels = [1,2,3,4], average=None)\n",
    "for i,c in enumerate(class_names):\n",
    "    print(f\"f1 score class '{c}' : {100*f1_scores[i]:0.1f}%\")\n",
    "acurracy = clf.score(X_test, y_test)\n",
    "f1_macro = f1_score(y_test, y_test_pred, average='macro')\n",
    "f1_weighted = f1_score(y_test, y_test_pred, average='weighted')\n",
    "print(f\"Average scores :\\nf1 macro : {f1_macro*100:0.4f} %\\n\\\n",
    "f1 weighted : {f1_weighted*100:0.4f} %\\nacurracy : {acurracy*100:0.4f} %\")\n",
    "\n",
    "# Compute confusion matrix\n",
    "cnf_matrix = confusion_matrix(y_test, y_test_pred)\n",
    "np.set_printoptions(precision=2)\n",
    "\n",
    "# Plot non-normalized confusion matrix\n",
    "plt.figure()\n",
    "plot_confusion_matrix(cnf_matrix, classes=class_names,\n",
    "                      title='Confusion matrix, without normalization')\n",
    "\n",
    "# Plot normalized confusion matrix\n",
    "plt.figure()\n",
    "plot_confusion_matrix(cnf_matrix, classes=class_names, normalize=True,\n",
    "                      title='Normalized confusion matrix')\n",
    "\n",
    "plt.show()"
   ]
  },
  {
   "cell_type": "markdown",
   "metadata": {},
   "source": [
    "#### b) Support Vector Machine with gausian kernel"
   ]
  },
  {
   "cell_type": "code",
   "execution_count": 16,
   "metadata": {},
   "outputs": [
    {
     "name": "stdout",
     "output_type": "stream",
     "text": [
      "Determination of optimal hyperparameters in 59.7 s\n",
      "Optimal values are {'C': 0.21544346900318834, 'gamma': 0.0001} \n",
      "Accuracy of cross valdation 43.76%\n"
     ]
    }
   ],
   "source": [
    "startTime = time.time()\n",
    "\n",
    "nb_value = 4\n",
    "C_log = np.logspace(-2,2,nb_value)\n",
    "gamma_log = np.logspace(-4,0, nb_value)\n",
    "param_grid = dict(C=C_log, gamma=gamma_log)\n",
    "\n",
    "params = { 'kernel' :'rbf', 'class_weight' : 'balanced'}\n",
    "\n",
    "clf = SVC(**params)\n",
    "grid = GridSearchCV(clf, scoring='f1_micro', param_grid=param_grid)\n",
    "grid.fit(X_train, y_train)\n",
    "print(f\"Determination of optimal hyperparameters in {time.time() - startTime:0.1f} s\")\n",
    "print(f\"Optimal values are {grid.best_params_} \\nAccuracy of cross valdation {100*grid.best_score_:0.2f}%\")\n",
    "\n",
    "# Learning on full training set with optimals hyperparameters and score on test set\n",
    "params = {'kernel' :'rbf',\n",
    "          'C' : grid.best_params_['C'], \n",
    "          \"gamma\" : grid.best_params_['gamma'],\n",
    "          'class_weight' : 'balanced'}\n",
    "clf = SVC(**params).fit(X_train, y_train)\n",
    "y_test_pred = clf.predict(X_test)"
   ]
  },
  {
   "cell_type": "code",
   "execution_count": 17,
   "metadata": {},
   "outputs": [
    {
     "name": "stderr",
     "output_type": "stream",
     "text": [
      "//anaconda/envs/py36/lib/python3.6/site-packages/sklearn/metrics/classification.py:1135: UndefinedMetricWarning: F-score is ill-defined and being set to 0.0 in labels with no predicted samples.\n",
      "  'precision', 'predicted', average, warn_for)\n"
     ]
    },
    {
     "name": "stdout",
     "output_type": "stream",
     "text": [
      "f1 score class 'Jamais' : 0.0%\n",
      "f1 score class 'Occasionnellement' : 0.0%\n",
      "f1 score class 'Assez souvent' : 0.0%\n",
      "f1 score class 'Très souvent' : 28.4%\n",
      "Average scores :\n",
      "f1 macro : 7.0943 %\n",
      "f1 weighted : 4.6921 %\n",
      "acurracy : 16.5347 %\n",
      "Confusion matrix, without normalization\n",
      "[[  0   0   0  28]\n",
      " [  0   0   0 385]\n",
      " [  0   0   0 536]\n",
      " [  0   0   0 188]]\n",
      "Normalized confusion matrix\n",
      "[[ 0.  0.  0.  1.]\n",
      " [ 0.  0.  0.  1.]\n",
      " [ 0.  0.  0.  1.]\n",
      " [ 0.  0.  0.  1.]]\n"
     ]
    },
    {
     "data": {
      "image/png": "[encoded data removed]",
      "text/plain": [
       "<matplotlib.figure.Figure at 0x1a162f47b8>"
      ]
     },
     "metadata": {},
     "output_type": "display_data"
    },
    {
     "data": {
      "image/png": "[encoded data removed]",
      "text/plain": [
       "<matplotlib.figure.Figure at 0x10dc3f160>"
      ]
     },
     "metadata": {},
     "output_type": "display_data"
    }
   ],
   "source": [
    "# Model evaluation\n",
    "class_names = [\"Jamais\",\n",
    "               \"Occasionnellement\",\n",
    "               \"Assez souvent\",\n",
    "               \"Très souvent\" ]\n",
    "f1_scores = f1_score(y_test, y_test_pred, labels = [1,2,3,4], average=None)\n",
    "for i,c in enumerate(class_names):\n",
    "    print(f\"f1 score class '{c}' : {100*f1_scores[i]:0.1f}%\")\n",
    "acurracy = clf.score(X_test, y_test)\n",
    "f1_macro = f1_score(y_test, y_test_pred, average='macro')\n",
    "f1_weighted = f1_score(y_test, y_test_pred, average='weighted')\n",
    "print(f\"Average scores :\\nf1 macro : {f1_macro*100:0.4f} %\\n\\\n",
    "f1 weighted : {f1_weighted*100:0.4f} %\\nacurracy : {acurracy*100:0.4f} %\")\n",
    "\n",
    "# Compute confusion matrix\n",
    "cnf_matrix = confusion_matrix(y_test, y_test_pred)\n",
    "np.set_printoptions(precision=2)\n",
    "\n",
    "# Plot non-normalized confusion matrix\n",
    "plt.figure()\n",
    "plot_confusion_matrix(cnf_matrix, classes=class_names,\n",
    "                      title='Confusion matrix, without normalization')\n",
    "\n",
    "# Plot normalized confusion matrix\n",
    "plt.figure()\n",
    "plot_confusion_matrix(cnf_matrix, classes=class_names, normalize=True,\n",
    "                      title='Normalized confusion matrix')\n",
    "\n",
    "plt.show()"
   ]
  },
  {
   "cell_type": "markdown",
   "metadata": {},
   "source": [
    "### IV) Load, learn and valuate model on clusters"
   ]
  },
  {
   "cell_type": "code",
   "execution_count": 18,
   "metadata": {
    "collapsed": true
   },
   "outputs": [],
   "source": [
    "# loading cdv data\n",
    "file = path_data / Path(\"clustTest1.csv\")\n",
    "with Path.open(file, 'rb') as fp:\n",
    "    clustTest1 = pd.read_csv(fp,  encoding='utf-8',low_memory=False, sep=\";\", index_col = 0)"
   ]
  },
  {
   "cell_type": "code",
   "execution_count": 19,
   "metadata": {},
   "outputs": [
    {
     "data": {
      "text/html": [
       "<div>\n",
       "<style>\n",
       "    .dataframe thead tr:only-child th {\n",
       "        text-align: right;\n",
       "    }\n",
       "\n",
       "    .dataframe thead th {\n",
       "        text-align: left;\n",
       "    }\n",
       "\n",
       "    .dataframe tbody tr th {\n",
       "        vertical-align: top;\n",
       "    }\n",
       "</style>\n",
       "<table border=\"1\" class=\"dataframe\">\n",
       "  <thead>\n",
       "    <tr style=\"text-align: right;\">\n",
       "      <th></th>\n",
       "      <th>clust1</th>\n",
       "      <th>clust2</th>\n",
       "      <th>clust3</th>\n",
       "      <th>clust4</th>\n",
       "      <th>clust5</th>\n",
       "    </tr>\n",
       "    <tr>\n",
       "      <th>INTER6</th>\n",
       "      <th></th>\n",
       "      <th></th>\n",
       "      <th></th>\n",
       "      <th></th>\n",
       "      <th></th>\n",
       "    </tr>\n",
       "  </thead>\n",
       "  <tbody>\n",
       "    <tr>\n",
       "      <th>390001</th>\n",
       "      <td>1</td>\n",
       "      <td>4</td>\n",
       "      <td>5</td>\n",
       "      <td>1.0</td>\n",
       "      <td>2.0</td>\n",
       "    </tr>\n",
       "    <tr>\n",
       "      <th>390002</th>\n",
       "      <td>2</td>\n",
       "      <td>6</td>\n",
       "      <td>4</td>\n",
       "      <td>7.0</td>\n",
       "      <td>5.0</td>\n",
       "    </tr>\n",
       "    <tr>\n",
       "      <th>390003</th>\n",
       "      <td>2</td>\n",
       "      <td>5</td>\n",
       "      <td>4</td>\n",
       "      <td>3.0</td>\n",
       "      <td>2.0</td>\n",
       "    </tr>\n",
       "    <tr>\n",
       "      <th>390004</th>\n",
       "      <td>3</td>\n",
       "      <td>6</td>\n",
       "      <td>5</td>\n",
       "      <td>7.0</td>\n",
       "      <td>5.0</td>\n",
       "    </tr>\n",
       "    <tr>\n",
       "      <th>390005</th>\n",
       "      <td>3</td>\n",
       "      <td>1</td>\n",
       "      <td>1</td>\n",
       "      <td>4.0</td>\n",
       "      <td>1.0</td>\n",
       "    </tr>\n",
       "  </tbody>\n",
       "</table>\n",
       "</div>"
      ],
      "text/plain": [
       "        clust1  clust2  clust3  clust4  clust5\n",
       "INTER6                                        \n",
       "390001       1       4       5     1.0     2.0\n",
       "390002       2       6       4     7.0     5.0\n",
       "390003       2       5       4     3.0     2.0\n",
       "390004       3       6       5     7.0     5.0\n",
       "390005       3       1       1     4.0     1.0"
      ]
     },
     "execution_count": 19,
     "metadata": {},
     "output_type": "execute_result"
    }
   ],
   "source": [
    "clustTest1.head()"
   ]
  },
  {
   "cell_type": "code",
   "execution_count": 26,
   "metadata": {},
   "outputs": [
    {
     "name": "stdout",
     "output_type": "stream",
     "text": [
      "\n",
      "Analysis cluster method clust1\n",
      "liste of clusters : [1 2 3 4 5 6]\n",
      "cluster 1 : 295 elements\n",
      "Number exemple: 292\n",
      "        - training set: 233\n",
      "        - test set: 59\n",
      "Number of features: p=1\n",
      "Number of class: 4\n",
      "class 1 : 5.1%\n",
      "class 2 : 41.1%\n",
      "class 3 : 39.0%\n",
      "class 4 : 14.7%\n",
      "Determination of optimal hyperparameters in         10.4 s\n",
      "Optimal values are {'max_depth': 2, 'n_estimators': 32} \n",
      "        F1 weighted Score of cross valdation 24.89%\n",
      "cluster 2 : 1729 elements\n",
      "Number exemple: 1725\n",
      "        - training set: 1380\n",
      "        - test set: 345\n",
      "Number of features: p=1\n",
      "Number of class: 4\n",
      "class 1 : 2.3%\n",
      "class 2 : 37.9%\n",
      "class 3 : 46.8%\n",
      "class 4 : 13.0%\n"
     ]
    },
    {
     "name": "stderr",
     "output_type": "stream",
     "text": [
      "//anaconda/envs/py36/lib/python3.6/site-packages/sklearn/metrics/classification.py:1135: UndefinedMetricWarning: F-score is ill-defined and being set to 0.0 in labels with no predicted samples.\n",
      "  'precision', 'predicted', average, warn_for)\n"
     ]
    },
    {
     "name": "stdout",
     "output_type": "stream",
     "text": [
      "Determination of optimal hyperparameters in         11.2 s\n",
      "Optimal values are {'max_depth': 2, 'n_estimators': 32} \n",
      "        F1 weighted Score of cross valdation 26.45%\n",
      "cluster 3 : 3633 elements\n",
      "Number exemple: 3586\n",
      "        - training set: 2868\n",
      "        - test set: 718\n",
      "Number of features: p=1\n",
      "Number of class: 4\n",
      "class 1 : 1.6%\n",
      "class 2 : 33.0%\n",
      "class 3 : 49.2%\n",
      "class 4 : 16.1%\n"
     ]
    },
    {
     "name": "stderr",
     "output_type": "stream",
     "text": [
      "//anaconda/envs/py36/lib/python3.6/site-packages/sklearn/metrics/classification.py:1135: UndefinedMetricWarning: F-score is ill-defined and being set to 0.0 in labels with no predicted samples.\n",
      "  'precision', 'predicted', average, warn_for)\n"
     ]
    },
    {
     "name": "stdout",
     "output_type": "stream",
     "text": [
      "Determination of optimal hyperparameters in         12.7 s\n",
      "Optimal values are {'max_depth': 4, 'n_estimators': 16} \n",
      "        F1 weighted Score of cross valdation 31.94%\n",
      "cluster 4 : 218 elements\n",
      "Number exemple: 217\n",
      "        - training set: 173\n",
      "        - test set: 44\n",
      "Number of features: p=1\n",
      "Number of class: 4\n",
      "class 1 : 0.9%\n",
      "class 2 : 27.2%\n",
      "class 3 : 49.8%\n",
      "class 4 : 22.1%\n"
     ]
    },
    {
     "name": "stderr",
     "output_type": "stream",
     "text": [
      "//anaconda/envs/py36/lib/python3.6/site-packages/sklearn/metrics/classification.py:1135: UndefinedMetricWarning: F-score is ill-defined and being set to 0.0 in labels with no predicted samples.\n",
      "  'precision', 'predicted', average, warn_for)\n",
      "//anaconda/envs/py36/lib/python3.6/site-packages/sklearn/model_selection/_split.py:605: Warning: The least populated class in y has only 2 members, which is too few. The minimum number of members in any class cannot be less than n_splits=3.\n",
      "  % (min_groups, self.n_splits)), Warning)\n"
     ]
    },
    {
     "name": "stdout",
     "output_type": "stream",
     "text": [
      "Determination of optimal hyperparameters in         10.1 s\n",
      "Optimal values are {'max_depth': 2, 'n_estimators': 16} \n",
      "        F1 weighted Score of cross valdation 38.15%\n",
      "cluster 5 : 137 elements\n",
      "Number exemple: 137\n",
      "        - training set: 109\n",
      "        - test set: 28\n",
      "Number of features: p=1\n",
      "Number of class: 4\n",
      "class 1 : 2.9%\n",
      "class 2 : 38.7%\n",
      "class 3 : 43.8%\n",
      "class 4 : 14.6%\n"
     ]
    },
    {
     "name": "stderr",
     "output_type": "stream",
     "text": [
      "//anaconda/envs/py36/lib/python3.6/site-packages/sklearn/metrics/classification.py:1135: UndefinedMetricWarning: F-score is ill-defined and being set to 0.0 in labels with no predicted samples.\n",
      "  'precision', 'predicted', average, warn_for)\n",
      "//anaconda/envs/py36/lib/python3.6/site-packages/sklearn/metrics/classification.py:1137: UndefinedMetricWarning: F-score is ill-defined and being set to 0.0 in labels with no true samples.\n",
      "  'recall', 'true', average, warn_for)\n",
      "//anaconda/envs/py36/lib/python3.6/site-packages/sklearn/model_selection/_split.py:605: Warning: The least populated class in y has only 2 members, which is too few. The minimum number of members in any class cannot be less than n_splits=3.\n",
      "  % (min_groups, self.n_splits)), Warning)\n"
     ]
    },
    {
     "name": "stdout",
     "output_type": "stream",
     "text": [
      "Determination of optimal hyperparameters in         9.7 s\n",
      "Optimal values are {'max_depth': 2, 'n_estimators': 16} \n",
      "        F1 weighted Score of cross valdation 22.94%\n",
      "cluster 6 : 24 elements\n",
      "Number exemple: 24\n",
      "        - training set: 19\n",
      "        - test set: 5\n",
      "Number of features: p=1\n",
      "Number of class: 4\n",
      "class 1 : 4.2%\n",
      "class 2 : 45.8%\n",
      "class 3 : 29.2%\n",
      "class 4 : 20.8%\n"
     ]
    },
    {
     "name": "stderr",
     "output_type": "stream",
     "text": [
      "//anaconda/envs/py36/lib/python3.6/site-packages/sklearn/metrics/classification.py:1135: UndefinedMetricWarning: F-score is ill-defined and being set to 0.0 in labels with no predicted samples.\n",
      "  'precision', 'predicted', average, warn_for)\n"
     ]
    },
    {
     "name": "stdout",
     "output_type": "stream",
     "text": [
      "Determination of optimal hyperparameters in         10.1 s\n",
      "Optimal values are {'max_depth': 2, 'n_estimators': 16} \n",
      "        F1 weighted Score of cross valdation 21.05%\n",
      "\n",
      "Analysis cluster method clust2\n",
      "liste of clusters : [4 6 5 1 3 2 7]\n",
      "cluster 4 : 212 elements\n",
      "Number exemple: 211\n",
      "        - training set: 168\n",
      "        - test set: 43\n",
      "Number of features: p=1\n",
      "Number of class: 4\n",
      "class 1 : 8.1%\n",
      "class 2 : 42.7%\n",
      "class 3 : 32.2%\n",
      "class 4 : 17.1%\n"
     ]
    },
    {
     "name": "stderr",
     "output_type": "stream",
     "text": [
      "//anaconda/envs/py36/lib/python3.6/site-packages/sklearn/metrics/classification.py:1135: UndefinedMetricWarning: F-score is ill-defined and being set to 0.0 in labels with no predicted samples.\n",
      "  'precision', 'predicted', average, warn_for)\n",
      "//anaconda/envs/py36/lib/python3.6/site-packages/sklearn/metrics/classification.py:1137: UndefinedMetricWarning: F-score is ill-defined and being set to 0.0 in labels with no true samples.\n",
      "  'recall', 'true', average, warn_for)\n"
     ]
    },
    {
     "name": "stdout",
     "output_type": "stream",
     "text": [
      "Determination of optimal hyperparameters in         10.5 s\n",
      "Optimal values are {'max_depth': 2, 'n_estimators': 32} \n",
      "        F1 weighted Score of cross valdation 38.10%\n",
      "cluster 6 : 1137 elements\n",
      "Number exemple: 1132\n",
      "        - training set: 905\n",
      "        - test set: 227\n",
      "Number of features: p=1\n",
      "Number of class: 4\n",
      "class 1 : 1.8%\n",
      "class 2 : 33.3%\n",
      "class 3 : 48.2%\n",
      "class 4 : 16.7%\n"
     ]
    },
    {
     "name": "stderr",
     "output_type": "stream",
     "text": [
      "//anaconda/envs/py36/lib/python3.6/site-packages/sklearn/metrics/classification.py:1135: UndefinedMetricWarning: F-score is ill-defined and being set to 0.0 in labels with no predicted samples.\n",
      "  'precision', 'predicted', average, warn_for)\n"
     ]
    },
    {
     "name": "stdout",
     "output_type": "stream",
     "text": [
      "Determination of optimal hyperparameters in         11.5 s\n",
      "Optimal values are {'max_depth': 4, 'n_estimators': 16} \n",
      "        F1 weighted Score of cross valdation 24.64%\n",
      "cluster 5 : 750 elements\n",
      "Number exemple: 749\n",
      "        - training set: 599\n",
      "        - test set: 150\n",
      "Number of features: p=1\n",
      "Number of class: 4\n",
      "class 1 : 1.5%\n",
      "class 2 : 32.7%\n",
      "class 3 : 48.7%\n",
      "class 4 : 17.1%\n",
      "Determination of optimal hyperparameters in         10.4 s\n",
      "Optimal values are {'max_depth': 2, 'n_estimators': 16} \n",
      "        F1 weighted Score of cross valdation 27.55%\n",
      "cluster 1 : 1257 elements\n",
      "Number exemple: 1218\n",
      "        - training set: 974\n",
      "        - test set: 244\n",
      "Number of features: p=1\n",
      "Number of class: 4\n",
      "class 1 : 2.1%\n",
      "class 2 : 37.6%\n",
      "class 3 : 47.0%\n",
      "class 4 : 13.4%\n"
     ]
    },
    {
     "name": "stderr",
     "output_type": "stream",
     "text": [
      "//anaconda/envs/py36/lib/python3.6/site-packages/sklearn/metrics/classification.py:1135: UndefinedMetricWarning: F-score is ill-defined and being set to 0.0 in labels with no predicted samples.\n",
      "  'precision', 'predicted', average, warn_for)\n"
     ]
    },
    {
     "name": "stdout",
     "output_type": "stream",
     "text": [
      "Determination of optimal hyperparameters in         11.2 s\n",
      "Optimal values are {'max_depth': 2, 'n_estimators': 16} \n",
      "        F1 weighted Score of cross valdation 25.56%\n",
      "cluster 3 : 1254 elements\n",
      "Number exemple: 1248\n",
      "        - training set: 998\n",
      "        - test set: 250\n",
      "Number of features: p=1\n",
      "Number of class: 4\n",
      "class 1 : 1.2%\n",
      "class 2 : 31.7%\n",
      "class 3 : 52.6%\n",
      "class 4 : 14.6%\n"
     ]
    },
    {
     "name": "stderr",
     "output_type": "stream",
     "text": [
      "//anaconda/envs/py36/lib/python3.6/site-packages/sklearn/metrics/classification.py:1135: UndefinedMetricWarning: F-score is ill-defined and being set to 0.0 in labels with no predicted samples.\n",
      "  'precision', 'predicted', average, warn_for)\n"
     ]
    },
    {
     "name": "stdout",
     "output_type": "stream",
     "text": [
      "Determination of optimal hyperparameters in         11.5 s\n",
      "Optimal values are {'max_depth': 2, 'n_estimators': 16} \n",
      "        F1 weighted Score of cross valdation 24.45%\n",
      "cluster 2 : 857 elements\n",
      "Number exemple: 855\n",
      "        - training set: 684\n",
      "        - test set: 171\n",
      "Number of features: p=1\n",
      "Number of class: 4\n",
      "class 1 : 1.6%\n",
      "class 2 : 31.7%\n",
      "class 3 : 49.5%\n",
      "class 4 : 17.2%\n"
     ]
    },
    {
     "name": "stderr",
     "output_type": "stream",
     "text": [
      "//anaconda/envs/py36/lib/python3.6/site-packages/sklearn/metrics/classification.py:1135: UndefinedMetricWarning: F-score is ill-defined and being set to 0.0 in labels with no predicted samples.\n",
      "  'precision', 'predicted', average, warn_for)\n",
      "//anaconda/envs/py36/lib/python3.6/site-packages/sklearn/metrics/classification.py:1137: UndefinedMetricWarning: F-score is ill-defined and being set to 0.0 in labels with no true samples.\n",
      "  'recall', 'true', average, warn_for)\n"
     ]
    },
    {
     "name": "stdout",
     "output_type": "stream",
     "text": [
      "Determination of optimal hyperparameters in         10.9 s\n",
      "Optimal values are {'max_depth': 2, 'n_estimators': 16} \n",
      "        F1 weighted Score of cross valdation 35.96%\n",
      "cluster 7 : 569 elements\n",
      "Number exemple: 568\n",
      "        - training set: 454\n",
      "        - test set: 114\n",
      "Number of features: p=1\n",
      "Number of class: 4\n",
      "class 1 : 2.8%\n",
      "class 2 : 43.0%\n",
      "class 3 : 41.0%\n",
      "class 4 : 13.2%\n"
     ]
    },
    {
     "name": "stderr",
     "output_type": "stream",
     "text": [
      "//anaconda/envs/py36/lib/python3.6/site-packages/sklearn/metrics/classification.py:1135: UndefinedMetricWarning: F-score is ill-defined and being set to 0.0 in labels with no predicted samples.\n",
      "  'precision', 'predicted', average, warn_for)\n"
     ]
    },
    {
     "name": "stdout",
     "output_type": "stream",
     "text": [
      "Determination of optimal hyperparameters in         10.9 s\n",
      "Optimal values are {'max_depth': 2, 'n_estimators': 32} \n",
      "        F1 weighted Score of cross valdation 26.87%\n",
      "\n",
      "Analysis cluster method clust3\n",
      "liste of clusters : [5 4 1 2 3]\n",
      "cluster 5 : 373 elements\n",
      "Number exemple: 373\n",
      "        - training set: 298\n",
      "        - test set: 75\n",
      "Number of features: p=1\n",
      "Number of class: 4\n",
      "class 1 : 4.3%\n",
      "class 2 : 41.6%\n",
      "class 3 : 37.5%\n",
      "class 4 : 16.6%\n"
     ]
    },
    {
     "name": "stderr",
     "output_type": "stream",
     "text": [
      "//anaconda/envs/py36/lib/python3.6/site-packages/sklearn/metrics/classification.py:1135: UndefinedMetricWarning: F-score is ill-defined and being set to 0.0 in labels with no predicted samples.\n",
      "  'precision', 'predicted', average, warn_for)\n"
     ]
    },
    {
     "name": "stdout",
     "output_type": "stream",
     "text": [
      "Determination of optimal hyperparameters in         10.6 s\n",
      "Optimal values are {'max_depth': 2, 'n_estimators': 16} \n",
      "        F1 weighted Score of cross valdation 22.82%\n",
      "cluster 4 : 2682 elements\n",
      "Number exemple: 2674\n",
      "        - training set: 2139\n",
      "        - test set: 535\n",
      "Number of features: p=1\n",
      "Number of class: 4\n",
      "class 1 : 1.4%\n",
      "class 2 : 34.3%\n",
      "class 3 : 49.0%\n",
      "class 4 : 15.3%\n"
     ]
    },
    {
     "name": "stderr",
     "output_type": "stream",
     "text": [
      "//anaconda/envs/py36/lib/python3.6/site-packages/sklearn/metrics/classification.py:1135: UndefinedMetricWarning: F-score is ill-defined and being set to 0.0 in labels with no predicted samples.\n",
      "  'precision', 'predicted', average, warn_for)\n"
     ]
    },
    {
     "name": "stdout",
     "output_type": "stream",
     "text": [
      "Determination of optimal hyperparameters in         17.5 s\n",
      "Optimal values are {'max_depth': 2, 'n_estimators': 16} \n",
      "        F1 weighted Score of cross valdation 32.68%\n",
      "cluster 1 : 1593 elements\n",
      "Number exemple: 1553\n",
      "        - training set: 1242\n",
      "        - test set: 311\n",
      "Number of features: p=1\n",
      "Number of class: 4\n",
      "class 1 : 2.2%\n",
      "class 2 : 34.9%\n",
      "class 3 : 48.4%\n",
      "class 4 : 14.5%\n"
     ]
    },
    {
     "name": "stderr",
     "output_type": "stream",
     "text": [
      "//anaconda/envs/py36/lib/python3.6/site-packages/sklearn/metrics/classification.py:1135: UndefinedMetricWarning: F-score is ill-defined and being set to 0.0 in labels with no predicted samples.\n",
      "  'precision', 'predicted', average, warn_for)\n"
     ]
    },
    {
     "name": "stdout",
     "output_type": "stream",
     "text": [
      "Determination of optimal hyperparameters in         20.0 s\n",
      "Optimal values are {'max_depth': 2, 'n_estimators': 16} \n",
      "        F1 weighted Score of cross valdation 37.04%\n",
      "cluster 2 : 1246 elements\n",
      "Number exemple: 1240\n",
      "        - training set: 992\n",
      "        - test set: 248\n",
      "Number of features: p=1\n",
      "Number of class: 4\n",
      "class 1 : 1.8%\n",
      "class 2 : 33.0%\n",
      "class 3 : 48.6%\n",
      "class 4 : 16.6%\n"
     ]
    },
    {
     "name": "stderr",
     "output_type": "stream",
     "text": [
      "//anaconda/envs/py36/lib/python3.6/site-packages/sklearn/metrics/classification.py:1135: UndefinedMetricWarning: F-score is ill-defined and being set to 0.0 in labels with no predicted samples.\n",
      "  'precision', 'predicted', average, warn_for)\n"
     ]
    },
    {
     "name": "stdout",
     "output_type": "stream",
     "text": [
      "Determination of optimal hyperparameters in         19.4 s\n",
      "Optimal values are {'max_depth': 2, 'n_estimators': 16} \n",
      "        F1 weighted Score of cross valdation 25.10%\n",
      "cluster 3 : 142 elements\n",
      "Number exemple: 141\n",
      "        - training set: 112\n",
      "        - test set: 29\n",
      "Number of features: p=1\n",
      "Number of class: 4\n",
      "class 1 : 5.7%\n",
      "class 2 : 40.4%\n",
      "class 3 : 41.1%\n",
      "class 4 : 12.8%\n"
     ]
    },
    {
     "name": "stderr",
     "output_type": "stream",
     "text": [
      "//anaconda/envs/py36/lib/python3.6/site-packages/sklearn/metrics/classification.py:1135: UndefinedMetricWarning: F-score is ill-defined and being set to 0.0 in labels with no predicted samples.\n",
      "  'precision', 'predicted', average, warn_for)\n"
     ]
    },
    {
     "name": "stdout",
     "output_type": "stream",
     "text": [
      "Determination of optimal hyperparameters in         15.2 s\n",
      "Optimal values are {'max_depth': 2, 'n_estimators': 16} \n",
      "        F1 weighted Score of cross valdation 22.32%\n",
      "\n",
      "Analysis cluster method clust4\n",
      "liste of clusters : [  1.   7.   3.   4.   5.   2.  nan   6.]\n",
      "cluster 1.0 : 556 elements\n",
      "Number exemple: 556\n",
      "        - training set: 444\n",
      "        - test set: 112\n",
      "Number of features: p=1\n",
      "Number of class: 4\n",
      "class 1 : 3.2%\n",
      "class 2 : 21.8%\n",
      "class 3 : 44.8%\n",
      "class 4 : 30.2%\n"
     ]
    },
    {
     "name": "stderr",
     "output_type": "stream",
     "text": [
      "//anaconda/envs/py36/lib/python3.6/site-packages/sklearn/metrics/classification.py:1135: UndefinedMetricWarning: F-score is ill-defined and being set to 0.0 in labels with no predicted samples.\n",
      "  'precision', 'predicted', average, warn_for)\n"
     ]
    },
    {
     "name": "stdout",
     "output_type": "stream",
     "text": [
      "Determination of optimal hyperparameters in         18.2 s\n",
      "Optimal values are {'max_depth': 2, 'n_estimators': 16} \n",
      "        F1 weighted Score of cross valdation 15.77%\n",
      "cluster 7.0 : 786 elements\n",
      "Number exemple: 786\n",
      "        - training set: 628\n",
      "        - test set: 158\n",
      "Number of features: p=1\n",
      "Number of class: 4\n",
      "class 1 : 2.8%\n",
      "class 2 : 45.9%\n",
      "class 3 : 43.3%\n",
      "class 4 : 8.0%\n"
     ]
    },
    {
     "name": "stderr",
     "output_type": "stream",
     "text": [
      "//anaconda/envs/py36/lib/python3.6/site-packages/sklearn/metrics/classification.py:1135: UndefinedMetricWarning: F-score is ill-defined and being set to 0.0 in labels with no predicted samples.\n",
      "  'precision', 'predicted', average, warn_for)\n"
     ]
    },
    {
     "name": "stdout",
     "output_type": "stream",
     "text": [
      "Determination of optimal hyperparameters in         17.4 s\n",
      "Optimal values are {'max_depth': 2, 'n_estimators': 16} \n",
      "        F1 weighted Score of cross valdation 9.24%\n",
      "cluster 3.0 : 775 elements\n",
      "Number exemple: 774\n",
      "        - training set: 619\n",
      "        - test set: 155\n",
      "Number of features: p=1\n",
      "Number of class: 4\n",
      "class 1 : 0.6%\n",
      "class 2 : 27.1%\n",
      "class 3 : 52.1%\n",
      "class 4 : 20.2%\n"
     ]
    },
    {
     "name": "stderr",
     "output_type": "stream",
     "text": [
      "//anaconda/envs/py36/lib/python3.6/site-packages/sklearn/metrics/classification.py:1135: UndefinedMetricWarning: F-score is ill-defined and being set to 0.0 in labels with no predicted samples.\n",
      "  'precision', 'predicted', average, warn_for)\n"
     ]
    },
    {
     "name": "stdout",
     "output_type": "stream",
     "text": [
      "Determination of optimal hyperparameters in         16.8 s\n",
      "Optimal values are {'max_depth': 2, 'n_estimators': 32} \n",
      "        F1 weighted Score of cross valdation 17.77%\n",
      "cluster 4.0 : 1055 elements\n",
      "Number exemple: 1051\n",
      "        - training set: 840\n",
      "        - test set: 211\n",
      "Number of features: p=1\n",
      "Number of class: 4\n",
      "class 1 : 1.0%\n",
      "class 2 : 34.7%\n",
      "class 3 : 53.6%\n",
      "class 4 : 10.8%\n"
     ]
    },
    {
     "name": "stderr",
     "output_type": "stream",
     "text": [
      "//anaconda/envs/py36/lib/python3.6/site-packages/sklearn/metrics/classification.py:1135: UndefinedMetricWarning: F-score is ill-defined and being set to 0.0 in labels with no predicted samples.\n",
      "  'precision', 'predicted', average, warn_for)\n",
      "//anaconda/envs/py36/lib/python3.6/site-packages/sklearn/metrics/classification.py:1137: UndefinedMetricWarning: F-score is ill-defined and being set to 0.0 in labels with no true samples.\n",
      "  'recall', 'true', average, warn_for)\n"
     ]
    },
    {
     "name": "stdout",
     "output_type": "stream",
     "text": [
      "Determination of optimal hyperparameters in         16.9 s\n",
      "Optimal values are {'max_depth': 2, 'n_estimators': 16} \n",
      "        F1 weighted Score of cross valdation 28.81%\n",
      "cluster 5.0 : 909 elements\n",
      "Number exemple: 903\n",
      "        - training set: 722\n",
      "        - test set: 181\n",
      "Number of features: p=1\n",
      "Number of class: 4\n",
      "class 1 : 1.0%\n",
      "class 2 : 26.9%\n",
      "class 3 : 51.9%\n",
      "class 4 : 20.2%\n"
     ]
    },
    {
     "name": "stderr",
     "output_type": "stream",
     "text": [
      "//anaconda/envs/py36/lib/python3.6/site-packages/sklearn/metrics/classification.py:1135: UndefinedMetricWarning: F-score is ill-defined and being set to 0.0 in labels with no predicted samples.\n",
      "  'precision', 'predicted', average, warn_for)\n"
     ]
    },
    {
     "name": "stdout",
     "output_type": "stream",
     "text": [
      "Determination of optimal hyperparameters in         16.9 s\n",
      "Optimal values are {'max_depth': 4, 'n_estimators': 64} \n",
      "        F1 weighted Score of cross valdation 21.75%\n"
     ]
    },
    {
     "name": "stderr",
     "output_type": "stream",
     "text": [
      "//anaconda/envs/py36/lib/python3.6/site-packages/sklearn/metrics/classification.py:1135: UndefinedMetricWarning: F-score is ill-defined and being set to 0.0 in labels with no predicted samples.\n",
      "  'precision', 'predicted', average, warn_for)\n"
     ]
    },
    {
     "name": "stdout",
     "output_type": "stream",
     "text": [
      "cluster 2.0 : 795 elements\n",
      "Number exemple: 793\n",
      "        - training set: 634\n",
      "        - test set: 159\n",
      "Number of features: p=1\n",
      "Number of class: 4\n",
      "class 1 : 1.1%\n",
      "class 2 : 40.4%\n",
      "class 3 : 46.9%\n",
      "class 4 : 11.6%\n",
      "Determination of optimal hyperparameters in         16.7 s\n",
      "Optimal values are {'max_depth': 2, 'n_estimators': 32} \n",
      "        F1 weighted Score of cross valdation 39.27%\n",
      "cluster nan : 0 elements\n"
     ]
    },
    {
     "name": "stderr",
     "output_type": "stream",
     "text": [
      "//anaconda/envs/py36/lib/python3.6/site-packages/sklearn/metrics/classification.py:1135: UndefinedMetricWarning: F-score is ill-defined and being set to 0.0 in labels with no predicted samples.\n",
      "  'precision', 'predicted', average, warn_for)\n"
     ]
    },
    {
     "ename": "ValueError",
     "evalue": "Found array with 0 sample(s) (shape=(0, 1)) while a minimum of 1 is required by StandardScaler.",
     "output_type": "error",
     "traceback": [
      "\u001b[0;31m---------------------------------------------------------------------------\u001b[0m",
      "\u001b[0;31mValueError\u001b[0m                                Traceback (most recent call last)",
      "\u001b[0;32m<ipython-input-26-e3a0c4453b56>\u001b[0m in \u001b[0;36m<module>\u001b[0;34m()\u001b[0m\n\u001b[1;32m     35\u001b[0m                                                            )\n\u001b[1;32m     36\u001b[0m \u001b[0;34m\u001b[0m\u001b[0m\n\u001b[0;32m---> 37\u001b[0;31m         \u001b[0mscaler\u001b[0m \u001b[0;34m=\u001b[0m \u001b[0mStandardScaler\u001b[0m\u001b[0;34m(\u001b[0m\u001b[0;34m)\u001b[0m\u001b[0;34m.\u001b[0m\u001b[0mfit\u001b[0m\u001b[0;34m(\u001b[0m\u001b[0mX_train\u001b[0m\u001b[0;34m)\u001b[0m\u001b[0;34m\u001b[0m\u001b[0m\n\u001b[0m\u001b[1;32m     38\u001b[0m         \u001b[0mX_train\u001b[0m \u001b[0;34m=\u001b[0m \u001b[0mscaler\u001b[0m\u001b[0;34m.\u001b[0m\u001b[0mtransform\u001b[0m\u001b[0;34m(\u001b[0m\u001b[0mX_train\u001b[0m\u001b[0;34m)\u001b[0m\u001b[0;34m\u001b[0m\u001b[0m\n\u001b[1;32m     39\u001b[0m         \u001b[0mX_test\u001b[0m \u001b[0;34m=\u001b[0m \u001b[0mscaler\u001b[0m\u001b[0;34m.\u001b[0m\u001b[0mtransform\u001b[0m\u001b[0;34m(\u001b[0m\u001b[0mX_test\u001b[0m\u001b[0;34m)\u001b[0m\u001b[0;34m\u001b[0m\u001b[0m\n",
      "\u001b[0;32m//anaconda/envs/py36/lib/python3.6/site-packages/sklearn/preprocessing/data.py\u001b[0m in \u001b[0;36mfit\u001b[0;34m(self, X, y)\u001b[0m\n\u001b[1;32m    588\u001b[0m         \u001b[0;31m# Reset internal state before fitting\u001b[0m\u001b[0;34m\u001b[0m\u001b[0;34m\u001b[0m\u001b[0m\n\u001b[1;32m    589\u001b[0m         \u001b[0mself\u001b[0m\u001b[0;34m.\u001b[0m\u001b[0m_reset\u001b[0m\u001b[0;34m(\u001b[0m\u001b[0;34m)\u001b[0m\u001b[0;34m\u001b[0m\u001b[0m\n\u001b[0;32m--> 590\u001b[0;31m         \u001b[0;32mreturn\u001b[0m \u001b[0mself\u001b[0m\u001b[0;34m.\u001b[0m\u001b[0mpartial_fit\u001b[0m\u001b[0;34m(\u001b[0m\u001b[0mX\u001b[0m\u001b[0;34m,\u001b[0m \u001b[0my\u001b[0m\u001b[0;34m)\u001b[0m\u001b[0;34m\u001b[0m\u001b[0m\n\u001b[0m\u001b[1;32m    591\u001b[0m \u001b[0;34m\u001b[0m\u001b[0m\n\u001b[1;32m    592\u001b[0m     \u001b[0;32mdef\u001b[0m \u001b[0mpartial_fit\u001b[0m\u001b[0;34m(\u001b[0m\u001b[0mself\u001b[0m\u001b[0;34m,\u001b[0m \u001b[0mX\u001b[0m\u001b[0;34m,\u001b[0m \u001b[0my\u001b[0m\u001b[0;34m=\u001b[0m\u001b[0;32mNone\u001b[0m\u001b[0;34m)\u001b[0m\u001b[0;34m:\u001b[0m\u001b[0;34m\u001b[0m\u001b[0m\n",
      "\u001b[0;32m//anaconda/envs/py36/lib/python3.6/site-packages/sklearn/preprocessing/data.py\u001b[0m in \u001b[0;36mpartial_fit\u001b[0;34m(self, X, y)\u001b[0m\n\u001b[1;32m    610\u001b[0m         \"\"\"\n\u001b[1;32m    611\u001b[0m         X = check_array(X, accept_sparse=('csr', 'csc'), copy=self.copy,\n\u001b[0;32m--> 612\u001b[0;31m                         warn_on_dtype=True, estimator=self, dtype=FLOAT_DTYPES)\n\u001b[0m\u001b[1;32m    613\u001b[0m \u001b[0;34m\u001b[0m\u001b[0m\n\u001b[1;32m    614\u001b[0m         \u001b[0;31m# Even in the case of `with_mean=False`, we update the mean anyway\u001b[0m\u001b[0;34m\u001b[0m\u001b[0;34m\u001b[0m\u001b[0m\n",
      "\u001b[0;32m//anaconda/envs/py36/lib/python3.6/site-packages/sklearn/utils/validation.py\u001b[0m in \u001b[0;36mcheck_array\u001b[0;34m(array, accept_sparse, dtype, order, copy, force_all_finite, ensure_2d, allow_nd, ensure_min_samples, ensure_min_features, warn_on_dtype, estimator)\u001b[0m\n\u001b[1;32m    460\u001b[0m                              \u001b[0;34m\" minimum of %d is required%s.\"\u001b[0m\u001b[0;34m\u001b[0m\u001b[0m\n\u001b[1;32m    461\u001b[0m                              % (n_samples, shape_repr, ensure_min_samples,\n\u001b[0;32m--> 462\u001b[0;31m                                 context))\n\u001b[0m\u001b[1;32m    463\u001b[0m \u001b[0;34m\u001b[0m\u001b[0m\n\u001b[1;32m    464\u001b[0m     \u001b[0;32mif\u001b[0m \u001b[0mensure_min_features\u001b[0m \u001b[0;34m>\u001b[0m \u001b[0;36m0\u001b[0m \u001b[0;32mand\u001b[0m \u001b[0marray\u001b[0m\u001b[0;34m.\u001b[0m\u001b[0mndim\u001b[0m \u001b[0;34m==\u001b[0m \u001b[0;36m2\u001b[0m\u001b[0;34m:\u001b[0m\u001b[0;34m\u001b[0m\u001b[0m\n",
      "\u001b[0;31mValueError\u001b[0m: Found array with 0 sample(s) (shape=(0, 1)) while a minimum of 1 is required by StandardScaler."
     ]
    }
   ],
   "source": [
    "score = dict()\n",
    "\n",
    "n_estimators_range = [16,32,64,128]\n",
    "max_depth_range = [2,4,8,16,32,64] \n",
    "param_grid = dict(n_estimators=n_estimators_range, max_depth = max_depth_range)\n",
    "params = {'max_features' :'sqrt', \n",
    "          'random_state' : 32, \n",
    "          'min_samples_split' : 2, \n",
    "          'class_weight' : 'balanced'\n",
    "         }\n",
    "\n",
    "score_clustering_methods = []\n",
    "clustering_methods = clustTest1.columns\n",
    "\n",
    "for method in clustering_methods:\n",
    "    print(f\"\\nAnalysis cluster method {method}\")\n",
    "    cluster_list = clustTest1[method].unique()\n",
    "    print(f\"liste of clusters : {cluster_list}\")\n",
    "    score_cluster = []\n",
    "    for cluster in cluster_list:\n",
    "        index_scope = clustTest1.loc[clustTest1[method]==cluster,:].index\n",
    "        print(f\"cluster {cluster} : {len(index_scope)} elements\")\n",
    "        \n",
    "        # treating remaining missing values\n",
    "        features = df.columns.drop(['HEUREUX'])[lasso_mask]\n",
    "        df_tmp = df.loc[index_scope,set(features) | {\"HEUREUX\"}].dropna()\n",
    "\n",
    "        X = df_tmp.loc[:,features]\n",
    "        y = df_tmp[\"HEUREUX\"]\n",
    "\n",
    "        X_train, X_test, y_train, y_test = train_test_split(X, \n",
    "                                                            y, \n",
    "                                                            test_size=0.2, \n",
    "                                                            random_state=42\n",
    "                                                           )\n",
    "\n",
    "        scaler = StandardScaler().fit(X_train)\n",
    "        X_train = scaler.transform(X_train)\n",
    "        X_test = scaler.transform(X_test)\n",
    "\n",
    "        print(f\"Number exemple: {y.shape[0]}\\n\\\n",
    "        - training set: {y_train.shape[0]}\\n\\\n",
    "        - test set: {y_test.shape[0]}\")\n",
    "        print(f\"Number of features: p={X_train.shape[1]}\")\n",
    "        print(f\"Number of class: {len(np.unique(y))}\")\n",
    "        for c in np.unique(y):\n",
    "            print(f\"class {c:0.0f} : {100*np.sum(y==c)/len(y):0.1f}%\")\n",
    "            \n",
    "            \n",
    "        startTime = time.time()\n",
    "        clf = RandomForestClassifier(**params)\n",
    "        grid = GridSearchCV(clf, \n",
    "                            scoring='f1_micro', \n",
    "                            param_grid=param_grid)\n",
    "\n",
    "        grid.fit(X_train, y_train)\n",
    "        print(f\"Determination of optimal hyperparameters in \\\n",
    "        {time.time() - startTime:0.1f} s\")\n",
    "        print(f\"Optimal values are {grid.best_params_} \\n\\\n",
    "        F1 weighted Score of cross valdation {100*grid.best_score_:0.2f}%\")\n",
    "\n",
    "        # Learning on full training set with optimals hyperparameters and score on test set\n",
    "        params_opt = {'max_features' :'sqrt', 'random_state' : 32, \n",
    "                      'min_samples_split' : 2, 'class_weight' : 'balanced',\n",
    "                      'n_estimators' : grid.best_params_['n_estimators'],\n",
    "                      'max_depth' : grid.best_params_['max_depth']}\n",
    "        clf = RandomForestClassifier(**params_opt).fit(X_train, y_train)\n",
    "\n",
    "            \n",
    "        y_test_pred = clf.predict(X_test)\n",
    "        f1_scores = f1_score(y_test, y_test_pred, labels = [1,2,3,4], average=None)\n",
    "        accuracy = clf.score(X_test, y_test)\n",
    "        f1_macro = f1_score(y_test, y_test_pred, average='macro')\n",
    "        f1_weighted = f1_score(y_test, y_test_pred, average='weighted')\n",
    "            \n",
    "        res  = {'f1_scores' : f1_scores,\n",
    "                'accuracy' : accuracy,\n",
    "                'f1_macro' : f1_macro,\n",
    "                'f1_weighted' : f1_weighted}\n",
    "            \n",
    "        cl = {'cluster' : cluster,\n",
    "              'model' : 'RandomForestClassifier',\n",
    "              'params' : params_opt,\n",
    "              'metrics' : res\n",
    "             }\n",
    "         \n",
    "        score_cluster.append(cl)\n",
    "        \n",
    "    d = {'clustering_method' : method,\n",
    "         'cluster_scores' : score_cluster\n",
    "        }\n",
    "    score_clustering_methods.append(d) \n",
    "\n",
    "print(score_clustering_methods)"
   ]
  },
  {
   "cell_type": "code",
   "execution_count": null,
   "metadata": {},
   "outputs": [],
   "source": [
    "score_clustering_methods"
   ]
  },
  {
   "cell_type": "code",
   "execution_count": null,
   "metadata": {},
   "outputs": [],
   "source": [
    "score_clustering_methods[0]['clustering_method']"
   ]
  },
  {
   "cell_type": "code",
   "execution_count": null,
   "metadata": {},
   "outputs": [],
   "source": [
    "score_clustering_methods[0]['cluster_scores']"
   ]
  },
  {
   "cell_type": "code",
   "execution_count": null,
   "metadata": {
    "collapsed": true
   },
   "outputs": [],
   "source": []
  }
 ],
 "metadata": {
  "kernelspec": {
   "display_name": "Python 3",
   "language": "python",
   "name": "python3"
  },
  "language_info": {
   "codemirror_mode": {
    "name": "ipython",
    "version": 3
   },
   "file_extension": ".py",
   "mimetype": "text/x-python",
   "name": "python",
   "nbconvert_exporter": "python",
   "pygments_lexer": "ipython3",
   "version": "3.6.3"
  }
 },
 "nbformat": 4,
 "nbformat_minor": 2
}
