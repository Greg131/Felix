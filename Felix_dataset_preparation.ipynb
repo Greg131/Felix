{
 "cells": [
  {
   "cell_type": "markdown",
   "metadata": {},
   "source": [
    "# Felix - dataset preparation"
   ]
  },
  {
   "cell_type": "markdown",
   "metadata": {},
   "source": [
    "A dataset is build based on \"Etude condistions de vie\" merged with \"INSEE\" communal data ...\n",
    "....  \n",
    "Categorial features are ... K-1 categ\n",
    "...\n",
    "Set of variables and featiures ..."
   ]
  },
  {
   "cell_type": "code",
   "execution_count": 1,
   "metadata": {
    "collapsed": true
   },
   "outputs": [],
   "source": [
    "from pathlib import Path\n",
    "import pandas as pd\n",
    "import numpy as np\n",
    "from datetime import datetime\n",
    "import time\n",
    "import matplotlib.pyplot as plt\n",
    "%matplotlib inline\n",
    "import pickle\n",
    "#%pylab inline\n",
    "\n",
    "from sklearn.model_selection import train_test_split\n",
    "from sklearn.preprocessing import StandardScaler\n",
    "from sklearn.linear_model import LogisticRegression\n",
    "from sklearn.model_selection import cross_val_score, GridSearchCV\n",
    "from sklearn.decomposition import PCA\n",
    "from sklearn.ensemble import RandomForestClassifier\n",
    "from sklearn.metrics import confusion_matrix, f1_score, precision_score, recall_score\n",
    "from sklearn.preprocessing import LabelEncoder\n",
    "from sklearn.preprocessing import LabelBinarizer\n",
    "from sklearn.preprocessing import OneHotEncoder\n",
    "from sklearn.svm import SVC, LinearSVC\n",
    "from sklearn.model_selection import StratifiedKFold\n",
    "from sklearn.feature_selection import RFECV, RFE, SelectKBest, chi2, SelectFromModel\n",
    "from sklearn.utils import resample"
   ]
  },
  {
   "cell_type": "code",
   "execution_count": null,
   "metadata": {},
   "outputs": [],
   "source": []
  },
  {
   "cell_type": "code",
   "execution_count": 2,
   "metadata": {
    "collapsed": true
   },
   "outputs": [],
   "source": [
    "path_project = Path.home() / Path('Google Drive/Felix')\n",
    "path_data = path_project / Path(\"data\")\n",
    "path_dump = path_project / Path(\"dump\")"
   ]
  },
  {
   "cell_type": "markdown",
   "metadata": {},
   "source": [
    "## III -  Feature sets and engineering - Dataset preparation"
   ]
  },
  {
   "cell_type": "code",
   "execution_count": 3,
   "metadata": {},
   "outputs": [],
   "source": [
    "# loading cdv data\n",
    "file = path_data / Path(\"felix.csv\")\n",
    "with Path.open(file, 'rb') as fp:\n",
    "    cdv = pd.read_csv(fp,  encoding='cp1252',low_memory=False, index_col = 0)"
   ]
  },
  {
   "cell_type": "code",
   "execution_count": 4,
   "metadata": {
    "collapsed": true
   },
   "outputs": [],
   "source": [
    "# loadind cdv data without format\n",
    "file = path_data / Path(\"felix_ssfmt.csv\")\n",
    "with Path.open(file, 'rb') as fp:\n",
    "    cdv_ssfmt = pd.read_csv(fp,  encoding='cp1252',low_memory=False, index_col = 0)"
   ]
  },
  {
   "cell_type": "markdown",
   "metadata": {},
   "source": [
    "### Feature scope"
   ]
  },
  {
   "cell_type": "code",
   "execution_count": 5,
   "metadata": {
    "collapsed": true
   },
   "outputs": [],
   "source": [
    "# number of line per year in teh dataset\n",
    "n_per_year = cdv[\"ANNEEFUZ\"].value_counts()\n",
    "# number of missing value per variable for a given year\n",
    "na_2015 = np.sum(cdv.loc[cdv[\"ANNEEFUZ\"] == 2015].isnull()) \n",
    "na_2016 = np.sum(cdv.loc[cdv[\"ANNEEFUZ\"] == 2016].isnull()) \n",
    "na_2017 = np.sum(cdv.loc[cdv[\"ANNEEFUZ\"] == 2017].isnull()) \n",
    "na_2018 = np.sum(cdv.loc[cdv[\"ANNEEFUZ\"] == 2018].isnull()) \n",
    "# column scope per year \n",
    "cdv_2015_var = set(na_2015[na_2015 < n_per_year[2015]].index)\n",
    "cdv_2016_var = set(na_2016[na_2016 < n_per_year[2016]].index)\n",
    "cdv_2017_var = set(na_2017[na_2017 < n_per_year[2017]].index)\n",
    "cdv_2018_var = set(na_2018[na_2018 < n_per_year[2018]].index)"
   ]
  },
  {
   "cell_type": "code",
   "execution_count": 6,
   "metadata": {
    "collapsed": true
   },
   "outputs": [],
   "source": [
    "cdv_2015_2018_var = (cdv_2015_var & cdv_2016_var & cdv_2017_var & cdv_2018_var)\n",
    "cdv_2016_2018_var = (cdv_2016_var & cdv_2017_var & cdv_2018_var)\n",
    "cdv_2017_2018_var = (cdv_2017_var & cdv_2018_var)"
   ]
  },
  {
   "cell_type": "code",
   "execution_count": 7,
   "metadata": {},
   "outputs": [
    {
     "name": "stdout",
     "output_type": "stream",
     "text": [
      "267 variables common to all study out of 353\n"
     ]
    }
   ],
   "source": [
    "print(f\"{len(cdv_2015_2018_var)} variables common to all study out of {cdv_ssfmt.shape[1]}\")"
   ]
  },
  {
   "cell_type": "markdown",
   "metadata": {},
   "source": [
    "### Special variables "
   ]
  },
  {
   "cell_type": "code",
   "execution_count": 8,
   "metadata": {
    "collapsed": true
   },
   "outputs": [],
   "source": [
    "pred_var = {\"HEUREUX\"}\n",
    "tech_var = {\"ANNEEFUZ\", \"ANNEFUZ2\", \"COLLECTE\", \"CHAMP\", \n",
    "            \"identifiant\", \"an_enq\", \"INTER\"}\n",
    "com_var = {'COMINSEE', 'DEPCOM', 'com', 'inseel','inseenum','CP'}\n",
    "text_var = {'RADIQUOI'}\n",
    "bizz_var = {'NB0003','NB0306','NB0610','NB1016','NB1620','NB2099',\n",
    "            'an_nais','decuc','decsqt','info','typodeg','refus2', \n",
    "            'cpt', 'prescaf', 'poptrpeu','REVUC','i','REVTOT', \n",
    "            'poppeud','popdense', 'popinter', 'pmun', 'agedip', 'age_OW',\n",
    "            'REVsqt', 'NBUC', 'AGGLOINS', 'med', 'CSP6','REVTOT6',\n",
    "            'ACM1','ACM2','ACM3','ACM4','ACM5', 'ACM6', 'ACM7',\n",
    "            'ACM8','ACM9', 'ACM10', 'ACM11','ACM12'}"
   ]
  },
  {
   "cell_type": "markdown",
   "metadata": {},
   "source": [
    "### Categorial variable"
   ]
  },
  {
   "cell_type": "code",
   "execution_count": 9,
   "metadata": {
    "collapsed": true,
    "scrolled": true
   },
   "outputs": [],
   "source": [
    "obj_cdv = cdv.select_dtypes(include=['object'])\n",
    "obj_var = set(obj_cdv.columns)\n",
    "cat_max9_var = set()\n",
    "cat_min10_var = set()\n",
    "for c in obj_var:\n",
    "    obj_cdv_valcpt = obj_cdv[c].value_counts()\n",
    "    if len(obj_cdv_valcpt) > 10:\n",
    "        cat_min10_var.add(c)\n",
    "    else:\n",
    "        cat_max9_var.add(c)"
   ]
  },
  {
   "cell_type": "code",
   "execution_count": 10,
   "metadata": {
    "collapsed": true
   },
   "outputs": [],
   "source": [
    "ord_var = {\n",
    "    \"CONFPOLI\", \"AGE5\",\"SECURITE\", \"ACM7\",\"INQGUERR\", \"NBPIECE6\",\"INNOVTEC\",\n",
    "    \"JUSTICE\",\"EFFORTPP\",\"ACM10\",\"NIVFRAN4\",\"NBPERS5\",\"INQCHOMA\",\"CDV5_4\",\n",
    "    \"CONFGOUV\",\"ADOPTGAY\",\"ACM8\",\"FREQCINE\",\"CONFPUB\",\"FREQSPOR\",\"INQALIM\",\n",
    "    \"ASSO10_3\", \"FREQBIBL\",\"DEPLOG\",\"NBCHOM\",\"CONFENTR\",\"ORDLIB\",\"ACM5\",\n",
    "    \"INQMALAD\",\"FREQTELE\",\"NBENF6\",\"ACM9\",\"revtot7\",\"INQROUTE\",\"NIVPERS4\",\n",
    "    \"ETATSAN\",\"INQNUCLE\",\"NIVPERSO\",\"CONFASSO\",\"ACM6\",\"CDV5\",\"UNIONGAY\",\n",
    "    \"ACM4\",\"INQAGRES\",\"CADVIE\",\"NIVFRAN\",\"REV_TR7\",\"ISEGO\",\"RECEP\",\"AGE6\",\n",
    "    \"ADNCB\",\"PRATCOLL\",\"NBHEUR39\",\"HARVEY\",\"QUOTAAGE\",\"NBHEUR35\",\"RELEG\",\n",
    "    \"CONFKEUF\",\"CONFECOL\",\"ADNSTIC\",\"ADNORDI\",\"CONFPRES\",\"CONFWEB\",\"CONFBANK\"\n",
    "}"
   ]
  },
  {
   "cell_type": "code",
   "execution_count": 11,
   "metadata": {
    "collapsed": true
   },
   "outputs": [],
   "source": [
    "# exclusion of features with order\n",
    "cat_var = obj_var - ord_var\n",
    "cat_max9_var = cat_max9_var - ord_var\n",
    "cat_min10_var = cat_min10_var - ord_var"
   ]
  },
  {
   "cell_type": "code",
   "execution_count": 12,
   "metadata": {
    "collapsed": true
   },
   "outputs": [],
   "source": [
    "cdv_dtypes = cdv.dtypes"
   ]
  },
  {
   "cell_type": "code",
   "execution_count": 13,
   "metadata": {
    "collapsed": true
   },
   "outputs": [],
   "source": [
    "int_var = set(cdv_dtypes[cdv_dtypes == 'int64'].index)"
   ]
  },
  {
   "cell_type": "code",
   "execution_count": 14,
   "metadata": {
    "collapsed": true
   },
   "outputs": [],
   "source": [
    "int_cat_var = {\n",
    "    'NB0003','NB0306','NB0610','NB1016',\n",
    "    'NB1620','NB2099', 'REVTOT6','ANNEEFUZ','INTER', 'INTER6'\n",
    "}\n",
    "int_cat_max9_var = {\n",
    "    'NB0003','NB0306','NB0610','NB1016',\n",
    "    'NB1620','NB2099', \"REVTOT6\",\"ANNEEFUZ\"}\n",
    "int_cat_min10_var = {\n",
    "    'INTER', 'INTER6'\n",
    "}\n",
    "int_quant_var = {\n",
    "    'AGE','REVENQ', 'AUTREREV',\n",
    "    'an_enq','an_nais' \n",
    "}"
   ]
  },
  {
   "cell_type": "code",
   "execution_count": 15,
   "metadata": {
    "collapsed": true
   },
   "outputs": [],
   "source": [
    "cat_var = cat_var | int_cat_var\n",
    "cat_max9_var = cat_max9_var | int_cat_max9_var\n",
    "cat_min10_var = cat_min10_var | int_cat_min10_var\n",
    "quant_var = ord_var | int_quant_var"
   ]
  },
  {
   "cell_type": "code",
   "execution_count": 16,
   "metadata": {
    "collapsed": true
   },
   "outputs": [],
   "source": [
    "float_var = set(cdv_dtypes[cdv_dtypes == 'float64'].index)"
   ]
  },
  {
   "cell_type": "code",
   "execution_count": 17,
   "metadata": {
    "collapsed": true
   },
   "outputs": [],
   "source": [
    "float_cat_min10_var = {'CP','inseenum'}\n",
    "float_cat_max9_var = {'refus2','cpt','prescaf','i','age_OW','TYPLOG','AGGLOINS','CSP6'}\n",
    "float_cat_var = float_cat_min10_var | float_cat_max9_var\n",
    "float_quant_var = float_var - float_cat_var"
   ]
  },
  {
   "cell_type": "code",
   "execution_count": 18,
   "metadata": {
    "collapsed": true
   },
   "outputs": [],
   "source": [
    "cat_var = cat_var | float_cat_var\n",
    "cat_max9_var = cat_max9_var | float_cat_max9_var\n",
    "cat_min10_var = cat_min10_var | float_cat_min10_var\n",
    "quant_var = quant_var | float_quant_var"
   ]
  },
  {
   "cell_type": "code",
   "execution_count": 19,
   "metadata": {},
   "outputs": [
    {
     "name": "stdout",
     "output_type": "stream",
     "text": [
      "out of the 353 variable :\n",
      "248 variables are categorial \n",
      "106 variables are quantitative \n"
     ]
    }
   ],
   "source": [
    "print(f\"out of the {cdv.shape[1]} variable :\")\n",
    "print(f\"{len(cat_var)} variables are categorial \")\n",
    "print(f\"{len(quant_var)} variables are quantitative \")"
   ]
  },
  {
   "cell_type": "code",
   "execution_count": 20,
   "metadata": {},
   "outputs": [
    {
     "name": "stdout",
     "output_type": "stream",
     "text": [
      "out of the 248 variable categorial:\n",
      "221 variables have maximum 9 modalities  \n",
      "27 variables have more \n"
     ]
    }
   ],
   "source": [
    "print(f\"out of the {len(cat_var)} variable categorial:\")\n",
    "print(f\"{len(cat_max9_var)} variables have maximum 9 modalities  \")\n",
    "print(f\"{len(cat_min10_var)} variables have more \")"
   ]
  },
  {
   "cell_type": "code",
   "execution_count": 21,
   "metadata": {
    "collapsed": true
   },
   "outputs": [],
   "source": [
    "dict_var_groups = {\n",
    "    'cdv_2015_var' : cdv_2015_var,\n",
    "    'cdv_2016_var' : cdv_2016_var,\n",
    "    'cdv_2017_var' : cdv_2017_var,\n",
    "    'cdv_2018_var' : cdv_2018_var,\n",
    "    'cdv_2015_2018_var' : cdv_2015_2018_var,\n",
    "    'cdv_2016_2018_var' : cdv_2016_2018_var,\n",
    "    'cdv_2017_2018_var' : cdv_2017_2018_var,\n",
    "    'pred_var' : pred_var,\n",
    "    'tech_var' : tech_var,\n",
    "    'com_var' : com_var,\n",
    "    'text_var' : text_var,\n",
    "    'bizz_var' : bizz_var,\n",
    "    'cat_var' : cat_var,\n",
    "    'cat_max9_var' : cat_max9_var,\n",
    "    'cat_min10_var' : cat_min10_var,\n",
    "    'quant_var' : quant_var   \n",
    "}"
   ]
  },
  {
   "cell_type": "markdown",
   "metadata": {
    "collapsed": true
   },
   "source": [
    "### Adding communal features and levers"
   ]
  },
  {
   "cell_type": "code",
   "execution_count": 22,
   "metadata": {
    "collapsed": true
   },
   "outputs": [],
   "source": [
    "# loading MergeCommunesEnvi data\n",
    "file = path_data / Path(\"MergeCommunesEnvi.csv\")\n",
    "with Path.open(file, 'rb') as fp:\n",
    "    MergeCommunesEnvi = pd.read_csv(fp,  encoding='cp1252',low_memory=False, sep=';', index_col = 1)"
   ]
  },
  {
   "cell_type": "code",
   "execution_count": 23,
   "metadata": {},
   "outputs": [
    {
     "data": {
      "text/plain": [
       "(11131, 571)"
      ]
     },
     "execution_count": 23,
     "metadata": {},
     "output_type": "execute_result"
    }
   ],
   "source": [
    "MergeCommunesEnvi.shape"
   ]
  },
  {
   "cell_type": "code",
   "execution_count": 24,
   "metadata": {
    "collapsed": true
   },
   "outputs": [],
   "source": [
    "# file 'List-of-Actionable-Variables_v0.1_sp' september 01\n",
    "indiv_act_var = {\n",
    "    \"LIMVIAND\",\"VACANCES\",\"VISITFAM\",\"RECEP\",\"YOGA\",\"FREQSPOR\",\"FREQBIBL\",\"FREQCINE\",\n",
    "    \"FREQTELE\",\"ASSOSPOR\",\"ASSOCULT\",\"ASSOCONF\",\"ASSOJEUN\",\"ASSOSYND\",\"ASSOENVI\",\n",
    "    \"ASSOPARE\",\"ASSOCONS\",\"ASSOPOLI\",\"ASSOHUMA\",\"ASSOAUTR\",\"NOT_FAMI\",\"NOT_PROF\",\n",
    "    \"NOT_AMIS\",\"NOT_COHE\",\"NOT_POLI\",\"NOT_LIBR\",\"NOT_LOG\",\"NOT_CAD\",\"RELIGION\"\n",
    "}"
   ]
  },
  {
   "cell_type": "code",
   "execution_count": 25,
   "metadata": {
    "collapsed": true
   },
   "outputs": [],
   "source": [
    "# file 'List-of-Actionable-Variables_v0.1_sp' september 01\n",
    "indiv_semi_act_var = {\n",
    "    \"SITUEMP5\",\"SITUEMP6\",\"TEMPSTRA\",\"nbheures\",\"NBHEUR39\",\"NBHEUR35\",\n",
    "    \"IMAGTRAV\",\"COUPLE\",\"ENFANTS\",\"CADVIE\",\"CADVIE3\",\"MODCHAUF\",\"ETATSAN\",\n",
    "    \"BANQMOB\",\"BANQEPA\",\"BANQVIE\",\"TELMOB\",\"CONFPUB\",\"CONFENTR\",\"CONFASSO\",\n",
    "    \"CONFPOLI\",\"CONFBANK\",\"CONFPRES\",\"CONFECOL\",\"CONFKEUF\",\"INQMALAD\",\n",
    "    \"INQMALA3\",\"INQAGRES\",\"INQAGRE3\",\"INQROUTE\",\"INQROUT3\",\"INQCHOMA\",\n",
    "    \"INQCHOM3\",\"INQGUERR\",\"INQGUER3\",\"INQNUCLE\",\"INQNUCL3\",\"INQALIM\",\n",
    "    \"INQALIM3\",\"ECHPOL\"\n",
    "}"
   ]
  },
  {
   "cell_type": "code",
   "execution_count": 26,
   "metadata": {
    "collapsed": true
   },
   "outputs": [],
   "source": [
    "admin_act_var = {\n",
    "    \"AIDESUFF\",\"EFFORTPP\",\"CHOAVANT\",\"OPIRSA\",\"JUSTICE\",\"RELEG\",\"RADIQUOI\",\n",
    "    \"RADWHY1\",\"RADWHY2\",\"RADWHY3\",\"RADWHY4\",\"RADWHY5\",\"RADWHY6\",\"RADWHY7\",\n",
    "    \"RADWHY8\",\"RADWHY9\",\"RADWHY10\",\"RADWHY11\",\"RADWHY12\",\"RADWHY13\",\"RADWHY14\",\n",
    "    \"ORDLIB\",\"PREOCCU1\",\"PREOCCU2\",\"CONFGOUV\"\n",
    "}"
   ]
  },
  {
   "cell_type": "code",
   "execution_count": 27,
   "metadata": {
    "collapsed": true
   },
   "outputs": [],
   "source": [
    "admin_semi_act_var = {\n",
    "    \"SECURITE\",\"SECUR3\",\"ADNSTIC\",\"ADNCB\",\"ADNORDI\",\"ROBOT1\",\"ROBOT2\",\"ROBOT3\",\n",
    "    \"PRESTCAF\",\"REVPF\",\"CONFPUB\",\"CONFENTR\",\"CONFASSO\",\"CONFPOLI\",\"CONFBANK\",\n",
    "    \"CONFPRES\",\"CONFECOL\",\"CONFKEUF\",\"TRANSFST\",\"TRANSFO5\",\"PROGRAD\",\"OPIIMMIG\"\n",
    "}"
   ]
  },
  {
   "cell_type": "code",
   "execution_count": 28,
   "metadata": {
    "collapsed": true
   },
   "outputs": [],
   "source": [
    "commune_var = set(MergeCommunesEnvi.columns) - set(cdv.columns)"
   ]
  },
  {
   "cell_type": "code",
   "execution_count": 29,
   "metadata": {},
   "outputs": [
    {
     "data": {
      "text/plain": [
       "{'DECE1015',\n",
       " 'DECESD16',\n",
       " 'DEP',\n",
       " 'ETAZ15',\n",
       " 'ETBE15',\n",
       " 'ETFZ15',\n",
       " 'ETGU15',\n",
       " 'ETGZ15',\n",
       " 'ETOQ15',\n",
       " 'ETTEF115',\n",
       " 'ETTEFP1015',\n",
       " 'ETTOT15',\n",
       " 'LIBGEO',\n",
       " 'MED15',\n",
       " 'NAIS1015',\n",
       " 'NAISD16',\n",
       " 'NBMENFISC15',\n",
       " 'NB_A101',\n",
       " 'NB_A104',\n",
       " 'NB_A105',\n",
       " 'NB_A106',\n",
       " 'NB_A107',\n",
       " 'NB_A108',\n",
       " 'NB_A109',\n",
       " 'NB_A115',\n",
       " 'NB_A119',\n",
       " 'NB_A120',\n",
       " 'NB_A121',\n",
       " 'NB_A122',\n",
       " 'NB_A123',\n",
       " 'NB_A124',\n",
       " 'NB_A125',\n",
       " 'NB_A126',\n",
       " 'NB_A203',\n",
       " 'NB_A205',\n",
       " 'NB_A206',\n",
       " 'NB_A207',\n",
       " 'NB_A208',\n",
       " 'NB_A301',\n",
       " 'NB_A302',\n",
       " 'NB_A303',\n",
       " 'NB_A304',\n",
       " 'NB_A401',\n",
       " 'NB_A402',\n",
       " 'NB_A403',\n",
       " 'NB_A404',\n",
       " 'NB_A405',\n",
       " 'NB_A406',\n",
       " 'NB_A501',\n",
       " 'NB_A502',\n",
       " 'NB_A503',\n",
       " 'NB_A504',\n",
       " 'NB_A505',\n",
       " 'NB_A506',\n",
       " 'NB_A507',\n",
       " 'NB_D101',\n",
       " 'NB_D102',\n",
       " 'NB_D103',\n",
       " 'NB_D104',\n",
       " 'NB_D105',\n",
       " 'NB_D106',\n",
       " 'NB_D107',\n",
       " 'NB_D108',\n",
       " 'NB_D109',\n",
       " 'NB_D110',\n",
       " 'NB_D111',\n",
       " 'NB_D112',\n",
       " 'NB_D113',\n",
       " 'NB_D301',\n",
       " 'NB_D302',\n",
       " 'NB_D303',\n",
       " 'NB_D304',\n",
       " 'NB_D305',\n",
       " 'NB_D401',\n",
       " 'NB_D402',\n",
       " 'NB_D403',\n",
       " 'NB_D404',\n",
       " 'NB_D405',\n",
       " 'NB_D502',\n",
       " 'NB_D601',\n",
       " 'NB_D602',\n",
       " 'NB_D603',\n",
       " 'NB_D604',\n",
       " 'NB_D605',\n",
       " 'NB_D606',\n",
       " 'NB_D701',\n",
       " 'NB_D702',\n",
       " 'NB_D703',\n",
       " 'NB_D704',\n",
       " 'NB_D705',\n",
       " 'NB_D709',\n",
       " 'NB_E101',\n",
       " 'NB_E102',\n",
       " 'NB_E103',\n",
       " 'NB_E106',\n",
       " 'NB_F101',\n",
       " 'NB_F101_NB_AIREJEU',\n",
       " 'NB_F101_NB_COU',\n",
       " 'NB_F101_NB_ECL',\n",
       " 'NB_F102',\n",
       " 'NB_F102_NB_AIREJEU',\n",
       " 'NB_F102_NB_COU',\n",
       " 'NB_F102_NB_ECL',\n",
       " 'NB_F103',\n",
       " 'NB_F103_NB_AIREJEU',\n",
       " 'NB_F103_NB_COU',\n",
       " 'NB_F103_NB_ECL',\n",
       " 'NB_F104',\n",
       " 'NB_F104_NB_AIREJEU',\n",
       " 'NB_F104_NB_COU',\n",
       " 'NB_F104_NB_ECL',\n",
       " 'NB_F105',\n",
       " 'NB_F105_NB_AIREJEU',\n",
       " 'NB_F105_NB_COU',\n",
       " 'NB_F105_NB_ECL',\n",
       " 'NB_F106',\n",
       " 'NB_F106_NB_AIREJEU',\n",
       " 'NB_F106_NB_COU',\n",
       " 'NB_F106_NB_ECL',\n",
       " 'NB_F107',\n",
       " 'NB_F107_NB_AIREJEU',\n",
       " 'NB_F107_NB_COU',\n",
       " 'NB_F107_NB_ECL',\n",
       " 'NB_F108',\n",
       " 'NB_F108_NB_AIREJEU',\n",
       " 'NB_F108_NB_COU',\n",
       " 'NB_F108_NB_ECL',\n",
       " 'NB_F109',\n",
       " 'NB_F109_NB_AIREJEU',\n",
       " 'NB_F109_NB_COU',\n",
       " 'NB_F109_NB_ECL',\n",
       " 'NB_F110',\n",
       " 'NB_F110_NB_AIREJEU',\n",
       " 'NB_F110_NB_COU',\n",
       " 'NB_F110_NB_ECL',\n",
       " 'NB_F111',\n",
       " 'NB_F111_NB_AIREJEU',\n",
       " 'NB_F111_NB_COU',\n",
       " 'NB_F111_NB_ECL',\n",
       " 'NB_F112',\n",
       " 'NB_F112_NB_AIREJEU',\n",
       " 'NB_F112_NB_COU',\n",
       " 'NB_F112_NB_ECL',\n",
       " 'NB_F113',\n",
       " 'NB_F113_NB_AIREJEU',\n",
       " 'NB_F113_NB_COU',\n",
       " 'NB_F113_NB_ECL',\n",
       " 'NB_F114',\n",
       " 'NB_F114_NB_AIREJEU',\n",
       " 'NB_F114_NB_COU',\n",
       " 'NB_F114_NB_ECL',\n",
       " 'NB_F116',\n",
       " 'NB_F116_NB_AIREJEU',\n",
       " 'NB_F116_NB_COU',\n",
       " 'NB_F116_NB_ECL',\n",
       " 'NB_F117',\n",
       " 'NB_F117_NB_AIREJEU',\n",
       " 'NB_F117_NB_COU',\n",
       " 'NB_F117_NB_ECL',\n",
       " 'NB_F118',\n",
       " 'NB_F118_NB_AIREJEU',\n",
       " 'NB_F118_NB_COU',\n",
       " 'NB_F118_NB_ECL',\n",
       " 'NB_F119',\n",
       " 'NB_F119_NB_AIREJEU',\n",
       " 'NB_F119_NB_COU',\n",
       " 'NB_F119_NB_ECL',\n",
       " 'NB_F120',\n",
       " 'NB_F120_NB_AIREJEU',\n",
       " 'NB_F120_NB_COU',\n",
       " 'NB_F120_NB_ECL',\n",
       " 'NB_F121',\n",
       " 'NB_F121_NB_AIREJEU',\n",
       " 'NB_F121_NB_COU',\n",
       " 'NB_F121_NB_ECL',\n",
       " 'NB_F201',\n",
       " 'NB_F201_NB_AIREJEU',\n",
       " 'NB_F202',\n",
       " 'NB_F202_NB_AIREJEU',\n",
       " 'NB_F203',\n",
       " 'NB_F203_NB_AIREJEU',\n",
       " 'NB_F302',\n",
       " 'NB_F302_NB_SALLES',\n",
       " 'NB_F303',\n",
       " 'NB_F303_NB_SALLES',\n",
       " 'NB_F304',\n",
       " 'NB_F305',\n",
       " 'NB_G101',\n",
       " 'NB_G102',\n",
       " 'NB_G103',\n",
       " 'NB_G104',\n",
       " 'P10_EMPLT',\n",
       " 'P10_POP',\n",
       " 'P15_ACT1564',\n",
       " 'P15_CHOM1564',\n",
       " 'P15_EMPLT',\n",
       " 'P15_EMPLT_SAL',\n",
       " 'P15_LOG',\n",
       " 'P15_LOGVAC',\n",
       " 'P15_MEN',\n",
       " 'P15_POP',\n",
       " 'P15_POP1564',\n",
       " 'P15_RP',\n",
       " 'P15_RP_PROP',\n",
       " 'P15_RSECOCC',\n",
       " 'PIMP15',\n",
       " 'Part.forêts.et.milieux.semi.naturels...2012....',\n",
       " 'Part.protection.contractuelle...2017....',\n",
       " 'Part.protection.forte...2017....',\n",
       " 'Part.zones.humides.et.surfaces.en.eau...2012....',\n",
       " 'REG',\n",
       " 'SUPERF',\n",
       " 'Superficie.forêts.et.milieux.semi.naturels...2012..ha.',\n",
       " 'Superficie.protection.contractuelle...2017..ha.',\n",
       " 'Superficie.protection.forte...2017..ha.',\n",
       " 'Superficie.zones.humides.et.surfaces.en.eau...2012..ha.',\n",
       " 'TP6015',\n",
       " 'communes'}"
      ]
     },
     "execution_count": 29,
     "metadata": {},
     "output_type": "execute_result"
    }
   ],
   "source": [
    "commune_var"
   ]
  },
  {
   "cell_type": "code",
   "execution_count": 30,
   "metadata": {
    "collapsed": true
   },
   "outputs": [],
   "source": [
    "dict_var_groups[\"cat_min10_var\"] = dict_var_groups[\"cat_min10_var\"] | {'DEP', 'LIBGEO', \n",
    "                                                                       'communes'}\n",
    "dict_var_groups[\"cat_var\"] = dict_var_groups[\"cat_var\"] | {'DEP', 'LIBGEO', 'communes'}"
   ]
  },
  {
   "cell_type": "code",
   "execution_count": 31,
   "metadata": {
    "collapsed": true
   },
   "outputs": [],
   "source": [
    "dict_var_groups[\"commune_var\"] = commune_var"
   ]
  },
  {
   "cell_type": "code",
   "execution_count": 32,
   "metadata": {
    "collapsed": true
   },
   "outputs": [],
   "source": [
    "df = MergeCommunesEnvi.loc[:,commune_var]\n",
    "commune_quant_var = set(df.select_dtypes(include=['float64']).columns)\n",
    "dict_var_groups[\"quant_var\"] = dict_var_groups[\"quant_var\"] | commune_quant_var"
   ]
  },
  {
   "cell_type": "code",
   "execution_count": 33,
   "metadata": {
    "collapsed": true
   },
   "outputs": [],
   "source": [
    "cdv_2015_var = dict_var_groups['cdv_2015_var']\n",
    "cdv_2016_var = dict_var_groups['cdv_2016_var']\n",
    "cdv_2017_var = dict_var_groups['cdv_2017_var']\n",
    "cdv_2018_var = dict_var_groups['cdv_2018_var']\n",
    "cdv_2015_2018_var = dict_var_groups['cdv_2015_2018_var']\n",
    "cdv_2016_2018_var = dict_var_groups['cdv_2016_2018_var']\n",
    "cdv_2017_2018_var = dict_var_groups['cdv_2017_2018_var']\n",
    "\n",
    "scope_2015_var = cdv_2015_var | commune_var\n",
    "scope_2016_var = cdv_2016_var | commune_var\n",
    "scope_2017_var = cdv_2017_var | commune_var\n",
    "scope_2018_var = cdv_2018_var | commune_var\n",
    "scope_2015_2018_var = cdv_2015_2018_var | commune_var\n",
    "scope_2016_2018_var = cdv_2016_2018_var | commune_var\n",
    "scope_2017_2018_var = cdv_2017_2018_var | commune_var\n",
    "\n",
    "dict_var_groups[\"scope_2015_var\"] = scope_2015_var\n",
    "dict_var_groups[\"scope_2016_var\"] = scope_2016_var\n",
    "dict_var_groups[\"scope_2017_var\"] = scope_2017_var\n",
    "dict_var_groups[\"scope_2018_var\"] = scope_2018_var\n",
    "dict_var_groups[\"scope_2015_2018_var\"] = scope_2015_2018_var\n",
    "dict_var_groups[\"scope_2016_2018_var\"] = scope_2016_2018_var\n",
    "dict_var_groups[\"scope_2017_2018_var\"] = scope_2017_2018_var"
   ]
  },
  {
   "cell_type": "code",
   "execution_count": 34,
   "metadata": {
    "collapsed": true
   },
   "outputs": [],
   "source": [
    "dict_var_groups[\"indiv_semi_act_var\"] = indiv_semi_act_var\n",
    "dict_var_groups[\"indiv_act_var\"] = indiv_act_var\n",
    "dict_var_groups[\"admin_semi_act_var\"] = admin_semi_act_var\n",
    "dict_var_groups[\"admin_act_var\"] = admin_act_var"
   ]
  },
  {
   "cell_type": "code",
   "execution_count": 35,
   "metadata": {
    "collapsed": true
   },
   "outputs": [],
   "source": [
    "com_var = dict_var_groups['com_var']\n",
    "tech_var = dict_var_groups['tech_var']\n",
    "text_var = dict_var_groups['text_var']\n",
    "bizz_var = dict_var_groups['bizz_var']\n",
    "\n",
    "cat_max9_var = dict_var_groups['cat_max9_var']\n",
    "quant_var = dict_var_groups['quant_var']\n",
    "\n",
    "exclusion = com_var | tech_var | bizz_var | text_var \n",
    "# suppresionn of quantitative variables with more than 200 NaN\n",
    "quant_null = np.sum(MergeCommunesEnvi.loc[:,quant_var].isnull())\n",
    "quant_var_kept = set(quant_null[quant_null < 200].index)\n",
    "\n",
    "usual_common_scope = ((cat_max9_var | quant_var_kept) & scope_2015_2018_var) - exclusion\n",
    "\n",
    "dict_var_groups[\"exclusion\"] = exclusion\n",
    "dict_var_groups[\"usual_common_scope\"] = usual_common_scope"
   ]
  },
  {
   "cell_type": "markdown",
   "metadata": {},
   "source": [
    "### Adding work on features of September\n"
   ]
  },
  {
   "cell_type": "code",
   "execution_count": 36,
   "metadata": {},
   "outputs": [],
   "source": [
    "# loadind xlsx file with agreement data \n",
    "file = path_data / Path(\"Base of Actionable Var. - Survey Data.xlsx\")\n",
    "with Path.open(file, 'rb') as fp:\n",
    "    agreement = pd.read_excel(fp, \n",
    "                        sheetname='List 1 Actionable Individual',\n",
    "                        parse_cols=\"C,H\",\n",
    "                        index_col=0\n",
    "                       )"
   ]
  },
  {
   "cell_type": "code",
   "execution_count": 37,
   "metadata": {},
   "outputs": [
    {
     "data": {
      "text/html": [
       "<div>\n",
       "<style>\n",
       "    .dataframe thead tr:only-child th {\n",
       "        text-align: right;\n",
       "    }\n",
       "\n",
       "    .dataframe thead th {\n",
       "        text-align: left;\n",
       "    }\n",
       "\n",
       "    .dataframe tbody tr th {\n",
       "        vertical-align: top;\n",
       "    }\n",
       "</style>\n",
       "<table border=\"1\" class=\"dataframe\">\n",
       "  <thead>\n",
       "    <tr style=\"text-align: right;\">\n",
       "      <th></th>\n",
       "      <th>Agreement</th>\n",
       "    </tr>\n",
       "    <tr>\n",
       "      <th>Variables</th>\n",
       "      <th></th>\n",
       "    </tr>\n",
       "  </thead>\n",
       "  <tbody>\n",
       "    <tr>\n",
       "      <th>INTER6</th>\n",
       "      <td>4</td>\n",
       "    </tr>\n",
       "    <tr>\n",
       "      <th>INTER</th>\n",
       "      <td>4</td>\n",
       "    </tr>\n",
       "    <tr>\n",
       "      <th>ANNEEFUZ</th>\n",
       "      <td>4</td>\n",
       "    </tr>\n",
       "    <tr>\n",
       "      <th>ANNEFUZ2</th>\n",
       "      <td>4</td>\n",
       "    </tr>\n",
       "    <tr>\n",
       "      <th>COLLECTE</th>\n",
       "      <td>4</td>\n",
       "    </tr>\n",
       "  </tbody>\n",
       "</table>\n",
       "</div>"
      ],
      "text/plain": [
       "           Agreement\n",
       "Variables           \n",
       "INTER6             4\n",
       "INTER              4\n",
       "ANNEEFUZ           4\n",
       "ANNEFUZ2           4\n",
       "COLLECTE           4"
      ]
     },
     "execution_count": 37,
     "metadata": {},
     "output_type": "execute_result"
    }
   ],
   "source": [
    "agreement.head()"
   ]
  },
  {
   "cell_type": "code",
   "execution_count": 38,
   "metadata": {},
   "outputs": [],
   "source": [
    "cdv_actionable_individual_1 = set(agreement.loc[agreement.loc[:,\"Agreement\"]==1,:].index)\n",
    "cdv_actionable_individual_2 = set(agreement.loc[agreement.loc[:,\"Agreement\"]==2,:].index)\n",
    "cdv_actionable_individual_3 = set(agreement.loc[agreement.loc[:,\"Agreement\"]==3,:].index)\n",
    "cdv_actionable_individual_4 = set(agreement.loc[agreement.loc[:,\"Agreement\"]==4,:].index)"
   ]
  },
  {
   "cell_type": "code",
   "execution_count": 39,
   "metadata": {},
   "outputs": [],
   "source": [
    "dict_var_groups[\"cdv_actionable_individual_1\"] = cdv_actionable_individual_1\n",
    "dict_var_groups[\"cdv_actionable_individual_2\"] = cdv_actionable_individual_2\n",
    "dict_var_groups[\"cdv_actionable_individual_3\"] = cdv_actionable_individual_3\n",
    "dict_var_groups[\"cdv_actionable_individual_4\"] = cdv_actionable_individual_4"
   ]
  },
  {
   "cell_type": "code",
   "execution_count": 40,
   "metadata": {},
   "outputs": [],
   "source": [
    "# loadind xlsx file with agreement data \n",
    "file = path_data / Path(\"Base of Actionable Var. - Survey Data.xlsx\")\n",
    "with Path.open(file, 'rb') as fp:\n",
    "    agreement = pd.read_excel(fp, \n",
    "                        sheetname='List 2 Actionable Admin',\n",
    "                        parse_cols=\"C,H\",\n",
    "                        index_col=0\n",
    "                       )"
   ]
  },
  {
   "cell_type": "code",
   "execution_count": 41,
   "metadata": {},
   "outputs": [
    {
     "data": {
      "text/html": [
       "<div>\n",
       "<style>\n",
       "    .dataframe thead tr:only-child th {\n",
       "        text-align: right;\n",
       "    }\n",
       "\n",
       "    .dataframe thead th {\n",
       "        text-align: left;\n",
       "    }\n",
       "\n",
       "    .dataframe tbody tr th {\n",
       "        vertical-align: top;\n",
       "    }\n",
       "</style>\n",
       "<table border=\"1\" class=\"dataframe\">\n",
       "  <thead>\n",
       "    <tr style=\"text-align: right;\">\n",
       "      <th></th>\n",
       "      <th>Agreement</th>\n",
       "    </tr>\n",
       "    <tr>\n",
       "      <th>Variables</th>\n",
       "      <th></th>\n",
       "    </tr>\n",
       "  </thead>\n",
       "  <tbody>\n",
       "    <tr>\n",
       "      <th>INTER6</th>\n",
       "      <td>4</td>\n",
       "    </tr>\n",
       "    <tr>\n",
       "      <th>INTER</th>\n",
       "      <td>4</td>\n",
       "    </tr>\n",
       "    <tr>\n",
       "      <th>ANNEEFUZ</th>\n",
       "      <td>4</td>\n",
       "    </tr>\n",
       "    <tr>\n",
       "      <th>ANNEFUZ2</th>\n",
       "      <td>4</td>\n",
       "    </tr>\n",
       "    <tr>\n",
       "      <th>COLLECTE</th>\n",
       "      <td>4</td>\n",
       "    </tr>\n",
       "  </tbody>\n",
       "</table>\n",
       "</div>"
      ],
      "text/plain": [
       "           Agreement\n",
       "Variables           \n",
       "INTER6             4\n",
       "INTER              4\n",
       "ANNEEFUZ           4\n",
       "ANNEFUZ2           4\n",
       "COLLECTE           4"
      ]
     },
     "execution_count": 41,
     "metadata": {},
     "output_type": "execute_result"
    }
   ],
   "source": [
    "agreement.head()"
   ]
  },
  {
   "cell_type": "code",
   "execution_count": 42,
   "metadata": {
    "collapsed": true
   },
   "outputs": [],
   "source": [
    "cdv_actionable_admin_1 = set(agreement.loc[agreement.loc[:,\"Agreement\"]==1,:].index)\n",
    "cdv_actionable_admin_2 = set(agreement.loc[agreement.loc[:,\"Agreement\"]==2,:].index)\n",
    "cdv_actionable_admin_3 = set(agreement.loc[agreement.loc[:,\"Agreement\"]==3,:].index)\n",
    "cdv_actionable_admin_4 = set(agreement.loc[agreement.loc[:,\"Agreement\"]==4,:].index)\n",
    "cdv_actionable_admin_5 = set(agreement.loc[agreement.loc[:,\"Agreement\"]==5,:].index)"
   ]
  },
  {
   "cell_type": "code",
   "execution_count": 43,
   "metadata": {
    "collapsed": true
   },
   "outputs": [],
   "source": [
    "dict_var_groups[\"cdv_actionable_admin_1\"] = cdv_actionable_admin_1\n",
    "dict_var_groups[\"cdv_actionable_admin_2\"] = cdv_actionable_admin_2\n",
    "dict_var_groups[\"cdv_actionable_admin_3\"] = cdv_actionable_admin_3\n",
    "dict_var_groups[\"cdv_actionable_admin_4\"] = cdv_actionable_admin_4\n",
    "dict_var_groups[\"cdv_actionable_admin_5\"] = cdv_actionable_admin_5"
   ]
  },
  {
   "cell_type": "code",
   "execution_count": 44,
   "metadata": {
    "collapsed": true
   },
   "outputs": [],
   "source": [
    "# loadind xlsx file with agreement data \n",
    "file = path_data / Path(\"Base Admin Action. Var. - Recreation.xlsx\")\n",
    "with Path.open(file, 'rb') as fp:\n",
    "    agreement = pd.read_excel(fp, \n",
    "                              sheetname='Actionable Variables',\n",
    "                              parse_cols=\"B,E\",\n",
    "                              index_col=0,\n",
    "                              skiprows=[0,1]\n",
    "                             )"
   ]
  },
  {
   "cell_type": "code",
   "execution_count": 45,
   "metadata": {},
   "outputs": [
    {
     "data": {
      "text/html": [
       "<div>\n",
       "<style>\n",
       "    .dataframe thead tr:only-child th {\n",
       "        text-align: right;\n",
       "    }\n",
       "\n",
       "    .dataframe thead th {\n",
       "        text-align: left;\n",
       "    }\n",
       "\n",
       "    .dataframe tbody tr th {\n",
       "        vertical-align: top;\n",
       "    }\n",
       "</style>\n",
       "<table border=\"1\" class=\"dataframe\">\n",
       "  <thead>\n",
       "    <tr style=\"text-align: right;\">\n",
       "      <th></th>\n",
       "      <th>Agreement</th>\n",
       "    </tr>\n",
       "    <tr>\n",
       "      <th>Variable</th>\n",
       "      <th></th>\n",
       "    </tr>\n",
       "  </thead>\n",
       "  <tbody>\n",
       "    <tr>\n",
       "      <th>CODGEO</th>\n",
       "      <td>4</td>\n",
       "    </tr>\n",
       "    <tr>\n",
       "      <th>Libellé commune ou ARM</th>\n",
       "      <td>4</td>\n",
       "    </tr>\n",
       "    <tr>\n",
       "      <th>Région</th>\n",
       "      <td>4</td>\n",
       "    </tr>\n",
       "    <tr>\n",
       "      <th>Département</th>\n",
       "      <td>4</td>\n",
       "    </tr>\n",
       "    <tr>\n",
       "      <th>Bassin de natation</th>\n",
       "      <td>1</td>\n",
       "    </tr>\n",
       "  </tbody>\n",
       "</table>\n",
       "</div>"
      ],
      "text/plain": [
       "                        Agreement\n",
       "Variable                         \n",
       "CODGEO                          4\n",
       "Libellé commune ou ARM          4\n",
       "Région                          4\n",
       "Département                     4\n",
       "Bassin de natation              1"
      ]
     },
     "execution_count": 45,
     "metadata": {},
     "output_type": "execute_result"
    }
   ],
   "source": [
    "agreement.head()"
   ]
  },
  {
   "cell_type": "code",
   "execution_count": 46,
   "metadata": {
    "collapsed": true
   },
   "outputs": [],
   "source": [
    "insee_recreation_actionable_admin_1 = set(agreement.loc[agreement.loc[:,\"Agreement\"]==1,:].index)\n",
    "insee_recreation_actionable_admin_2 = set(agreement.loc[agreement.loc[:,\"Agreement\"]==2,:].index)\n",
    "insee_recreation_actionable_admin_3 = set(agreement.loc[agreement.loc[:,\"Agreement\"]==3,:].index)\n",
    "insee_recreation_actionable_admin_4 = set(agreement.loc[agreement.loc[:,\"Agreement\"]==4,:].index)\n",
    "insee_recreation_actionable_admin_5 = set(agreement.loc[agreement.loc[:,\"Agreement\"]==5,:].index)"
   ]
  },
  {
   "cell_type": "code",
   "execution_count": 47,
   "metadata": {
    "collapsed": true
   },
   "outputs": [],
   "source": [
    "dict_var_groups[\"insee_recreation_actionable_admin_1\"] = insee_recreation_actionable_admin_1\n",
    "dict_var_groups[\"insee_recreation_actionable_admin_2\"] = insee_recreation_actionable_admin_2\n",
    "dict_var_groups[\"insee_recreation_actionable_admin_3\"] = insee_recreation_actionable_admin_3\n",
    "dict_var_groups[\"insee_recreation_actionable_admin_4\"] = insee_recreation_actionable_admin_4\n",
    "dict_var_groups[\"insee_recreation_actionable_admin_5\"] = insee_recreation_actionable_admin_5"
   ]
  },
  {
   "cell_type": "code",
   "execution_count": 48,
   "metadata": {
    "collapsed": true
   },
   "outputs": [],
   "source": [
    "# loadind xlsx file with agreement data \n",
    "file = path_data / Path(\"Base Admin Action. Var. - Environment.xlsx\")\n",
    "with Path.open(file, 'rb') as fp:\n",
    "    agreement = pd.read_excel(fp, \n",
    "                              sheetname='Actionable Variables',\n",
    "                              parse_cols=\"B,E\",\n",
    "                              index_col=0,\n",
    "                              skiprows=[0,1,2,3,4]\n",
    "                             )"
   ]
  },
  {
   "cell_type": "code",
   "execution_count": 49,
   "metadata": {},
   "outputs": [
    {
     "data": {
      "text/html": [
       "<div>\n",
       "<style>\n",
       "    .dataframe thead tr:only-child th {\n",
       "        text-align: right;\n",
       "    }\n",
       "\n",
       "    .dataframe thead th {\n",
       "        text-align: left;\n",
       "    }\n",
       "\n",
       "    .dataframe tbody tr th {\n",
       "        vertical-align: top;\n",
       "    }\n",
       "</style>\n",
       "<table border=\"1\" class=\"dataframe\">\n",
       "  <thead>\n",
       "    <tr style=\"text-align: right;\">\n",
       "      <th></th>\n",
       "      <th>Agreement</th>\n",
       "    </tr>\n",
       "    <tr>\n",
       "      <th>Variable</th>\n",
       "      <th></th>\n",
       "    </tr>\n",
       "  </thead>\n",
       "  <tbody>\n",
       "    <tr>\n",
       "      <th>Code</th>\n",
       "      <td>4</td>\n",
       "    </tr>\n",
       "    <tr>\n",
       "      <th>communes</th>\n",
       "      <td>4</td>\n",
       "    </tr>\n",
       "    <tr>\n",
       "      <th>Superficie protection forte - 2017 (ha)</th>\n",
       "      <td>4</td>\n",
       "    </tr>\n",
       "    <tr>\n",
       "      <th>Part protection forte - 2017 (%)</th>\n",
       "      <td>1</td>\n",
       "    </tr>\n",
       "    <tr>\n",
       "      <th>Superficie protection contractuelle - 2017 (ha)</th>\n",
       "      <td>4</td>\n",
       "    </tr>\n",
       "  </tbody>\n",
       "</table>\n",
       "</div>"
      ],
      "text/plain": [
       "                                                 Agreement\n",
       "Variable                                                  \n",
       "Code                                                     4\n",
       "communes                                                 4\n",
       "Superficie protection forte - 2017 (ha)                  4\n",
       "Part protection forte - 2017 (%)                         1\n",
       "Superficie protection contractuelle - 2017 (ha)          4"
      ]
     },
     "execution_count": 49,
     "metadata": {},
     "output_type": "execute_result"
    }
   ],
   "source": [
    "agreement.head()"
   ]
  },
  {
   "cell_type": "code",
   "execution_count": 50,
   "metadata": {
    "collapsed": true
   },
   "outputs": [],
   "source": [
    "insee_environment_actionable_admin_1 = set(agreement.loc[agreement.loc[:,\"Agreement\"]==1,:].index)\n",
    "insee_environment_actionable_admin_2 = set(agreement.loc[agreement.loc[:,\"Agreement\"]==2,:].index)\n",
    "insee_environment_actionable_admin_3 = set(agreement.loc[agreement.loc[:,\"Agreement\"]==3,:].index)\n",
    "insee_environment_actionable_admin_4 = set(agreement.loc[agreement.loc[:,\"Agreement\"]==4,:].index)\n",
    "insee_environment_actionable_admin_5 = set(agreement.loc[agreement.loc[:,\"Agreement\"]==5,:].index)"
   ]
  },
  {
   "cell_type": "code",
   "execution_count": 51,
   "metadata": {
    "collapsed": true
   },
   "outputs": [],
   "source": [
    "dict_var_groups[\"insee_environment_actionable_admin_1\"] = insee_environment_actionable_admin_1\n",
    "dict_var_groups[\"insee_environment_actionable_admin_2\"] = insee_environment_actionable_admin_2\n",
    "dict_var_groups[\"insee_environment_actionable_admin_3\"] = insee_environment_actionable_admin_3\n",
    "dict_var_groups[\"insee_environment_actionable_admin_4\"] = insee_environment_actionable_admin_4\n",
    "dict_var_groups[\"insee_environment_actionable_admin_5\"] = insee_environment_actionable_admin_5"
   ]
  },
  {
   "cell_type": "code",
   "execution_count": null,
   "metadata": {
    "collapsed": true
   },
   "outputs": [],
   "source": []
  },
  {
   "cell_type": "code",
   "execution_count": 52,
   "metadata": {
    "collapsed": true
   },
   "outputs": [],
   "source": [
    "# loadind xlsx file with agreement data \n",
    "file = path_data / Path(\"Base Admin Action. Var. - Demographics.xlsx\")\n",
    "with Path.open(file, 'rb') as fp:\n",
    "    agreement = pd.read_excel(fp, \n",
    "                              sheetname='Actionable Variables',\n",
    "                              parse_cols=\"D,G\",\n",
    "                              index_col=0,\n",
    "                              skiprows=[0,1,2,3,4,5,6]\n",
    "                             )"
   ]
  },
  {
   "cell_type": "code",
   "execution_count": 53,
   "metadata": {},
   "outputs": [
    {
     "data": {
      "text/html": [
       "<div>\n",
       "<style>\n",
       "    .dataframe thead tr:only-child th {\n",
       "        text-align: right;\n",
       "    }\n",
       "\n",
       "    .dataframe thead th {\n",
       "        text-align: left;\n",
       "    }\n",
       "\n",
       "    .dataframe tbody tr th {\n",
       "        vertical-align: top;\n",
       "    }\n",
       "</style>\n",
       "<table border=\"1\" class=\"dataframe\">\n",
       "  <thead>\n",
       "    <tr style=\"text-align: right;\">\n",
       "      <th></th>\n",
       "      <th>Agreement</th>\n",
       "    </tr>\n",
       "    <tr>\n",
       "      <th>VAR_LIB_LONG</th>\n",
       "      <th></th>\n",
       "    </tr>\n",
       "  </thead>\n",
       "  <tbody>\n",
       "    <tr>\n",
       "      <th>Code du département suivi du numéro de commune ou du numéro d'arrondissement municipal</th>\n",
       "      <td>4</td>\n",
       "    </tr>\n",
       "    <tr>\n",
       "      <th>Libellé de la commune ou de l'arrondissement municipal pour Paris, Lyon et Marseille</th>\n",
       "      <td>4</td>\n",
       "    </tr>\n",
       "    <tr>\n",
       "      <th>Région</th>\n",
       "      <td>4</td>\n",
       "    </tr>\n",
       "    <tr>\n",
       "      <th>Département</th>\n",
       "      <td>4</td>\n",
       "    </tr>\n",
       "    <tr>\n",
       "      <th>Population en 2015</th>\n",
       "      <td>3</td>\n",
       "    </tr>\n",
       "  </tbody>\n",
       "</table>\n",
       "</div>"
      ],
      "text/plain": [
       "                                                    Agreement\n",
       "VAR_LIB_LONG                                                 \n",
       "Code du département suivi du numéro de commune ...          4\n",
       "Libellé de la commune ou de l'arrondissement mu...          4\n",
       "Région                                                      4\n",
       "Département                                                 4\n",
       "Population en 2015                                          3"
      ]
     },
     "execution_count": 53,
     "metadata": {},
     "output_type": "execute_result"
    }
   ],
   "source": [
    "agreement.head()"
   ]
  },
  {
   "cell_type": "code",
   "execution_count": 54,
   "metadata": {
    "collapsed": true
   },
   "outputs": [],
   "source": [
    "insee_demographics_actionable_admin_1 = set(agreement.loc[agreement.loc[:,\"Agreement\"]==1,:].index)\n",
    "insee_demographics_actionable_admin_2 = set(agreement.loc[agreement.loc[:,\"Agreement\"]==2,:].index)\n",
    "insee_demographics_actionable_admin_3 = set(agreement.loc[agreement.loc[:,\"Agreement\"]==3,:].index)\n",
    "insee_demographics_actionable_admin_4 = set(agreement.loc[agreement.loc[:,\"Agreement\"]==4,:].index)\n",
    "insee_demographics_actionable_admin_5 = set(agreement.loc[agreement.loc[:,\"Agreement\"]==5,:].index)"
   ]
  },
  {
   "cell_type": "code",
   "execution_count": 55,
   "metadata": {
    "collapsed": true
   },
   "outputs": [],
   "source": [
    "dict_var_groups[\"insee_demographics_actionable_admin_1\"] = insee_demographics_actionable_admin_1\n",
    "dict_var_groups[\"insee_demographics_actionable_admin_2\"] = insee_demographics_actionable_admin_2\n",
    "dict_var_groups[\"insee_demographics_actionable_admin_3\"] = insee_demographics_actionable_admin_3\n",
    "dict_var_groups[\"insee_demographics_actionable_admin_4\"] = insee_demographics_actionable_admin_4\n",
    "dict_var_groups[\"insee_demographics_actionable_admin_5\"] = insee_demographics_actionable_admin_5"
   ]
  },
  {
   "cell_type": "code",
   "execution_count": 56,
   "metadata": {},
   "outputs": [
    {
     "data": {
      "text/plain": [
       "['cdv_2015_var',\n",
       " 'cdv_2016_var',\n",
       " 'cdv_2017_var',\n",
       " 'cdv_2018_var',\n",
       " 'cdv_2015_2018_var',\n",
       " 'cdv_2016_2018_var',\n",
       " 'cdv_2017_2018_var',\n",
       " 'pred_var',\n",
       " 'tech_var',\n",
       " 'com_var',\n",
       " 'text_var',\n",
       " 'bizz_var',\n",
       " 'cat_var',\n",
       " 'cat_max9_var',\n",
       " 'cat_min10_var',\n",
       " 'quant_var',\n",
       " 'commune_var',\n",
       " 'scope_2015_var',\n",
       " 'scope_2016_var',\n",
       " 'scope_2017_var',\n",
       " 'scope_2018_var',\n",
       " 'scope_2015_2018_var',\n",
       " 'scope_2016_2018_var',\n",
       " 'scope_2017_2018_var',\n",
       " 'indiv_semi_act_var',\n",
       " 'indiv_act_var',\n",
       " 'admin_semi_act_var',\n",
       " 'admin_act_var',\n",
       " 'exclusion',\n",
       " 'usual_common_scope',\n",
       " 'cdv_actionable_individual_1',\n",
       " 'cdv_actionable_individual_2',\n",
       " 'cdv_actionable_individual_3',\n",
       " 'cdv_actionable_individual_4',\n",
       " 'cdv_actionable_admin_1',\n",
       " 'cdv_actionable_admin_2',\n",
       " 'cdv_actionable_admin_3',\n",
       " 'cdv_actionable_admin_4',\n",
       " 'cdv_actionable_admin_5',\n",
       " 'insee_recreation_actionable_admin_1',\n",
       " 'insee_recreation_actionable_admin_2',\n",
       " 'insee_recreation_actionable_admin_3',\n",
       " 'insee_recreation_actionable_admin_4',\n",
       " 'insee_recreation_actionable_admin_5',\n",
       " 'insee_environment_actionable_admin_1',\n",
       " 'insee_environment_actionable_admin_2',\n",
       " 'insee_environment_actionable_admin_3',\n",
       " 'insee_environment_actionable_admin_4',\n",
       " 'insee_environment_actionable_admin_5',\n",
       " 'insee_demographics_actionable_admin_1',\n",
       " 'insee_demographics_actionable_admin_2',\n",
       " 'insee_demographics_actionable_admin_3',\n",
       " 'insee_demographics_actionable_admin_4',\n",
       " 'insee_demographics_actionable_admin_5']"
      ]
     },
     "execution_count": 56,
     "metadata": {},
     "output_type": "execute_result"
    }
   ],
   "source": [
    "[k for k in dict_var_groups.keys()]"
   ]
  },
  {
   "cell_type": "code",
   "execution_count": null,
   "metadata": {},
   "outputs": [],
   "source": []
  },
  {
   "cell_type": "code",
   "execution_count": null,
   "metadata": {
    "collapsed": true
   },
   "outputs": [],
   "source": []
  },
  {
   "cell_type": "code",
   "execution_count": null,
   "metadata": {
    "collapsed": true
   },
   "outputs": [],
   "source": []
  },
  {
   "cell_type": "code",
   "execution_count": 57,
   "metadata": {
    "collapsed": true
   },
   "outputs": [],
   "source": [
    "filename = path_dump / Path(\"dict_var_groups.sav\")\n",
    "with open(filename, 'wb') as fp:\n",
    "     pickle.dump(dict_var_groups,fp,pickle.HIGHEST_PROTOCOL)"
   ]
  },
  {
   "cell_type": "markdown",
   "metadata": {},
   "source": [
    "#### Dataset"
   ]
  },
  {
   "cell_type": "code",
   "execution_count": 58,
   "metadata": {},
   "outputs": [
    {
     "name": "stdout",
     "output_type": "stream",
     "text": [
      "810 columns after encoding of 150categorial variables in 553 binary variables (K-1 one hot encoding)\n"
     ]
    }
   ],
   "source": [
    "df = MergeCommunesEnvi.loc[:,:]\n",
    "df.loc[:,cdv_ssfmt.columns] = cdv_ssfmt.loc[:,:]\n",
    "df = df.loc[:,usual_common_scope]\n",
    "df.loc[:,(cat_var & usual_common_scope) - {\"HEUREUX\"}] = cdv.loc[:,(cat_var & usual_common_scope) - {\"HEUREUX\"}]\n",
    "\n",
    "\n",
    "dataset = pd.get_dummies(\n",
    "    df, \n",
    "    columns=(cat_var & usual_common_scope) - {\"HEUREUX\"},\n",
    "    dummy_na = True,\n",
    "    drop_first=1\n",
    ")\n",
    "\n",
    "print(f\"{dataset.shape[1]} columns after encoding of {len((cat_var & usual_common_scope))-1}\\\n",
    "categorial variables in {len((cat_var & usual_common_scope))-1+dataset.shape[1]-df.shape[1]}\\\n",
    " binary variables (K-1 one hot encoding)\")"
   ]
  },
  {
   "cell_type": "code",
   "execution_count": 59,
   "metadata": {
    "collapsed": true
   },
   "outputs": [],
   "source": [
    "# saving dataset data\n",
    "file = path_data / Path(\"dataset.csv\")\n",
    "with Path.open(file, 'w') as fp:\n",
    "    dataset.to_csv(fp,  encoding='utf-8')"
   ]
  },
  {
   "cell_type": "code",
   "execution_count": 60,
   "metadata": {},
   "outputs": [
    {
     "name": "stdout",
     "output_type": "stream",
     "text": [
      "796 columns after encoding of 159 categorial variables in 539 binary variables (K-1 one hot encoding)\n"
     ]
    }
   ],
   "source": [
    "idx_2017_2018 = MergeCommunesEnvi.loc[MergeCommunesEnvi['ANNEEFUZ'].isin([39,40]),:].index\n",
    "df = MergeCommunesEnvi.loc[idx_2017_2018,:]\n",
    "df.loc[:,cdv_ssfmt.columns] = cdv_ssfmt.loc[idx_2017_2018,:]\n",
    "\n",
    "\n",
    "f_2017_2018 = ((cat_max9_var | quant_var_kept) & scope_2017_2018_var) - exclusion\n",
    "\n",
    "df = df.loc[:,f_2017_2018]\n",
    "df.loc[:,(cat_var & f_2017_2018) - {\"HEUREUX\"}] = cdv.loc[idx_2017_2018,(cat_var & f_2017_2018) - {\"HEUREUX\"}]\n",
    "\n",
    "\n",
    "dataset_2017_2018 = pd.get_dummies(\n",
    "    df, \n",
    "    columns=(cat_var & usual_common_scope) - {\"HEUREUX\"},\n",
    "    dummy_na = True,\n",
    "    drop_first=1\n",
    ")\n",
    "\n",
    "print(f\"{dataset_2017_2018.shape[1]} columns after encoding of {len((cat_var & f_2017_2018))-1} \\\n",
    "categorial variables in {len((cat_var & f_2017_2018))-1+dataset_2017_2018.shape[1]-df.shape[1]} \\\n",
    "binary variables (K-1 one hot encoding)\")"
   ]
  },
  {
   "cell_type": "code",
   "execution_count": 61,
   "metadata": {
    "collapsed": true
   },
   "outputs": [],
   "source": [
    "# saving dataset data\n",
    "file = path_data / Path(\"dataset_2017_2018.csv\")\n",
    "with Path.open(file, 'w') as fp:\n",
    "    dataset_2017_2018.to_csv(fp,  encoding='utf-8')"
   ]
  },
  {
   "cell_type": "markdown",
   "metadata": {},
   "source": [
    "#### Construction of usefull feature sets\n",
    "Including ...\n",
    "Lasso or other feature selection methods, ....\n"
   ]
  },
  {
   "cell_type": "code",
   "execution_count": null,
   "metadata": {
    "collapsed": true
   },
   "outputs": [],
   "source": []
  },
  {
   "cell_type": "code",
   "execution_count": 62,
   "metadata": {
    "collapsed": true
   },
   "outputs": [],
   "source": [
    "dict_features_sets = dict()"
   ]
  },
  {
   "cell_type": "code",
   "execution_count": 63,
   "metadata": {
    "collapsed": true
   },
   "outputs": [],
   "source": [
    "usual_common_features  = set(dataset.columns)\n",
    "dict_features_sets['usual_common_features'] = usual_common_features"
   ]
  },
  {
   "cell_type": "code",
   "execution_count": 64,
   "metadata": {},
   "outputs": [
    {
     "name": "stdout",
     "output_type": "stream",
     "text": [
      "50 columns after encoding of 13 categorial variables in 40 binary variables (K-1 one hot encoding)\n"
     ]
    }
   ],
   "source": [
    "df = MergeCommunesEnvi.loc[:,:]\n",
    "df.loc[:,cdv_ssfmt.columns] = cdv_ssfmt.loc[:,:]\n",
    "scope = indiv_act_var & usual_common_scope\n",
    "df = df.loc[:,scope]\n",
    "df.loc[:,(cat_var & scope) - {\"HEUREUX\"}] = cdv.loc[:,(cat_var & scope) - {\"HEUREUX\"}]\n",
    "\n",
    "df_dummies = pd.get_dummies(\n",
    "    df, \n",
    "    columns=(cat_var & scope),\n",
    "    dummy_na = True,\n",
    "    drop_first=1\n",
    ")\n",
    "\n",
    "print(f\"{df_dummies.shape[1]} columns after encoding of {len((cat_var & scope))} categorial \\\n",
    "variables in {len((cat_var & scope))+df_dummies.shape[1]-df.shape[1]} binary variables \\\n",
    "(K-1 one hot encoding)\")\n",
    "\n",
    "indiv_act_features = set(df_dummies.columns)\n",
    "dict_features_sets['indiv_act_features'] = indiv_act_features"
   ]
  },
  {
   "cell_type": "code",
   "execution_count": 65,
   "metadata": {},
   "outputs": [
    {
     "name": "stdout",
     "output_type": "stream",
     "text": [
      "73 columns after encoding of 17 categorial variables in 60 binary variables (K-1 one hot encoding)\n"
     ]
    }
   ],
   "source": [
    "df = MergeCommunesEnvi.loc[:,:]\n",
    "df.loc[:,cdv_ssfmt.columns] = cdv_ssfmt.loc[:,:]\n",
    "scope = indiv_semi_act_var & usual_common_scope\n",
    "df = df.loc[:,scope]\n",
    "df.loc[:,(cat_var & scope) - {\"HEUREUX\"}] = cdv.loc[:,(cat_var & scope) - {\"HEUREUX\"}]\n",
    "\n",
    "df_dummies = pd.get_dummies(\n",
    "    df, \n",
    "    columns=(cat_var & scope),\n",
    "    dummy_na = True,\n",
    "    drop_first=1\n",
    ")\n",
    "\n",
    "print(f\"{df_dummies.shape[1]} columns after encoding of {len((cat_var & scope))} categorial \\\n",
    "variables in {len((cat_var & scope))+df_dummies.shape[1]-df.shape[1]} binary variables \\\n",
    "(K-1 one hot encoding)\")\n",
    "\n",
    "indiv_semi_act_features = set(df_dummies.columns)\n",
    "dict_features_sets['indiv_semi_act_features'] = indiv_semi_act_features"
   ]
  },
  {
   "cell_type": "code",
   "execution_count": 66,
   "metadata": {},
   "outputs": [
    {
     "name": "stdout",
     "output_type": "stream",
     "text": [
      "13 columns after encoding of 3 categorial variables in 9 binary variables (K-1 one hot encoding)\n"
     ]
    }
   ],
   "source": [
    "df = MergeCommunesEnvi.loc[:,:]\n",
    "df.loc[:,cdv_ssfmt.columns] = cdv_ssfmt.loc[:,:]\n",
    "scope = admin_act_var & usual_common_scope\n",
    "df = df.loc[:,scope]\n",
    "df.loc[:,(cat_var & scope) - {\"HEUREUX\"}] = cdv.loc[:,(cat_var & scope) - {\"HEUREUX\"}]\n",
    "\n",
    "df_dummies = pd.get_dummies(\n",
    "    df, \n",
    "    columns=(cat_var & scope),\n",
    "    dummy_na = True,\n",
    "    drop_first=1\n",
    ")\n",
    "\n",
    "print(f\"{df_dummies.shape[1]} columns after encoding of {len((cat_var & scope))} categorial \\\n",
    "variables in {len((cat_var & scope))+df_dummies.shape[1]-df.shape[1]} binary variables \\\n",
    "(K-1 one hot encoding)\")\n",
    "\n",
    "admin_act_features = set(df_dummies.columns)\n",
    "dict_features_sets['admin_act_features'] = admin_act_features"
   ]
  },
  {
   "cell_type": "code",
   "execution_count": 67,
   "metadata": {},
   "outputs": [
    {
     "name": "stdout",
     "output_type": "stream",
     "text": [
      "25 columns after encoding of 6 categorial variables in 20 binary variables (K-1 one hot encoding)\n"
     ]
    }
   ],
   "source": [
    "df = MergeCommunesEnvi.loc[:,:]\n",
    "df.loc[:,cdv_ssfmt.columns] = cdv_ssfmt.loc[:,:]\n",
    "scope = admin_semi_act_var & usual_common_scope\n",
    "df = df.loc[:,scope]\n",
    "df.loc[:,(cat_var & scope) - {\"HEUREUX\"}] = cdv.loc[:,(cat_var & scope) - {\"HEUREUX\"}]\n",
    "\n",
    "df_dummies = pd.get_dummies(\n",
    "    df, \n",
    "    columns=(cat_var & scope),\n",
    "    dummy_na = True,\n",
    "    drop_first=1\n",
    ")\n",
    "\n",
    "print(f\"{df_dummies.shape[1]} columns after encoding of {len((cat_var & scope))} categorial \\\n",
    "variables in {len((cat_var & scope))+df_dummies.shape[1]-df.shape[1]} binary variables \\\n",
    "(K-1 one hot encoding)\")\n",
    "\n",
    "admin_semi_act_features = set(df_dummies.columns)\n",
    "dict_features_sets['admin_semi_act_features'] = admin_semi_act_features"
   ]
  },
  {
   "cell_type": "code",
   "execution_count": 68,
   "metadata": {},
   "outputs": [
    {
     "name": "stdout",
     "output_type": "stream",
     "text": [
      "193 columns after encoding of 57 categorial variables in 163 binary variables (K-1 one hot encoding)\n"
     ]
    }
   ],
   "source": [
    "# Adding work of variable workshop\n",
    "df = MergeCommunesEnvi.loc[:,:]\n",
    "df.loc[:,cdv_ssfmt.columns] = cdv_ssfmt.loc[:,:]\n",
    "scope = (cdv_actionable_individual_1) & usual_common_scope\n",
    "df = df.loc[:,scope]\n",
    "df.loc[:,(cat_var & scope) - {\"HEUREUX\"}] = cdv.loc[:,(cat_var & scope) - {\"HEUREUX\"}]\n",
    "\n",
    "df_dummies = pd.get_dummies(\n",
    "    df, \n",
    "    columns=(cat_var & scope),\n",
    "    dummy_na = True,\n",
    "    drop_first=1\n",
    ")\n",
    "\n",
    "print(f\"{df_dummies.shape[1]} columns after encoding of {len((cat_var & scope))} categorial \\\n",
    "variables in {len((cat_var & scope))+df_dummies.shape[1]-df.shape[1]} binary variables \\\n",
    "(K-1 one hot encoding)\")\n",
    "\n",
    "cdv_actionable_individual_1_features = set(df_dummies.columns)\n",
    "dict_features_sets['cdv_actionable_individual_1_features'] = cdv_actionable_individual_1_features"
   ]
  },
  {
   "cell_type": "code",
   "execution_count": 69,
   "metadata": {},
   "outputs": [
    {
     "name": "stdout",
     "output_type": "stream",
     "text": [
      "230 columns after encoding of 54 categorial variables in 210 binary variables (K-1 one hot encoding)\n"
     ]
    }
   ],
   "source": [
    "# Adding work of variable workshop\n",
    "df = MergeCommunesEnvi.loc[:,:]\n",
    "df.loc[:,cdv_ssfmt.columns] = cdv_ssfmt.loc[:,:]\n",
    "scope = (cdv_actionable_individual_2) & usual_common_scope\n",
    "df = df.loc[:,scope]\n",
    "df.loc[:,(cat_var & scope) - {\"HEUREUX\"}] = cdv.loc[:,(cat_var & scope) - {\"HEUREUX\"}]\n",
    "\n",
    "df_dummies = pd.get_dummies(\n",
    "    df, \n",
    "    columns=(cat_var & scope),\n",
    "    dummy_na = True,\n",
    "    drop_first=1\n",
    ")\n",
    "\n",
    "print(f\"{df_dummies.shape[1]} columns after encoding of {len((cat_var & scope))} categorial \\\n",
    "variables in {len((cat_var & scope))+df_dummies.shape[1]-df.shape[1]} binary variables \\\n",
    "(K-1 one hot encoding)\")\n",
    "\n",
    "cdv_actionable_individual_2_features = set(df_dummies.columns)\n",
    "dict_features_sets['cdv_actionable_individual_2_features'] = cdv_actionable_individual_2_features"
   ]
  },
  {
   "cell_type": "code",
   "execution_count": 70,
   "metadata": {},
   "outputs": [
    {
     "name": "stdout",
     "output_type": "stream",
     "text": [
      "201 columns after encoding of 59 categorial variables in 168 binary variables (K-1 one hot encoding)\n"
     ]
    }
   ],
   "source": [
    "# Adding work of variable workshop\n",
    "df = MergeCommunesEnvi.loc[:,:]\n",
    "df.loc[:,cdv_ssfmt.columns] = cdv_ssfmt.loc[:,:]\n",
    "scope = (cdv_actionable_admin_1) & usual_common_scope\n",
    "df = df.loc[:,scope]\n",
    "df.loc[:,(cat_var & scope) - {\"HEUREUX\"}] = cdv.loc[:,(cat_var & scope) - {\"HEUREUX\"}]\n",
    "\n",
    "df_dummies = pd.get_dummies(\n",
    "    df, \n",
    "    columns=(cat_var & scope),\n",
    "    dummy_na = True,\n",
    "    drop_first=1\n",
    ")\n",
    "\n",
    "print(f\"{df_dummies.shape[1]} columns after encoding of {len((cat_var & scope))} categorial \\\n",
    "variables in {len((cat_var & scope))+df_dummies.shape[1]-df.shape[1]} binary variables \\\n",
    "(K-1 one hot encoding)\")\n",
    "\n",
    "cdv_actionable_admin_1_features = set(df_dummies.columns)\n",
    "dict_features_sets['cdv_actionable_admin_1_features'] = cdv_actionable_admin_1_features"
   ]
  },
  {
   "cell_type": "code",
   "execution_count": 71,
   "metadata": {},
   "outputs": [
    {
     "name": "stdout",
     "output_type": "stream",
     "text": [
      "202 columns after encoding of 47 categorial variables in 188 binary variables (K-1 one hot encoding)\n"
     ]
    }
   ],
   "source": [
    "# Adding work of variable workshop\n",
    "df = MergeCommunesEnvi.loc[:,:]\n",
    "df.loc[:,cdv_ssfmt.columns] = cdv_ssfmt.loc[:,:]\n",
    "scope = (cdv_actionable_admin_2) & usual_common_scope\n",
    "df = df.loc[:,scope]\n",
    "df.loc[:,(cat_var & scope) - {\"HEUREUX\"}] = cdv.loc[:,(cat_var & scope) - {\"HEUREUX\"}]\n",
    "\n",
    "df_dummies = pd.get_dummies(\n",
    "    df, \n",
    "    columns=(cat_var & scope),\n",
    "    dummy_na = True,\n",
    "    drop_first=1\n",
    ")\n",
    "\n",
    "print(f\"{df_dummies.shape[1]} columns after encoding of {len((cat_var & scope))} categorial \\\n",
    "variables in {len((cat_var & scope))+df_dummies.shape[1]-df.shape[1]} binary variables \\\n",
    "(K-1 one hot encoding)\")\n",
    "\n",
    "cdv_actionable_admin_2_features = set(df_dummies.columns)\n",
    "dict_features_sets['cdv_actionable_admin_2_features'] = cdv_actionable_admin_2_features"
   ]
  },
  {
   "cell_type": "code",
   "execution_count": 72,
   "metadata": {},
   "outputs": [
    {
     "name": "stdout",
     "output_type": "stream",
     "text": [
      "60 columns after encoding of 15 categorial variables in 57 binary variables (K-1 one hot encoding)\n"
     ]
    }
   ],
   "source": [
    "# Adding work of variable workshop\n",
    "df = MergeCommunesEnvi.loc[:,:]\n",
    "df.loc[:,cdv_ssfmt.columns] = cdv_ssfmt.loc[:,:]\n",
    "scope = (cdv_actionable_admin_3) & usual_common_scope\n",
    "df = df.loc[:,scope]\n",
    "df.loc[:,(cat_var & scope) - {\"HEUREUX\"}] = cdv.loc[:,(cat_var & scope) - {\"HEUREUX\"}]\n",
    "\n",
    "df_dummies = pd.get_dummies(\n",
    "    df, \n",
    "    columns=(cat_var & scope),\n",
    "    dummy_na = True,\n",
    "    drop_first=1\n",
    ")\n",
    "\n",
    "print(f\"{df_dummies.shape[1]} columns after encoding of {len((cat_var & scope))} categorial \\\n",
    "variables in {len((cat_var & scope))+df_dummies.shape[1]-df.shape[1]} binary variables \\\n",
    "(K-1 one hot encoding)\")\n",
    "\n",
    "cdv_actionable_admin_3_features = set(df_dummies.columns)\n",
    "dict_features_sets['cdv_actionable_admin_3_features'] = cdv_actionable_admin_3_features"
   ]
  },
  {
   "cell_type": "code",
   "execution_count": 73,
   "metadata": {},
   "outputs": [],
   "source": [
    "# Adding work of variable workshop\n",
    "# insee_demographics_actionable_admin_1 insee_demographics_actionable_admin_2 ...\n",
    "# variable name wil have to be restated"
   ]
  },
  {
   "cell_type": "code",
   "execution_count": null,
   "metadata": {
    "collapsed": true
   },
   "outputs": [],
   "source": []
  },
  {
   "cell_type": "code",
   "execution_count": 74,
   "metadata": {
    "collapsed": true
   },
   "outputs": [],
   "source": [
    "filename = path_dump / Path(\"dict_features_sets.sav\")\n",
    "with open(filename, 'wb') as fp:\n",
    "     pickle.dump(dict_features_sets,fp,pickle.HIGHEST_PROTOCOL)"
   ]
  },
  {
   "cell_type": "markdown",
   "metadata": {},
   "source": [
    "#### Feature selection and and results recording "
   ]
  },
  {
   "cell_type": "code",
   "execution_count": 75,
   "metadata": {
    "collapsed": true
   },
   "outputs": [],
   "source": [
    "# reducing problem to a 2 class classification problem\n",
    "df = dataset.loc[:,:]\n",
    "df[\"HEUREUX_CLF\"] = 0\n",
    "df.loc[df[\"HEUREUX\"]==4, \"HEUREUX_CLF\"] = 1\n",
    "df.loc[df[\"HEUREUX\"]==3, \"HEUREUX_CLF\"] = 1\n",
    "df.loc[df[\"HEUREUX\"]==5, \"HEUREUX_CLF\"] = None\n",
    "\n",
    "# treating remaining missing values\n",
    "features = set(df.columns.drop(['HEUREUX', 'HEUREUX_CLF']))\n",
    "df = df.loc[:,features | {\"HEUREUX_CLF\"}].dropna()"
   ]
  },
  {
   "cell_type": "code",
   "execution_count": 76,
   "metadata": {},
   "outputs": [
    {
     "name": "stdout",
     "output_type": "stream",
     "text": [
      "Number exemple: 10445\n",
      "- training set: 8356\n",
      "- test set: 2089\n",
      "Number of features: p=809\n",
      "Number of class: 2\n",
      "class 0 : 35.1%\n",
      "class 1 : 64.9%\n"
     ]
    }
   ],
   "source": [
    "X = df.loc[:,features]\n",
    "y = df[\"HEUREUX_CLF\"]\n",
    "\n",
    "X_train, X_test, y_train, y_test = train_test_split(X, y, \n",
    "                                                    test_size=0.2, \n",
    "                                                    random_state=42\n",
    "                                                   )\n",
    "\n",
    "scaler = StandardScaler().fit(X_train)\n",
    "X_train = scaler.transform(X_train)\n",
    "X_test = scaler.transform(X_test)\n",
    "\n",
    "print(f\"Number exemple: {y.shape[0]}\\n- training set: \\\n",
    "{y_train.shape[0]}\\n- test set: {y_test.shape[0]}\")\n",
    "print(f\"Number of features: p={X_train.shape[1]}\")\n",
    "print(f\"Number of class: {len(np.unique(y))}\")\n",
    "for c in np.unique(y):\n",
    "    print(f\"class {c:0.0f} : {100*np.sum(y==c)/len(y):0.1f}%\")"
   ]
  },
  {
   "cell_type": "code",
   "execution_count": 77,
   "metadata": {
    "collapsed": true
   },
   "outputs": [],
   "source": [
    "clf = LinearSVC(C=0.01, \n",
    "                class_weight='balanced',\n",
    "                dual=False,\n",
    "                random_state=42 )\n",
    "step = 0.05"
   ]
  },
  {
   "cell_type": "code",
   "execution_count": 78,
   "metadata": {},
   "outputs": [
    {
     "name": "stdout",
     "output_type": "stream",
     "text": [
      "number of features to select : 100\n",
      "Optimal support of size 100 found in 139.0 s\n",
      "number of features to select : 50\n",
      "Optimal support of size 50 found in 131.6 s\n",
      "number of features to select : 20\n",
      "Optimal support of size 20 found in 132.8 s\n",
      "number of features to select : 10\n",
      "Optimal support of size 10 found in 130.1 s\n"
     ]
    }
   ],
   "source": [
    "for n_features_to_select in [100,50,20,10]:\n",
    "    startTime = time.time()\n",
    "    print(f\"number of features to select : {n_features_to_select}\")\n",
    "    selector = RFE(estimator=clf, n_features_to_select=n_features_to_select, step=step)\n",
    "    selector.fit(X_train, y_train)\n",
    "    print(f\"Optimal support of size {n_features_to_select} found in {time.time() - startTime:0.1f} s\")\n",
    "    key = \"RFE_LinearSVC_\" + str(n_features_to_select) + \"_features\" \n",
    "    dict_features_sets[key] = set(X.loc[:,selector.support_].columns)"
   ]
  },
  {
   "cell_type": "code",
   "execution_count": 79,
   "metadata": {
    "collapsed": true
   },
   "outputs": [],
   "source": [
    "params = {'max_features' :'sqrt', 'random_state' : 32, \n",
    "          'min_samples_split' : 2, 'class_weight' : 'balanced',\n",
    "          'n_estimators' : 128,\n",
    "          'max_depth' : 8}\n",
    "clf = RandomForestClassifier(**params)\n",
    "step = 0.05"
   ]
  },
  {
   "cell_type": "code",
   "execution_count": 80,
   "metadata": {},
   "outputs": [
    {
     "name": "stdout",
     "output_type": "stream",
     "text": [
      "number of features to select : 100\n",
      "Optimal support of size 100 found in 67.7 s\n",
      "number of features to select : 50\n",
      "Optimal support of size 50 found in 70.0 s\n",
      "number of features to select : 20\n",
      "Optimal support of size 20 found in 70.3 s\n",
      "number of features to select : 10\n",
      "Optimal support of size 10 found in 69.7 s\n"
     ]
    }
   ],
   "source": [
    "for n_features_to_select in [100,50,20,10]:\n",
    "    startTime = time.time()\n",
    "    print(f\"number of features to select : {n_features_to_select}\")\n",
    "    selector = RFE(estimator=clf, n_features_to_select=n_features_to_select, step=step)\n",
    "    selector.fit(X_train, y_train)\n",
    "    print(f\"Optimal support of size {n_features_to_select} found in {time.time() - startTime:0.1f} s\")\n",
    "    key = \"RFE_RandomForestClassifier_\" + str(n_features_to_select) + \"_features\" \n",
    "    dict_features_sets[key] = set(X.loc[:,selector.support_].columns)"
   ]
  },
  {
   "cell_type": "code",
   "execution_count": 81,
   "metadata": {
    "collapsed": true
   },
   "outputs": [],
   "source": [
    "clf = LogisticRegression(C=0.01, \n",
    "                         penalty='l1', \n",
    "                         class_weight='balanced',\n",
    "                         random_state=42)\n",
    "step = 0.05"
   ]
  },
  {
   "cell_type": "code",
   "execution_count": 82,
   "metadata": {},
   "outputs": [
    {
     "name": "stdout",
     "output_type": "stream",
     "text": [
      "number of features to select : 100\n",
      "Optimal support of size 100 found in 7.4 s\n",
      "number of features to select : 50\n",
      "Optimal support of size 50 found in 7.1 s\n",
      "number of features to select : 20\n",
      "Optimal support of size 20 found in 7.1 s\n",
      "number of features to select : 10\n",
      "Optimal support of size 10 found in 7.1 s\n"
     ]
    }
   ],
   "source": [
    "for n_features_to_select in [100,50,20,10]:\n",
    "    startTime = time.time()\n",
    "    print(f\"number of features to select : {n_features_to_select}\")\n",
    "    selector = RFE(estimator=clf, n_features_to_select=n_features_to_select, step=step)\n",
    "    selector.fit(X_train, y_train)\n",
    "    print(f\"Optimal support of size {n_features_to_select} found in {time.time() - startTime:0.1f} s\")\n",
    "    key = \"RFE_LogisticRegression_\" + str(n_features_to_select) + \"_features\" \n",
    "    dict_features_sets[key] = set(X.loc[:,selector.support_].columns)"
   ]
  },
  {
   "cell_type": "markdown",
   "metadata": {},
   "source": [
    "#### SelectFromModel"
   ]
  },
  {
   "cell_type": "code",
   "execution_count": 83,
   "metadata": {
    "collapsed": true
   },
   "outputs": [],
   "source": [
    "clf = LinearSVC(C=0.01, penalty=\"l1\", dual=False, class_weight='balanced' ).fit(X_train, y_train)\n",
    "model = SelectFromModel(clf, prefit=True)\n",
    "dict_features_sets['SelectFromModel_LinearSCV_features'] = set(X.loc[:,model.get_support()].columns)"
   ]
  },
  {
   "cell_type": "code",
   "execution_count": 84,
   "metadata": {
    "collapsed": true
   },
   "outputs": [],
   "source": [
    "clf = LogisticRegression(C=0.01, penalty=\"l1\",class_weight='balanced',random_state=42 ).fit(X_train, y_train)\n",
    "model = SelectFromModel(clf, prefit=True)\n",
    "dict_features_sets['SelectFromModel_LogisticRegression_features'] = set(X.loc[:,model.get_support()].columns)"
   ]
  },
  {
   "cell_type": "code",
   "execution_count": null,
   "metadata": {
    "collapsed": true
   },
   "outputs": [],
   "source": []
  },
  {
   "cell_type": "code",
   "execution_count": null,
   "metadata": {
    "collapsed": true
   },
   "outputs": [],
   "source": []
  },
  {
   "cell_type": "code",
   "execution_count": 85,
   "metadata": {
    "collapsed": true
   },
   "outputs": [],
   "source": [
    "filename = path_dump / Path(\"dict_features_sets.sav\")\n",
    "with open(filename, 'wb') as fp:\n",
    "     pickle.dump(dict_features_sets,fp,pickle.HIGHEST_PROTOCOL)"
   ]
  },
  {
   "cell_type": "code",
   "execution_count": 87,
   "metadata": {},
   "outputs": [
    {
     "data": {
      "text/plain": [
       "['usual_common_features',\n",
       " 'indiv_act_features',\n",
       " 'indiv_semi_act_features',\n",
       " 'admin_act_features',\n",
       " 'admin_semi_act_features',\n",
       " 'cdv_actionable_individual_1_features',\n",
       " 'cdv_actionable_individual_2_features',\n",
       " 'cdv_actionable_admin_1_features',\n",
       " 'cdv_actionable_admin_2_features',\n",
       " 'cdv_actionable_admin_3_features',\n",
       " 'RFE_LinearSVC_100_features',\n",
       " 'RFE_LinearSVC_50_features',\n",
       " 'RFE_LinearSVC_20_features',\n",
       " 'RFE_LinearSVC_10_features',\n",
       " 'RFE_RandomForestClassifier_100_features',\n",
       " 'RFE_RandomForestClassifier_50_features',\n",
       " 'RFE_RandomForestClassifier_20_features',\n",
       " 'RFE_RandomForestClassifier_10_features',\n",
       " 'RFE_LogisticRegression_100_features',\n",
       " 'RFE_LogisticRegression_50_features',\n",
       " 'RFE_LogisticRegression_20_features',\n",
       " 'RFE_LogisticRegression_10_features',\n",
       " 'SelectFromModel_LinearSCV_features',\n",
       " 'SelectFromModel_LogisticRegression_features']"
      ]
     },
     "execution_count": 87,
     "metadata": {},
     "output_type": "execute_result"
    }
   ],
   "source": [
    "[k for k in dict_features_sets.keys()]"
   ]
  },
  {
   "cell_type": "code",
   "execution_count": null,
   "metadata": {
    "collapsed": true
   },
   "outputs": [],
   "source": []
  }
 ],
 "metadata": {
  "kernelspec": {
   "display_name": "Python 3",
   "language": "python",
   "name": "python3"
  },
  "language_info": {
   "codemirror_mode": {
    "name": "ipython",
    "version": 3
   },
   "file_extension": ".py",
   "mimetype": "text/x-python",
   "name": "python",
   "nbconvert_exporter": "python",
   "pygments_lexer": "ipython3",
   "version": "3.6.3"
  }
 },
 "nbformat": 4,
 "nbformat_minor": 2
}
